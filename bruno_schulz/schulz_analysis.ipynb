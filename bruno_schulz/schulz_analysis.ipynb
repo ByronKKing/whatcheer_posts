{
 "cells": [
  {
   "cell_type": "code",
   "execution_count": 20,
   "metadata": {},
   "outputs": [],
   "source": [
    "import pandas as pd\n",
    "from nltk import word_tokenize, sent_tokenize, FreqDist\n",
    "from nltk.corpus import stopwords\n",
    "import numpy as np\n",
    "from sklearn.feature_extraction.text import CountVectorizer, TfidfVectorizer\n",
    "import matplotlib\n",
    "from matplotlib import pyplot as plt\n",
    "# import seaborn as sns\n",
    "%matplotlib inline\n",
    "%config InlineBackend.figure_format = 'retina'"
   ]
  },
  {
   "cell_type": "markdown",
   "metadata": {},
   "source": [
    "### Read in raw texts"
   ]
  },
  {
   "cell_type": "code",
   "execution_count": 2,
   "metadata": {},
   "outputs": [
    {
     "data": {
      "text/plain": [
       "''"
      ]
     },
     "execution_count": 2,
     "metadata": {},
     "output_type": "execute_result"
    }
   ],
   "source": [
    "sklepy = open(\"./sklepy_cynamonowe_polish.txt\",\"r\") \n",
    "story_text = sklepy.read().split('&&&&&')\n",
    "story_text.pop(0)"
   ]
  },
  {
   "cell_type": "code",
   "execution_count": 3,
   "metadata": {},
   "outputs": [],
   "source": [
    "book_title = ['Sklepy Cynamonowe'] * 13\n",
    "story_titles = ['Sierpień','Nawiedzenie','Ptaki','Manekiny','Traktat o Manekinach albo Wtórna Księga Rodzaju',\n",
    "'Nemrod','Pan','Pan Karol','Sklepy Cynamonowe','Ulica Krokodyli','Karakony','Wichura','Noc Wielkiego Sezonu']\n",
    "df1 = pd.DataFrame(list(zip(book_title, story_titles, story_text)), columns = ['book', 'story_title', 'text_polish']) "
   ]
  },
  {
   "cell_type": "code",
   "execution_count": 4,
   "metadata": {},
   "outputs": [],
   "source": [
    "sanatorium = open(\"./sanatorium_pod_klepsydra_polish.txt\",\"r\") \n",
    "story_text = sanatorium.read().split('&&&&&')"
   ]
  },
  {
   "cell_type": "code",
   "execution_count": 5,
   "metadata": {},
   "outputs": [],
   "source": [
    "book_title = ['Sanatorium Pod Klepysdrą'] * 13\n",
    "story_titles = ['Księga','Genialna Epoka ','Wiosna','Noc lipcowa','Mój ojciec wstępuje do strażaków',\n",
    "'Druga jesień','Martwy sezon','Sanatorium pod Klepsydrą','Dodo','Edzio','Emeryt','Samotność',\n",
    "'Ostatnia ucieczka ojca']\n",
    "df2 = pd.DataFrame(list(zip(book_title, story_titles, story_text)), columns =['book', 'story_title', 'text_polish']) "
   ]
  },
  {
   "cell_type": "code",
   "execution_count": 6,
   "metadata": {},
   "outputs": [],
   "source": [
    "ogdf = pd.concat([df1,df2],ignore_index=True)\n",
    "df = ogdf"
   ]
  },
  {
   "cell_type": "code",
   "execution_count": 7,
   "metadata": {},
   "outputs": [
    {
     "data": {
      "text/html": [
       "<div>\n",
       "<style scoped>\n",
       "    .dataframe tbody tr th:only-of-type {\n",
       "        vertical-align: middle;\n",
       "    }\n",
       "\n",
       "    .dataframe tbody tr th {\n",
       "        vertical-align: top;\n",
       "    }\n",
       "\n",
       "    .dataframe thead th {\n",
       "        text-align: right;\n",
       "    }\n",
       "</style>\n",
       "<table border=\"1\" class=\"dataframe\">\n",
       "  <thead>\n",
       "    <tr style=\"text-align: right;\">\n",
       "      <th></th>\n",
       "      <th>book</th>\n",
       "      <th>story_title</th>\n",
       "      <th>text_polish</th>\n",
       "    </tr>\n",
       "  </thead>\n",
       "  <tbody>\n",
       "    <tr>\n",
       "      <th>0</th>\n",
       "      <td>Sklepy Cynamonowe</td>\n",
       "      <td>Sierpień</td>\n",
       "      <td>\\n\\nSierpień\\n\\n1\\n\\nW lipcu ojciec mój wyjeżd...</td>\n",
       "    </tr>\n",
       "    <tr>\n",
       "      <th>1</th>\n",
       "      <td>Sklepy Cynamonowe</td>\n",
       "      <td>Nawiedzenie</td>\n",
       "      <td>\\n\\nNAWIEDZENIE\\n\\n1\\n\\nJuż wówczas miasto nas...</td>\n",
       "    </tr>\n",
       "    <tr>\n",
       "      <th>2</th>\n",
       "      <td>Sklepy Cynamonowe</td>\n",
       "      <td>Ptaki</td>\n",
       "      <td>\\n\\nPTAKI\\n\\nNadeszły żółte, pełne nudy dni zi...</td>\n",
       "    </tr>\n",
       "    <tr>\n",
       "      <th>3</th>\n",
       "      <td>Sklepy Cynamonowe</td>\n",
       "      <td>Manekiny</td>\n",
       "      <td>\\n\\nManekiny\\n\\nTa ptasia impreza mego ojca by...</td>\n",
       "    </tr>\n",
       "    <tr>\n",
       "      <th>4</th>\n",
       "      <td>Sklepy Cynamonowe</td>\n",
       "      <td>Traktat o Manekinach albo Wtórna Księga Rodzaju</td>\n",
       "      <td>\\n\\nTRAKTAT O MANEKINACH ALBO WTÓRNA KSIĘGA RO...</td>\n",
       "    </tr>\n",
       "  </tbody>\n",
       "</table>\n",
       "</div>"
      ],
      "text/plain": [
       "                book                                      story_title  \\\n",
       "0  Sklepy Cynamonowe                                         Sierpień   \n",
       "1  Sklepy Cynamonowe                                      Nawiedzenie   \n",
       "2  Sklepy Cynamonowe                                            Ptaki   \n",
       "3  Sklepy Cynamonowe                                         Manekiny   \n",
       "4  Sklepy Cynamonowe  Traktat o Manekinach albo Wtórna Księga Rodzaju   \n",
       "\n",
       "                                         text_polish  \n",
       "0  \\n\\nSierpień\\n\\n1\\n\\nW lipcu ojciec mój wyjeżd...  \n",
       "1  \\n\\nNAWIEDZENIE\\n\\n1\\n\\nJuż wówczas miasto nas...  \n",
       "2  \\n\\nPTAKI\\n\\nNadeszły żółte, pełne nudy dni zi...  \n",
       "3  \\n\\nManekiny\\n\\nTa ptasia impreza mego ojca by...  \n",
       "4  \\n\\nTRAKTAT O MANEKINACH ALBO WTÓRNA KSIĘGA RO...  "
      ]
     },
     "execution_count": 7,
     "metadata": {},
     "output_type": "execute_result"
    }
   ],
   "source": [
    "df.head()"
   ]
  },
  {
   "cell_type": "code",
   "execution_count": 8,
   "metadata": {},
   "outputs": [
    {
     "data": {
      "text/html": [
       "<div>\n",
       "<style scoped>\n",
       "    .dataframe tbody tr th:only-of-type {\n",
       "        vertical-align: middle;\n",
       "    }\n",
       "\n",
       "    .dataframe tbody tr th {\n",
       "        vertical-align: top;\n",
       "    }\n",
       "\n",
       "    .dataframe thead th {\n",
       "        text-align: right;\n",
       "    }\n",
       "</style>\n",
       "<table border=\"1\" class=\"dataframe\">\n",
       "  <thead>\n",
       "    <tr style=\"text-align: right;\">\n",
       "      <th></th>\n",
       "      <th>book</th>\n",
       "      <th>story_title</th>\n",
       "      <th>text_polish</th>\n",
       "    </tr>\n",
       "  </thead>\n",
       "  <tbody>\n",
       "    <tr>\n",
       "      <th>21</th>\n",
       "      <td>Sanatorium Pod Klepysdrą</td>\n",
       "      <td>Dodo</td>\n",
       "      <td>\\n\\nPrzychodził do nas w sobotę po południu w ...</td>\n",
       "    </tr>\n",
       "    <tr>\n",
       "      <th>22</th>\n",
       "      <td>Sanatorium Pod Klepysdrą</td>\n",
       "      <td>Edzio</td>\n",
       "      <td>\\n\\nEDZIO\\n\\nNa tym samym, co my, piętrze domu...</td>\n",
       "    </tr>\n",
       "    <tr>\n",
       "      <th>23</th>\n",
       "      <td>Sanatorium Pod Klepysdrą</td>\n",
       "      <td>Emeryt</td>\n",
       "      <td>\\nEMERYT\\n\\nJestem emerytem w dosłownym i całk...</td>\n",
       "    </tr>\n",
       "    <tr>\n",
       "      <th>24</th>\n",
       "      <td>Sanatorium Pod Klepysdrą</td>\n",
       "      <td>Samotność</td>\n",
       "      <td>\\n\\nSAMOTNOŚĆ \\n\\nOd kiedy mogę wychodzić na m...</td>\n",
       "    </tr>\n",
       "    <tr>\n",
       "      <th>25</th>\n",
       "      <td>Sanatorium Pod Klepysdrą</td>\n",
       "      <td>Ostatnia ucieczka ojca</td>\n",
       "      <td>\\n\\nOstatnia ucieczka ojca\\n\\nByło to w późnym...</td>\n",
       "    </tr>\n",
       "  </tbody>\n",
       "</table>\n",
       "</div>"
      ],
      "text/plain": [
       "                        book             story_title  \\\n",
       "21  Sanatorium Pod Klepysdrą                    Dodo   \n",
       "22  Sanatorium Pod Klepysdrą                   Edzio   \n",
       "23  Sanatorium Pod Klepysdrą                  Emeryt   \n",
       "24  Sanatorium Pod Klepysdrą               Samotność   \n",
       "25  Sanatorium Pod Klepysdrą  Ostatnia ucieczka ojca   \n",
       "\n",
       "                                          text_polish  \n",
       "21  \\n\\nPrzychodził do nas w sobotę po południu w ...  \n",
       "22  \\n\\nEDZIO\\n\\nNa tym samym, co my, piętrze domu...  \n",
       "23  \\nEMERYT\\n\\nJestem emerytem w dosłownym i całk...  \n",
       "24  \\n\\nSAMOTNOŚĆ \\n\\nOd kiedy mogę wychodzić na m...  \n",
       "25  \\n\\nOstatnia ucieczka ojca\\n\\nByło to w późnym...  "
      ]
     },
     "execution_count": 8,
     "metadata": {},
     "output_type": "execute_result"
    }
   ],
   "source": [
    "df.tail()"
   ]
  },
  {
   "cell_type": "markdown",
   "metadata": {},
   "source": [
    "### Process data"
   ]
  },
  {
   "cell_type": "code",
   "execution_count": null,
   "metadata": {},
   "outputs": [],
   "source": [
    "def length(text):    \n",
    "    '''a function which returns the length of text'''\n",
    "    return len(text)"
   ]
  },
  {
   "cell_type": "code",
   "execution_count": null,
   "metadata": {},
   "outputs": [],
   "source": [
    "df['length'] = df['text_polish'].apply(length)"
   ]
  },
  {
   "cell_type": "code",
   "execution_count": 9,
   "metadata": {},
   "outputs": [],
   "source": [
    "def remove_punctuation(text):\n",
    "    '''a function for removing punctuation'''\n",
    "    import string\n",
    "    # replacing the punctuations with no space, \n",
    "    # which in effect deletes the punctuation marks \n",
    "    translator = str.maketrans('', '', string.punctuation)\n",
    "    # return the text stripped of punctuation marks\n",
    "    return text.translate(translator)"
   ]
  },
  {
   "cell_type": "code",
   "execution_count": 10,
   "metadata": {},
   "outputs": [],
   "source": [
    "df['text_polish'] = df['text_polish'].apply(remove_punctuation)"
   ]
  },
  {
   "cell_type": "code",
   "execution_count": 12,
   "metadata": {},
   "outputs": [
    {
     "data": {
      "text/plain": [
       "'\\n\\nSierpień\\n\\n1\\n\\nW lipcu ojciec mój wyjeżdżał do wód i zostawiał mnie z matką i starszym bratem na pastwę białych od żaru i oszołamiających dni letnich Wertowaliśmy odurzeni światłem w tej wielkiej księdze wakacji której wszystkie karty pałały od blasku i miały na dnie słodki do omdlenia miąższ złotych gruszek\\n\\nAdela wracała w świetliste poranki jak Pomona z ognia dnia rozżagwionego wysypując z koszyka barwną urodę słońca lśniące pełne wody pod przejrzystą skórką czereśnie tajemnicze czarne wiśnie których woń przekraczała to co ziszczało się w smaku morele w których miąższu złotym był rdzeń długich popołudni a obok tej czystej poezji owoców wyładowywała nabrzmiałe siłą i pożywnością płaty mięsa z klawiaturą żeber cielęcych wodorosty jarzyn niby zabite głowonogi i meduzy surowy materiał obiadu o smaku jeszcze nie uformowanym i jałowym wegetatywne i telluryczne ingrediencje obiadu o zapachu dzikim i polnym\\n\\nPrzez ciemne mieszkanie na pierwszym piętrze kamienicy w rynku przechodziło co dzień na wskroś całe wielkie lato cisza drgających słojów powietrznych kwadraty blasku śniące żarliwy swój sen na podłodze melodia katarynki dobyta z najgłębszej złotej żyły dnia dwa trzy takty refrenu granego gdzieś na fortepianie wciąż na nowo mdlejące w słońcu na białych trotuarach zagubione w ogniu dnia głębokiego Po sprzątaniu Adela zapuszczała cień na pokoje zasuwając płócienne story Wtedy barwy schodziły o oktawę głębiej pokój napełniał się cieniem jakby pogrążony w światło głębi morskiej jeszcze mętniej odbity w zielonych zwierciadłach a cały upał dnia oddychał na storach lekko falujących od marzeń południowej godziny\\n\\nW sobotnie popołudnia wychodziłem z matką na spacer Z półmroku sieni wstępowało się od razu w słoneczną kąpiel dnia Przechodnie brodząc w złocie mieli oczy zmrużone od żaru jakby zalepione miodem a podciągnięta górna warga odsłaniała im dziąsła i zęby I wszyscy brodzący w tym dniu złocistym mieli ów grymas skwaru jak gdyby słońce nałożyło swym wyznawcom jedną i tę samą maskę  złotą maskę bractwa słonecznego i wszyscy którzy szli dziś ulicami spotykali się mijali starcy i młodzi dzieci i kobiety pozdrawiali się w przejściu tą maską namalowaną grubą złotą farbą na twarzy szczerzyli do siebie ten grymas bakchiczny  barbarzyńską maskę kultu pogańskiego\\n\\nRynek był pusty i żółty od żaru wymieciony z kurzu gorącymi wiatrami jak biblijna pustynia Cierniste akacje wyrosłe z pustki żółtego placu kipiały nad nim jasnym listowiem bukietami szlachetnie uczłonkowanych filigranów zielonych jak drzewa na starych gobelinach Zdawało się że te drzewa afektują wicher wzburzając teatralnie swe korony ażeby w patetycznych przegięciach ukazać wytworność wachlarzy listnych o srebrzystym podbrzuszu jak futra szlachetnych lisic Stare domy polerowane wiatrami wielu dni zabawiały się refleksami wielkiej atmosfery echami wspomnieniami barw rozproszonymi w głębi kolorowej pogody Zdawało się że całe generacje dni letnich jak cierpliwi sztukatorzy obijający stare fasady z pleśni tynku obtłukiwały kłamliwą glazurę wydobywając z dnia na dzień wyraźniej prawdziwe oblicze domów fizjonomię losu i życia które formowało je od wewnątrz Teraz okna oślepione blaskiem pustego placu spały balkony wyznawały niebu swą pustkę otwarte sienie pachniały chłodem i winem\\n\\nKupka obdartusów ocalała w kącie rynku przed płomienną miotłą upału oblegała kawałek muru doświadczając go wciąż na nowo rzutami guzików i monet jak gdyby z horoskopu tych metalowych krążków odczytać można było prawdziwą tajemnicę muru porysowanego hieroglifami rys i pęknięć Zresztą rynek był pusty Oczekiwało się że przed tę sień sklepioną z beczkami winiarza podjedzie w cieniu chwiejących się akacyj osiołek Samarytanina prowadzony za uzdę a dwóch pachołków zwlecze troskliwie chorego męża z rozpalonego siodła ażeby go po chłodnych schodach wnieść ostrożnie na pachnące szabasem piętro\\n\\nTak wędrowaliśmy z matką przez dwie słoneczne strony rynku wodząc nasze załamane cienie po wszystkich domach jak po klawiszach Kwadraty bruku mijały powoli pod naszymi miękkimi i płaskimi krokami  jedne bladoróżowe jak skóra ludzka inne złote i sine wszystkie płaskie ciepłe aksamitne na słońcu jak jakieś twarze słoneczne zadeptane stopami aż do niepoznaki do błogiej nicości\\n\\nAż wreszcie na rogu ulicy Stryjskiej weszliśmy w cień apteki Wielka bania z sokiem malinowym w szerokim oknie aptecznym symbolizowała chłód balsamów którym każde cierpienie mogło się tam ukoić I po paru jeszcze domach ulica nie mogła już utrzymać nadal decorum miasta jak chłop który wracając do wsi rodzimej rozdziewa się po drodze z miejskiej swej elegancji zamieniając się powoli w miarę zbliżania do wsi w obdartusa wiejskiego\\n\\nPrzedmiejskie domki tonęły wraz z oknami zapadnięte w bujnym i zagmatwanym kwitnieniu małych ogródków Zapomniane przez wielki dzień pleniły się bujnie i cicho wszelkie ziela kwiaty i chwasty rade z tej pauzy którą prześnić mogły za marginesem czasu na rubieżach nieskończonego dnia Ogromny słonecznik wydźwignięty na potężnej łodydze i chory na elephantiasis czekał w żółtej żałobie ostatnich smutnych dni żywota uginając się pod przerostem potwornej korpulencji Ale naiwne przedmiejskie dzwonki i perkalikowe niewybredne kwiatuszki stały bezradne w swych nakrochmalonych różowych i białych koszulkach bez zrozumienia dla wielkiej tragedii słonecznika\\n\\n2\\n\\nSplątany gąszcz traw chwastów zielska i bodiaków buzuje w ogniu popołudnia Huczy rojowiskiem much popołudniowa drzemka ogrodu Złote ściemisko krzyczy w słońcu jak ruda szarańcza w rzęsistym deszczu ognia wrzeszczą świerszcze strąki nasion eksplodują cicho jak koniki polne\\n\\nA ku parkanowi kożuch traw podnosi się wypukłym garbempagórem jak gdyby ogród obrócił się we śnie na drugą stronę i grube jego chłopskie bary oddychają ciszą ziemi Na tych barach ogrodu niechlujna babska bujność sierpnia wyolbrzymiała w głuche zapadliska ogromnych łopuchów rozpanoszyła się płatami włochatych blach listnych wybujałymi ozorami mięsistej zieleni Tam te wyłupiaste pałuby łopuchów wybałuszyły się jak babska szeroko rozsiadłe na wpół pożarte przez własne oszalałe spódnice Tam sprzedawał ogród za darmo najtańsze krupy dzikiego bzu śmierdzącą mydłem grubą kaszę babek dziką okowitę mięty i wszelką najgorszą tandetę sierpniową Ale po drugiej stronie parkanu za tym matecznikiem lata w którym rozrosła się głupota zidiociałych chwastów było śmietnisko zarosłe dziko bodiakiem Nikt nie wiedział że tam właśnie odprawiał sierpień tego lata swoją wielką pogańską orgię Na tym śmietnisku oparte o parkan i zarośnięte dzikim bzem stało łóżko skretyniałej dziewczyny Tłui Tak nazywaliśmy ją wszyscy Na kupie śmieci i odpadków starych garnków pantofli rumowiska i gruzu stało zielono pomalowane łóżko podparte zamiast brakującej nogi dwiema starymi cegłami\\n\\nPowietrze nad tym rumowiskiem zdziczałe od żaru cięte błyskawicami lśniących much końskich rozwścieczonych słońcem trzeszczało jak od nie widzianych grzechotek podniecając do szału\\n\\nTłuja siedzi przykucnięta wśród żółtej pościeli i szmat Wielka jej głowa jeży się wiechciem czarnych włosów Twarz jej jest kurczliwa jak miech harmonii Co chwila grymas płaczu składa tę harmonię w tysiąc poprzecznych fałd a zdziwienie rozciąga ją z powrotem wygładza fałdy odsłania szparki drobnych oczu i wilgotne dziąsła z żółtymi zębami pod ryjowatą mięsistą wargą Mijają godziny pełne żaru i nudy podczas których Tłuja gaworzy półgłosem drzemie zrzędzi z cicha i chrząka Muchy obsiadają nieruchomą gęstym rojem Ale z nagła ta cała kupa brudnych gałganów szmat i strzępów zaczyna poruszać się jakby ożywiona chrobotem lęgnących się w niej szczurów Muchy budzą się spłoszone i podnoszą wielkim huczącym rojem pełnym wściekłego bzykania błysków i migotań I podczas gdy gałgany zsypują się na ziemię i rozbiegają po śmietnisku jak spłoszone szczury wygrzebuje się z nich odwija z wolna jądro wyłuszcza się rdzeń śmietniska na wpół naga i ciemna kretynka dźwiga się powoli i staje podobna do bożka pogańskiego na krótkich dziecinnych nóżkach a z napęczniałej napływem złości szyi z poczerwieniałej ciemniejącej od gniewu twarzy na której jak malowidła barbarzyńskie wykwitają arabeski nabrzmiałych żył wyrywa się wrzask zwierzęcy wrzask chrapliwy dobyty ze wszystkich bronchij i piszczałek tej pół zwierzęcej pół boskiej piersi Bodiaki spalone słońcem krzyczą łopuchy puchną i pysznią się bezwstydnym mięsem chwasty ślinią się błyszczącym jadem a kretynka ochrypła od krzyku w konwulsji dzikiej uderza mięsistym łonem z wściekłą zapalczywością w pień bzu dzikiego który skrzypi cicho pod natarczywością tej rozpustnej chuci zaklinany całym tym nędzarskim chórem do wynaturzonej pogańskiej płodności\\n\\nMatka Tłui wynajmuje się gospodyniom do szorowania podłóg Jest to mała żółta jak szafran kobieta i szafranem zaprawia też podłogi jodłowe stoły ławy i szlabany które w izbach ubogich ludzi zmywa Raz zaprowadziła mnie Adela do domu tej starej Maryśki Była wczesna poranna godzina weszliśmy do małej izby niebiesko bielonej z ubitą polepą glinianą na podłodze na której leżało wczesne słońce jaskrawożółte w tej ciszy porannej odmierzanej przeraźliwym szczękiem chłopskiego zegara na ścianie W skrzyni na słomie leżała głupia Maryśka blada jak opłatek i cicha jak rękawiczka z której wysunęła się dłoń I jakby korzystając z jej snu gadała cisza żółta jaskrawa zła cisza monologowała kłóciła się wygadywała głośno i ordynarnie swój maniacki monolog Czas Maryśki  czas więziony w jej duszy wystąpił z niej straszliwie rzeczywisty i szedł samopas przez izbę hałaśliwy huczący piekielny rosnący w jaskrawym milczeniu poranka z głośnego młynazegara jak zła mąka sypka mąka głupia mąka wariatów\\n\\n3\\n\\nW jednym z tych domków otoczonym sztachetami brązowej barwy tonącym w bujnej zieleni ogródka mieszkała ciotka Agata Wchodząc do niej mijaliśmy w ogrodzie kolorowe szklane kule tkwiące na tyczkach różowe zielone i fioletowe w których zaklęte były całe świetlane i jasne światy jak te idealne i szczęśliwe obrazy zamknięte w niedościgłej doskonałości baniek mydlanych\\n\\nW półciemnej sieni ze starymi oleodrukami pożartymi przez pleśń i oślepłymi od starości odnajdowaliśmy znany nam zapach W tej zaufanej starej woni mieściło się w dziwnie prostej syntezie życie tych ludzi alembik rasy gatunek krwi i sekret ich losu zawarty niedostrzegalnie w codziennym mijaniu ich własnego odrębnego czasu Stare mądre drzwi których ciemne westchnienia wpuszczały i wypuszczały tych ludzi milczący świadkowie wchodzenia i wychodzenia matki córek i synów  otworzyły się bezgłośnie jak odrzwia szafy i weszliśmy w ich życie Siedzieli jakby w cieniu swego losu i nie bronili się w pierwszych niezręcznych gestach wydali nam swoją tajemnicę Czyż nie byliśmy krwią i losem spokrewnieni z nimi\\n\\nPokój był ciemny i aksamitny od granatowych obić ze złotym deseniem lecz echo dnia płomiennego drgało i tutaj jeszcze mosiądzem na ramach obrazów na klamkach i listwach złotych choć przepuszczone przez gęstą zieleń ogrodu Spod ściany podniosła się ciotka Agata wielka i bujna o mięsie okrągłym i białym centkowanym rudą rdzą piegów Przysiedliśmy się do nich jakby na brzeg ich losu zawstydzeni trochę tą bezbronnością z jaką wydali się nam bez zastrzeżeń i piliśmy wodę z sokiem różanym napój przedziwny w którym znalazłem jakby najgłębszą esencję tej upalnej soboty\\n\\nCiotka narzekała Był to zasadniczy ton jej rozmów głos tego mięsa białego i płodnego bujającego już jakby poza granicami osoby zaledwie luźnie utrzymywanej w skupieniu w więzach formy indywidualnej i nawet w tym skupieniu już zwielokrotnionej gotowej rozpaść się rozgałęzić rozsypać w rodzinę Była to płodność niemal samoródcza kobiecość pozbawiona hamulców i chorobliwie wybujała\\n\\nZdawało się że sam aromat męskości zapach dymu tytoniowego dowcip kawalerski mógł dać impuls tej zaognionej kobiecości do rozpustnego dzieworództwa I właściwie wszystkie jej skargi na męża na służbę jej troski o dzieci były tylko kapryszeniem i dąsaniem się nie zaspokojonej płodności dalszym ciągiem tej opryskliwej gniewnej i płaczliwej kokieterii którą nadaremnie doświadczała męża Wuj Marek mały zgarbiony o twarzy wyjałowionej z płci siedział w swym szarym bankructwie pogodzony z losem w cieniu bezgranicznej pogardy w którym zdawał się wypoczywać W jego szarych oczach tlił się daleki żar ogrodu rozpięty w oknie Czasem próbował słabym ruchem robić jakieś zastrzeżenia stawiać opór ale fala samowystarczalnej kobiecości odrzucała na bok ten gest bez znaczenia przechodziła triumfalnie mimo niego zalewała szerokim swym strumieniem słabe podrygi męskości\\n\\nByło coś tragicznego w tej płodności niechlujnej i nieumiarkowanej była nędza kreatury walczącej na granicy nicości i śmierci był jakiś heroizm kobiecości triumfującej urodzajnością nawet nad kalectwem natury nad insuficjencją mężczyzny Ale potomstwo ukazywało rację tej paniki macierzyńskiej tego szału rodzenia który wyczerpywał się w płodach nieudanych w efemerycznej generacji fantomów bez krwi i twarzy\\n\\nWeszła Łucja średnia z głową nazbyt rozkwitłą i dojrzałą na dziecięcym i pulchnym ciele o mięsie białym i delikatnym Podała mi rączkę lalkowatą jakby dopiero pączkującą i zakwitła od razu całą twarzą jak piwonia przelewająca się pełnią różową Nieszczęśliwa z powodu swych rumieńców które bezwstydnie mówiły o sekretach menstruacji przymykała oczy i płoniła się jeszcze bardziej pod dotknięciem najobojętniejszego pytania gdyż każde zawierało tajną aluzję do jej nadwrażliwego panieństwa\\n\\nEmil najstarszy z kuzynów z jasnoblond wąsem z twarzą z której życie zmyło jakby wszelki wyraz spacerował tam i z powrotem po pokoju z rękami w kieszeniach fałdzistych spodni\\n\\nJego strój elegancki i drogocenny nosił piętno egzotycznych krajów z których powrócił Jego twarz zwiędła i zmętniała zdawała się z dnia na dzień zapominać o sobie stawać się białą pustą ścianą z bladą siecią żyłek w których jak linie na zatartej mapie plątały się gasnące wspomnienia tego burzliwego i zmarnowanego życia Był mistrzem sztuk karcianych palił długie szlachetne fajki i pachniał dziwnie zapachem dalekich krajów Z wzrokiem wędrującym po dawnych wspomnieniach opowiadał dziwne anegdoty które w pewnym punkcie urywały się nagle rozprzęgały i rozwiewały w nicość Wodziłem za nim tęsknym wzrokiem pragnąc by zwrócił na mnie uwagę i wybawił mnie z udręki nudów I w samej rzeczy zdawało mi się że mrugnął na mnie oczyma wychodząc do drugiego pokoju Podżyłem za nim Siedział nisko na małej kozetce z kolanami krzyżującymi się niemal na wysokości głowy łysej jak kula bilardowa Zdawało się że to ubranie samo leży faldziste zmięte przerzucone przez fotel Twarz jego była jak tchnienie twarzy smuga którą nieznany przechodzień zostawił w powietrzu Trzymał w bladych emaliowanych błękitnie dłoniach portfel w którym coś oglądał\\n\\nZ mgły twarzy wyłoniło się z trudem wypukłe bielmo bladego oka wabiąc mnie figlarnym mruganiem Czułem doń nieprzepartą sympatię Wziął mnie między kolana i tasując przed mymi oczyma wprawnymi dłońmi fotografie pokazywał wizerunki nagich kobiet i chłopców w dziwnych pozycjach Stałem oparty o niego bokiem i patrzyłem na te delikatne ciała ludzkie dalekimi niewidzącymi oczyma gdy fluid niejasnego wzburzenia którym nagle zmętniało powietrze doszedł do mnie i zbiegł mię dreszczem niepokoju falą nagłego zrozumienia Ale tymczasem ta mgiełka uśmiechu która się zarysowała pod miękkim i pięknym jego wąsem zawiązek pożądania który napiął się na jego skroniach pulsującą żyłą natężenie trzymające przez chwilę jego rysy w skupieniu  upadły z powrotem w nicość i twarz odeszła w nieobecność zapomniała o sobie rozwiała się\\n\\n'"
      ]
     },
     "execution_count": 12,
     "metadata": {},
     "output_type": "execute_result"
    }
   ],
   "source": [
    "df.text_polish[0]"
   ]
  },
  {
   "cell_type": "code",
   "execution_count": 34,
   "metadata": {},
   "outputs": [
    {
     "data": {
      "text/plain": [
       "array(['i', 'me', 'my', 'myself', 'we', 'our', 'ours', 'ourselves', 'you',\n",
       "       \"you're\", \"you've\", \"you'll\", \"you'd\", 'your', 'yours', 'yourself',\n",
       "       'yourselves', 'he', 'him', 'his', 'himself', 'she', \"she's\", 'her',\n",
       "       'hers', 'herself', 'it', \"it's\", 'its', 'itself', 'they', 'them',\n",
       "       'their', 'theirs', 'themselves', 'what', 'which', 'who', 'whom',\n",
       "       'this', 'that', \"that'll\", 'these', 'those', 'am', 'is', 'are',\n",
       "       'was', 'were', 'be', 'been', 'being', 'have', 'has', 'had',\n",
       "       'having', 'do', 'does', 'did', 'doing', 'a', 'an', 'the', 'and',\n",
       "       'but', 'if', 'or', 'because', 'as', 'until', 'while', 'of', 'at',\n",
       "       'by', 'for', 'with', 'about', 'against', 'between', 'into',\n",
       "       'through', 'during', 'before', 'after', 'above', 'below', 'to',\n",
       "       'from', 'up', 'down', 'in', 'out', 'on', 'off', 'over', 'under',\n",
       "       'again', 'further', 'then', 'once', 'here', 'there', 'when',\n",
       "       'where', 'why', 'how', 'all', 'any', 'both', 'each', 'few', 'more',\n",
       "       'most', 'other', 'some', 'such', 'no', 'nor', 'not', 'only', 'own',\n",
       "       'same', 'so', 'than', 'too', 'very', 's', 't', 'can', 'will',\n",
       "       'just', 'don', \"don't\", 'should', \"should've\", 'now', 'd', 'll',\n",
       "       'm', 'o', 're', 've', 'y', 'ain', 'aren', \"aren't\", 'couldn',\n",
       "       \"couldn't\", 'didn', \"didn't\", 'doesn', \"doesn't\", 'hadn', \"hadn't\",\n",
       "       'hasn', \"hasn't\", 'haven', \"haven't\", 'isn', \"isn't\", 'ma',\n",
       "       'mightn', \"mightn't\", 'mustn', \"mustn't\", 'needn', \"needn't\",\n",
       "       'shan', \"shan't\", 'shouldn', \"shouldn't\", 'wasn', \"wasn't\",\n",
       "       'weren', \"weren't\", 'won', \"won't\", 'wouldn', \"wouldn't\"],\n",
       "      dtype='<U10')"
      ]
     },
     "execution_count": 34,
     "metadata": {},
     "output_type": "execute_result"
    }
   ],
   "source": [
    "#nltk.download('stopwords')\n",
    "sw = stopwords.words('english')\n",
    "np.array(sw)"
   ]
  },
  {
   "cell_type": "code",
   "execution_count": 43,
   "metadata": {
    "collapsed": true
   },
   "outputs": [
    {
     "data": {
      "text/plain": [
       "array(['a', 'aby', 'ach', 'acz', 'aczkolwiek', 'aj', 'albo', 'ale',\n",
       "       'alez', 'ależ', 'ani', 'az', 'aż', 'bardziej', 'bardzo', 'beda',\n",
       "       'bedzie', 'bez', 'deda', 'będą', 'bede', 'będę', 'będzie', 'bo',\n",
       "       'bowiem', 'by', 'byc', 'być', 'byl', 'byla', 'byli', 'bylo',\n",
       "       'byly', 'był', 'była', 'było', 'były', 'bynajmniej', 'cala',\n",
       "       'cali', 'caly', 'cała', 'cały', 'ci', 'cie', 'ciebie', 'cię', 'co',\n",
       "       'cokolwiek', 'cos', 'coś', 'czasami', 'czasem', 'czemu', 'czy',\n",
       "       'czyli', 'daleko', 'dla', 'dlaczego', 'dlatego', 'do', 'dobrze',\n",
       "       'dokad', 'dokąd', 'dosc', 'dość', 'duzo', 'dużo', 'dwa', 'dwaj',\n",
       "       'dwie', 'dwoje', 'dzis', 'dzisiaj', 'dziś', 'gdy', 'gdyby', 'gdyz',\n",
       "       'gdyż', 'gdzie', 'gdziekolwiek', 'gdzies', 'gdzieś', 'go', 'i',\n",
       "       'ich', 'ile', 'im', 'inna', 'inne', 'inny', 'innych', 'iz', 'iż',\n",
       "       'ja', 'jak', 'jakas', 'jakaś', 'jakby', 'jaki', 'jakichs',\n",
       "       'jakichś', 'jakie', 'jakis', 'jakiś', 'jakiz', 'jakiż',\n",
       "       'jakkolwiek', 'jako', 'jakos', 'jakoś', 'ją', 'je', 'jeden',\n",
       "       'jedna', 'jednak', 'jednakze', 'jednakże', 'jedno', 'jego', 'jej',\n",
       "       'jemu', 'jesli', 'jest', 'jestem', 'jeszcze', 'jeśli', 'jezeli',\n",
       "       'jeżeli', 'juz', 'już', 'kazdy', 'każdy', 'kiedy', 'kilka', 'kims',\n",
       "       'kimś', 'kto', 'ktokolwiek', 'ktora', 'ktore', 'ktorego', 'ktorej',\n",
       "       'ktory', 'ktorych', 'ktorym', 'ktorzy', 'ktos', 'ktoś', 'która',\n",
       "       'które', 'którego', 'której', 'który', 'których', 'którym',\n",
       "       'którzy', 'ku', 'lat', 'lecz', 'lub', 'ma', 'mają', 'mało', 'mam',\n",
       "       'mi', 'miedzy', 'między', 'mimo', 'mna', 'mną', 'mnie', 'moga',\n",
       "       'mogą', 'moi', 'moim', 'moj', 'moja', 'moje', 'moze', 'mozliwe',\n",
       "       'mozna', 'może', 'możliwe', 'można', 'mój', 'mu', 'musi', 'my',\n",
       "       'na', 'nad', 'nam', 'nami', 'nas', 'nasi', 'nasz', 'nasza',\n",
       "       'nasze', 'naszego', 'naszych', 'natomiast', 'natychmiast', 'nawet',\n",
       "       'nia', 'nią', 'nic', 'nich', 'nie', 'niech', 'niego', 'niej',\n",
       "       'niemu', 'nigdy', 'nim', 'nimi', 'niz', 'niż', 'no', 'o', 'obok',\n",
       "       'od', 'około', 'on', 'ona', 'one', 'oni', 'ono', 'oraz', 'oto',\n",
       "       'owszem', 'pan', 'pana', 'pani', 'po', 'pod', 'podczas', 'pomimo',\n",
       "       'ponad', 'poniewaz', 'ponieważ', 'powinien', 'powinna', 'powinni',\n",
       "       'powinno', 'poza', 'prawie', 'przeciez', 'przecież', 'przed',\n",
       "       'przede', 'przedtem', 'przez', 'przy', 'roku', 'rowniez',\n",
       "       'również', 'sam', 'sama', 'są', 'sie', 'się', 'skad', 'skąd',\n",
       "       'soba', 'sobą', 'sobie', 'sposob', 'sposób', 'swoje', 'ta', 'tak',\n",
       "       'taka', 'taki', 'takie', 'takze', 'także', 'tam', 'te', 'tego',\n",
       "       'tej', 'ten', 'teraz', 'też', 'to', 'toba', 'tobą', 'tobie',\n",
       "       'totez', 'toteż', 'totobą', 'trzeba', 'tu', 'tutaj', 'twoi',\n",
       "       'twoim', 'twoj', 'twoja', 'twoje', 'twój', 'twym', 'ty', 'tych',\n",
       "       'tylko', 'tym', 'u', 'w', 'wam', 'wami', 'was', 'wasz', 'wasza',\n",
       "       'wasze', 'we', 'według', 'wiele', 'wielu', 'więc', 'więcej',\n",
       "       'wlasnie', 'właśnie', 'wszyscy', 'wszystkich', 'wszystkie',\n",
       "       'wszystkim', 'wszystko', 'wtedy', 'wy', 'z', 'za', 'zaden',\n",
       "       'zadna', 'zadne', 'zadnych', 'zapewne', 'zawsze', 'ze', 'zeby',\n",
       "       'zeznowu', 'zł', 'znow', 'znowu', 'znów', 'zostal', 'został',\n",
       "       'żaden', 'żadna', 'żadne', 'żadnych', 'że', 'żeby'], dtype='<U12')"
      ]
     },
     "execution_count": 43,
     "metadata": {},
     "output_type": "execute_result"
    }
   ],
   "source": [
    "#https://github.com/bieli/stopwords/blob/master/polish.stopwords.txt\n",
    "stop_words = open(\"./polish_stopwords.txt\",\"r\") \n",
    "stop_words = stop_words.readlines()\n",
    "stop_words = [x.replace('\\n', '') for x in stop_words]\n",
    "stop_words = np.array(stop_words)\n",
    "stop_words"
   ]
  },
  {
   "cell_type": "code",
   "execution_count": 36,
   "metadata": {},
   "outputs": [],
   "source": [
    "def stopwords(text):\n",
    "    '''a function for removing the stopword'''\n",
    "    # removing the stop words and lowercasing the selected words\n",
    "    text = [word.lower() for word in text.split() if word.lower() not in stop_words]\n",
    "    # joining the list of words with space separator\n",
    "    return \" \".join(text)"
   ]
  },
  {
   "cell_type": "code",
   "execution_count": 37,
   "metadata": {},
   "outputs": [],
   "source": [
    "df['text_polish'] = df['text_polish'].apply(stopwords)"
   ]
  },
  {
   "cell_type": "code",
   "execution_count": 42,
   "metadata": {},
   "outputs": [],
   "source": [
    "sc_data = df[df['book'] == 'Sklepy Cynamonowe']\n",
    "spk_data = df[df['book'] == 'Sanatorium Pod Klepysdrą']"
   ]
  },
  {
   "cell_type": "markdown",
   "metadata": {},
   "source": [
    "#### one story example"
   ]
  },
  {
   "cell_type": "code",
   "execution_count": 13,
   "metadata": {},
   "outputs": [
    {
     "data": {
      "text/plain": [
       "'\\n\\nsierpień\\n\\n1\\n\\nw lipcu ojciec mój wyjeżdżał do wód i zostawiał mnie z matką i starszym bratem na pastwę białych od żaru i oszołamiających dni letnich wertowaliśmy odurzeni światłem w tej wielkiej księdze wakacji której wszystkie karty pałały od blasku i miały na dnie słodki do omdlenia miąższ złotych gruszek\\n\\nadela wracała w świetliste poranki jak pomona z ognia dnia rozżagwionego wysypując z koszyka barwną urodę słońca lśniące pełne wody pod przejrzystą skórką czereśnie tajemnicze czarne wiśnie których woń przekraczała to co ziszczało się w smaku morele w których miąższu złotym był rdzeń długich popołudni a obok tej czystej poezji owoców wyładowywała nabrzmiałe siłą i pożywnością płaty mięsa z klawiaturą żeber cielęcych wodorosty jarzyn niby zabite głowonogi i meduzy surowy materiał obiadu o smaku jeszcze nie uformowanym i jałowym wegetatywne i telluryczne ingrediencje obiadu o zapachu dzikim i polnym\\n\\nprzez ciemne mieszkanie na pierwszym piętrze kamienicy w rynku przechodziło co dzień na wskroś całe wielkie lato cisza drgających słojów powietrznych kwadraty blasku śniące żarliwy swój sen na podłodze melodia katarynki dobyta z najgłębszej złotej żyły dnia dwa trzy takty refrenu granego gdzieś na fortepianie wciąż na nowo mdlejące w słońcu na białych trotuarach zagubione w ogniu dnia głębokiego po sprzątaniu adela zapuszczała cień na pokoje zasuwając płócienne story wtedy barwy schodziły o oktawę głębiej pokój napełniał się cieniem jakby pogrążony w światło głębi morskiej jeszcze mętniej odbity w zielonych zwierciadłach a cały upał dnia oddychał na storach lekko falujących od marzeń południowej godziny\\n\\nw sobotnie popołudnia wychodziłem z matką na spacer z półmroku sieni wstępowało się od razu w słoneczną kąpiel dnia przechodnie brodząc w złocie mieli oczy zmrużone od żaru jakby zalepione miodem a podciągnięta górna warga odsłaniała im dziąsła i zęby i wszyscy brodzący w tym dniu złocistym mieli ów grymas skwaru jak gdyby słońce nałożyło swym wyznawcom jedną i tę samą maskę  złotą maskę bractwa słonecznego i wszyscy którzy szli dziś ulicami spotykali się mijali starcy i młodzi dzieci i kobiety pozdrawiali się w przejściu tą maską namalowaną grubą złotą farbą na twarzy szczerzyli do siebie ten grymas bakchiczny  barbarzyńską maskę kultu pogańskiego\\n\\nrynek był pusty i żółty od żaru wymieciony z kurzu gorącymi wiatrami jak biblijna pustynia cierniste akacje wyrosłe z pustki żółtego placu kipiały nad nim jasnym listowiem bukietami szlachetnie uczłonkowanych filigranów zielonych jak drzewa na starych gobelinach zdawało się że te drzewa afektują wicher wzburzając teatralnie swe korony ażeby w patetycznych przegięciach ukazać wytworność wachlarzy listnych o srebrzystym podbrzuszu jak futra szlachetnych lisic stare domy polerowane wiatrami wielu dni zabawiały się refleksami wielkiej atmosfery echami wspomnieniami barw rozproszonymi w głębi kolorowej pogody zdawało się że całe generacje dni letnich jak cierpliwi sztukatorzy obijający stare fasady z pleśni tynku obtłukiwały kłamliwą glazurę wydobywając z dnia na dzień wyraźniej prawdziwe oblicze domów fizjonomię losu i życia które formowało je od wewnątrz teraz okna oślepione blaskiem pustego placu spały balkony wyznawały niebu swą pustkę otwarte sienie pachniały chłodem i winem\\n\\nkupka obdartusów ocalała w kącie rynku przed płomienną miotłą upału oblegała kawałek muru doświadczając go wciąż na nowo rzutami guzików i monet jak gdyby z horoskopu tych metalowych krążków odczytać można było prawdziwą tajemnicę muru porysowanego hieroglifami rys i pęknięć zresztą rynek był pusty oczekiwało się że przed tę sień sklepioną z beczkami winiarza podjedzie w cieniu chwiejących się akacyj osiołek samarytanina prowadzony za uzdę a dwóch pachołków zwlecze troskliwie chorego męża z rozpalonego siodła ażeby go po chłodnych schodach wnieść ostrożnie na pachnące szabasem piętro\\n\\ntak wędrowaliśmy z matką przez dwie słoneczne strony rynku wodząc nasze załamane cienie po wszystkich domach jak po klawiszach kwadraty bruku mijały powoli pod naszymi miękkimi i płaskimi krokami  jedne bladoróżowe jak skóra ludzka inne złote i sine wszystkie płaskie ciepłe aksamitne na słońcu jak jakieś twarze słoneczne zadeptane stopami aż do niepoznaki do błogiej nicości\\n\\naż wreszcie na rogu ulicy stryjskiej weszliśmy w cień apteki wielka bania z sokiem malinowym w szerokim oknie aptecznym symbolizowała chłód balsamów którym każde cierpienie mogło się tam ukoić i po paru jeszcze domach ulica nie mogła już utrzymać nadal decorum miasta jak chłop który wracając do wsi rodzimej rozdziewa się po drodze z miejskiej swej elegancji zamieniając się powoli w miarę zbliżania do wsi w obdartusa wiejskiego\\n\\nprzedmiejskie domki tonęły wraz z oknami zapadnięte w bujnym i zagmatwanym kwitnieniu małych ogródków zapomniane przez wielki dzień pleniły się bujnie i cicho wszelkie ziela kwiaty i chwasty rade z tej pauzy którą prześnić mogły za marginesem czasu na rubieżach nieskończonego dnia ogromny słonecznik wydźwignięty na potężnej łodydze i chory na elephantiasis czekał w żółtej żałobie ostatnich smutnych dni żywota uginając się pod przerostem potwornej korpulencji ale naiwne przedmiejskie dzwonki i perkalikowe niewybredne kwiatuszki stały bezradne w swych nakrochmalonych różowych i białych koszulkach bez zrozumienia dla wielkiej tragedii słonecznika\\n\\n2\\n\\nsplątany gąszcz traw chwastów zielska i bodiaków buzuje w ogniu popołudnia huczy rojowiskiem much popołudniowa drzemka ogrodu złote ściemisko krzyczy w słońcu jak ruda szarańcza w rzęsistym deszczu ognia wrzeszczą świerszcze strąki nasion eksplodują cicho jak koniki polne\\n\\na ku parkanowi kożuch traw podnosi się wypukłym garbempagórem jak gdyby ogród obrócił się we śnie na drugą stronę i grube jego chłopskie bary oddychają ciszą ziemi na tych barach ogrodu niechlujna babska bujność sierpnia wyolbrzymiała w głuche zapadliska ogromnych łopuchów rozpanoszyła się płatami włochatych blach listnych wybujałymi ozorami mięsistej zieleni tam te wyłupiaste pałuby łopuchów wybałuszyły się jak babska szeroko rozsiadłe na wpół pożarte przez własne oszalałe spódnice tam sprzedawał ogród za darmo najtańsze krupy dzikiego bzu śmierdzącą mydłem grubą kaszę babek dziką okowitę mięty i wszelką najgorszą tandetę sierpniową ale po drugiej stronie parkanu za tym matecznikiem lata w którym rozrosła się głupota zidiociałych chwastów było śmietnisko zarosłe dziko bodiakiem nikt nie wiedział że tam właśnie odprawiał sierpień tego lata swoją wielką pogańską orgię na tym śmietnisku oparte o parkan i zarośnięte dzikim bzem stało łóżko skretyniałej dziewczyny tłui tak nazywaliśmy ją wszyscy na kupie śmieci i odpadków starych garnków pantofli rumowiska i gruzu stało zielono pomalowane łóżko podparte zamiast brakującej nogi dwiema starymi cegłami\\n\\npowietrze nad tym rumowiskiem zdziczałe od żaru cięte błyskawicami lśniących much końskich rozwścieczonych słońcem trzeszczało jak od nie widzianych grzechotek podniecając do szału\\n\\ntłuja siedzi przykucnięta wśród żółtej pościeli i szmat wielka jej głowa jeży się wiechciem czarnych włosów twarz jej jest kurczliwa jak miech harmonii co chwila grymas płaczu składa tę harmonię w tysiąc poprzecznych fałd a zdziwienie rozciąga ją z powrotem wygładza fałdy odsłania szparki drobnych oczu i wilgotne dziąsła z żółtymi zębami pod ryjowatą mięsistą wargą mijają godziny pełne żaru i nudy podczas których tłuja gaworzy półgłosem drzemie zrzędzi z cicha i chrząka muchy obsiadają nieruchomą gęstym rojem ale z nagła ta cała kupa brudnych gałganów szmat i strzępów zaczyna poruszać się jakby ożywiona chrobotem lęgnących się w niej szczurów muchy budzą się spłoszone i podnoszą wielkim huczącym rojem pełnym wściekłego bzykania błysków i migotań i podczas gdy gałgany zsypują się na ziemię i rozbiegają po śmietnisku jak spłoszone szczury wygrzebuje się z nich odwija z wolna jądro wyłuszcza się rdzeń śmietniska na wpół naga i ciemna kretynka dźwiga się powoli i staje podobna do bożka pogańskiego na krótkich dziecinnych nóżkach a z napęczniałej napływem złości szyi z poczerwieniałej ciemniejącej od gniewu twarzy na której jak malowidła barbarzyńskie wykwitają arabeski nabrzmiałych żył wyrywa się wrzask zwierzęcy wrzask chrapliwy dobyty ze wszystkich bronchij i piszczałek tej pół zwierzęcej pół boskiej piersi bodiaki spalone słońcem krzyczą łopuchy puchną i pysznią się bezwstydnym mięsem chwasty ślinią się błyszczącym jadem a kretynka ochrypła od krzyku w konwulsji dzikiej uderza mięsistym łonem z wściekłą zapalczywością w pień bzu dzikiego który skrzypi cicho pod natarczywością tej rozpustnej chuci zaklinany całym tym nędzarskim chórem do wynaturzonej pogańskiej płodności\\n\\nmatka tłui wynajmuje się gospodyniom do szorowania podłóg jest to mała żółta jak szafran kobieta i szafranem zaprawia też podłogi jodłowe stoły ławy i szlabany które w izbach ubogich ludzi zmywa raz zaprowadziła mnie adela do domu tej starej maryśki była wczesna poranna godzina weszliśmy do małej izby niebiesko bielonej z ubitą polepą glinianą na podłodze na której leżało wczesne słońce jaskrawożółte w tej ciszy porannej odmierzanej przeraźliwym szczękiem chłopskiego zegara na ścianie w skrzyni na słomie leżała głupia maryśka blada jak opłatek i cicha jak rękawiczka z której wysunęła się dłoń i jakby korzystając z jej snu gadała cisza żółta jaskrawa zła cisza monologowała kłóciła się wygadywała głośno i ordynarnie swój maniacki monolog czas maryśki  czas więziony w jej duszy wystąpił z niej straszliwie rzeczywisty i szedł samopas przez izbę hałaśliwy huczący piekielny rosnący w jaskrawym milczeniu poranka z głośnego młynazegara jak zła mąka sypka mąka głupia mąka wariatów\\n\\n3\\n\\nw jednym z tych domków otoczonym sztachetami brązowej barwy tonącym w bujnej zieleni ogródka mieszkała ciotka agata wchodząc do niej mijaliśmy w ogrodzie kolorowe szklane kule tkwiące na tyczkach różowe zielone i fioletowe w których zaklęte były całe świetlane i jasne światy jak te idealne i szczęśliwe obrazy zamknięte w niedościgłej doskonałości baniek mydlanych\\n\\nw półciemnej sieni ze starymi oleodrukami pożartymi przez pleśń i oślepłymi od starości odnajdowaliśmy znany nam zapach w tej zaufanej starej woni mieściło się w dziwnie prostej syntezie życie tych ludzi alembik rasy gatunek krwi i sekret ich losu zawarty niedostrzegalnie w codziennym mijaniu ich własnego odrębnego czasu stare mądre drzwi których ciemne westchnienia wpuszczały i wypuszczały tych ludzi milczący świadkowie wchodzenia i wychodzenia matki córek i synów  otworzyły się bezgłośnie jak odrzwia szafy i weszliśmy w ich życie siedzieli jakby w cieniu swego losu i nie bronili się w pierwszych niezręcznych gestach wydali nam swoją tajemnicę czyż nie byliśmy krwią i losem spokrewnieni z nimi\\n\\npokój był ciemny i aksamitny od granatowych obić ze złotym deseniem lecz echo dnia płomiennego drgało i tutaj jeszcze mosiądzem na ramach obrazów na klamkach i listwach złotych choć przepuszczone przez gęstą zieleń ogrodu spod ściany podniosła się ciotka agata wielka i bujna o mięsie okrągłym i białym centkowanym rudą rdzą piegów przysiedliśmy się do nich jakby na brzeg ich losu zawstydzeni trochę tą bezbronnością z jaką wydali się nam bez zastrzeżeń i piliśmy wodę z sokiem różanym napój przedziwny w którym znalazłem jakby najgłębszą esencję tej upalnej soboty\\n\\nciotka narzekała był to zasadniczy ton jej rozmów głos tego mięsa białego i płodnego bujającego już jakby poza granicami osoby zaledwie luźnie utrzymywanej w skupieniu w więzach formy indywidualnej i nawet w tym skupieniu już zwielokrotnionej gotowej rozpaść się rozgałęzić rozsypać w rodzinę była to płodność niemal samoródcza kobiecość pozbawiona hamulców i chorobliwie wybujała\\n\\nzdawało się że sam aromat męskości zapach dymu tytoniowego dowcip kawalerski mógł dać impuls tej zaognionej kobiecości do rozpustnego dzieworództwa i właściwie wszystkie jej skargi na męża na służbę jej troski o dzieci były tylko kapryszeniem i dąsaniem się nie zaspokojonej płodności dalszym ciągiem tej opryskliwej gniewnej i płaczliwej kokieterii którą nadaremnie doświadczała męża wuj marek mały zgarbiony o twarzy wyjałowionej z płci siedział w swym szarym bankructwie pogodzony z losem w cieniu bezgranicznej pogardy w którym zdawał się wypoczywać w jego szarych oczach tlił się daleki żar ogrodu rozpięty w oknie czasem próbował słabym ruchem robić jakieś zastrzeżenia stawiać opór ale fala samowystarczalnej kobiecości odrzucała na bok ten gest bez znaczenia przechodziła triumfalnie mimo niego zalewała szerokim swym strumieniem słabe podrygi męskości\\n\\nbyło coś tragicznego w tej płodności niechlujnej i nieumiarkowanej była nędza kreatury walczącej na granicy nicości i śmierci był jakiś heroizm kobiecości triumfującej urodzajnością nawet nad kalectwem natury nad insuficjencją mężczyzny ale potomstwo ukazywało rację tej paniki macierzyńskiej tego szału rodzenia który wyczerpywał się w płodach nieudanych w efemerycznej generacji fantomów bez krwi i twarzy\\n\\nweszła łucja średnia z głową nazbyt rozkwitłą i dojrzałą na dziecięcym i pulchnym ciele o mięsie białym i delikatnym podała mi rączkę lalkowatą jakby dopiero pączkującą i zakwitła od razu całą twarzą jak piwonia przelewająca się pełnią różową nieszczęśliwa z powodu swych rumieńców które bezwstydnie mówiły o sekretach menstruacji przymykała oczy i płoniła się jeszcze bardziej pod dotknięciem najobojętniejszego pytania gdyż każde zawierało tajną aluzję do jej nadwrażliwego panieństwa\\n\\nemil najstarszy z kuzynów z jasnoblond wąsem z twarzą z której życie zmyło jakby wszelki wyraz spacerował tam i z powrotem po pokoju z rękami w kieszeniach fałdzistych spodni\\n\\njego strój elegancki i drogocenny nosił piętno egzotycznych krajów z których powrócił jego twarz zwiędła i zmętniała zdawała się z dnia na dzień zapominać o sobie stawać się białą pustą ścianą z bladą siecią żyłek w których jak linie na zatartej mapie plątały się gasnące wspomnienia tego burzliwego i zmarnowanego życia był mistrzem sztuk karcianych palił długie szlachetne fajki i pachniał dziwnie zapachem dalekich krajów z wzrokiem wędrującym po dawnych wspomnieniach opowiadał dziwne anegdoty które w pewnym punkcie urywały się nagle rozprzęgały i rozwiewały w nicość wodziłem za nim tęsknym wzrokiem pragnąc by zwrócił na mnie uwagę i wybawił mnie z udręki nudów i w samej rzeczy zdawało mi się że mrugnął na mnie oczyma wychodząc do drugiego pokoju podżyłem za nim siedział nisko na małej kozetce z kolanami krzyżującymi się niemal na wysokości głowy łysej jak kula bilardowa zdawało się że to ubranie samo leży faldziste zmięte przerzucone przez fotel twarz jego była jak tchnienie twarzy smuga którą nieznany przechodzień zostawił w powietrzu trzymał w bladych emaliowanych błękitnie dłoniach portfel w którym coś oglądał\\n\\nz mgły twarzy wyłoniło się z trudem wypukłe bielmo bladego oka wabiąc mnie figlarnym mruganiem czułem doń nieprzepartą sympatię wziął mnie między kolana i tasując przed mymi oczyma wprawnymi dłońmi fotografie pokazywał wizerunki nagich kobiet i chłopców w dziwnych pozycjach stałem oparty o niego bokiem i patrzyłem na te delikatne ciała ludzkie dalekimi niewidzącymi oczyma gdy fluid niejasnego wzburzenia którym nagle zmętniało powietrze doszedł do mnie i zbiegł mię dreszczem niepokoju falą nagłego zrozumienia ale tymczasem ta mgiełka uśmiechu która się zarysowała pod miękkim i pięknym jego wąsem zawiązek pożądania który napiął się na jego skroniach pulsującą żyłą natężenie trzymające przez chwilę jego rysy w skupieniu  upadły z powrotem w nicość i twarz odeszła w nieobecność zapomniała o sobie rozwiała się\\n\\n'"
      ]
     },
     "execution_count": 13,
     "metadata": {},
     "output_type": "execute_result"
    }
   ],
   "source": [
    "df.text_polish[0].lower() #also get rid of numbers!"
   ]
  },
  {
   "cell_type": "code",
   "execution_count": 15,
   "metadata": {},
   "outputs": [],
   "source": [
    "tokens = [t for t in word_tokenize(df.text_polish[0].lower()) if t not in (',', '“', '”', '\"','.')]"
   ]
  },
  {
   "cell_type": "code",
   "execution_count": 16,
   "metadata": {},
   "outputs": [],
   "source": [
    "# (1) lexical_richness\n",
    "distinct_tokens = set(tokens)\n",
    "lexical_richness = len(distinct_tokens) / len(tokens)"
   ]
  },
  {
   "cell_type": "code",
   "execution_count": 17,
   "metadata": {},
   "outputs": [
    {
     "data": {
      "text/plain": [
       "0.6420454545454546"
      ]
     },
     "execution_count": 17,
     "metadata": {},
     "output_type": "execute_result"
    }
   ],
   "source": [
    "lexical_richness"
   ]
  },
  {
   "cell_type": "code",
   "execution_count": 21,
   "metadata": {},
   "outputs": [
    {
     "name": "stdout",
     "output_type": "stream",
     "text": [
      "[('i', 99), ('w', 77), ('się', 59), ('z', 56), ('na', 51), ('jak', 29), ('do', 19), ('od', 14), ('tej', 13), ('o', 13), ('po', 10), ('jakby', 10), ('dnia', 9), ('przez', 9), ('mnie', 8), ('a', 8), ('jego', 8), ('jej', 8), ('pod', 7), ('których', 7), ('był', 7), ('nie', 7), ('że', 7), ('tym', 6), ('twarzy', 6), ('za', 6), ('którym', 6), ('ale', 6), ('żaru', 5), ('której', 5), ('to', 5), ('jeszcze', 5), ('zdawało', 5), ('tych', 5), ('tam', 5), ('dni', 4), ('dzień', 4), ('nad', 4), ('te', 4), ('losu', 4), ('które', 4), ('który', 4), ('bez', 4), ('ogrodu', 4), ('tego', 4), ('twarz', 4), ('była', 4), ('ich', 4), ('matką', 3), ('białych', 3), ('wielkiej', 3), ('wszystkie', 3), ('adela', 3), ('co', 3), ('rynku', 3), ('całe', 3), ('cisza', 3), ('słońcu', 3), ('wszyscy', 3), ('grymas', 3), ('gdyby', 3), ('swym', 3), ('tę', 3), ('maskę', 3), ('nim', 3), ('stare', 3), ('przed', 3), ('było', 3), ('cieniu', 3), ('męża', 3), ('powoli', 3), ('weszliśmy', 3), ('wielka', 3), ('już', 3), ('cicho', 3), ('którą', 3), ('powrotem', 3), ('niej', 3), ('ze', 3), ('płodności', 3), ('ludzi', 3), ('mąka', 3), ('ciotka', 3), ('nam', 3), ('życie', 3), ('skupieniu', 3), ('kobiecości', 3), ('oczyma', 3), ('sierpień', 2), ('letnich', 2), ('blasku', 2), ('złotych', 2), ('ognia', 2), ('pełne', 2), ('smaku', 2), ('złotym', 2), ('rdzeń', 2), ('mięsa', 2), ('obiadu', 2), ('dzikim', 2), ('ciemne', 2), ('kwadraty', 2), ('swój', 2), ('podłodze', 2), ('wciąż', 2), ('nowo', 2), ('ogniu', 2), ('cień', 2), ('barwy', 2), ('pokój', 2), ('głębi', 2), ('zielonych', 2), ('godziny', 2), ('popołudnia', 2), ('sieni', 2), ('razu', 2), ('mieli', 2), ('oczy', 2), ('dziąsła', 2), ('słońce', 2), ('złotą', 2), ('dzieci', 2), ('tą', 2), ('grubą', 2), ('ten', 2), ('pogańskiego', 2), ('rynek', 2), ('pusty', 2), ('wiatrami', 2), ('placu', 2), ('drzewa', 2), ('starych', 2), ('ażeby', 2), ('listnych', 2), ('życia', 2), ('muru', 2), ('go', 2), ('tajemnicę', 2), ('tak', 2), ('słoneczne', 2), ('wszystkich', 2), ('domach', 2), ('złote', 2), ('jakieś', 2), ('aż', 2), ('nicości', 2), ('sokiem', 2), ('szerokim', 2), ('oknie', 2), ('każde', 2), ('wsi', 2), ('przedmiejskie', 2), ('chwasty', 2), ('czasu', 2), ('żółtej', 2), ('swych', 2), ('zrozumienia', 2), ('traw', 2), ('chwastów', 2), ('much', 2), ('ogród', 2), ('babska', 2), ('łopuchów', 2), ('zieleni', 2), ('wpół', 2), ('dzikiego', 2), ('bzu', 2), ('lata', 2), ('swoją', 2), ('śmietnisku', 2), ('stało', 2), ('łóżko', 2), ('tłui', 2), ('ją', 2), ('starymi', 2), ('powietrze', 2), ('słońcem', 2), ('szału', 2), ('tłuja', 2), ('szmat', 2), ('jest', 2), ('podczas', 2), ('cicha', 2), ('muchy', 2), ('rojem', 2), ('ta', 2), ('spłoszone', 2), ('gdy', 2), ('nich', 2), ('kretynka', 2), ('wrzask', 2), ('pół', 2), ('żółta', 2), ('starej', 2), ('maryśki', 2), ('małej', 2), ('głupia', 2), ('zła', 2), ('czas', 2), ('agata', 2)]\n"
     ]
    }
   ],
   "source": [
    "freq = FreqDist(tokens)\n",
    "print(freq.most_common(200))"
   ]
  },
  {
   "cell_type": "code",
   "execution_count": 138,
   "metadata": {},
   "outputs": [
    {
     "data": {
      "image/png": "[encoded data removed]",
      "text/plain": [
       "<Figure size 432x288 with 1 Axes>"
      ]
     },
     "metadata": {
      "image/png": {
       "height": 277,
       "width": 372
      },
      "needs_background": "light"
     },
     "output_type": "display_data"
    }
   ],
   "source": [
    "ntext = nltk.Text(tokens)\n",
    "ntext.dispersion_plot(['się', 'w'])"
   ]
  },
  {
   "cell_type": "code",
   "execution_count": 139,
   "metadata": {},
   "outputs": [
    {
     "name": "stdout",
     "output_type": "stream",
     "text": [
      "mydłem, podbrzuszu, śniące, zapadnięte, heroizm, skrzypi, podrygi, cięte, drogocenny, malowidła, gospodyniom, płodach, płci, bezwstydnie, domu, faldziste, stopami, krupy, szczerzyli, dawnych, podnoszą, różową, egzotycznych, delikatne, błyszczącym, chłopców, klawiszach, zielono, własnego, płatami, szeroko, pościeli, dźwiga, rozprzęgały, pleśń, zieleń, krzyczy, żółtymi, różowe, falujących\n"
     ]
    }
   ],
   "source": [
    "import random\n",
    "print(', '.join([w for w in random.sample(freq.hapaxes(), 40)]))"
   ]
  },
  {
   "cell_type": "markdown",
   "metadata": {},
   "source": [
    "## Lemmatization"
   ]
  },
  {
   "cell_type": "code",
   "execution_count": 23,
   "metadata": {},
   "outputs": [],
   "source": [
    "polimorf = pd.read_csv('~/Downloads/polimorf_dictionary.tab', sep = '\\t')"
   ]
  },
  {
   "cell_type": "code",
   "execution_count": 24,
   "metadata": {},
   "outputs": [
    {
     "data": {
      "text/html": [
       "<div>\n",
       "<style scoped>\n",
       "    .dataframe tbody tr th:only-of-type {\n",
       "        vertical-align: middle;\n",
       "    }\n",
       "\n",
       "    .dataframe tbody tr th {\n",
       "        vertical-align: top;\n",
       "    }\n",
       "\n",
       "    .dataframe thead th {\n",
       "        text-align: right;\n",
       "    }\n",
       "</style>\n",
       "<table border=\"1\" class=\"dataframe\">\n",
       "  <thead>\n",
       "    <tr style=\"text-align: right;\">\n",
       "      <th></th>\n",
       "      <th>a</th>\n",
       "      <th>a.1</th>\n",
       "      <th>interj</th>\n",
       "      <th>pospolita</th>\n",
       "    </tr>\n",
       "  </thead>\n",
       "  <tbody>\n",
       "    <tr>\n",
       "      <th>0</th>\n",
       "      <td>a</td>\n",
       "      <td>a</td>\n",
       "      <td>qub</td>\n",
       "      <td>pospolita</td>\n",
       "    </tr>\n",
       "    <tr>\n",
       "      <th>1</th>\n",
       "      <td>a</td>\n",
       "      <td>a</td>\n",
       "      <td>qub</td>\n",
       "      <td>pospolita</td>\n",
       "    </tr>\n",
       "    <tr>\n",
       "      <th>2</th>\n",
       "      <td>a</td>\n",
       "      <td>a</td>\n",
       "      <td>conj</td>\n",
       "      <td>pospolita</td>\n",
       "    </tr>\n",
       "    <tr>\n",
       "      <th>3</th>\n",
       "      <td>a</td>\n",
       "      <td>a</td>\n",
       "      <td>prep:nom</td>\n",
       "      <td>pospolita</td>\n",
       "    </tr>\n",
       "    <tr>\n",
       "      <th>4</th>\n",
       "      <td>aa</td>\n",
       "      <td>aa</td>\n",
       "      <td>interj</td>\n",
       "      <td>pospolita</td>\n",
       "    </tr>\n",
       "    <tr>\n",
       "      <th>5</th>\n",
       "      <td>AA</td>\n",
       "      <td>AA</td>\n",
       "      <td>subst:pl:acc:p1</td>\n",
       "      <td>własna</td>\n",
       "    </tr>\n",
       "    <tr>\n",
       "      <th>6</th>\n",
       "      <td>AA</td>\n",
       "      <td>AA</td>\n",
       "      <td>subst:pl:dat:p1</td>\n",
       "      <td>własna</td>\n",
       "    </tr>\n",
       "    <tr>\n",
       "      <th>7</th>\n",
       "      <td>AA</td>\n",
       "      <td>AA</td>\n",
       "      <td>subst:pl:gen:p1</td>\n",
       "      <td>własna</td>\n",
       "    </tr>\n",
       "    <tr>\n",
       "      <th>8</th>\n",
       "      <td>AA</td>\n",
       "      <td>AA</td>\n",
       "      <td>subst:pl:inst:p1</td>\n",
       "      <td>własna</td>\n",
       "    </tr>\n",
       "    <tr>\n",
       "      <th>9</th>\n",
       "      <td>AA</td>\n",
       "      <td>AA</td>\n",
       "      <td>subst:pl:loc:p1</td>\n",
       "      <td>własna</td>\n",
       "    </tr>\n",
       "  </tbody>\n",
       "</table>\n",
       "</div>"
      ],
      "text/plain": [
       "    a a.1            interj  pospolita\n",
       "0   a   a               qub  pospolita\n",
       "1   a   a               qub  pospolita\n",
       "2   a   a              conj  pospolita\n",
       "3   a   a          prep:nom  pospolita\n",
       "4  aa  aa            interj  pospolita\n",
       "5  AA  AA   subst:pl:acc:p1     własna\n",
       "6  AA  AA   subst:pl:dat:p1     własna\n",
       "7  AA  AA   subst:pl:gen:p1     własna\n",
       "8  AA  AA  subst:pl:inst:p1     własna\n",
       "9  AA  AA   subst:pl:loc:p1     własna"
      ]
     },
     "execution_count": 24,
     "metadata": {},
     "output_type": "execute_result"
    }
   ],
   "source": [
    "polimorf.head(10)"
   ]
  },
  {
   "cell_type": "code",
   "execution_count": 25,
   "metadata": {},
   "outputs": [
    {
     "data": {
      "text/plain": [
       "(6578141, 4)"
      ]
     },
     "execution_count": 25,
     "metadata": {},
     "output_type": "execute_result"
    }
   ],
   "source": [
    "polimorf.shape"
   ]
  },
  {
   "cell_type": "code",
   "execution_count": 26,
   "metadata": {},
   "outputs": [],
   "source": [
    "polimorf.drop_duplicates(keep = 'first', inplace = True) "
   ]
  },
  {
   "cell_type": "code",
   "execution_count": 27,
   "metadata": {},
   "outputs": [
    {
     "data": {
      "text/plain": [
       "(6509933, 4)"
      ]
     },
     "execution_count": 27,
     "metadata": {},
     "output_type": "execute_result"
    }
   ],
   "source": [
    "polimorf.shape"
   ]
  },
  {
   "cell_type": "code",
   "execution_count": 28,
   "metadata": {},
   "outputs": [
    {
     "data": {
      "text/plain": [
       "pospolita               6004695\n",
       "geograficzna              88476\n",
       "nazwisko                  72178\n",
       "imię                      47922\n",
       "własna                    14754\n",
       "organizacja                3881\n",
       "określenie dodatkowe        451\n",
       "osoba                        73\n",
       "etnonim                      51\n",
       "wydarzenie                   42\n",
       "wytwór                       42\n",
       "Name: pospolita, dtype: int64"
      ]
     },
     "execution_count": 28,
     "metadata": {},
     "output_type": "execute_result"
    }
   ],
   "source": [
    "polimorf.pospolita.value_counts()"
   ]
  },
  {
   "cell_type": "code",
   "execution_count": 29,
   "metadata": {},
   "outputs": [],
   "source": [
    "tokens = [t for t in word_tokenize(df.text_polish[0].lower()) if t not in (',', '“', '”', '\"','.')]"
   ]
  },
  {
   "cell_type": "code",
   "execution_count": 30,
   "metadata": {},
   "outputs": [],
   "source": [
    "polimorf.rename(columns={\"a\": \"word\", \"a.1\": \"lemmat\"}, inplace = True)"
   ]
  },
  {
   "cell_type": "code",
   "execution_count": 31,
   "metadata": {},
   "outputs": [],
   "source": [
    "lemmat_dict = dict(zip(polimorf.word, polimorf.lemmat)) "
   ]
  },
  {
   "cell_type": "code",
   "execution_count": 32,
   "metadata": {},
   "outputs": [],
   "source": [
    "new_tokens = []"
   ]
  },
  {
   "cell_type": "code",
   "execution_count": 33,
   "metadata": {},
   "outputs": [],
   "source": [
    "for token in tokens:\n",
    "    try:\n",
    "        new_tokens.append(lemmat_dict[token])\n",
    "    except:\n",
    "        new_tokens.append(token)"
   ]
  },
  {
   "cell_type": "code",
   "execution_count": null,
   "metadata": {},
   "outputs": [],
   "source": []
  },
  {
   "cell_type": "code",
   "execution_count": null,
   "metadata": {},
   "outputs": [],
   "source": []
  },
  {
   "cell_type": "code",
   "execution_count": null,
   "metadata": {},
   "outputs": [],
   "source": []
  },
  {
   "cell_type": "code",
   "execution_count": null,
   "metadata": {},
   "outputs": [],
   "source": []
  },
  {
   "cell_type": "code",
   "execution_count": null,
   "metadata": {},
   "outputs": [],
   "source": []
  },
  {
   "cell_type": "code",
   "execution_count": null,
   "metadata": {},
   "outputs": [],
   "source": []
  },
  {
   "cell_type": "markdown",
   "metadata": {},
   "source": [
    "## Scratch"
   ]
  },
  {
   "cell_type": "code",
   "execution_count": null,
   "metadata": {},
   "outputs": [],
   "source": [
    "tokens = [t for t in word_tokenize(df.text_polish[0].lower()) if t not in (',', '“', '”', '\"','.')]"
   ]
  },
  {
   "cell_type": "code",
   "execution_count": 47,
   "metadata": {},
   "outputs": [
    {
     "ename": "ValueError",
     "evalue": "Iterable over raw text documents expected, string object received.",
     "output_type": "error",
     "traceback": [
      "\u001b[0;31m---------------------------------------------------------------------------\u001b[0m",
      "\u001b[0;31mValueError\u001b[0m                                Traceback (most recent call last)",
      "\u001b[0;32m<ipython-input-47-4656c4f39be9>\u001b[0m in \u001b[0;36m<module>\u001b[0;34m\u001b[0m\n\u001b[1;32m      2\u001b[0m \u001b[0mcount_vectorizer\u001b[0m \u001b[0;34m=\u001b[0m \u001b[0mCountVectorizer\u001b[0m\u001b[0;34m(\u001b[0m\u001b[0;34m)\u001b[0m\u001b[0;34m\u001b[0m\u001b[0;34m\u001b[0m\u001b[0m\n\u001b[1;32m      3\u001b[0m \u001b[0;31m# fit the count vectorizer using the text data\u001b[0m\u001b[0;34m\u001b[0m\u001b[0;34m\u001b[0m\u001b[0;34m\u001b[0m\u001b[0m\n\u001b[0;32m----> 4\u001b[0;31m \u001b[0mcount_vectorizer\u001b[0m\u001b[0;34m.\u001b[0m\u001b[0mfit\u001b[0m\u001b[0;34m(\u001b[0m\u001b[0mdf\u001b[0m\u001b[0;34m.\u001b[0m\u001b[0mtext_polish\u001b[0m\u001b[0;34m[\u001b[0m\u001b[0;36m0\u001b[0m\u001b[0;34m]\u001b[0m\u001b[0;34m.\u001b[0m\u001b[0mlower\u001b[0m\u001b[0;34m(\u001b[0m\u001b[0;34m)\u001b[0m\u001b[0;34m)\u001b[0m\u001b[0;34m\u001b[0m\u001b[0;34m\u001b[0m\u001b[0m\n\u001b[0m\u001b[1;32m      5\u001b[0m \u001b[0;31m# collect the vocabulary items used in the vectorizer\u001b[0m\u001b[0;34m\u001b[0m\u001b[0;34m\u001b[0m\u001b[0;34m\u001b[0m\u001b[0m\n\u001b[1;32m      6\u001b[0m \u001b[0mdictionary\u001b[0m \u001b[0;34m=\u001b[0m \u001b[0mcount_vectorizer\u001b[0m\u001b[0;34m.\u001b[0m\u001b[0mvocabulary_\u001b[0m\u001b[0;34m.\u001b[0m\u001b[0mitems\u001b[0m\u001b[0;34m(\u001b[0m\u001b[0;34m)\u001b[0m\u001b[0;34m\u001b[0m\u001b[0;34m\u001b[0m\u001b[0m\n",
      "\u001b[0;32m/usr/local/lib/python3.7/site-packages/sklearn/feature_extraction/text.py\u001b[0m in \u001b[0;36mfit\u001b[0;34m(self, raw_documents, y)\u001b[0m\n\u001b[1;32m    995\u001b[0m         \u001b[0mself\u001b[0m\u001b[0;34m\u001b[0m\u001b[0;34m\u001b[0m\u001b[0m\n\u001b[1;32m    996\u001b[0m         \"\"\"\n\u001b[0;32m--> 997\u001b[0;31m         \u001b[0mself\u001b[0m\u001b[0;34m.\u001b[0m\u001b[0mfit_transform\u001b[0m\u001b[0;34m(\u001b[0m\u001b[0mraw_documents\u001b[0m\u001b[0;34m)\u001b[0m\u001b[0;34m\u001b[0m\u001b[0;34m\u001b[0m\u001b[0m\n\u001b[0m\u001b[1;32m    998\u001b[0m         \u001b[0;32mreturn\u001b[0m \u001b[0mself\u001b[0m\u001b[0;34m\u001b[0m\u001b[0;34m\u001b[0m\u001b[0m\n\u001b[1;32m    999\u001b[0m \u001b[0;34m\u001b[0m\u001b[0m\n",
      "\u001b[0;32m/usr/local/lib/python3.7/site-packages/sklearn/feature_extraction/text.py\u001b[0m in \u001b[0;36mfit_transform\u001b[0;34m(self, raw_documents, y)\u001b[0m\n\u001b[1;32m   1019\u001b[0m         \u001b[0;32mif\u001b[0m \u001b[0misinstance\u001b[0m\u001b[0;34m(\u001b[0m\u001b[0mraw_documents\u001b[0m\u001b[0;34m,\u001b[0m \u001b[0msix\u001b[0m\u001b[0;34m.\u001b[0m\u001b[0mstring_types\u001b[0m\u001b[0;34m)\u001b[0m\u001b[0;34m:\u001b[0m\u001b[0;34m\u001b[0m\u001b[0;34m\u001b[0m\u001b[0m\n\u001b[1;32m   1020\u001b[0m             raise ValueError(\n\u001b[0;32m-> 1021\u001b[0;31m                 \u001b[0;34m\"Iterable over raw text documents expected, \"\u001b[0m\u001b[0;34m\u001b[0m\u001b[0;34m\u001b[0m\u001b[0m\n\u001b[0m\u001b[1;32m   1022\u001b[0m                 \"string object received.\")\n\u001b[1;32m   1023\u001b[0m \u001b[0;34m\u001b[0m\u001b[0m\n",
      "\u001b[0;31mValueError\u001b[0m: Iterable over raw text documents expected, string object received."
     ]
    }
   ],
   "source": [
    "# create a count vectorizer object\n",
    "count_vectorizer = CountVectorizer()\n",
    "# fit the count vectorizer using the text data\n",
    "count_vectorizer.fit(df['text_polish'])\n",
    "# collect the vocabulary items used in the vectorizer\n",
    "dictionary = count_vectorizer.vocabulary_.items()  "
   ]
  },
  {
   "cell_type": "code",
   "execution_count": 45,
   "metadata": {},
   "outputs": [],
   "source": [
    "# lists to store the vocab and counts\n",
    "vocab = []\n",
    "count = []\n",
    "# iterate through each vocab and count append the value to designated lists\n",
    "for key, value in dictionary:\n",
    "    vocab.append(key)\n",
    "    count.append(value)\n",
    "# store the count in panadas dataframe with vocab as index\n",
    "vocab_bef_stem = pd.Series(count, index=vocab)\n",
    "# sort the dataframe\n",
    "vocab_bef_stem = vocab_bef_stem.sort_values(ascending=False)"
   ]
  },
  {
   "cell_type": "code",
   "execution_count": 46,
   "metadata": {},
   "outputs": [
    {
     "data": {
      "text/plain": [
       "żądało             18780\n",
       "żądać              18779\n",
       "żądanie            18778\n",
       "żądania            18777\n",
       "żądając            18776\n",
       "żółwie             18775\n",
       "żółtą              18774\n",
       "żółtymi            18773\n",
       "żółtym             18772\n",
       "żółtych            18771\n",
       "żółty              18770\n",
       "żółtości           18769\n",
       "żółtej             18768\n",
       "żółtego            18767\n",
       "żółte              18766\n",
       "żółta              18765\n",
       "żyłą               18764\n",
       "żyły               18763\n",
       "żyłki              18762\n",
       "żyłem              18761\n",
       "żyłek              18760\n",
       "żyłach             18759\n",
       "żyła               18758\n",
       "żył                18757\n",
       "żyć                18756\n",
       "żywą               18755\n",
       "żywych             18754\n",
       "żywy               18753\n",
       "żywotów            18752\n",
       "żywotność          18751\n",
       "                   ...  \n",
       "żubry              18710\n",
       "żony               18709\n",
       "żonanieboszczka    18708\n",
       "żeśmy              18707\n",
       "żeś                18706\n",
       "żeru               18705\n",
       "żelazną            18704\n",
       "żelaznym           18703\n",
       "żelaznych          18702\n",
       "żelazny            18701\n",
       "żelaznej           18700\n",
       "żelaznego          18699\n",
       "żelazkami          18698\n",
       "żelazem            18697\n",
       "żelaza             18696\n",
       "żegnając           18695\n",
       "żebym              18694\n",
       "żebrami            18693\n",
       "żeber              18692\n",
       "żałość             18691\n",
       "żałośniejsze       18690\n",
       "żałośnie           18689\n",
       "żałowali           18688\n",
       "żałosnym           18687\n",
       "żałosnych          18686\n",
       "żałosny            18685\n",
       "żałosne            18684\n",
       "żałobnym           18683\n",
       "żałobnie           18682\n",
       "żałobne            18681\n",
       "Length: 100, dtype: int64"
      ]
     },
     "execution_count": 46,
     "metadata": {},
     "output_type": "execute_result"
    }
   ],
   "source": [
    "vocab_bef_stem.head(100)"
   ]
  },
  {
   "cell_type": "code",
   "execution_count": 93,
   "metadata": {
    "collapsed": true
   },
   "outputs": [
    {
     "data": {
      "text/plain": [
       "<matplotlib.axes._subplots.AxesSubplot at 0x118a02dd8>"
      ]
     },
     "execution_count": 93,
     "metadata": {},
     "output_type": "execute_result"
    },
    {
     "data": {
      "image/png": "[encoded data removed]",
      "text/plain": [
       "<Figure size 360x720 with 1 Axes>"
      ]
     },
     "metadata": {
      "image/png": {
       "height": 576,
       "width": 341
      },
      "needs_background": "light"
     },
     "output_type": "display_data"
    }
   ],
   "source": [
    "top_vacab = vocab_bef_stem.head(20)\n",
    "top_vacab.plot(kind = 'barh', figsize=(5,10))"
   ]
  },
  {
   "cell_type": "code",
   "execution_count": null,
   "metadata": {},
   "outputs": [],
   "source": []
  },
  {
   "cell_type": "code",
   "execution_count": null,
   "metadata": {},
   "outputs": [],
   "source": []
  },
  {
   "cell_type": "code",
   "execution_count": null,
   "metadata": {},
   "outputs": [],
   "source": []
  },
  {
   "cell_type": "code",
   "execution_count": null,
   "metadata": {},
   "outputs": [],
   "source": []
  },
  {
   "cell_type": "code",
   "execution_count": null,
   "metadata": {},
   "outputs": [],
   "source": []
  }
 ],
 "metadata": {
  "kernelspec": {
   "display_name": "Python 3",
   "language": "python",
   "name": "python3"
  },
  "language_info": {
   "codemirror_mode": {
    "name": "ipython",
    "version": 3
   },
   "file_extension": ".py",
   "mimetype": "text/x-python",
   "name": "python",
   "nbconvert_exporter": "python",
   "pygments_lexer": "ipython3",
   "version": "3.7.2"
  }
 },
 "nbformat": 4,
 "nbformat_minor": 2
}
