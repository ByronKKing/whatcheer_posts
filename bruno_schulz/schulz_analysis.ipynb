{
 "cells": [
  {
   "cell_type": "code",
   "execution_count": 211,
   "metadata": {},
   "outputs": [],
   "source": [
    "import pandas as pd\n",
    "import numpy as np\n",
    "from string import punctuation\n",
    "import random\n",
    "from itertools import islice"
   ]
  },
  {
   "cell_type": "code",
   "execution_count": 212,
   "metadata": {},
   "outputs": [],
   "source": [
    "from nltk import word_tokenize, sent_tokenize, FreqDist, Text\n",
    "from nltk.corpus import stopwords\n",
    "from sklearn.feature_extraction.text import CountVectorizer, TfidfVectorizer"
   ]
  },
  {
   "cell_type": "code",
   "execution_count": 213,
   "metadata": {},
   "outputs": [],
   "source": [
    "from pymystem3 import Mystem #russian lemmatizer"
   ]
  },
  {
   "cell_type": "code",
   "execution_count": 214,
   "metadata": {},
   "outputs": [],
   "source": [
    "import matplotlib\n",
    "from matplotlib import pyplot as plt\n",
    "import plotly.express as px\n",
    "import plotly.graph_objects as go\n",
    "%matplotlib inline\n",
    "%config InlineBackend.figure_format = 'retina'"
   ]
  },
  {
   "cell_type": "markdown",
   "metadata": {},
   "source": [
    "### Read Raw Texts"
   ]
  },
  {
   "cell_type": "code",
   "execution_count": 215,
   "metadata": {},
   "outputs": [
    {
     "data": {
      "text/plain": [
       "''"
      ]
     },
     "execution_count": 215,
     "metadata": {},
     "output_type": "execute_result"
    }
   ],
   "source": [
    "sklepy = open(\"./sklepy_cynamonowe_polish.txt\",\"r\") \n",
    "story_text = sklepy.read().split('&&&&&')\n",
    "story_text.pop(0)"
   ]
  },
  {
   "cell_type": "code",
   "execution_count": 216,
   "metadata": {},
   "outputs": [],
   "source": [
    "book_title = ['Sklepy Cynamonowe'] * 13\n",
    "story_titles = ['Sierpień','Nawiedzenie','Ptaki','Manekiny','Traktat o Manekinach albo Wtórna Księga Rodzaju',\n",
    "'Nemrod','Pan','Pan Karol','Sklepy Cynamonowe','Ulica Krokodyli','Karakony','Wichura','Noc Wielkiego Sezonu']\n",
    "df1 = pd.DataFrame(list(zip(book_title, story_titles, story_text)), columns = ['book', 'story_title', 'text_polish']) "
   ]
  },
  {
   "cell_type": "code",
   "execution_count": 217,
   "metadata": {},
   "outputs": [],
   "source": [
    "sanatorium = open(\"./sanatorium_pod_klepsydra_polish.txt\",\"r\") \n",
    "story_text = sanatorium.read().split('&&&&&')"
   ]
  },
  {
   "cell_type": "code",
   "execution_count": 218,
   "metadata": {},
   "outputs": [],
   "source": [
    "book_title = ['Sanatorium Pod Klepysdrą'] * 13\n",
    "story_titles = ['Księga','Genialna Epoka ','Wiosna','Noc lipcowa','Mój ojciec wstępuje do strażaków',\n",
    "'Druga jesień','Martwy sezon','Sanatorium pod Klepsydrą','Dodo','Edzio','Emeryt','Samotność',\n",
    "'Ostatnia ucieczka ojca']\n",
    "df2 = pd.DataFrame(list(zip(book_title, story_titles, story_text)), columns =['book', 'story_title', 'text_polish']) "
   ]
  },
  {
   "cell_type": "code",
   "execution_count": 219,
   "metadata": {},
   "outputs": [],
   "source": [
    "ogdf = pd.concat([df1,df2],ignore_index=True)\n",
    "df = ogdf"
   ]
  },
  {
   "cell_type": "code",
   "execution_count": 220,
   "metadata": {},
   "outputs": [
    {
     "data": {
      "text/html": [
       "<div>\n",
       "<style scoped>\n",
       "    .dataframe tbody tr th:only-of-type {\n",
       "        vertical-align: middle;\n",
       "    }\n",
       "\n",
       "    .dataframe tbody tr th {\n",
       "        vertical-align: top;\n",
       "    }\n",
       "\n",
       "    .dataframe thead th {\n",
       "        text-align: right;\n",
       "    }\n",
       "</style>\n",
       "<table border=\"1\" class=\"dataframe\">\n",
       "  <thead>\n",
       "    <tr style=\"text-align: right;\">\n",
       "      <th></th>\n",
       "      <th>book</th>\n",
       "      <th>story_title</th>\n",
       "      <th>text_polish</th>\n",
       "    </tr>\n",
       "  </thead>\n",
       "  <tbody>\n",
       "    <tr>\n",
       "      <th>0</th>\n",
       "      <td>Sklepy Cynamonowe</td>\n",
       "      <td>Sierpień</td>\n",
       "      <td>\\n\\nSierpień\\n\\n1\\n\\nW lipcu ojciec mój wyjeżd...</td>\n",
       "    </tr>\n",
       "    <tr>\n",
       "      <th>1</th>\n",
       "      <td>Sklepy Cynamonowe</td>\n",
       "      <td>Nawiedzenie</td>\n",
       "      <td>\\n\\nNAWIEDZENIE\\n\\n1\\n\\nJuż wówczas miasto nas...</td>\n",
       "    </tr>\n",
       "    <tr>\n",
       "      <th>2</th>\n",
       "      <td>Sklepy Cynamonowe</td>\n",
       "      <td>Ptaki</td>\n",
       "      <td>\\n\\nPTAKI\\n\\nNadeszły żółte, pełne nudy dni zi...</td>\n",
       "    </tr>\n",
       "    <tr>\n",
       "      <th>3</th>\n",
       "      <td>Sklepy Cynamonowe</td>\n",
       "      <td>Manekiny</td>\n",
       "      <td>\\n\\nManekiny\\n\\nTa ptasia impreza mego ojca by...</td>\n",
       "    </tr>\n",
       "    <tr>\n",
       "      <th>4</th>\n",
       "      <td>Sklepy Cynamonowe</td>\n",
       "      <td>Traktat o Manekinach albo Wtórna Księga Rodzaju</td>\n",
       "      <td>\\n\\nTRAKTAT O MANEKINACH ALBO WTÓRNA KSIĘGA RO...</td>\n",
       "    </tr>\n",
       "  </tbody>\n",
       "</table>\n",
       "</div>"
      ],
      "text/plain": [
       "                book                                      story_title  \\\n",
       "0  Sklepy Cynamonowe                                         Sierpień   \n",
       "1  Sklepy Cynamonowe                                      Nawiedzenie   \n",
       "2  Sklepy Cynamonowe                                            Ptaki   \n",
       "3  Sklepy Cynamonowe                                         Manekiny   \n",
       "4  Sklepy Cynamonowe  Traktat o Manekinach albo Wtórna Księga Rodzaju   \n",
       "\n",
       "                                         text_polish  \n",
       "0  \\n\\nSierpień\\n\\n1\\n\\nW lipcu ojciec mój wyjeżd...  \n",
       "1  \\n\\nNAWIEDZENIE\\n\\n1\\n\\nJuż wówczas miasto nas...  \n",
       "2  \\n\\nPTAKI\\n\\nNadeszły żółte, pełne nudy dni zi...  \n",
       "3  \\n\\nManekiny\\n\\nTa ptasia impreza mego ojca by...  \n",
       "4  \\n\\nTRAKTAT O MANEKINACH ALBO WTÓRNA KSIĘGA RO...  "
      ]
     },
     "execution_count": 220,
     "metadata": {},
     "output_type": "execute_result"
    }
   ],
   "source": [
    "df.head()"
   ]
  },
  {
   "cell_type": "code",
   "execution_count": 221,
   "metadata": {},
   "outputs": [
    {
     "data": {
      "text/html": [
       "<div>\n",
       "<style scoped>\n",
       "    .dataframe tbody tr th:only-of-type {\n",
       "        vertical-align: middle;\n",
       "    }\n",
       "\n",
       "    .dataframe tbody tr th {\n",
       "        vertical-align: top;\n",
       "    }\n",
       "\n",
       "    .dataframe thead th {\n",
       "        text-align: right;\n",
       "    }\n",
       "</style>\n",
       "<table border=\"1\" class=\"dataframe\">\n",
       "  <thead>\n",
       "    <tr style=\"text-align: right;\">\n",
       "      <th></th>\n",
       "      <th>book</th>\n",
       "      <th>story_title</th>\n",
       "      <th>text_polish</th>\n",
       "    </tr>\n",
       "  </thead>\n",
       "  <tbody>\n",
       "    <tr>\n",
       "      <th>21</th>\n",
       "      <td>Sanatorium Pod Klepysdrą</td>\n",
       "      <td>Dodo</td>\n",
       "      <td>\\n\\nPrzychodził do nas w sobotę po południu w ...</td>\n",
       "    </tr>\n",
       "    <tr>\n",
       "      <th>22</th>\n",
       "      <td>Sanatorium Pod Klepysdrą</td>\n",
       "      <td>Edzio</td>\n",
       "      <td>\\n\\nEDZIO\\n\\nNa tym samym, co my, piętrze domu...</td>\n",
       "    </tr>\n",
       "    <tr>\n",
       "      <th>23</th>\n",
       "      <td>Sanatorium Pod Klepysdrą</td>\n",
       "      <td>Emeryt</td>\n",
       "      <td>\\nEMERYT\\n\\nJestem emerytem w dosłownym i całk...</td>\n",
       "    </tr>\n",
       "    <tr>\n",
       "      <th>24</th>\n",
       "      <td>Sanatorium Pod Klepysdrą</td>\n",
       "      <td>Samotność</td>\n",
       "      <td>\\n\\nSAMOTNOŚĆ \\n\\nOd kiedy mogę wychodzić na m...</td>\n",
       "    </tr>\n",
       "    <tr>\n",
       "      <th>25</th>\n",
       "      <td>Sanatorium Pod Klepysdrą</td>\n",
       "      <td>Ostatnia ucieczka ojca</td>\n",
       "      <td>\\n\\nOstatnia ucieczka ojca\\n\\nByło to w późnym...</td>\n",
       "    </tr>\n",
       "  </tbody>\n",
       "</table>\n",
       "</div>"
      ],
      "text/plain": [
       "                        book             story_title  \\\n",
       "21  Sanatorium Pod Klepysdrą                    Dodo   \n",
       "22  Sanatorium Pod Klepysdrą                   Edzio   \n",
       "23  Sanatorium Pod Klepysdrą                  Emeryt   \n",
       "24  Sanatorium Pod Klepysdrą               Samotność   \n",
       "25  Sanatorium Pod Klepysdrą  Ostatnia ucieczka ojca   \n",
       "\n",
       "                                          text_polish  \n",
       "21  \\n\\nPrzychodził do nas w sobotę po południu w ...  \n",
       "22  \\n\\nEDZIO\\n\\nNa tym samym, co my, piętrze domu...  \n",
       "23  \\nEMERYT\\n\\nJestem emerytem w dosłownym i całk...  \n",
       "24  \\n\\nSAMOTNOŚĆ \\n\\nOd kiedy mogę wychodzić na m...  \n",
       "25  \\n\\nOstatnia ucieczka ojca\\n\\nByło to w późnym...  "
      ]
     },
     "execution_count": 221,
     "metadata": {},
     "output_type": "execute_result"
    }
   ],
   "source": [
    "df.tail()"
   ]
  },
  {
   "cell_type": "markdown",
   "metadata": {},
   "source": [
    "### Functions to Process Text Data"
   ]
  },
  {
   "cell_type": "markdown",
   "metadata": {},
   "source": [
    "#### Basic Text Preprocessing"
   ]
  },
  {
   "cell_type": "code",
   "execution_count": 222,
   "metadata": {},
   "outputs": [],
   "source": [
    "def tokenize_text(text):\n",
    "    '''divide body of text into individuals words (tokens) excluding punctuation!\n",
    "    '''\n",
    "    tokens = [t for t in word_tokenize(text.lower()) if t not in (',', '“', '”', '\"','.', '_', '–', '—')]\n",
    "    return(tokens)"
   ]
  },
  {
   "cell_type": "code",
   "execution_count": 223,
   "metadata": {},
   "outputs": [],
   "source": [
    "def remove_punctuation(text):\n",
    "    translator = str.maketrans('', '', punctuation) # replacing the punctuations with no space\n",
    "    return text.translate(translator)"
   ]
  },
  {
   "cell_type": "markdown",
   "metadata": {},
   "source": [
    "\n",
    "Stopwords are commonly found words in language. There is no systematic way of identifying these words.  \n",
    "There exist several collections of stopwords for different languages.  \n",
    "The NLTK package supports a collection of stopwords for English. I provide a example below.  \n",
    "For other languages (Polish, Russian) I found a collection of stopwords on Github. I provide a link in the comments.\n"
   ]
  },
  {
   "cell_type": "code",
   "execution_count": 224,
   "metadata": {},
   "outputs": [
    {
     "data": {
      "text/plain": [
       "array(['i', 'me', 'my', 'myself', 'we', 'our', 'ours', 'ourselves', 'you',\n",
       "       \"you're\", \"you've\", \"you'll\", \"you'd\", 'your', 'yours', 'yourself',\n",
       "       'yourselves', 'he', 'him', 'his', 'himself', 'she', \"she's\", 'her',\n",
       "       'hers'], dtype='<U10')"
      ]
     },
     "execution_count": 224,
     "metadata": {},
     "output_type": "execute_result"
    }
   ],
   "source": [
    "#nltk.download('stopwords')\n",
    "english_stopwords = stopwords.words('english')\n",
    "english_stopwords = np.array(english_stopwords)\n",
    "english_stopwords[0:25]"
   ]
  },
  {
   "cell_type": "code",
   "execution_count": 225,
   "metadata": {},
   "outputs": [
    {
     "data": {
      "text/plain": [
       "array(['a', 'aby', 'ach', 'acz', 'aczkolwiek', 'aj', 'albo', 'ale',\n",
       "       'alez', 'ależ', 'ani', 'az', 'aż', 'bardziej', 'bardzo', 'beda',\n",
       "       'bedzie', 'bez', 'deda', 'będą', 'bede', 'będę', 'będzie', 'bo',\n",
       "       'bowiem'], dtype='<U12')"
      ]
     },
     "execution_count": 225,
     "metadata": {},
     "output_type": "execute_result"
    }
   ],
   "source": [
    "#https://github.com/bieli/stopwords/blob/master/polish.stopwords.txt\n",
    "polish_stopwords = open(\"./polish_stopwords.txt\",\"r\") \n",
    "polish_stopwords = polish_stopwords.readlines()\n",
    "polish_stopwords = [x.replace('\\n', '') for x in polish_stopwords]\n",
    "polish_stopwords = np.array(polish_stopwords)\n",
    "polish_stopwords[0:25]"
   ]
  },
  {
   "cell_type": "code",
   "execution_count": 226,
   "metadata": {},
   "outputs": [
    {
     "data": {
      "text/plain": [
       "array(['c', 'а', 'алло', 'без', 'белый', 'близко', 'более', 'больше',\n",
       "       'большой', 'будем', 'будет', 'будете', 'будешь', 'будто', 'буду',\n",
       "       'будут', 'будь', 'бы', 'бывает', 'бывь', 'был', 'была', 'были',\n",
       "       'было', 'быть'], dtype='<U14')"
      ]
     },
     "execution_count": 226,
     "metadata": {},
     "output_type": "execute_result"
    }
   ],
   "source": [
    "#https://github.com/stopwords-iso/stopwords-ru/blob/master/stopwords-ru.txt\n",
    "russian_stopwords = open(\"./russian_stopwords.txt\",\"r\") \n",
    "russian_stopwords = russian_stopwords.readlines()\n",
    "russian_stopwords = [x.replace('\\n', '') for x in russian_stopwords]\n",
    "russian_stopwords = np.array(russian_stopwords)\n",
    "russian_stopwords[0:25]"
   ]
  },
  {
   "cell_type": "code",
   "execution_count": 227,
   "metadata": {},
   "outputs": [],
   "source": [
    "def remove_stopwords(text, stop_words):\n",
    "    '''removes select stopwords collection i.e. common words that appear frequently like articles, prepositions etc.'''\n",
    "    text = [word.lower() for word in text.split() if word.lower() not in stop_words]\n",
    "    return \" \".join(text) # join word list with space separator"
   ]
  },
  {
   "cell_type": "markdown",
   "metadata": {},
   "source": [
    "#### Functions for Lemmatization"
   ]
  },
  {
   "cell_type": "markdown",
   "metadata": {},
   "source": [
    "******************************"
   ]
  },
  {
   "cell_type": "markdown",
   "metadata": {},
   "source": [
    "Besides removing stopwords and punctuation, there is another important step in preprocessing text for analysis.  \n",
    "This step is called normalization. In any language, the same word takes many forms i.e. \"smile\", \"smiles\", \"smiling\", \"smiled\" in English.  \n",
    "There are two common ways to standardize language:  \n",
    "\n",
    "**Stemming**  \n",
    "Stemming reduces words to their root word ('stem') often by removing any endings or prefixes to the base word.  \n",
    "\n",
    "**Lemmatization**  \n",
    "Lemmatization transforms words to a common base word.\n",
    "\n",
    "A good example from Wikipedia for the English words \"produce\":  \n",
    "The lemma is \"produce\", but the stem is \"produc-\"\n",
    "\n",
    "Lemmatization yields better standardization in my opinion because the result of the normalization is itself a real word. \"Produc-\" isn't a word, but \"produce\" is. \n",
    "\n",
    "This is really important for Slavic languages like Polish and Russian because a single word can have a number of endings. Linguists call these languages \"highly inflected\" languages.\n",
    "\n",
    "You can see the result below. For the base word \"jabłko\" i.e. \"apple\", it can take several different forms depending on the context of the sentence. It can take these forms:\n",
    "\n",
    "jabłko, jabłku, jabłkom, jabłka, jabłek, jabłkach, jabłkiem, jabłkami"
   ]
  },
  {
   "cell_type": "markdown",
   "metadata": {},
   "source": [
    "As with stopwords, there are several different solutions for lemmatization for different languages. I use **pymystem3** package for lemmatization in Russian.  \n",
    "\n",
    "For Polish, I downloaded a dictionary of lemmats from the Polimorf library. I use this dictionary as a lookup table. For each tokenized `word` in the text, I return it's `lemmat` in the dictionary. This allows me to standardize the language and find the root for all words in the text, despite the numerous endings each word can take."
   ]
  },
  {
   "cell_type": "markdown",
   "metadata": {},
   "source": [
    "******************************"
   ]
  },
  {
   "cell_type": "code",
   "execution_count": 228,
   "metadata": {},
   "outputs": [],
   "source": [
    "polimorf = pd.read_csv('./polimorf_dictionary.tab', sep = '\\t')\n",
    "polimorf.drop_duplicates(keep = 'first', inplace = True) \n",
    "polimorf.rename(columns={\"a\": \"word\", \"a.1\": \"lemmat\", \"pospolita\": \"czesc_mowy\"}, inplace = True)"
   ]
  },
  {
   "cell_type": "code",
   "execution_count": 229,
   "metadata": {},
   "outputs": [
    {
     "data": {
      "text/html": [
       "<div>\n",
       "<style scoped>\n",
       "    .dataframe tbody tr th:only-of-type {\n",
       "        vertical-align: middle;\n",
       "    }\n",
       "\n",
       "    .dataframe tbody tr th {\n",
       "        vertical-align: top;\n",
       "    }\n",
       "\n",
       "    .dataframe thead th {\n",
       "        text-align: right;\n",
       "    }\n",
       "</style>\n",
       "<table border=\"1\" class=\"dataframe\">\n",
       "  <thead>\n",
       "    <tr style=\"text-align: right;\">\n",
       "      <th></th>\n",
       "      <th>word</th>\n",
       "      <th>lemmat</th>\n",
       "      <th>interj</th>\n",
       "      <th>czesc_mowy</th>\n",
       "    </tr>\n",
       "  </thead>\n",
       "  <tbody>\n",
       "    <tr>\n",
       "      <th>1201339</th>\n",
       "      <td>jabłku</td>\n",
       "      <td>jabłko</td>\n",
       "      <td>subst:sg:dat:n2</td>\n",
       "      <td>pospolita</td>\n",
       "    </tr>\n",
       "    <tr>\n",
       "      <th>1201340</th>\n",
       "      <td>jabłkom</td>\n",
       "      <td>jabłko</td>\n",
       "      <td>subst:pl:dat:n2</td>\n",
       "      <td>pospolita</td>\n",
       "    </tr>\n",
       "    <tr>\n",
       "      <th>1201341</th>\n",
       "      <td>jabłka</td>\n",
       "      <td>jabłko</td>\n",
       "      <td>subst:pl:nom:n2</td>\n",
       "      <td>pospolita</td>\n",
       "    </tr>\n",
       "    <tr>\n",
       "      <th>1201342</th>\n",
       "      <td>jabłka</td>\n",
       "      <td>jabłko</td>\n",
       "      <td>subst:pl:acc:n2</td>\n",
       "      <td>pospolita</td>\n",
       "    </tr>\n",
       "    <tr>\n",
       "      <th>1201343</th>\n",
       "      <td>jabłek</td>\n",
       "      <td>jabłko</td>\n",
       "      <td>subst:pl:gen:n2</td>\n",
       "      <td>pospolita</td>\n",
       "    </tr>\n",
       "    <tr>\n",
       "      <th>1201344</th>\n",
       "      <td>jabłko</td>\n",
       "      <td>jabłko</td>\n",
       "      <td>subst:sg:nom:n2</td>\n",
       "      <td>pospolita</td>\n",
       "    </tr>\n",
       "    <tr>\n",
       "      <th>1201345</th>\n",
       "      <td>jabłka</td>\n",
       "      <td>jabłko</td>\n",
       "      <td>subst:pl:voc:n2</td>\n",
       "      <td>pospolita</td>\n",
       "    </tr>\n",
       "    <tr>\n",
       "      <th>1201346</th>\n",
       "      <td>jabłko</td>\n",
       "      <td>jabłko</td>\n",
       "      <td>subst:sg:voc:n2</td>\n",
       "      <td>pospolita</td>\n",
       "    </tr>\n",
       "    <tr>\n",
       "      <th>1201347</th>\n",
       "      <td>jabłkach</td>\n",
       "      <td>jabłko</td>\n",
       "      <td>subst:pl:loc:n2</td>\n",
       "      <td>pospolita</td>\n",
       "    </tr>\n",
       "    <tr>\n",
       "      <th>1201348</th>\n",
       "      <td>jabłka</td>\n",
       "      <td>jabłko</td>\n",
       "      <td>subst:sg:gen:n2</td>\n",
       "      <td>pospolita</td>\n",
       "    </tr>\n",
       "    <tr>\n",
       "      <th>1201349</th>\n",
       "      <td>jabłko</td>\n",
       "      <td>jabłko</td>\n",
       "      <td>subst:sg:acc:n2</td>\n",
       "      <td>pospolita</td>\n",
       "    </tr>\n",
       "    <tr>\n",
       "      <th>1201350</th>\n",
       "      <td>jabłkiem</td>\n",
       "      <td>jabłko</td>\n",
       "      <td>subst:sg:inst:n2</td>\n",
       "      <td>pospolita</td>\n",
       "    </tr>\n",
       "    <tr>\n",
       "      <th>1201351</th>\n",
       "      <td>jabłkami</td>\n",
       "      <td>jabłko</td>\n",
       "      <td>subst:pl:inst:n2</td>\n",
       "      <td>pospolita</td>\n",
       "    </tr>\n",
       "    <tr>\n",
       "      <th>1201352</th>\n",
       "      <td>jabłku</td>\n",
       "      <td>jabłko</td>\n",
       "      <td>subst:sg:loc:n2</td>\n",
       "      <td>pospolita</td>\n",
       "    </tr>\n",
       "  </tbody>\n",
       "</table>\n",
       "</div>"
      ],
      "text/plain": [
       "             word  lemmat            interj czesc_mowy\n",
       "1201339    jabłku  jabłko   subst:sg:dat:n2  pospolita\n",
       "1201340   jabłkom  jabłko   subst:pl:dat:n2  pospolita\n",
       "1201341    jabłka  jabłko   subst:pl:nom:n2  pospolita\n",
       "1201342    jabłka  jabłko   subst:pl:acc:n2  pospolita\n",
       "1201343    jabłek  jabłko   subst:pl:gen:n2  pospolita\n",
       "1201344    jabłko  jabłko   subst:sg:nom:n2  pospolita\n",
       "1201345    jabłka  jabłko   subst:pl:voc:n2  pospolita\n",
       "1201346    jabłko  jabłko   subst:sg:voc:n2  pospolita\n",
       "1201347  jabłkach  jabłko   subst:pl:loc:n2  pospolita\n",
       "1201348    jabłka  jabłko   subst:sg:gen:n2  pospolita\n",
       "1201349    jabłko  jabłko   subst:sg:acc:n2  pospolita\n",
       "1201350  jabłkiem  jabłko  subst:sg:inst:n2  pospolita\n",
       "1201351  jabłkami  jabłko  subst:pl:inst:n2  pospolita\n",
       "1201352    jabłku  jabłko   subst:sg:loc:n2  pospolita"
      ]
     },
     "execution_count": 229,
     "metadata": {},
     "output_type": "execute_result"
    }
   ],
   "source": [
    "polimorf[polimorf['lemmat'] == 'jabłko']"
   ]
  },
  {
   "cell_type": "code",
   "execution_count": 230,
   "metadata": {},
   "outputs": [
    {
     "data": {
      "text/plain": [
       "pospolita               6004695\n",
       "geograficzna              88476\n",
       "nazwisko                  72178\n",
       "imię                      47922\n",
       "własna                    14754\n",
       "organizacja                3881\n",
       "określenie dodatkowe        451\n",
       "osoba                        73\n",
       "etnonim                      51\n",
       "wytwór                       42\n",
       "wydarzenie                   42\n",
       "Name: czesc_mowy, dtype: int64"
      ]
     },
     "execution_count": 230,
     "metadata": {},
     "output_type": "execute_result"
    }
   ],
   "source": [
    "#these are the parts of speech. unfortunately, the dictionary doesn't distinguish between adj, verb, etc.\n",
    "polimorf.czesc_mowy.value_counts() "
   ]
  },
  {
   "cell_type": "code",
   "execution_count": 231,
   "metadata": {},
   "outputs": [],
   "source": [
    "lemmat_dict = dict(zip(polimorf.word, polimorf.lemmat)) \n",
    "poc_dict = dict(zip(polimorf.word, polimorf.czesc_mowy)) "
   ]
  },
  {
   "cell_type": "code",
   "execution_count": 232,
   "metadata": {},
   "outputs": [],
   "source": [
    "def lemmatize_tokens(tokens):\n",
    "    '''looks up each token in a dictionary of lemmats and retrieves stem if exists'''\n",
    "    new_tokens = []\n",
    "    for token in tokens:\n",
    "        try:\n",
    "            new_tokens.append(lemmat_dict[token])\n",
    "        except:\n",
    "            new_tokens.append(token)\n",
    "    return(new_tokens)"
   ]
  },
  {
   "cell_type": "markdown",
   "metadata": {},
   "source": [
    "#### Retrieve Basic Statistics and Information about Texts"
   ]
  },
  {
   "cell_type": "code",
   "execution_count": 233,
   "metadata": {},
   "outputs": [],
   "source": [
    "def get_keystrokes(text):\n",
    "    '''count characters without spaces'''\n",
    "    kstr = len(text) - text.count(' ')\n",
    "    return(kstr)"
   ]
  },
  {
   "cell_type": "code",
   "execution_count": 234,
   "metadata": {},
   "outputs": [],
   "source": [
    "def basic_stats(text, lemmat = False):\n",
    "    '''\n",
    "    this function returns the number of words, distinct words and the lexical richness.\n",
    "    lexical richness is just the ratio between the number of distinct words and the number of total words.\n",
    "    '''\n",
    "    tokens = tokenize_text(text)\n",
    "    if lemmat:\n",
    "        tokens = lemmatize_tokens(tokens)\n",
    "    distinct_tokens = set(tokens)\n",
    "    lexical_richness = len(distinct_tokens) / len(tokens) # distinct words / all words\n",
    "    return len(tokens), len(distinct_tokens), lexical_richness"
   ]
  },
  {
   "cell_type": "code",
   "execution_count": 235,
   "metadata": {},
   "outputs": [],
   "source": [
    "def get_collocation(tokens):\n",
    "    '''return collocation i.e. word sequences that co-occur more often than by chance'''\n",
    "    ntext = Text(tokens)\n",
    "    return ntext.collocation_list()"
   ]
  },
  {
   "cell_type": "code",
   "execution_count": 236,
   "metadata": {},
   "outputs": [],
   "source": [
    "def advanced_stats(text, num_words, num_hapax, lemmat = False):\n",
    "    '''\n",
    "    return top x freq words (num_words), y random hapax (num_hapax), total hapax words, and collocated words.\n",
    "    hapax legomena = word that occurs only once within a work.\n",
    "    collocation = sequence of words or terms that co-occur more often than would be expected by chance\n",
    "    lemmatization is set to False by default.\n",
    "    '''\n",
    "    tokens = tokenize_text(text)\n",
    "    if lemmat:\n",
    "        tokens = lemmatize_tokens(tokens)\n",
    "    #take top most frequent words\n",
    "    freq = FreqDist(tokens)\n",
    "    top_words = freq.most_common(num_words)\n",
    "    #take random sample of hapaxes\n",
    "    all_hapaxes = freq.hapaxes()\n",
    "    random_hapax = [word for word in random.sample(all_hapaxes, num_hapax)]\n",
    "    #get all collocated words\n",
    "    collocats = get_collocation(tokens)\n",
    "    return dict(top_words), ', '.join(random_hapax), len(all_hapaxes), ', '.join(collocats)"
   ]
  },
  {
   "cell_type": "code",
   "execution_count": 237,
   "metadata": {},
   "outputs": [],
   "source": [
    "def parts_of_speech(tokens):\n",
    "    '''looks up each token in a dictionary of lemmats and retrieves part of speech if lemmat exists'''\n",
    "    new_tokens = []\n",
    "    for token in tokens:\n",
    "        try:\n",
    "            new_tokens.append(poc_dict[token])\n",
    "        except:\n",
    "            new_tokens.append(token)\n",
    "    return(new_tokens)"
   ]
  },
  {
   "cell_type": "code",
   "execution_count": null,
   "metadata": {},
   "outputs": [],
   "source": []
  },
  {
   "cell_type": "markdown",
   "metadata": {},
   "source": [
    "### Analyze Each Story"
   ]
  },
  {
   "cell_type": "code",
   "execution_count": 238,
   "metadata": {},
   "outputs": [],
   "source": [
    "df = ogdf"
   ]
  },
  {
   "cell_type": "code",
   "execution_count": 239,
   "metadata": {},
   "outputs": [
    {
     "data": {
      "text/html": [
       "<div>\n",
       "<style scoped>\n",
       "    .dataframe tbody tr th:only-of-type {\n",
       "        vertical-align: middle;\n",
       "    }\n",
       "\n",
       "    .dataframe tbody tr th {\n",
       "        vertical-align: top;\n",
       "    }\n",
       "\n",
       "    .dataframe thead th {\n",
       "        text-align: right;\n",
       "    }\n",
       "</style>\n",
       "<table border=\"1\" class=\"dataframe\">\n",
       "  <thead>\n",
       "    <tr style=\"text-align: right;\">\n",
       "      <th></th>\n",
       "      <th>book</th>\n",
       "      <th>story_title</th>\n",
       "      <th>text_polish</th>\n",
       "    </tr>\n",
       "  </thead>\n",
       "  <tbody>\n",
       "    <tr>\n",
       "      <th>0</th>\n",
       "      <td>Sklepy Cynamonowe</td>\n",
       "      <td>Sierpień</td>\n",
       "      <td>\\n\\nSierpień\\n\\n1\\n\\nW lipcu ojciec mój wyjeżd...</td>\n",
       "    </tr>\n",
       "    <tr>\n",
       "      <th>1</th>\n",
       "      <td>Sklepy Cynamonowe</td>\n",
       "      <td>Nawiedzenie</td>\n",
       "      <td>\\n\\nNAWIEDZENIE\\n\\n1\\n\\nJuż wówczas miasto nas...</td>\n",
       "    </tr>\n",
       "    <tr>\n",
       "      <th>2</th>\n",
       "      <td>Sklepy Cynamonowe</td>\n",
       "      <td>Ptaki</td>\n",
       "      <td>\\n\\nPTAKI\\n\\nNadeszły żółte, pełne nudy dni zi...</td>\n",
       "    </tr>\n",
       "    <tr>\n",
       "      <th>3</th>\n",
       "      <td>Sklepy Cynamonowe</td>\n",
       "      <td>Manekiny</td>\n",
       "      <td>\\n\\nManekiny\\n\\nTa ptasia impreza mego ojca by...</td>\n",
       "    </tr>\n",
       "    <tr>\n",
       "      <th>4</th>\n",
       "      <td>Sklepy Cynamonowe</td>\n",
       "      <td>Traktat o Manekinach albo Wtórna Księga Rodzaju</td>\n",
       "      <td>\\n\\nTRAKTAT O MANEKINACH ALBO WTÓRNA KSIĘGA RO...</td>\n",
       "    </tr>\n",
       "  </tbody>\n",
       "</table>\n",
       "</div>"
      ],
      "text/plain": [
       "                book                                      story_title  \\\n",
       "0  Sklepy Cynamonowe                                         Sierpień   \n",
       "1  Sklepy Cynamonowe                                      Nawiedzenie   \n",
       "2  Sklepy Cynamonowe                                            Ptaki   \n",
       "3  Sklepy Cynamonowe                                         Manekiny   \n",
       "4  Sklepy Cynamonowe  Traktat o Manekinach albo Wtórna Księga Rodzaju   \n",
       "\n",
       "                                         text_polish  \n",
       "0  \\n\\nSierpień\\n\\n1\\n\\nW lipcu ojciec mój wyjeżd...  \n",
       "1  \\n\\nNAWIEDZENIE\\n\\n1\\n\\nJuż wówczas miasto nas...  \n",
       "2  \\n\\nPTAKI\\n\\nNadeszły żółte, pełne nudy dni zi...  \n",
       "3  \\n\\nManekiny\\n\\nTa ptasia impreza mego ojca by...  \n",
       "4  \\n\\nTRAKTAT O MANEKINACH ALBO WTÓRNA KSIĘGA RO...  "
      ]
     },
     "execution_count": 239,
     "metadata": {},
     "output_type": "execute_result"
    }
   ],
   "source": [
    "df.head()"
   ]
  },
  {
   "cell_type": "markdown",
   "metadata": {},
   "source": [
    "#### Retrieve Basic Stats for Each Schulz Story (before and after preprocessing)"
   ]
  },
  {
   "cell_type": "code",
   "execution_count": 240,
   "metadata": {},
   "outputs": [],
   "source": [
    "df['full_length'] = df['text_polish'].apply(len) #return length of text with spaces"
   ]
  },
  {
   "cell_type": "code",
   "execution_count": 241,
   "metadata": {},
   "outputs": [
    {
     "data": {
      "text/plain": [
       "'\\n\\nSierpień\\n\\n1\\n\\nW lipcu ojciec mój wyjeżdżał do wód i zostawiał mnie z matką i starszym bratem na pastwę białych od żaru i oszołamiających dni letnich. Wertowaliśmy, odurzeni światłem, w tej wielkiej księdze wakacji, której wszystkie karty pałały od blasku i miały na dnie słodki do omdlenia miąższ złotych gruszek.\\n\\nAdela wracała w świetliste poranki, jak Pomona z ognia dnia rozżagwionego, wysypując z koszyka barwną urodę słońca lśniące, pełne wody pod przejrzystą skórką czereśnie, tajemnicze, czarne wiśnie, których woń przekraczała to, co ziszczało się w smaku; morele, w których miąższu złotym był rdzeń długich popołudni; a obok tej czystej poezji owoców wyładowywała nabrzmiałe siłą i pożywnością płaty mięsa z klawiaturą żeber cielęcych, wodorosty jarzyn, niby zabite głowonogi i meduzy surowy materiał obiadu o smaku jeszcze nie uformowanym i jałowym, wegetatywne i telluryczne ingrediencje obiadu o zapachu dzikim i polnym.\\n\\nPrzez ciemne mieszkanie na pierwszym piętrze kamienicy w rynku przechodziło co dzień na wskroś całe wielkie lato: cisza drgających słojów powietrznych, kwadraty blasku śniące żarliwy swój sen na podłodze; melodia katarynki, dobyta z najgłębszej złotej żyły dnia; dwa, trzy takty refrenu, granego gdzieś na fortepianie, wciąż na nowo, mdlejące w słońcu na białych trotuarach, zagubione w ogniu dnia głębokiego. Po sprzątaniu Adela zapuszczała cień na pokoje, zasuwając płócienne story. Wtedy barwy schodziły o oktawę głębiej, pokój napełniał się cieniem, jakby pogr'"
      ]
     },
     "execution_count": 241,
     "metadata": {},
     "output_type": "execute_result"
    }
   ],
   "source": [
    "df.text_polish[0][0:1500] #before text processing"
   ]
  },
  {
   "cell_type": "code",
   "execution_count": 242,
   "metadata": {},
   "outputs": [],
   "source": [
    "df['text_polish'] = df['text_polish'].apply(remove_punctuation)"
   ]
  },
  {
   "cell_type": "code",
   "execution_count": 243,
   "metadata": {},
   "outputs": [
    {
     "data": {
      "text/plain": [
       "'\\n\\nSierpień\\n\\n1\\n\\nW lipcu ojciec mój wyjeżdżał do wód i zostawiał mnie z matką i starszym bratem na pastwę białych od żaru i oszołamiających dni letnich Wertowaliśmy odurzeni światłem w tej wielkiej księdze wakacji której wszystkie karty pałały od blasku i miały na dnie słodki do omdlenia miąższ złotych gruszek\\n\\nAdela wracała w świetliste poranki jak Pomona z ognia dnia rozżagwionego wysypując z koszyka barwną urodę słońca lśniące pełne wody pod przejrzystą skórką czereśnie tajemnicze czarne wiśnie których woń przekraczała to co ziszczało się w smaku morele w których miąższu złotym był rdzeń długich popołudni a obok tej czystej poezji owoców wyładowywała nabrzmiałe siłą i pożywnością płaty mięsa z klawiaturą żeber cielęcych wodorosty jarzyn niby zabite głowonogi i meduzy surowy materiał obiadu o smaku jeszcze nie uformowanym i jałowym wegetatywne i telluryczne ingrediencje obiadu o zapachu dzikim i polnym\\n\\nPrzez ciemne mieszkanie na pierwszym piętrze kamienicy w rynku przechodziło co dzień na wskroś całe wielkie lato cisza drgających słojów powietrznych kwadraty blasku śniące żarliwy swój sen na podłodze melodia katarynki dobyta z najgłębszej złotej żyły dnia dwa trzy takty refrenu granego gdzieś na fortepianie wciąż na nowo mdlejące w słońcu na białych trotuarach zagubione w ogniu dnia głębokiego Po sprzątaniu Adela zapuszczała cień na pokoje zasuwając płócienne story Wtedy barwy schodziły o oktawę głębiej pokój napełniał się cieniem jakby pogrążony w światło głębi morskiej jes'"
      ]
     },
     "execution_count": 243,
     "metadata": {},
     "output_type": "execute_result"
    }
   ],
   "source": [
    "df.text_polish[0][0:1500] #after removing punctuation"
   ]
  },
  {
   "cell_type": "code",
   "execution_count": 244,
   "metadata": {},
   "outputs": [],
   "source": [
    "df['length'] = df['text_polish'].apply(len)"
   ]
  },
  {
   "cell_type": "code",
   "execution_count": 245,
   "metadata": {},
   "outputs": [],
   "source": [
    "df['keystrokes'] = df['text_polish'].apply(get_keystrokes)"
   ]
  },
  {
   "cell_type": "code",
   "execution_count": 246,
   "metadata": {},
   "outputs": [],
   "source": [
    "df['words'], df['distinct_words'], df['lexical_richness'] = zip(*df['text_polish'].map(basic_stats))"
   ]
  },
  {
   "cell_type": "code",
   "execution_count": 247,
   "metadata": {},
   "outputs": [
    {
     "data": {
      "text/html": [
       "<div>\n",
       "<style scoped>\n",
       "    .dataframe tbody tr th:only-of-type {\n",
       "        vertical-align: middle;\n",
       "    }\n",
       "\n",
       "    .dataframe tbody tr th {\n",
       "        vertical-align: top;\n",
       "    }\n",
       "\n",
       "    .dataframe thead th {\n",
       "        text-align: right;\n",
       "    }\n",
       "</style>\n",
       "<table border=\"1\" class=\"dataframe\">\n",
       "  <thead>\n",
       "    <tr style=\"text-align: right;\">\n",
       "      <th></th>\n",
       "      <th>book</th>\n",
       "      <th>story_title</th>\n",
       "      <th>text_polish</th>\n",
       "      <th>full_length</th>\n",
       "      <th>length</th>\n",
       "      <th>keystrokes</th>\n",
       "      <th>words</th>\n",
       "      <th>distinct_words</th>\n",
       "      <th>lexical_richness</th>\n",
       "    </tr>\n",
       "  </thead>\n",
       "  <tbody>\n",
       "    <tr>\n",
       "      <th>0</th>\n",
       "      <td>Sklepy Cynamonowe</td>\n",
       "      <td>Sierpień</td>\n",
       "      <td>\\n\\nSierpień\\n\\n1\\n\\nW lipcu ojciec mój wyjeżd...</td>\n",
       "      <td>15980</td>\n",
       "      <td>15556</td>\n",
       "      <td>13290</td>\n",
       "      <td>2288</td>\n",
       "      <td>1469</td>\n",
       "      <td>0.642045</td>\n",
       "    </tr>\n",
       "    <tr>\n",
       "      <th>1</th>\n",
       "      <td>Sklepy Cynamonowe</td>\n",
       "      <td>Nawiedzenie</td>\n",
       "      <td>\\n\\nNAWIEDZENIE\\n\\n1\\n\\nJuż wówczas miasto nas...</td>\n",
       "      <td>12601</td>\n",
       "      <td>12295</td>\n",
       "      <td>10506</td>\n",
       "      <td>1830</td>\n",
       "      <td>1104</td>\n",
       "      <td>0.603279</td>\n",
       "    </tr>\n",
       "    <tr>\n",
       "      <th>2</th>\n",
       "      <td>Sklepy Cynamonowe</td>\n",
       "      <td>Ptaki</td>\n",
       "      <td>\\n\\nPTAKI\\n\\nNadeszły żółte pełne nudy dni zim...</td>\n",
       "      <td>9081</td>\n",
       "      <td>8851</td>\n",
       "      <td>7569</td>\n",
       "      <td>1286</td>\n",
       "      <td>873</td>\n",
       "      <td>0.678849</td>\n",
       "    </tr>\n",
       "    <tr>\n",
       "      <th>3</th>\n",
       "      <td>Sklepy Cynamonowe</td>\n",
       "      <td>Manekiny</td>\n",
       "      <td>\\n\\nManekiny\\n\\nTa ptasia impreza mego ojca by...</td>\n",
       "      <td>12420</td>\n",
       "      <td>12126</td>\n",
       "      <td>10357</td>\n",
       "      <td>1780</td>\n",
       "      <td>1157</td>\n",
       "      <td>0.650000</td>\n",
       "    </tr>\n",
       "    <tr>\n",
       "      <th>4</th>\n",
       "      <td>Sklepy Cynamonowe</td>\n",
       "      <td>Traktat o Manekinach albo Wtórna Księga Rodzaju</td>\n",
       "      <td>\\n\\nTRAKTAT O MANEKINACH ALBO WTÓRNA KSIĘGA RO...</td>\n",
       "      <td>19473</td>\n",
       "      <td>18893</td>\n",
       "      <td>16099</td>\n",
       "      <td>2746</td>\n",
       "      <td>1598</td>\n",
       "      <td>0.581937</td>\n",
       "    </tr>\n",
       "  </tbody>\n",
       "</table>\n",
       "</div>"
      ],
      "text/plain": [
       "                book                                      story_title  \\\n",
       "0  Sklepy Cynamonowe                                         Sierpień   \n",
       "1  Sklepy Cynamonowe                                      Nawiedzenie   \n",
       "2  Sklepy Cynamonowe                                            Ptaki   \n",
       "3  Sklepy Cynamonowe                                         Manekiny   \n",
       "4  Sklepy Cynamonowe  Traktat o Manekinach albo Wtórna Księga Rodzaju   \n",
       "\n",
       "                                         text_polish  full_length  length  \\\n",
       "0  \\n\\nSierpień\\n\\n1\\n\\nW lipcu ojciec mój wyjeżd...        15980   15556   \n",
       "1  \\n\\nNAWIEDZENIE\\n\\n1\\n\\nJuż wówczas miasto nas...        12601   12295   \n",
       "2  \\n\\nPTAKI\\n\\nNadeszły żółte pełne nudy dni zim...         9081    8851   \n",
       "3  \\n\\nManekiny\\n\\nTa ptasia impreza mego ojca by...        12420   12126   \n",
       "4  \\n\\nTRAKTAT O MANEKINACH ALBO WTÓRNA KSIĘGA RO...        19473   18893   \n",
       "\n",
       "   keystrokes  words  distinct_words  lexical_richness  \n",
       "0       13290   2288            1469          0.642045  \n",
       "1       10506   1830            1104          0.603279  \n",
       "2        7569   1286             873          0.678849  \n",
       "3       10357   1780            1157          0.650000  \n",
       "4       16099   2746            1598          0.581937  "
      ]
     },
     "execution_count": 247,
     "metadata": {},
     "output_type": "execute_result"
    }
   ],
   "source": [
    "df.head()"
   ]
  },
  {
   "cell_type": "markdown",
   "metadata": {},
   "source": [
    "#### Advanced Stats (before vs after removing stopwords, lemmatization)"
   ]
  },
  {
   "cell_type": "code",
   "execution_count": 248,
   "metadata": {},
   "outputs": [],
   "source": [
    "df['top_words'], df['hapax_words'], df['total_hapax_words'], df['colloc_words'] = zip(*df['text_polish'].map(lambda w: advanced_stats(w, 10, 10)))"
   ]
  },
  {
   "cell_type": "markdown",
   "metadata": {},
   "source": [
    "Top words are articles `i`, `w` and the lexical richness is very high across stories."
   ]
  },
  {
   "cell_type": "code",
   "execution_count": 249,
   "metadata": {},
   "outputs": [
    {
     "data": {
      "text/html": [
       "<div>\n",
       "<style scoped>\n",
       "    .dataframe tbody tr th:only-of-type {\n",
       "        vertical-align: middle;\n",
       "    }\n",
       "\n",
       "    .dataframe tbody tr th {\n",
       "        vertical-align: top;\n",
       "    }\n",
       "\n",
       "    .dataframe thead th {\n",
       "        text-align: right;\n",
       "    }\n",
       "</style>\n",
       "<table border=\"1\" class=\"dataframe\">\n",
       "  <thead>\n",
       "    <tr style=\"text-align: right;\">\n",
       "      <th></th>\n",
       "      <th>book</th>\n",
       "      <th>story_title</th>\n",
       "      <th>text_polish</th>\n",
       "      <th>full_length</th>\n",
       "      <th>length</th>\n",
       "      <th>keystrokes</th>\n",
       "      <th>words</th>\n",
       "      <th>distinct_words</th>\n",
       "      <th>lexical_richness</th>\n",
       "      <th>top_words</th>\n",
       "      <th>hapax_words</th>\n",
       "      <th>total_hapax_words</th>\n",
       "      <th>colloc_words</th>\n",
       "    </tr>\n",
       "  </thead>\n",
       "  <tbody>\n",
       "    <tr>\n",
       "      <th>0</th>\n",
       "      <td>Sklepy Cynamonowe</td>\n",
       "      <td>Sierpień</td>\n",
       "      <td>\\n\\nSierpień\\n\\n1\\n\\nW lipcu ojciec mój wyjeżd...</td>\n",
       "      <td>15980</td>\n",
       "      <td>15556</td>\n",
       "      <td>13290</td>\n",
       "      <td>2288</td>\n",
       "      <td>1469</td>\n",
       "      <td>0.642045</td>\n",
       "      <td>{'i': 99, 'w': 77, 'się': 59, 'z': 56, 'na': 5...</td>\n",
       "      <td>gasnące, łodydze, zapadnięte, niebu, podłóg, p...</td>\n",
       "      <td>1246</td>\n",
       "      <td>ciotka agata, dni letnich, jak gdyby, zdawało ...</td>\n",
       "    </tr>\n",
       "    <tr>\n",
       "      <th>1</th>\n",
       "      <td>Sklepy Cynamonowe</td>\n",
       "      <td>Nawiedzenie</td>\n",
       "      <td>\\n\\nNAWIEDZENIE\\n\\n1\\n\\nJuż wówczas miasto nas...</td>\n",
       "      <td>12601</td>\n",
       "      <td>12295</td>\n",
       "      <td>10506</td>\n",
       "      <td>1830</td>\n",
       "      <td>1104</td>\n",
       "      <td>0.603279</td>\n",
       "      <td>{'i': 91, 'w': 63, 'się': 62, 'z': 45, 'na': 3...</td>\n",
       "      <td>żądanie, gorsetów, posiadało, kominie, nieprzy...</td>\n",
       "      <td>926</td>\n",
       "      <td>przez chwilę, mego ojca, nie patrząc, gniew bo...</td>\n",
       "    </tr>\n",
       "    <tr>\n",
       "      <th>2</th>\n",
       "      <td>Sklepy Cynamonowe</td>\n",
       "      <td>Ptaki</td>\n",
       "      <td>\\n\\nPTAKI\\n\\nNadeszły żółte pełne nudy dni zim...</td>\n",
       "      <td>9081</td>\n",
       "      <td>8851</td>\n",
       "      <td>7569</td>\n",
       "      <td>1286</td>\n",
       "      <td>873</td>\n",
       "      <td>0.678849</td>\n",
       "      <td>{'w': 52, 'i': 47, 'się': 37, 'z': 28, 'na': 1...</td>\n",
       "      <td>napełniać, wskazującymi, przeciwny, jeden, ist...</td>\n",
       "      <td>749</td>\n",
       "      <td>górnych regionach, lamp wiszących, trzepiąc rę...</td>\n",
       "    </tr>\n",
       "    <tr>\n",
       "      <th>3</th>\n",
       "      <td>Sklepy Cynamonowe</td>\n",
       "      <td>Manekiny</td>\n",
       "      <td>\\n\\nManekiny\\n\\nTa ptasia impreza mego ojca by...</td>\n",
       "      <td>12420</td>\n",
       "      <td>12126</td>\n",
       "      <td>10357</td>\n",
       "      <td>1780</td>\n",
       "      <td>1157</td>\n",
       "      <td>0.650000</td>\n",
       "      <td>{'w': 70, 'i': 68, 'się': 46, 'z': 44, 'na': 2...</td>\n",
       "      <td>sam, trzepotów, tygodnie, świat, głodzie, zgry...</td>\n",
       "      <td>982</td>\n",
       "      <td>mój ojciec, godne uwagi, treści więcej, mego o...</td>\n",
       "    </tr>\n",
       "    <tr>\n",
       "      <th>4</th>\n",
       "      <td>Sklepy Cynamonowe</td>\n",
       "      <td>Traktat o Manekinach albo Wtórna Księga Rodzaju</td>\n",
       "      <td>\\n\\nTRAKTAT O MANEKINACH ALBO WTÓRNA KSIĘGA RO...</td>\n",
       "      <td>19473</td>\n",
       "      <td>18893</td>\n",
       "      <td>16099</td>\n",
       "      <td>2746</td>\n",
       "      <td>1598</td>\n",
       "      <td>0.581937</td>\n",
       "      <td>{'i': 96, 'w': 85, 'się': 70, 'z': 48, 'na': 4...</td>\n",
       "      <td>niedościgłej, dookoła, upajające, pedanterią, ...</td>\n",
       "      <td>1322</td>\n",
       "      <td>moje panie, mój ojciec, ojciec mój, spuszczony...</td>\n",
       "    </tr>\n",
       "  </tbody>\n",
       "</table>\n",
       "</div>"
      ],
      "text/plain": [
       "                book                                      story_title  \\\n",
       "0  Sklepy Cynamonowe                                         Sierpień   \n",
       "1  Sklepy Cynamonowe                                      Nawiedzenie   \n",
       "2  Sklepy Cynamonowe                                            Ptaki   \n",
       "3  Sklepy Cynamonowe                                         Manekiny   \n",
       "4  Sklepy Cynamonowe  Traktat o Manekinach albo Wtórna Księga Rodzaju   \n",
       "\n",
       "                                         text_polish  full_length  length  \\\n",
       "0  \\n\\nSierpień\\n\\n1\\n\\nW lipcu ojciec mój wyjeżd...        15980   15556   \n",
       "1  \\n\\nNAWIEDZENIE\\n\\n1\\n\\nJuż wówczas miasto nas...        12601   12295   \n",
       "2  \\n\\nPTAKI\\n\\nNadeszły żółte pełne nudy dni zim...         9081    8851   \n",
       "3  \\n\\nManekiny\\n\\nTa ptasia impreza mego ojca by...        12420   12126   \n",
       "4  \\n\\nTRAKTAT O MANEKINACH ALBO WTÓRNA KSIĘGA RO...        19473   18893   \n",
       "\n",
       "   keystrokes  words  distinct_words  lexical_richness  \\\n",
       "0       13290   2288            1469          0.642045   \n",
       "1       10506   1830            1104          0.603279   \n",
       "2        7569   1286             873          0.678849   \n",
       "3       10357   1780            1157          0.650000   \n",
       "4       16099   2746            1598          0.581937   \n",
       "\n",
       "                                           top_words  \\\n",
       "0  {'i': 99, 'w': 77, 'się': 59, 'z': 56, 'na': 5...   \n",
       "1  {'i': 91, 'w': 63, 'się': 62, 'z': 45, 'na': 3...   \n",
       "2  {'w': 52, 'i': 47, 'się': 37, 'z': 28, 'na': 1...   \n",
       "3  {'w': 70, 'i': 68, 'się': 46, 'z': 44, 'na': 2...   \n",
       "4  {'i': 96, 'w': 85, 'się': 70, 'z': 48, 'na': 4...   \n",
       "\n",
       "                                         hapax_words  total_hapax_words  \\\n",
       "0  gasnące, łodydze, zapadnięte, niebu, podłóg, p...               1246   \n",
       "1  żądanie, gorsetów, posiadało, kominie, nieprzy...                926   \n",
       "2  napełniać, wskazującymi, przeciwny, jeden, ist...                749   \n",
       "3  sam, trzepotów, tygodnie, świat, głodzie, zgry...                982   \n",
       "4  niedościgłej, dookoła, upajające, pedanterią, ...               1322   \n",
       "\n",
       "                                        colloc_words  \n",
       "0  ciotka agata, dni letnich, jak gdyby, zdawało ...  \n",
       "1  przez chwilę, mego ojca, nie patrząc, gniew bo...  \n",
       "2  górnych regionach, lamp wiszących, trzepiąc rę...  \n",
       "3  mój ojciec, godne uwagi, treści więcej, mego o...  \n",
       "4  moje panie, mój ojciec, ojciec mój, spuszczony...  "
      ]
     },
     "execution_count": 249,
     "metadata": {},
     "output_type": "execute_result"
    }
   ],
   "source": [
    "df.head() #before processing"
   ]
  },
  {
   "cell_type": "code",
   "execution_count": 250,
   "metadata": {},
   "outputs": [
    {
     "data": {
      "text/html": [
       "<div>\n",
       "<style scoped>\n",
       "    .dataframe tbody tr th:only-of-type {\n",
       "        vertical-align: middle;\n",
       "    }\n",
       "\n",
       "    .dataframe tbody tr th {\n",
       "        vertical-align: top;\n",
       "    }\n",
       "\n",
       "    .dataframe thead th {\n",
       "        text-align: right;\n",
       "    }\n",
       "</style>\n",
       "<table border=\"1\" class=\"dataframe\">\n",
       "  <thead>\n",
       "    <tr style=\"text-align: right;\">\n",
       "      <th></th>\n",
       "      <th>full_length</th>\n",
       "      <th>length</th>\n",
       "      <th>keystrokes</th>\n",
       "      <th>words</th>\n",
       "      <th>distinct_words</th>\n",
       "      <th>lexical_richness</th>\n",
       "      <th>total_hapax_words</th>\n",
       "    </tr>\n",
       "  </thead>\n",
       "  <tbody>\n",
       "    <tr>\n",
       "      <th>count</th>\n",
       "      <td>26.000000</td>\n",
       "      <td>26.000000</td>\n",
       "      <td>26.000000</td>\n",
       "      <td>26.000000</td>\n",
       "      <td>26.000000</td>\n",
       "      <td>26.000000</td>\n",
       "      <td>26.000000</td>\n",
       "    </tr>\n",
       "    <tr>\n",
       "      <th>mean</th>\n",
       "      <td>14991.576923</td>\n",
       "      <td>14595.038462</td>\n",
       "      <td>12441.153846</td>\n",
       "      <td>2162.346154</td>\n",
       "      <td>1289.923077</td>\n",
       "      <td>0.614668</td>\n",
       "      <td>1071.269231</td>\n",
       "    </tr>\n",
       "    <tr>\n",
       "      <th>std</th>\n",
       "      <td>7574.573673</td>\n",
       "      <td>7369.332162</td>\n",
       "      <td>6286.614852</td>\n",
       "      <td>1086.463361</td>\n",
       "      <td>565.389489</td>\n",
       "      <td>0.045469</td>\n",
       "      <td>453.786783</td>\n",
       "    </tr>\n",
       "    <tr>\n",
       "      <th>min</th>\n",
       "      <td>4469.000000</td>\n",
       "      <td>4323.000000</td>\n",
       "      <td>3625.000000</td>\n",
       "      <td>701.000000</td>\n",
       "      <td>449.000000</td>\n",
       "      <td>0.535849</td>\n",
       "      <td>375.000000</td>\n",
       "    </tr>\n",
       "    <tr>\n",
       "      <th>25%</th>\n",
       "      <td>9444.500000</td>\n",
       "      <td>9198.250000</td>\n",
       "      <td>7852.250000</td>\n",
       "      <td>1343.000000</td>\n",
       "      <td>894.000000</td>\n",
       "      <td>0.571548</td>\n",
       "      <td>760.250000</td>\n",
       "    </tr>\n",
       "    <tr>\n",
       "      <th>50%</th>\n",
       "      <td>13081.500000</td>\n",
       "      <td>12756.500000</td>\n",
       "      <td>10833.500000</td>\n",
       "      <td>1910.000000</td>\n",
       "      <td>1151.500000</td>\n",
       "      <td>0.618270</td>\n",
       "      <td>966.000000</td>\n",
       "    </tr>\n",
       "    <tr>\n",
       "      <th>75%</th>\n",
       "      <td>20688.000000</td>\n",
       "      <td>20135.000000</td>\n",
       "      <td>17245.500000</td>\n",
       "      <td>2926.000000</td>\n",
       "      <td>1732.000000</td>\n",
       "      <td>0.648977</td>\n",
       "      <td>1420.250000</td>\n",
       "    </tr>\n",
       "    <tr>\n",
       "      <th>max</th>\n",
       "      <td>32553.000000</td>\n",
       "      <td>31652.000000</td>\n",
       "      <td>26855.000000</td>\n",
       "      <td>4770.000000</td>\n",
       "      <td>2556.000000</td>\n",
       "      <td>0.687982</td>\n",
       "      <td>2067.000000</td>\n",
       "    </tr>\n",
       "  </tbody>\n",
       "</table>\n",
       "</div>"
      ],
      "text/plain": [
       "        full_length        length    keystrokes        words  distinct_words  \\\n",
       "count     26.000000     26.000000     26.000000    26.000000       26.000000   \n",
       "mean   14991.576923  14595.038462  12441.153846  2162.346154     1289.923077   \n",
       "std     7574.573673   7369.332162   6286.614852  1086.463361      565.389489   \n",
       "min     4469.000000   4323.000000   3625.000000   701.000000      449.000000   \n",
       "25%     9444.500000   9198.250000   7852.250000  1343.000000      894.000000   \n",
       "50%    13081.500000  12756.500000  10833.500000  1910.000000     1151.500000   \n",
       "75%    20688.000000  20135.000000  17245.500000  2926.000000     1732.000000   \n",
       "max    32553.000000  31652.000000  26855.000000  4770.000000     2556.000000   \n",
       "\n",
       "       lexical_richness  total_hapax_words  \n",
       "count         26.000000          26.000000  \n",
       "mean           0.614668        1071.269231  \n",
       "std            0.045469         453.786783  \n",
       "min            0.535849         375.000000  \n",
       "25%            0.571548         760.250000  \n",
       "50%            0.618270         966.000000  \n",
       "75%            0.648977        1420.250000  \n",
       "max            0.687982        2067.000000  "
      ]
     },
     "execution_count": 250,
     "metadata": {},
     "output_type": "execute_result"
    }
   ],
   "source": [
    "df.describe()"
   ]
  },
  {
   "cell_type": "code",
   "execution_count": 251,
   "metadata": {},
   "outputs": [],
   "source": [
    "df['text_polish'] = df['text_polish'].apply(lambda t: remove_stopwords(t, polish_stopwords))"
   ]
  },
  {
   "cell_type": "code",
   "execution_count": 252,
   "metadata": {},
   "outputs": [
    {
     "data": {
      "text/plain": [
       "'sierpień 1 lipcu ojciec wyjeżdżał wód zostawiał matką starszym bratem pastwę białych żaru oszołamiających dni letnich wertowaliśmy odurzeni światłem wielkiej księdze wakacji karty pałały blasku miały dnie słodki omdlenia miąższ złotych gruszek adela wracała świetliste poranki pomona ognia dnia rozżagwionego wysypując koszyka barwną urodę słońca lśniące pełne wody przejrzystą skórką czereśnie tajemnicze czarne wiśnie woń przekraczała ziszczało smaku morele miąższu złotym rdzeń długich popołudni czystej poezji owoców wyładowywała nabrzmiałe siłą pożywnością płaty mięsa klawiaturą żeber cielęcych wodorosty jarzyn niby zabite głowonogi meduzy surowy materiał obiadu smaku uformowanym jałowym wegetatywne telluryczne ingrediencje obiadu zapachu dzikim polnym ciemne mieszkanie pierwszym piętrze kamienicy rynku przechodziło dzień wskroś całe wielkie lato cisza drgających słojów powietrznych kwadraty blasku śniące żarliwy sen podłodze melodia katarynki dobyta najgłębszej złotej żyły dnia trzy takty refrenu granego fortepianie wciąż nowo mdlejące słońcu białych trotuarach zagubione ogniu dnia głębokiego sprzątaniu adela zapuszczała cień pokoje zasuwając płócienne story barwy schodziły oktawę głębiej pokój napełniał cieniem pogrążony światło głębi morskiej mętniej odbity zielonych zwierciadłach upał dnia oddychał storach lekko falujących marzeń południowej godziny sobotnie popołudnia wychodziłem matką spacer półmroku sieni wstępowało razu słoneczną kąpiel dnia przechodnie brodząc złocie '"
      ]
     },
     "execution_count": 252,
     "metadata": {},
     "output_type": "execute_result"
    }
   ],
   "source": [
    "df.text_polish[0][0:1500] #after removing stopwords"
   ]
  },
  {
   "cell_type": "code",
   "execution_count": 253,
   "metadata": {},
   "outputs": [],
   "source": [
    "df['top_words'], df['hapax_words'], df['total_hapax_words'], df['colloc_words'] = zip(*df['text_polish'].map(lambda p: advanced_stats(p, 10, 10)))"
   ]
  },
  {
   "cell_type": "markdown",
   "metadata": {},
   "source": [
    "There are now fewer hapax words, the lexical richness is lower and the top words are no longer articles."
   ]
  },
  {
   "cell_type": "code",
   "execution_count": 254,
   "metadata": {},
   "outputs": [
    {
     "data": {
      "text/html": [
       "<div>\n",
       "<style scoped>\n",
       "    .dataframe tbody tr th:only-of-type {\n",
       "        vertical-align: middle;\n",
       "    }\n",
       "\n",
       "    .dataframe tbody tr th {\n",
       "        vertical-align: top;\n",
       "    }\n",
       "\n",
       "    .dataframe thead th {\n",
       "        text-align: right;\n",
       "    }\n",
       "</style>\n",
       "<table border=\"1\" class=\"dataframe\">\n",
       "  <thead>\n",
       "    <tr style=\"text-align: right;\">\n",
       "      <th></th>\n",
       "      <th>book</th>\n",
       "      <th>story_title</th>\n",
       "      <th>text_polish</th>\n",
       "      <th>full_length</th>\n",
       "      <th>length</th>\n",
       "      <th>keystrokes</th>\n",
       "      <th>words</th>\n",
       "      <th>distinct_words</th>\n",
       "      <th>lexical_richness</th>\n",
       "      <th>top_words</th>\n",
       "      <th>hapax_words</th>\n",
       "      <th>total_hapax_words</th>\n",
       "      <th>colloc_words</th>\n",
       "    </tr>\n",
       "  </thead>\n",
       "  <tbody>\n",
       "    <tr>\n",
       "      <th>0</th>\n",
       "      <td>Sklepy Cynamonowe</td>\n",
       "      <td>Sierpień</td>\n",
       "      <td>sierpień 1 lipcu ojciec wyjeżdżał wód zostawia...</td>\n",
       "      <td>15980</td>\n",
       "      <td>15556</td>\n",
       "      <td>13290</td>\n",
       "      <td>2288</td>\n",
       "      <td>1469</td>\n",
       "      <td>0.642045</td>\n",
       "      <td>{'dnia': 9, 'twarzy': 6, 'żaru': 5, 'zdawało':...</td>\n",
       "      <td>sekretach, śmieci, upał, świadkowie, składa, m...</td>\n",
       "      <td>1210</td>\n",
       "      <td>rynek pusty, wciąż nowo, ciotka agata, dni let...</td>\n",
       "    </tr>\n",
       "    <tr>\n",
       "      <th>1</th>\n",
       "      <td>Sklepy Cynamonowe</td>\n",
       "      <td>Nawiedzenie</td>\n",
       "      <td>nawiedzenie 1 wówczas miasto popadało coraz ch...</td>\n",
       "      <td>12601</td>\n",
       "      <td>12295</td>\n",
       "      <td>10506</td>\n",
       "      <td>1830</td>\n",
       "      <td>1104</td>\n",
       "      <td>0.603279</td>\n",
       "      <td>{'nocy': 7, 'ojciec': 7, 'wówczas': 6, 'wśród'...</td>\n",
       "      <td>pewnej, schody, każdego, wracało, kanapie, syn...</td>\n",
       "      <td>888</td>\n",
       "      <td>mego ojca, gniew boży, pogrążonym zawiłych, uk...</td>\n",
       "    </tr>\n",
       "    <tr>\n",
       "      <th>2</th>\n",
       "      <td>Sklepy Cynamonowe</td>\n",
       "      <td>Ptaki</td>\n",
       "      <td>ptaki nadeszły żółte pełne nudy dni zimowe zru...</td>\n",
       "      <td>9081</td>\n",
       "      <td>8851</td>\n",
       "      <td>7569</td>\n",
       "      <td>1286</td>\n",
       "      <td>873</td>\n",
       "      <td>0.678849</td>\n",
       "      <td>{'ojciec': 8, 'ojca': 8, 'adela': 5, 'pokoju':...</td>\n",
       "      <td>śmiałymi, dochodził, barwną, łaskotanie, śledz...</td>\n",
       "      <td>704</td>\n",
       "      <td>górnych regionach, lamp wiszących, trzepiąc rę...</td>\n",
       "    </tr>\n",
       "    <tr>\n",
       "      <th>3</th>\n",
       "      <td>Sklepy Cynamonowe</td>\n",
       "      <td>Manekiny</td>\n",
       "      <td>manekiny ptasia impreza mego ojca ostatnim wyb...</td>\n",
       "      <td>12420</td>\n",
       "      <td>12126</td>\n",
       "      <td>10357</td>\n",
       "      <td>1780</td>\n",
       "      <td>1157</td>\n",
       "      <td>0.650000</td>\n",
       "      <td>{'ojciec': 8, 'pokoju': 6, 'adela': 6, 'adeli'...</td>\n",
       "      <td>rozbijające, wszystkimi, znaczenia, jęły, ptas...</td>\n",
       "      <td>937</td>\n",
       "      <td>godne uwagi, polda paulina, matka mogła, mego ...</td>\n",
       "    </tr>\n",
       "    <tr>\n",
       "      <th>4</th>\n",
       "      <td>Sklepy Cynamonowe</td>\n",
       "      <td>Traktat o Manekinach albo Wtórna Księga Rodzaju</td>\n",
       "      <td>traktat manekinach wtórna księga rodzaju – dem...</td>\n",
       "      <td>19473</td>\n",
       "      <td>18893</td>\n",
       "      <td>16099</td>\n",
       "      <td>2746</td>\n",
       "      <td>1598</td>\n",
       "      <td>0.581937</td>\n",
       "      <td>{'ojciec': 22, 'materii': 13, 'mówił': 10, 'ży...</td>\n",
       "      <td>zamordowanej, wygarbowana, śmiesznym, wraz, pa...</td>\n",
       "      <td>1281</td>\n",
       "      <td>spuszczonymi oczyma, mówił ojciec, ciągnął dal...</td>\n",
       "    </tr>\n",
       "  </tbody>\n",
       "</table>\n",
       "</div>"
      ],
      "text/plain": [
       "                book                                      story_title  \\\n",
       "0  Sklepy Cynamonowe                                         Sierpień   \n",
       "1  Sklepy Cynamonowe                                      Nawiedzenie   \n",
       "2  Sklepy Cynamonowe                                            Ptaki   \n",
       "3  Sklepy Cynamonowe                                         Manekiny   \n",
       "4  Sklepy Cynamonowe  Traktat o Manekinach albo Wtórna Księga Rodzaju   \n",
       "\n",
       "                                         text_polish  full_length  length  \\\n",
       "0  sierpień 1 lipcu ojciec wyjeżdżał wód zostawia...        15980   15556   \n",
       "1  nawiedzenie 1 wówczas miasto popadało coraz ch...        12601   12295   \n",
       "2  ptaki nadeszły żółte pełne nudy dni zimowe zru...         9081    8851   \n",
       "3  manekiny ptasia impreza mego ojca ostatnim wyb...        12420   12126   \n",
       "4  traktat manekinach wtórna księga rodzaju – dem...        19473   18893   \n",
       "\n",
       "   keystrokes  words  distinct_words  lexical_richness  \\\n",
       "0       13290   2288            1469          0.642045   \n",
       "1       10506   1830            1104          0.603279   \n",
       "2        7569   1286             873          0.678849   \n",
       "3       10357   1780            1157          0.650000   \n",
       "4       16099   2746            1598          0.581937   \n",
       "\n",
       "                                           top_words  \\\n",
       "0  {'dnia': 9, 'twarzy': 6, 'żaru': 5, 'zdawało':...   \n",
       "1  {'nocy': 7, 'ojciec': 7, 'wówczas': 6, 'wśród'...   \n",
       "2  {'ojciec': 8, 'ojca': 8, 'adela': 5, 'pokoju':...   \n",
       "3  {'ojciec': 8, 'pokoju': 6, 'adela': 6, 'adeli'...   \n",
       "4  {'ojciec': 22, 'materii': 13, 'mówił': 10, 'ży...   \n",
       "\n",
       "                                         hapax_words  total_hapax_words  \\\n",
       "0  sekretach, śmieci, upał, świadkowie, składa, m...               1210   \n",
       "1  pewnej, schody, każdego, wracało, kanapie, syn...                888   \n",
       "2  śmiałymi, dochodził, barwną, łaskotanie, śledz...                704   \n",
       "3  rozbijające, wszystkimi, znaczenia, jęły, ptas...                937   \n",
       "4  zamordowanej, wygarbowana, śmiesznym, wraz, pa...               1281   \n",
       "\n",
       "                                        colloc_words  \n",
       "0  rynek pusty, wciąż nowo, ciotka agata, dni let...  \n",
       "1  mego ojca, gniew boży, pogrążonym zawiłych, uk...  \n",
       "2  górnych regionach, lamp wiszących, trzepiąc rę...  \n",
       "3  godne uwagi, polda paulina, matka mogła, mego ...  \n",
       "4  spuszczonymi oczyma, mówił ojciec, ciągnął dal...  "
      ]
     },
     "execution_count": 254,
     "metadata": {},
     "output_type": "execute_result"
    }
   ],
   "source": [
    "df.head() #after removing stopwords"
   ]
  },
  {
   "cell_type": "code",
   "execution_count": 255,
   "metadata": {},
   "outputs": [
    {
     "data": {
      "text/html": [
       "<div>\n",
       "<style scoped>\n",
       "    .dataframe tbody tr th:only-of-type {\n",
       "        vertical-align: middle;\n",
       "    }\n",
       "\n",
       "    .dataframe tbody tr th {\n",
       "        vertical-align: top;\n",
       "    }\n",
       "\n",
       "    .dataframe thead th {\n",
       "        text-align: right;\n",
       "    }\n",
       "</style>\n",
       "<table border=\"1\" class=\"dataframe\">\n",
       "  <thead>\n",
       "    <tr style=\"text-align: right;\">\n",
       "      <th></th>\n",
       "      <th>full_length</th>\n",
       "      <th>length</th>\n",
       "      <th>keystrokes</th>\n",
       "      <th>words</th>\n",
       "      <th>distinct_words</th>\n",
       "      <th>lexical_richness</th>\n",
       "      <th>total_hapax_words</th>\n",
       "    </tr>\n",
       "  </thead>\n",
       "  <tbody>\n",
       "    <tr>\n",
       "      <th>count</th>\n",
       "      <td>26.000000</td>\n",
       "      <td>26.000000</td>\n",
       "      <td>26.000000</td>\n",
       "      <td>26.000000</td>\n",
       "      <td>26.000000</td>\n",
       "      <td>26.000000</td>\n",
       "      <td>26.000000</td>\n",
       "    </tr>\n",
       "    <tr>\n",
       "      <th>mean</th>\n",
       "      <td>14991.576923</td>\n",
       "      <td>14595.038462</td>\n",
       "      <td>12441.153846</td>\n",
       "      <td>2162.346154</td>\n",
       "      <td>1289.923077</td>\n",
       "      <td>0.614668</td>\n",
       "      <td>1027.269231</td>\n",
       "    </tr>\n",
       "    <tr>\n",
       "      <th>std</th>\n",
       "      <td>7574.573673</td>\n",
       "      <td>7369.332162</td>\n",
       "      <td>6286.614852</td>\n",
       "      <td>1086.463361</td>\n",
       "      <td>565.389489</td>\n",
       "      <td>0.045469</td>\n",
       "      <td>451.645397</td>\n",
       "    </tr>\n",
       "    <tr>\n",
       "      <th>min</th>\n",
       "      <td>4469.000000</td>\n",
       "      <td>4323.000000</td>\n",
       "      <td>3625.000000</td>\n",
       "      <td>701.000000</td>\n",
       "      <td>449.000000</td>\n",
       "      <td>0.535849</td>\n",
       "      <td>330.000000</td>\n",
       "    </tr>\n",
       "    <tr>\n",
       "      <th>25%</th>\n",
       "      <td>9444.500000</td>\n",
       "      <td>9198.250000</td>\n",
       "      <td>7852.250000</td>\n",
       "      <td>1343.000000</td>\n",
       "      <td>894.000000</td>\n",
       "      <td>0.571548</td>\n",
       "      <td>712.750000</td>\n",
       "    </tr>\n",
       "    <tr>\n",
       "      <th>50%</th>\n",
       "      <td>13081.500000</td>\n",
       "      <td>12756.500000</td>\n",
       "      <td>10833.500000</td>\n",
       "      <td>1910.000000</td>\n",
       "      <td>1151.500000</td>\n",
       "      <td>0.618270</td>\n",
       "      <td>916.000000</td>\n",
       "    </tr>\n",
       "    <tr>\n",
       "      <th>75%</th>\n",
       "      <td>20688.000000</td>\n",
       "      <td>20135.000000</td>\n",
       "      <td>17245.500000</td>\n",
       "      <td>2926.000000</td>\n",
       "      <td>1732.000000</td>\n",
       "      <td>0.648977</td>\n",
       "      <td>1372.250000</td>\n",
       "    </tr>\n",
       "    <tr>\n",
       "      <th>max</th>\n",
       "      <td>32553.000000</td>\n",
       "      <td>31652.000000</td>\n",
       "      <td>26855.000000</td>\n",
       "      <td>4770.000000</td>\n",
       "      <td>2556.000000</td>\n",
       "      <td>0.687982</td>\n",
       "      <td>2014.000000</td>\n",
       "    </tr>\n",
       "  </tbody>\n",
       "</table>\n",
       "</div>"
      ],
      "text/plain": [
       "        full_length        length    keystrokes        words  distinct_words  \\\n",
       "count     26.000000     26.000000     26.000000    26.000000       26.000000   \n",
       "mean   14991.576923  14595.038462  12441.153846  2162.346154     1289.923077   \n",
       "std     7574.573673   7369.332162   6286.614852  1086.463361      565.389489   \n",
       "min     4469.000000   4323.000000   3625.000000   701.000000      449.000000   \n",
       "25%     9444.500000   9198.250000   7852.250000  1343.000000      894.000000   \n",
       "50%    13081.500000  12756.500000  10833.500000  1910.000000     1151.500000   \n",
       "75%    20688.000000  20135.000000  17245.500000  2926.000000     1732.000000   \n",
       "max    32553.000000  31652.000000  26855.000000  4770.000000     2556.000000   \n",
       "\n",
       "       lexical_richness  total_hapax_words  \n",
       "count         26.000000          26.000000  \n",
       "mean           0.614668        1027.269231  \n",
       "std            0.045469         451.645397  \n",
       "min            0.535849         330.000000  \n",
       "25%            0.571548         712.750000  \n",
       "50%            0.618270         916.000000  \n",
       "75%            0.648977        1372.250000  \n",
       "max            0.687982        2014.000000  "
      ]
     },
     "execution_count": 255,
     "metadata": {},
     "output_type": "execute_result"
    }
   ],
   "source": [
    "df.describe()"
   ]
  },
  {
   "cell_type": "code",
   "execution_count": 256,
   "metadata": {},
   "outputs": [],
   "source": [
    "df['top_words'], df['hapax_words'], df['total_hapax_words'], df['colloc_words'] = zip(*df['text_polish'].map(lambda p: advanced_stats(p, 10, 10, lemmat = True)))"
   ]
  },
  {
   "cell_type": "markdown",
   "metadata": {},
   "source": [
    "The top words for stories are now much more standardized."
   ]
  },
  {
   "cell_type": "code",
   "execution_count": 257,
   "metadata": {},
   "outputs": [
    {
     "data": {
      "text/html": [
       "<div>\n",
       "<style scoped>\n",
       "    .dataframe tbody tr th:only-of-type {\n",
       "        vertical-align: middle;\n",
       "    }\n",
       "\n",
       "    .dataframe tbody tr th {\n",
       "        vertical-align: top;\n",
       "    }\n",
       "\n",
       "    .dataframe thead th {\n",
       "        text-align: right;\n",
       "    }\n",
       "</style>\n",
       "<table border=\"1\" class=\"dataframe\">\n",
       "  <thead>\n",
       "    <tr style=\"text-align: right;\">\n",
       "      <th></th>\n",
       "      <th>book</th>\n",
       "      <th>story_title</th>\n",
       "      <th>text_polish</th>\n",
       "      <th>full_length</th>\n",
       "      <th>length</th>\n",
       "      <th>keystrokes</th>\n",
       "      <th>words</th>\n",
       "      <th>distinct_words</th>\n",
       "      <th>lexical_richness</th>\n",
       "      <th>top_words</th>\n",
       "      <th>hapax_words</th>\n",
       "      <th>total_hapax_words</th>\n",
       "      <th>colloc_words</th>\n",
       "    </tr>\n",
       "  </thead>\n",
       "  <tbody>\n",
       "    <tr>\n",
       "      <th>0</th>\n",
       "      <td>Sklepy Cynamonowe</td>\n",
       "      <td>Sierpień</td>\n",
       "      <td>sierpień 1 lipcu ojciec wyjeżdżał wód zostawia...</td>\n",
       "      <td>15980</td>\n",
       "      <td>15556</td>\n",
       "      <td>13290</td>\n",
       "      <td>2288</td>\n",
       "      <td>1469</td>\n",
       "      <td>0.642045</td>\n",
       "      <td>{'dzień': 19, 'twarz': 13, 'swój': 11, 'wielki...</td>\n",
       "      <td>utrzymywać, spod, płonić, eksplodować, jałowy,...</td>\n",
       "      <td>854</td>\n",
       "      <td>wciąż nowy, ciotka agata, drugi strona, rynka ...</td>\n",
       "    </tr>\n",
       "    <tr>\n",
       "      <th>1</th>\n",
       "      <td>Sklepy Cynamonowe</td>\n",
       "      <td>Nawiedzenie</td>\n",
       "      <td>nawiedzenie 1 wówczas miasto popadało coraz ch...</td>\n",
       "      <td>12601</td>\n",
       "      <td>12295</td>\n",
       "      <td>10506</td>\n",
       "      <td>1830</td>\n",
       "      <td>1104</td>\n",
       "      <td>0.603279</td>\n",
       "      <td>{'dzień': 18, 'ojciec': 13, 'noc': 11, 'wielki...</td>\n",
       "      <td>wskutek, wstrzymywać, łoże, obarczać, siły, mi...</td>\n",
       "      <td>634</td>\n",
       "      <td>cichy gaworzyć, godzina gęsty, mój ojciec, gni...</td>\n",
       "    </tr>\n",
       "    <tr>\n",
       "      <th>2</th>\n",
       "      <td>Sklepy Cynamonowe</td>\n",
       "      <td>Ptaki</td>\n",
       "      <td>ptaki nadeszły żółte pełne nudy dni zimowe zru...</td>\n",
       "      <td>9081</td>\n",
       "      <td>8851</td>\n",
       "      <td>7569</td>\n",
       "      <td>1286</td>\n",
       "      <td>873</td>\n",
       "      <td>0.678849</td>\n",
       "      <td>{'ojciec': 18, 'ptasi': 11, 'pokój': 9, 'swój'...</td>\n",
       "      <td>potem, jeść, zarosły, dziewczyna, węzeł, dłoń,...</td>\n",
       "      <td>567</td>\n",
       "      <td>górny region, lampić wisieć, trzepać ręka, reg...</td>\n",
       "    </tr>\n",
       "    <tr>\n",
       "      <th>3</th>\n",
       "      <td>Sklepy Cynamonowe</td>\n",
       "      <td>Manekiny</td>\n",
       "      <td>manekiny ptasia impreza mego ojca ostatnim wyb...</td>\n",
       "      <td>12420</td>\n",
       "      <td>12126</td>\n",
       "      <td>10357</td>\n",
       "      <td>1780</td>\n",
       "      <td>1157</td>\n",
       "      <td>0.650000</td>\n",
       "      <td>{'swój': 16, 'ojciec': 12, 'dzień': 11, 'pokój...</td>\n",
       "      <td>zarażać, błogo, zszarzały, nos, klucz, połykać...</td>\n",
       "      <td>703</td>\n",
       "      <td>noc zimowy, godny uwaga, polda paulin, otworzy...</td>\n",
       "    </tr>\n",
       "    <tr>\n",
       "      <th>4</th>\n",
       "      <td>Sklepy Cynamonowe</td>\n",
       "      <td>Traktat o Manekinach albo Wtórna Księga Rodzaju</td>\n",
       "      <td>traktat manekinach wtórna księga rodzaju – dem...</td>\n",
       "      <td>19473</td>\n",
       "      <td>18893</td>\n",
       "      <td>16099</td>\n",
       "      <td>2746</td>\n",
       "      <td>1598</td>\n",
       "      <td>0.581937</td>\n",
       "      <td>{'ojciec': 28, 'materia': 21, 'oko': 14, 'mówi...</td>\n",
       "      <td>porywać, buda, mądry, więzić, wypierać, impuls...</td>\n",
       "      <td>892</td>\n",
       "      <td>noc zimowy, biedny kuzynka, ciągnąć daleko, tł...</td>\n",
       "    </tr>\n",
       "  </tbody>\n",
       "</table>\n",
       "</div>"
      ],
      "text/plain": [
       "                book                                      story_title  \\\n",
       "0  Sklepy Cynamonowe                                         Sierpień   \n",
       "1  Sklepy Cynamonowe                                      Nawiedzenie   \n",
       "2  Sklepy Cynamonowe                                            Ptaki   \n",
       "3  Sklepy Cynamonowe                                         Manekiny   \n",
       "4  Sklepy Cynamonowe  Traktat o Manekinach albo Wtórna Księga Rodzaju   \n",
       "\n",
       "                                         text_polish  full_length  length  \\\n",
       "0  sierpień 1 lipcu ojciec wyjeżdżał wód zostawia...        15980   15556   \n",
       "1  nawiedzenie 1 wówczas miasto popadało coraz ch...        12601   12295   \n",
       "2  ptaki nadeszły żółte pełne nudy dni zimowe zru...         9081    8851   \n",
       "3  manekiny ptasia impreza mego ojca ostatnim wyb...        12420   12126   \n",
       "4  traktat manekinach wtórna księga rodzaju – dem...        19473   18893   \n",
       "\n",
       "   keystrokes  words  distinct_words  lexical_richness  \\\n",
       "0       13290   2288            1469          0.642045   \n",
       "1       10506   1830            1104          0.603279   \n",
       "2        7569   1286             873          0.678849   \n",
       "3       10357   1780            1157          0.650000   \n",
       "4       16099   2746            1598          0.581937   \n",
       "\n",
       "                                           top_words  \\\n",
       "0  {'dzień': 19, 'twarz': 13, 'swój': 11, 'wielki...   \n",
       "1  {'dzień': 18, 'ojciec': 13, 'noc': 11, 'wielki...   \n",
       "2  {'ojciec': 18, 'ptasi': 11, 'pokój': 9, 'swój'...   \n",
       "3  {'swój': 16, 'ojciec': 12, 'dzień': 11, 'pokój...   \n",
       "4  {'ojciec': 28, 'materia': 21, 'oko': 14, 'mówi...   \n",
       "\n",
       "                                         hapax_words  total_hapax_words  \\\n",
       "0  utrzymywać, spod, płonić, eksplodować, jałowy,...                854   \n",
       "1  wskutek, wstrzymywać, łoże, obarczać, siły, mi...                634   \n",
       "2  potem, jeść, zarosły, dziewczyna, węzeł, dłoń,...                567   \n",
       "3  zarażać, błogo, zszarzały, nos, klucz, połykać...                703   \n",
       "4  porywać, buda, mądry, więzić, wypierać, impuls...                892   \n",
       "\n",
       "                                        colloc_words  \n",
       "0  wciąż nowy, ciotka agata, drugi strona, rynka ...  \n",
       "1  cichy gaworzyć, godzina gęsty, mój ojciec, gni...  \n",
       "2  górny region, lampić wisieć, trzepać ręka, reg...  \n",
       "3  noc zimowy, godny uwaga, polda paulin, otworzy...  \n",
       "4  noc zimowy, biedny kuzynka, ciągnąć daleko, tł...  "
      ]
     },
     "execution_count": 257,
     "metadata": {},
     "output_type": "execute_result"
    }
   ],
   "source": [
    "df.head()"
   ]
  },
  {
   "cell_type": "markdown",
   "metadata": {},
   "source": [
    "### Plotting Differences Across Stories"
   ]
  },
  {
   "cell_type": "code",
   "execution_count": 258,
   "metadata": {},
   "outputs": [
    {
     "data": {
      "application/vnd.plotly.v1+json": {
       "config": {
        "plotlyServerURL": "https://plot.ly"
       },
       "data": [
        {
         "alignmentgroup": "True",
         "hoverlabel": {
          "namelength": 0
         },
         "hovertemplate": "book=Sklepy Cynamonowe<br>story_title=%{x}<br>words=%{y}",
         "legendgroup": "book=Sklepy Cynamonowe",
         "marker": {
          "color": "#636efa"
         },
         "name": "book=Sklepy Cynamonowe",
         "offsetgroup": "book=Sklepy Cynamonowe",
         "orientation": "v",
         "showlegend": true,
         "textposition": "auto",
         "type": "bar",
         "x": [
          "Sierpień",
          "Nawiedzenie",
          "Ptaki",
          "Manekiny",
          "Traktat o Manekinach albo Wtórna Księga Rodzaju",
          "Nemrod",
          "Pan",
          "Pan Karol",
          "Sklepy Cynamonowe",
          "Ulica Krokodyli",
          "Karakony",
          "Wichura",
          "Noc Wielkiego Sezonu"
         ],
         "xaxis": "x",
         "y": [
          2288,
          1830,
          1286,
          1780,
          2746,
          1051,
          907,
          819,
          2986,
          2646,
          1124,
          1601,
          3132
         ],
         "yaxis": "y"
        },
        {
         "alignmentgroup": "True",
         "hoverlabel": {
          "namelength": 0
         },
         "hovertemplate": "book=Sanatorium Pod Klepysdrą<br>story_title=%{x}<br>words=%{y}",
         "legendgroup": "book=Sanatorium Pod Klepysdrą",
         "marker": {
          "color": "#EF553B"
         },
         "name": "book=Sanatorium Pod Klepysdrą",
         "offsetgroup": "book=Sanatorium Pod Klepysdrą",
         "orientation": "v",
         "showlegend": true,
         "textposition": "auto",
         "type": "bar",
         "x": [
          "Księga",
          "Genialna Epoka ",
          "Wiosna",
          "Noc lipcowa",
          "Mój ojciec wstępuje do strażaków",
          "Druga jesień",
          "Martwy sezon",
          "Sanatorium pod Klepsydrą",
          "Dodo",
          "Edzio",
          "Emeryt",
          "Samotność",
          "Ostatnia ucieczka ojca"
         ],
         "xaxis": "x",
         "y": [
          3560,
          3165,
          3258,
          1724,
          1990,
          1150,
          4431,
          1514,
          2112,
          2079,
          4770,
          701,
          1571
         ],
         "yaxis": "y"
        }
       ],
       "layout": {
        "barmode": "relative",
        "legend": {
         "tracegroupgap": 0
        },
        "margin": {
         "t": 60
        },
        "template": {
         "data": {
          "bar": [
           {
            "error_x": {
             "color": "#2a3f5f"
            },
            "error_y": {
             "color": "#2a3f5f"
            },
            "marker": {
             "line": {
              "color": "#E5ECF6",
              "width": 0.5
             }
            },
            "type": "bar"
           }
          ],
          "barpolar": [
           {
            "marker": {
             "line": {
              "color": "#E5ECF6",
              "width": 0.5
             }
            },
            "type": "barpolar"
           }
          ],
          "carpet": [
           {
            "aaxis": {
             "endlinecolor": "#2a3f5f",
             "gridcolor": "white",
             "linecolor": "white",
             "minorgridcolor": "white",
             "startlinecolor": "#2a3f5f"
            },
            "baxis": {
             "endlinecolor": "#2a3f5f",
             "gridcolor": "white",
             "linecolor": "white",
             "minorgridcolor": "white",
             "startlinecolor": "#2a3f5f"
            },
            "type": "carpet"
           }
          ],
          "choropleth": [
           {
            "colorbar": {
             "outlinewidth": 0,
             "ticks": ""
            },
            "type": "choropleth"
           }
          ],
          "contour": [
           {
            "colorbar": {
             "outlinewidth": 0,
             "ticks": ""
            },
            "colorscale": [
             [
              0,
              "#0d0887"
             ],
             [
              0.1111111111111111,
              "#46039f"
             ],
             [
              0.2222222222222222,
              "#7201a8"
             ],
             [
              0.3333333333333333,
              "#9c179e"
             ],
             [
              0.4444444444444444,
              "#bd3786"
             ],
             [
              0.5555555555555556,
              "#d8576b"
             ],
             [
              0.6666666666666666,
              "#ed7953"
             ],
             [
              0.7777777777777778,
              "#fb9f3a"
             ],
             [
              0.8888888888888888,
              "#fdca26"
             ],
             [
              1,
              "#f0f921"
             ]
            ],
            "type": "contour"
           }
          ],
          "contourcarpet": [
           {
            "colorbar": {
             "outlinewidth": 0,
             "ticks": ""
            },
            "type": "contourcarpet"
           }
          ],
          "heatmap": [
           {
            "colorbar": {
             "outlinewidth": 0,
             "ticks": ""
            },
            "colorscale": [
             [
              0,
              "#0d0887"
             ],
             [
              0.1111111111111111,
              "#46039f"
             ],
             [
              0.2222222222222222,
              "#7201a8"
             ],
             [
              0.3333333333333333,
              "#9c179e"
             ],
             [
              0.4444444444444444,
              "#bd3786"
             ],
             [
              0.5555555555555556,
              "#d8576b"
             ],
             [
              0.6666666666666666,
              "#ed7953"
             ],
             [
              0.7777777777777778,
              "#fb9f3a"
             ],
             [
              0.8888888888888888,
              "#fdca26"
             ],
             [
              1,
              "#f0f921"
             ]
            ],
            "type": "heatmap"
           }
          ],
          "heatmapgl": [
           {
            "colorbar": {
             "outlinewidth": 0,
             "ticks": ""
            },
            "colorscale": [
             [
              0,
              "#0d0887"
             ],
             [
              0.1111111111111111,
              "#46039f"
             ],
             [
              0.2222222222222222,
              "#7201a8"
             ],
             [
              0.3333333333333333,
              "#9c179e"
             ],
             [
              0.4444444444444444,
              "#bd3786"
             ],
             [
              0.5555555555555556,
              "#d8576b"
             ],
             [
              0.6666666666666666,
              "#ed7953"
             ],
             [
              0.7777777777777778,
              "#fb9f3a"
             ],
             [
              0.8888888888888888,
              "#fdca26"
             ],
             [
              1,
              "#f0f921"
             ]
            ],
            "type": "heatmapgl"
           }
          ],
          "histogram": [
           {
            "marker": {
             "colorbar": {
              "outlinewidth": 0,
              "ticks": ""
             }
            },
            "type": "histogram"
           }
          ],
          "histogram2d": [
           {
            "colorbar": {
             "outlinewidth": 0,
             "ticks": ""
            },
            "colorscale": [
             [
              0,
              "#0d0887"
             ],
             [
              0.1111111111111111,
              "#46039f"
             ],
             [
              0.2222222222222222,
              "#7201a8"
             ],
             [
              0.3333333333333333,
              "#9c179e"
             ],
             [
              0.4444444444444444,
              "#bd3786"
             ],
             [
              0.5555555555555556,
              "#d8576b"
             ],
             [
              0.6666666666666666,
              "#ed7953"
             ],
             [
              0.7777777777777778,
              "#fb9f3a"
             ],
             [
              0.8888888888888888,
              "#fdca26"
             ],
             [
              1,
              "#f0f921"
             ]
            ],
            "type": "histogram2d"
           }
          ],
          "histogram2dcontour": [
           {
            "colorbar": {
             "outlinewidth": 0,
             "ticks": ""
            },
            "colorscale": [
             [
              0,
              "#0d0887"
             ],
             [
              0.1111111111111111,
              "#46039f"
             ],
             [
              0.2222222222222222,
              "#7201a8"
             ],
             [
              0.3333333333333333,
              "#9c179e"
             ],
             [
              0.4444444444444444,
              "#bd3786"
             ],
             [
              0.5555555555555556,
              "#d8576b"
             ],
             [
              0.6666666666666666,
              "#ed7953"
             ],
             [
              0.7777777777777778,
              "#fb9f3a"
             ],
             [
              0.8888888888888888,
              "#fdca26"
             ],
             [
              1,
              "#f0f921"
             ]
            ],
            "type": "histogram2dcontour"
           }
          ],
          "mesh3d": [
           {
            "colorbar": {
             "outlinewidth": 0,
             "ticks": ""
            },
            "type": "mesh3d"
           }
          ],
          "parcoords": [
           {
            "line": {
             "colorbar": {
              "outlinewidth": 0,
              "ticks": ""
             }
            },
            "type": "parcoords"
           }
          ],
          "pie": [
           {
            "automargin": true,
            "type": "pie"
           }
          ],
          "scatter": [
           {
            "marker": {
             "colorbar": {
              "outlinewidth": 0,
              "ticks": ""
             }
            },
            "type": "scatter"
           }
          ],
          "scatter3d": [
           {
            "line": {
             "colorbar": {
              "outlinewidth": 0,
              "ticks": ""
             }
            },
            "marker": {
             "colorbar": {
              "outlinewidth": 0,
              "ticks": ""
             }
            },
            "type": "scatter3d"
           }
          ],
          "scattercarpet": [
           {
            "marker": {
             "colorbar": {
              "outlinewidth": 0,
              "ticks": ""
             }
            },
            "type": "scattercarpet"
           }
          ],
          "scattergeo": [
           {
            "marker": {
             "colorbar": {
              "outlinewidth": 0,
              "ticks": ""
             }
            },
            "type": "scattergeo"
           }
          ],
          "scattergl": [
           {
            "marker": {
             "colorbar": {
              "outlinewidth": 0,
              "ticks": ""
             }
            },
            "type": "scattergl"
           }
          ],
          "scattermapbox": [
           {
            "marker": {
             "colorbar": {
              "outlinewidth": 0,
              "ticks": ""
             }
            },
            "type": "scattermapbox"
           }
          ],
          "scatterpolar": [
           {
            "marker": {
             "colorbar": {
              "outlinewidth": 0,
              "ticks": ""
             }
            },
            "type": "scatterpolar"
           }
          ],
          "scatterpolargl": [
           {
            "marker": {
             "colorbar": {
              "outlinewidth": 0,
              "ticks": ""
             }
            },
            "type": "scatterpolargl"
           }
          ],
          "scatterternary": [
           {
            "marker": {
             "colorbar": {
              "outlinewidth": 0,
              "ticks": ""
             }
            },
            "type": "scatterternary"
           }
          ],
          "surface": [
           {
            "colorbar": {
             "outlinewidth": 0,
             "ticks": ""
            },
            "colorscale": [
             [
              0,
              "#0d0887"
             ],
             [
              0.1111111111111111,
              "#46039f"
             ],
             [
              0.2222222222222222,
              "#7201a8"
             ],
             [
              0.3333333333333333,
              "#9c179e"
             ],
             [
              0.4444444444444444,
              "#bd3786"
             ],
             [
              0.5555555555555556,
              "#d8576b"
             ],
             [
              0.6666666666666666,
              "#ed7953"
             ],
             [
              0.7777777777777778,
              "#fb9f3a"
             ],
             [
              0.8888888888888888,
              "#fdca26"
             ],
             [
              1,
              "#f0f921"
             ]
            ],
            "type": "surface"
           }
          ],
          "table": [
           {
            "cells": {
             "fill": {
              "color": "#EBF0F8"
             },
             "line": {
              "color": "white"
             }
            },
            "header": {
             "fill": {
              "color": "#C8D4E3"
             },
             "line": {
              "color": "white"
             }
            },
            "type": "table"
           }
          ]
         },
         "layout": {
          "annotationdefaults": {
           "arrowcolor": "#2a3f5f",
           "arrowhead": 0,
           "arrowwidth": 1
          },
          "coloraxis": {
           "colorbar": {
            "outlinewidth": 0,
            "ticks": ""
           }
          },
          "colorscale": {
           "diverging": [
            [
             0,
             "#8e0152"
            ],
            [
             0.1,
             "#c51b7d"
            ],
            [
             0.2,
             "#de77ae"
            ],
            [
             0.3,
             "#f1b6da"
            ],
            [
             0.4,
             "#fde0ef"
            ],
            [
             0.5,
             "#f7f7f7"
            ],
            [
             0.6,
             "#e6f5d0"
            ],
            [
             0.7,
             "#b8e186"
            ],
            [
             0.8,
             "#7fbc41"
            ],
            [
             0.9,
             "#4d9221"
            ],
            [
             1,
             "#276419"
            ]
           ],
           "sequential": [
            [
             0,
             "#0d0887"
            ],
            [
             0.1111111111111111,
             "#46039f"
            ],
            [
             0.2222222222222222,
             "#7201a8"
            ],
            [
             0.3333333333333333,
             "#9c179e"
            ],
            [
             0.4444444444444444,
             "#bd3786"
            ],
            [
             0.5555555555555556,
             "#d8576b"
            ],
            [
             0.6666666666666666,
             "#ed7953"
            ],
            [
             0.7777777777777778,
             "#fb9f3a"
            ],
            [
             0.8888888888888888,
             "#fdca26"
            ],
            [
             1,
             "#f0f921"
            ]
           ],
           "sequentialminus": [
            [
             0,
             "#0d0887"
            ],
            [
             0.1111111111111111,
             "#46039f"
            ],
            [
             0.2222222222222222,
             "#7201a8"
            ],
            [
             0.3333333333333333,
             "#9c179e"
            ],
            [
             0.4444444444444444,
             "#bd3786"
            ],
            [
             0.5555555555555556,
             "#d8576b"
            ],
            [
             0.6666666666666666,
             "#ed7953"
            ],
            [
             0.7777777777777778,
             "#fb9f3a"
            ],
            [
             0.8888888888888888,
             "#fdca26"
            ],
            [
             1,
             "#f0f921"
            ]
           ]
          },
          "colorway": [
           "#636efa",
           "#EF553B",
           "#00cc96",
           "#ab63fa",
           "#FFA15A",
           "#19d3f3",
           "#FF6692",
           "#B6E880",
           "#FF97FF",
           "#FECB52"
          ],
          "font": {
           "color": "#2a3f5f"
          },
          "geo": {
           "bgcolor": "white",
           "lakecolor": "white",
           "landcolor": "#E5ECF6",
           "showlakes": true,
           "showland": true,
           "subunitcolor": "white"
          },
          "hoverlabel": {
           "align": "left"
          },
          "hovermode": "closest",
          "mapbox": {
           "style": "light"
          },
          "paper_bgcolor": "white",
          "plot_bgcolor": "#E5ECF6",
          "polar": {
           "angularaxis": {
            "gridcolor": "white",
            "linecolor": "white",
            "ticks": ""
           },
           "bgcolor": "#E5ECF6",
           "radialaxis": {
            "gridcolor": "white",
            "linecolor": "white",
            "ticks": ""
           }
          },
          "scene": {
           "xaxis": {
            "backgroundcolor": "#E5ECF6",
            "gridcolor": "white",
            "gridwidth": 2,
            "linecolor": "white",
            "showbackground": true,
            "ticks": "",
            "zerolinecolor": "white"
           },
           "yaxis": {
            "backgroundcolor": "#E5ECF6",
            "gridcolor": "white",
            "gridwidth": 2,
            "linecolor": "white",
            "showbackground": true,
            "ticks": "",
            "zerolinecolor": "white"
           },
           "zaxis": {
            "backgroundcolor": "#E5ECF6",
            "gridcolor": "white",
            "gridwidth": 2,
            "linecolor": "white",
            "showbackground": true,
            "ticks": "",
            "zerolinecolor": "white"
           }
          },
          "shapedefaults": {
           "line": {
            "color": "#2a3f5f"
           }
          },
          "ternary": {
           "aaxis": {
            "gridcolor": "white",
            "linecolor": "white",
            "ticks": ""
           },
           "baxis": {
            "gridcolor": "white",
            "linecolor": "white",
            "ticks": ""
           },
           "bgcolor": "#E5ECF6",
           "caxis": {
            "gridcolor": "white",
            "linecolor": "white",
            "ticks": ""
           }
          },
          "title": {
           "x": 0.05
          },
          "xaxis": {
           "automargin": true,
           "gridcolor": "white",
           "linecolor": "white",
           "ticks": "",
           "title": {
            "standoff": 15
           },
           "zerolinecolor": "white",
           "zerolinewidth": 2
          },
          "yaxis": {
           "automargin": true,
           "gridcolor": "white",
           "linecolor": "white",
           "ticks": "",
           "title": {
            "standoff": 15
           },
           "zerolinecolor": "white",
           "zerolinewidth": 2
          }
         }
        },
        "title": {
         "text": "Words by Story",
         "x": 0.4,
         "xanchor": "center",
         "y": 0.95,
         "yanchor": "top"
        },
        "xaxis": {
         "anchor": "y",
         "domain": [
          0,
          1
         ],
         "tickangle": 45,
         "tickfont": {
          "family": "Rockwell",
          "size": 10
         },
         "title": {
          "text": "Story Title"
         }
        },
        "yaxis": {
         "anchor": "x",
         "domain": [
          0,
          1
         ],
         "title": {
          "text": "Words"
         }
        }
       }
      },
      "text/html": [
       "<div>\n",
       "        \n",
       "        \n",
       "            <div id=\"f2dc59ed-a585-40bc-8b73-fd16b03a7479\" class=\"plotly-graph-div\" style=\"height:525px; width:100%;\"></div>\n",
       "            <script type=\"text/javascript\">\n",
       "                require([\"plotly\"], function(Plotly) {\n",
       "                    window.PLOTLYENV=window.PLOTLYENV || {};\n",
       "                    \n",
       "                if (document.getElementById(\"f2dc59ed-a585-40bc-8b73-fd16b03a7479\")) {\n",
       "                    Plotly.newPlot(\n",
       "                        'f2dc59ed-a585-40bc-8b73-fd16b03a7479',\n",
       "                        [{\"alignmentgroup\": \"True\", \"hoverlabel\": {\"namelength\": 0}, \"hovertemplate\": \"book=Sklepy Cynamonowe<br>story_title=%{x}<br>words=%{y}\", \"legendgroup\": \"book=Sklepy Cynamonowe\", \"marker\": {\"color\": \"#636efa\"}, \"name\": \"book=Sklepy Cynamonowe\", \"offsetgroup\": \"book=Sklepy Cynamonowe\", \"orientation\": \"v\", \"showlegend\": true, \"textposition\": \"auto\", \"type\": \"bar\", \"x\": [\"Sierpie\\u0144\", \"Nawiedzenie\", \"Ptaki\", \"Manekiny\", \"Traktat o Manekinach albo Wt\\u00f3rna Ksi\\u0119ga Rodzaju\", \"Nemrod\", \"Pan\", \"Pan Karol\", \"Sklepy Cynamonowe\", \"Ulica Krokodyli\", \"Karakony\", \"Wichura\", \"Noc Wielkiego Sezonu\"], \"xaxis\": \"x\", \"y\": [2288, 1830, 1286, 1780, 2746, 1051, 907, 819, 2986, 2646, 1124, 1601, 3132], \"yaxis\": \"y\"}, {\"alignmentgroup\": \"True\", \"hoverlabel\": {\"namelength\": 0}, \"hovertemplate\": \"book=Sanatorium Pod Klepysdr\\u0105<br>story_title=%{x}<br>words=%{y}\", \"legendgroup\": \"book=Sanatorium Pod Klepysdr\\u0105\", \"marker\": {\"color\": \"#EF553B\"}, \"name\": \"book=Sanatorium Pod Klepysdr\\u0105\", \"offsetgroup\": \"book=Sanatorium Pod Klepysdr\\u0105\", \"orientation\": \"v\", \"showlegend\": true, \"textposition\": \"auto\", \"type\": \"bar\", \"x\": [\"Ksi\\u0119ga\", \"Genialna Epoka \", \"Wiosna\", \"Noc lipcowa\", \"M\\u00f3j ojciec wst\\u0119puje do stra\\u017cak\\u00f3w\", \"Druga jesie\\u0144\", \"Martwy sezon\", \"Sanatorium pod Klepsydr\\u0105\", \"Dodo\", \"Edzio\", \"Emeryt\", \"Samotno\\u015b\\u0107\", \"Ostatnia ucieczka ojca\"], \"xaxis\": \"x\", \"y\": [3560, 3165, 3258, 1724, 1990, 1150, 4431, 1514, 2112, 2079, 4770, 701, 1571], \"yaxis\": \"y\"}],\n",
       "                        {\"barmode\": \"relative\", \"legend\": {\"tracegroupgap\": 0}, \"margin\": {\"t\": 60}, \"template\": {\"data\": {\"bar\": [{\"error_x\": {\"color\": \"#2a3f5f\"}, \"error_y\": {\"color\": \"#2a3f5f\"}, \"marker\": {\"line\": {\"color\": \"#E5ECF6\", \"width\": 0.5}}, \"type\": \"bar\"}], \"barpolar\": [{\"marker\": {\"line\": {\"color\": \"#E5ECF6\", \"width\": 0.5}}, \"type\": \"barpolar\"}], \"carpet\": [{\"aaxis\": {\"endlinecolor\": \"#2a3f5f\", \"gridcolor\": \"white\", \"linecolor\": \"white\", \"minorgridcolor\": \"white\", \"startlinecolor\": \"#2a3f5f\"}, \"baxis\": {\"endlinecolor\": \"#2a3f5f\", \"gridcolor\": \"white\", \"linecolor\": \"white\", \"minorgridcolor\": \"white\", \"startlinecolor\": \"#2a3f5f\"}, \"type\": \"carpet\"}], \"choropleth\": [{\"colorbar\": {\"outlinewidth\": 0, \"ticks\": \"\"}, \"type\": \"choropleth\"}], \"contour\": [{\"colorbar\": {\"outlinewidth\": 0, \"ticks\": \"\"}, \"colorscale\": [[0.0, \"#0d0887\"], [0.1111111111111111, \"#46039f\"], [0.2222222222222222, \"#7201a8\"], [0.3333333333333333, \"#9c179e\"], [0.4444444444444444, \"#bd3786\"], [0.5555555555555556, \"#d8576b\"], [0.6666666666666666, \"#ed7953\"], [0.7777777777777778, \"#fb9f3a\"], [0.8888888888888888, \"#fdca26\"], [1.0, \"#f0f921\"]], \"type\": \"contour\"}], \"contourcarpet\": [{\"colorbar\": {\"outlinewidth\": 0, \"ticks\": \"\"}, \"type\": \"contourcarpet\"}], \"heatmap\": [{\"colorbar\": {\"outlinewidth\": 0, \"ticks\": \"\"}, \"colorscale\": [[0.0, \"#0d0887\"], [0.1111111111111111, \"#46039f\"], [0.2222222222222222, \"#7201a8\"], [0.3333333333333333, \"#9c179e\"], [0.4444444444444444, \"#bd3786\"], [0.5555555555555556, \"#d8576b\"], [0.6666666666666666, \"#ed7953\"], [0.7777777777777778, \"#fb9f3a\"], [0.8888888888888888, \"#fdca26\"], [1.0, \"#f0f921\"]], \"type\": \"heatmap\"}], \"heatmapgl\": [{\"colorbar\": {\"outlinewidth\": 0, \"ticks\": \"\"}, \"colorscale\": [[0.0, \"#0d0887\"], [0.1111111111111111, \"#46039f\"], [0.2222222222222222, \"#7201a8\"], [0.3333333333333333, \"#9c179e\"], [0.4444444444444444, \"#bd3786\"], [0.5555555555555556, \"#d8576b\"], [0.6666666666666666, \"#ed7953\"], [0.7777777777777778, \"#fb9f3a\"], [0.8888888888888888, \"#fdca26\"], [1.0, \"#f0f921\"]], \"type\": \"heatmapgl\"}], \"histogram\": [{\"marker\": {\"colorbar\": {\"outlinewidth\": 0, \"ticks\": \"\"}}, \"type\": \"histogram\"}], \"histogram2d\": [{\"colorbar\": {\"outlinewidth\": 0, \"ticks\": \"\"}, \"colorscale\": [[0.0, \"#0d0887\"], [0.1111111111111111, \"#46039f\"], [0.2222222222222222, \"#7201a8\"], [0.3333333333333333, \"#9c179e\"], [0.4444444444444444, \"#bd3786\"], [0.5555555555555556, \"#d8576b\"], [0.6666666666666666, \"#ed7953\"], [0.7777777777777778, \"#fb9f3a\"], [0.8888888888888888, \"#fdca26\"], [1.0, \"#f0f921\"]], \"type\": \"histogram2d\"}], \"histogram2dcontour\": [{\"colorbar\": {\"outlinewidth\": 0, \"ticks\": \"\"}, \"colorscale\": [[0.0, \"#0d0887\"], [0.1111111111111111, \"#46039f\"], [0.2222222222222222, \"#7201a8\"], [0.3333333333333333, \"#9c179e\"], [0.4444444444444444, \"#bd3786\"], [0.5555555555555556, \"#d8576b\"], [0.6666666666666666, \"#ed7953\"], [0.7777777777777778, \"#fb9f3a\"], [0.8888888888888888, \"#fdca26\"], [1.0, \"#f0f921\"]], \"type\": \"histogram2dcontour\"}], \"mesh3d\": [{\"colorbar\": {\"outlinewidth\": 0, \"ticks\": \"\"}, \"type\": \"mesh3d\"}], \"parcoords\": [{\"line\": {\"colorbar\": {\"outlinewidth\": 0, \"ticks\": \"\"}}, \"type\": \"parcoords\"}], \"pie\": [{\"automargin\": true, \"type\": \"pie\"}], \"scatter\": [{\"marker\": {\"colorbar\": {\"outlinewidth\": 0, \"ticks\": \"\"}}, \"type\": \"scatter\"}], \"scatter3d\": [{\"line\": {\"colorbar\": {\"outlinewidth\": 0, \"ticks\": \"\"}}, \"marker\": {\"colorbar\": {\"outlinewidth\": 0, \"ticks\": \"\"}}, \"type\": \"scatter3d\"}], \"scattercarpet\": [{\"marker\": {\"colorbar\": {\"outlinewidth\": 0, \"ticks\": \"\"}}, \"type\": \"scattercarpet\"}], \"scattergeo\": [{\"marker\": {\"colorbar\": {\"outlinewidth\": 0, \"ticks\": \"\"}}, \"type\": \"scattergeo\"}], \"scattergl\": [{\"marker\": {\"colorbar\": {\"outlinewidth\": 0, \"ticks\": \"\"}}, \"type\": \"scattergl\"}], \"scattermapbox\": [{\"marker\": {\"colorbar\": {\"outlinewidth\": 0, \"ticks\": \"\"}}, \"type\": \"scattermapbox\"}], \"scatterpolar\": [{\"marker\": {\"colorbar\": {\"outlinewidth\": 0, \"ticks\": \"\"}}, \"type\": \"scatterpolar\"}], \"scatterpolargl\": [{\"marker\": {\"colorbar\": {\"outlinewidth\": 0, \"ticks\": \"\"}}, \"type\": \"scatterpolargl\"}], \"scatterternary\": [{\"marker\": {\"colorbar\": {\"outlinewidth\": 0, \"ticks\": \"\"}}, \"type\": \"scatterternary\"}], \"surface\": [{\"colorbar\": {\"outlinewidth\": 0, \"ticks\": \"\"}, \"colorscale\": [[0.0, \"#0d0887\"], [0.1111111111111111, \"#46039f\"], [0.2222222222222222, \"#7201a8\"], [0.3333333333333333, \"#9c179e\"], [0.4444444444444444, \"#bd3786\"], [0.5555555555555556, \"#d8576b\"], [0.6666666666666666, \"#ed7953\"], [0.7777777777777778, \"#fb9f3a\"], [0.8888888888888888, \"#fdca26\"], [1.0, \"#f0f921\"]], \"type\": \"surface\"}], \"table\": [{\"cells\": {\"fill\": {\"color\": \"#EBF0F8\"}, \"line\": {\"color\": \"white\"}}, \"header\": {\"fill\": {\"color\": \"#C8D4E3\"}, \"line\": {\"color\": \"white\"}}, \"type\": \"table\"}]}, \"layout\": {\"annotationdefaults\": {\"arrowcolor\": \"#2a3f5f\", \"arrowhead\": 0, \"arrowwidth\": 1}, \"coloraxis\": {\"colorbar\": {\"outlinewidth\": 0, \"ticks\": \"\"}}, \"colorscale\": {\"diverging\": [[0, \"#8e0152\"], [0.1, \"#c51b7d\"], [0.2, \"#de77ae\"], [0.3, \"#f1b6da\"], [0.4, \"#fde0ef\"], [0.5, \"#f7f7f7\"], [0.6, \"#e6f5d0\"], [0.7, \"#b8e186\"], [0.8, \"#7fbc41\"], [0.9, \"#4d9221\"], [1, \"#276419\"]], \"sequential\": [[0.0, \"#0d0887\"], [0.1111111111111111, \"#46039f\"], [0.2222222222222222, \"#7201a8\"], [0.3333333333333333, \"#9c179e\"], [0.4444444444444444, \"#bd3786\"], [0.5555555555555556, \"#d8576b\"], [0.6666666666666666, \"#ed7953\"], [0.7777777777777778, \"#fb9f3a\"], [0.8888888888888888, \"#fdca26\"], [1.0, \"#f0f921\"]], \"sequentialminus\": [[0.0, \"#0d0887\"], [0.1111111111111111, \"#46039f\"], [0.2222222222222222, \"#7201a8\"], [0.3333333333333333, \"#9c179e\"], [0.4444444444444444, \"#bd3786\"], [0.5555555555555556, \"#d8576b\"], [0.6666666666666666, \"#ed7953\"], [0.7777777777777778, \"#fb9f3a\"], [0.8888888888888888, \"#fdca26\"], [1.0, \"#f0f921\"]]}, \"colorway\": [\"#636efa\", \"#EF553B\", \"#00cc96\", \"#ab63fa\", \"#FFA15A\", \"#19d3f3\", \"#FF6692\", \"#B6E880\", \"#FF97FF\", \"#FECB52\"], \"font\": {\"color\": \"#2a3f5f\"}, \"geo\": {\"bgcolor\": \"white\", \"lakecolor\": \"white\", \"landcolor\": \"#E5ECF6\", \"showlakes\": true, \"showland\": true, \"subunitcolor\": \"white\"}, \"hoverlabel\": {\"align\": \"left\"}, \"hovermode\": \"closest\", \"mapbox\": {\"style\": \"light\"}, \"paper_bgcolor\": \"white\", \"plot_bgcolor\": \"#E5ECF6\", \"polar\": {\"angularaxis\": {\"gridcolor\": \"white\", \"linecolor\": \"white\", \"ticks\": \"\"}, \"bgcolor\": \"#E5ECF6\", \"radialaxis\": {\"gridcolor\": \"white\", \"linecolor\": \"white\", \"ticks\": \"\"}}, \"scene\": {\"xaxis\": {\"backgroundcolor\": \"#E5ECF6\", \"gridcolor\": \"white\", \"gridwidth\": 2, \"linecolor\": \"white\", \"showbackground\": true, \"ticks\": \"\", \"zerolinecolor\": \"white\"}, \"yaxis\": {\"backgroundcolor\": \"#E5ECF6\", \"gridcolor\": \"white\", \"gridwidth\": 2, \"linecolor\": \"white\", \"showbackground\": true, \"ticks\": \"\", \"zerolinecolor\": \"white\"}, \"zaxis\": {\"backgroundcolor\": \"#E5ECF6\", \"gridcolor\": \"white\", \"gridwidth\": 2, \"linecolor\": \"white\", \"showbackground\": true, \"ticks\": \"\", \"zerolinecolor\": \"white\"}}, \"shapedefaults\": {\"line\": {\"color\": \"#2a3f5f\"}}, \"ternary\": {\"aaxis\": {\"gridcolor\": \"white\", \"linecolor\": \"white\", \"ticks\": \"\"}, \"baxis\": {\"gridcolor\": \"white\", \"linecolor\": \"white\", \"ticks\": \"\"}, \"bgcolor\": \"#E5ECF6\", \"caxis\": {\"gridcolor\": \"white\", \"linecolor\": \"white\", \"ticks\": \"\"}}, \"title\": {\"x\": 0.05}, \"xaxis\": {\"automargin\": true, \"gridcolor\": \"white\", \"linecolor\": \"white\", \"ticks\": \"\", \"title\": {\"standoff\": 15}, \"zerolinecolor\": \"white\", \"zerolinewidth\": 2}, \"yaxis\": {\"automargin\": true, \"gridcolor\": \"white\", \"linecolor\": \"white\", \"ticks\": \"\", \"title\": {\"standoff\": 15}, \"zerolinecolor\": \"white\", \"zerolinewidth\": 2}}}, \"title\": {\"text\": \"Words by Story\", \"x\": 0.4, \"xanchor\": \"center\", \"y\": 0.95, \"yanchor\": \"top\"}, \"xaxis\": {\"anchor\": \"y\", \"domain\": [0.0, 1.0], \"tickangle\": 45, \"tickfont\": {\"family\": \"Rockwell\", \"size\": 10}, \"title\": {\"text\": \"Story Title\"}}, \"yaxis\": {\"anchor\": \"x\", \"domain\": [0.0, 1.0], \"title\": {\"text\": \"Words\"}}},\n",
       "                        {\"responsive\": true}\n",
       "                    ).then(function(){\n",
       "                            \n",
       "var gd = document.getElementById('f2dc59ed-a585-40bc-8b73-fd16b03a7479');\n",
       "var x = new MutationObserver(function (mutations, observer) {{\n",
       "        var display = window.getComputedStyle(gd).display;\n",
       "        if (!display || display === 'none') {{\n",
       "            console.log([gd, 'removed!']);\n",
       "            Plotly.purge(gd);\n",
       "            observer.disconnect();\n",
       "        }}\n",
       "}});\n",
       "\n",
       "// Listen for the removal of the full notebook cells\n",
       "var notebookContainer = gd.closest('#notebook-container');\n",
       "if (notebookContainer) {{\n",
       "    x.observe(notebookContainer, {childList: true});\n",
       "}}\n",
       "\n",
       "// Listen for the clearing of the current output cell\n",
       "var outputEl = gd.closest('.output');\n",
       "if (outputEl) {{\n",
       "    x.observe(outputEl, {childList: true});\n",
       "}}\n",
       "\n",
       "                        })\n",
       "                };\n",
       "                });\n",
       "            </script>\n",
       "        </div>"
      ]
     },
     "metadata": {},
     "output_type": "display_data"
    }
   ],
   "source": [
    "fig = px.bar(df, x='story_title', y='words', color = 'book')\n",
    "fig.update_layout(\n",
    "    title={\n",
    "        'text': \"Words by Story\",\n",
    "        'y':0.95,\n",
    "        'x':0.40,\n",
    "        'xanchor': 'center',\n",
    "        'yanchor': 'top'\n",
    "    })\n",
    "fig.update_xaxes(title_text='Story Title', tickangle=45, tickfont=dict(family='Rockwell', size=10))\n",
    "fig.update_yaxes(title_text='Words')\n",
    "fig.show()"
   ]
  },
  {
   "cell_type": "code",
   "execution_count": 259,
   "metadata": {},
   "outputs": [],
   "source": [
    "from plotly import offline"
   ]
  },
  {
   "cell_type": "code",
   "execution_count": 260,
   "metadata": {
    "scrolled": false
   },
   "outputs": [
    {
     "data": {
      "application/vnd.plotly.v1+json": {
       "config": {
        "plotlyServerURL": "https://plot.ly"
       },
       "data": [
        {
         "alignmentgroup": "True",
         "hoverlabel": {
          "namelength": 0
         },
         "hovertemplate": "book=Sklepy Cynamonowe<br>story_title=%{x}<br>lexical_richness=%{y}",
         "legendgroup": "book=Sklepy Cynamonowe",
         "marker": {
          "color": "#636efa"
         },
         "name": "book=Sklepy Cynamonowe",
         "offsetgroup": "book=Sklepy Cynamonowe",
         "orientation": "v",
         "showlegend": true,
         "textposition": "auto",
         "type": "bar",
         "x": [
          "Sierpień",
          "Nawiedzenie",
          "Ptaki",
          "Manekiny",
          "Traktat o Manekinach albo Wtórna Księga Rodzaju",
          "Nemrod",
          "Pan",
          "Pan Karol",
          "Sklepy Cynamonowe",
          "Ulica Krokodyli",
          "Karakony",
          "Wichura",
          "Noc Wielkiego Sezonu"
         ],
         "xaxis": "x",
         "y": [
          0.6420454545454546,
          0.6032786885245902,
          0.6788491446345256,
          0.65,
          0.5819373634377276,
          0.6574690770694577,
          0.6879823594266814,
          0.645909645909646,
          0.5904219691895513,
          0.6194255479969766,
          0.6583629893238434,
          0.6171143035602749,
          0.5814176245210728
         ],
         "yaxis": "y"
        },
        {
         "alignmentgroup": "True",
         "hoverlabel": {
          "namelength": 0
         },
         "hovertemplate": "book=Sanatorium Pod Klepysdrą<br>story_title=%{x}<br>lexical_richness=%{y}",
         "legendgroup": "book=Sanatorium Pod Klepysdrą",
         "marker": {
          "color": "#EF553B"
         },
         "name": "book=Sanatorium Pod Klepysdrą",
         "offsetgroup": "book=Sanatorium Pod Klepysdrą",
         "orientation": "v",
         "showlegend": true,
         "textposition": "auto",
         "type": "bar",
         "x": [
          "Księga",
          "Genialna Epoka ",
          "Wiosna",
          "Noc lipcowa",
          "Mój ojciec wstępuje do strażaków",
          "Druga jesień",
          "Martwy sezon",
          "Sanatorium pod Klepsydrą",
          "Dodo",
          "Edzio",
          "Emeryt",
          "Samotność",
          "Ostatnia ucieczka ojca"
         ],
         "xaxis": "x",
         "y": [
          0.5682584269662921,
          0.5627172195892575,
          0.5613873542050337,
          0.6519721577726219,
          0.642713567839196,
          0.6869565217391305,
          0.5517941773865944,
          0.6321003963011889,
          0.5667613636363636,
          0.5512265512265512,
          0.5358490566037736,
          0.6405135520684736,
          0.6148949713558243
         ],
         "yaxis": "y"
        }
       ],
       "layout": {
        "barmode": "relative",
        "legend": {
         "tracegroupgap": 0
        },
        "margin": {
         "t": 60
        },
        "template": {
         "data": {
          "bar": [
           {
            "error_x": {
             "color": "#2a3f5f"
            },
            "error_y": {
             "color": "#2a3f5f"
            },
            "marker": {
             "line": {
              "color": "#E5ECF6",
              "width": 0.5
             }
            },
            "type": "bar"
           }
          ],
          "barpolar": [
           {
            "marker": {
             "line": {
              "color": "#E5ECF6",
              "width": 0.5
             }
            },
            "type": "barpolar"
           }
          ],
          "carpet": [
           {
            "aaxis": {
             "endlinecolor": "#2a3f5f",
             "gridcolor": "white",
             "linecolor": "white",
             "minorgridcolor": "white",
             "startlinecolor": "#2a3f5f"
            },
            "baxis": {
             "endlinecolor": "#2a3f5f",
             "gridcolor": "white",
             "linecolor": "white",
             "minorgridcolor": "white",
             "startlinecolor": "#2a3f5f"
            },
            "type": "carpet"
           }
          ],
          "choropleth": [
           {
            "colorbar": {
             "outlinewidth": 0,
             "ticks": ""
            },
            "type": "choropleth"
           }
          ],
          "contour": [
           {
            "colorbar": {
             "outlinewidth": 0,
             "ticks": ""
            },
            "colorscale": [
             [
              0,
              "#0d0887"
             ],
             [
              0.1111111111111111,
              "#46039f"
             ],
             [
              0.2222222222222222,
              "#7201a8"
             ],
             [
              0.3333333333333333,
              "#9c179e"
             ],
             [
              0.4444444444444444,
              "#bd3786"
             ],
             [
              0.5555555555555556,
              "#d8576b"
             ],
             [
              0.6666666666666666,
              "#ed7953"
             ],
             [
              0.7777777777777778,
              "#fb9f3a"
             ],
             [
              0.8888888888888888,
              "#fdca26"
             ],
             [
              1,
              "#f0f921"
             ]
            ],
            "type": "contour"
           }
          ],
          "contourcarpet": [
           {
            "colorbar": {
             "outlinewidth": 0,
             "ticks": ""
            },
            "type": "contourcarpet"
           }
          ],
          "heatmap": [
           {
            "colorbar": {
             "outlinewidth": 0,
             "ticks": ""
            },
            "colorscale": [
             [
              0,
              "#0d0887"
             ],
             [
              0.1111111111111111,
              "#46039f"
             ],
             [
              0.2222222222222222,
              "#7201a8"
             ],
             [
              0.3333333333333333,
              "#9c179e"
             ],
             [
              0.4444444444444444,
              "#bd3786"
             ],
             [
              0.5555555555555556,
              "#d8576b"
             ],
             [
              0.6666666666666666,
              "#ed7953"
             ],
             [
              0.7777777777777778,
              "#fb9f3a"
             ],
             [
              0.8888888888888888,
              "#fdca26"
             ],
             [
              1,
              "#f0f921"
             ]
            ],
            "type": "heatmap"
           }
          ],
          "heatmapgl": [
           {
            "colorbar": {
             "outlinewidth": 0,
             "ticks": ""
            },
            "colorscale": [
             [
              0,
              "#0d0887"
             ],
             [
              0.1111111111111111,
              "#46039f"
             ],
             [
              0.2222222222222222,
              "#7201a8"
             ],
             [
              0.3333333333333333,
              "#9c179e"
             ],
             [
              0.4444444444444444,
              "#bd3786"
             ],
             [
              0.5555555555555556,
              "#d8576b"
             ],
             [
              0.6666666666666666,
              "#ed7953"
             ],
             [
              0.7777777777777778,
              "#fb9f3a"
             ],
             [
              0.8888888888888888,
              "#fdca26"
             ],
             [
              1,
              "#f0f921"
             ]
            ],
            "type": "heatmapgl"
           }
          ],
          "histogram": [
           {
            "marker": {
             "colorbar": {
              "outlinewidth": 0,
              "ticks": ""
             }
            },
            "type": "histogram"
           }
          ],
          "histogram2d": [
           {
            "colorbar": {
             "outlinewidth": 0,
             "ticks": ""
            },
            "colorscale": [
             [
              0,
              "#0d0887"
             ],
             [
              0.1111111111111111,
              "#46039f"
             ],
             [
              0.2222222222222222,
              "#7201a8"
             ],
             [
              0.3333333333333333,
              "#9c179e"
             ],
             [
              0.4444444444444444,
              "#bd3786"
             ],
             [
              0.5555555555555556,
              "#d8576b"
             ],
             [
              0.6666666666666666,
              "#ed7953"
             ],
             [
              0.7777777777777778,
              "#fb9f3a"
             ],
             [
              0.8888888888888888,
              "#fdca26"
             ],
             [
              1,
              "#f0f921"
             ]
            ],
            "type": "histogram2d"
           }
          ],
          "histogram2dcontour": [
           {
            "colorbar": {
             "outlinewidth": 0,
             "ticks": ""
            },
            "colorscale": [
             [
              0,
              "#0d0887"
             ],
             [
              0.1111111111111111,
              "#46039f"
             ],
             [
              0.2222222222222222,
              "#7201a8"
             ],
             [
              0.3333333333333333,
              "#9c179e"
             ],
             [
              0.4444444444444444,
              "#bd3786"
             ],
             [
              0.5555555555555556,
              "#d8576b"
             ],
             [
              0.6666666666666666,
              "#ed7953"
             ],
             [
              0.7777777777777778,
              "#fb9f3a"
             ],
             [
              0.8888888888888888,
              "#fdca26"
             ],
             [
              1,
              "#f0f921"
             ]
            ],
            "type": "histogram2dcontour"
           }
          ],
          "mesh3d": [
           {
            "colorbar": {
             "outlinewidth": 0,
             "ticks": ""
            },
            "type": "mesh3d"
           }
          ],
          "parcoords": [
           {
            "line": {
             "colorbar": {
              "outlinewidth": 0,
              "ticks": ""
             }
            },
            "type": "parcoords"
           }
          ],
          "pie": [
           {
            "automargin": true,
            "type": "pie"
           }
          ],
          "scatter": [
           {
            "marker": {
             "colorbar": {
              "outlinewidth": 0,
              "ticks": ""
             }
            },
            "type": "scatter"
           }
          ],
          "scatter3d": [
           {
            "line": {
             "colorbar": {
              "outlinewidth": 0,
              "ticks": ""
             }
            },
            "marker": {
             "colorbar": {
              "outlinewidth": 0,
              "ticks": ""
             }
            },
            "type": "scatter3d"
           }
          ],
          "scattercarpet": [
           {
            "marker": {
             "colorbar": {
              "outlinewidth": 0,
              "ticks": ""
             }
            },
            "type": "scattercarpet"
           }
          ],
          "scattergeo": [
           {
            "marker": {
             "colorbar": {
              "outlinewidth": 0,
              "ticks": ""
             }
            },
            "type": "scattergeo"
           }
          ],
          "scattergl": [
           {
            "marker": {
             "colorbar": {
              "outlinewidth": 0,
              "ticks": ""
             }
            },
            "type": "scattergl"
           }
          ],
          "scattermapbox": [
           {
            "marker": {
             "colorbar": {
              "outlinewidth": 0,
              "ticks": ""
             }
            },
            "type": "scattermapbox"
           }
          ],
          "scatterpolar": [
           {
            "marker": {
             "colorbar": {
              "outlinewidth": 0,
              "ticks": ""
             }
            },
            "type": "scatterpolar"
           }
          ],
          "scatterpolargl": [
           {
            "marker": {
             "colorbar": {
              "outlinewidth": 0,
              "ticks": ""
             }
            },
            "type": "scatterpolargl"
           }
          ],
          "scatterternary": [
           {
            "marker": {
             "colorbar": {
              "outlinewidth": 0,
              "ticks": ""
             }
            },
            "type": "scatterternary"
           }
          ],
          "surface": [
           {
            "colorbar": {
             "outlinewidth": 0,
             "ticks": ""
            },
            "colorscale": [
             [
              0,
              "#0d0887"
             ],
             [
              0.1111111111111111,
              "#46039f"
             ],
             [
              0.2222222222222222,
              "#7201a8"
             ],
             [
              0.3333333333333333,
              "#9c179e"
             ],
             [
              0.4444444444444444,
              "#bd3786"
             ],
             [
              0.5555555555555556,
              "#d8576b"
             ],
             [
              0.6666666666666666,
              "#ed7953"
             ],
             [
              0.7777777777777778,
              "#fb9f3a"
             ],
             [
              0.8888888888888888,
              "#fdca26"
             ],
             [
              1,
              "#f0f921"
             ]
            ],
            "type": "surface"
           }
          ],
          "table": [
           {
            "cells": {
             "fill": {
              "color": "#EBF0F8"
             },
             "line": {
              "color": "white"
             }
            },
            "header": {
             "fill": {
              "color": "#C8D4E3"
             },
             "line": {
              "color": "white"
             }
            },
            "type": "table"
           }
          ]
         },
         "layout": {
          "annotationdefaults": {
           "arrowcolor": "#2a3f5f",
           "arrowhead": 0,
           "arrowwidth": 1
          },
          "coloraxis": {
           "colorbar": {
            "outlinewidth": 0,
            "ticks": ""
           }
          },
          "colorscale": {
           "diverging": [
            [
             0,
             "#8e0152"
            ],
            [
             0.1,
             "#c51b7d"
            ],
            [
             0.2,
             "#de77ae"
            ],
            [
             0.3,
             "#f1b6da"
            ],
            [
             0.4,
             "#fde0ef"
            ],
            [
             0.5,
             "#f7f7f7"
            ],
            [
             0.6,
             "#e6f5d0"
            ],
            [
             0.7,
             "#b8e186"
            ],
            [
             0.8,
             "#7fbc41"
            ],
            [
             0.9,
             "#4d9221"
            ],
            [
             1,
             "#276419"
            ]
           ],
           "sequential": [
            [
             0,
             "#0d0887"
            ],
            [
             0.1111111111111111,
             "#46039f"
            ],
            [
             0.2222222222222222,
             "#7201a8"
            ],
            [
             0.3333333333333333,
             "#9c179e"
            ],
            [
             0.4444444444444444,
             "#bd3786"
            ],
            [
             0.5555555555555556,
             "#d8576b"
            ],
            [
             0.6666666666666666,
             "#ed7953"
            ],
            [
             0.7777777777777778,
             "#fb9f3a"
            ],
            [
             0.8888888888888888,
             "#fdca26"
            ],
            [
             1,
             "#f0f921"
            ]
           ],
           "sequentialminus": [
            [
             0,
             "#0d0887"
            ],
            [
             0.1111111111111111,
             "#46039f"
            ],
            [
             0.2222222222222222,
             "#7201a8"
            ],
            [
             0.3333333333333333,
             "#9c179e"
            ],
            [
             0.4444444444444444,
             "#bd3786"
            ],
            [
             0.5555555555555556,
             "#d8576b"
            ],
            [
             0.6666666666666666,
             "#ed7953"
            ],
            [
             0.7777777777777778,
             "#fb9f3a"
            ],
            [
             0.8888888888888888,
             "#fdca26"
            ],
            [
             1,
             "#f0f921"
            ]
           ]
          },
          "colorway": [
           "#636efa",
           "#EF553B",
           "#00cc96",
           "#ab63fa",
           "#FFA15A",
           "#19d3f3",
           "#FF6692",
           "#B6E880",
           "#FF97FF",
           "#FECB52"
          ],
          "font": {
           "color": "#2a3f5f"
          },
          "geo": {
           "bgcolor": "white",
           "lakecolor": "white",
           "landcolor": "#E5ECF6",
           "showlakes": true,
           "showland": true,
           "subunitcolor": "white"
          },
          "hoverlabel": {
           "align": "left"
          },
          "hovermode": "closest",
          "mapbox": {
           "style": "light"
          },
          "paper_bgcolor": "white",
          "plot_bgcolor": "#E5ECF6",
          "polar": {
           "angularaxis": {
            "gridcolor": "white",
            "linecolor": "white",
            "ticks": ""
           },
           "bgcolor": "#E5ECF6",
           "radialaxis": {
            "gridcolor": "white",
            "linecolor": "white",
            "ticks": ""
           }
          },
          "scene": {
           "xaxis": {
            "backgroundcolor": "#E5ECF6",
            "gridcolor": "white",
            "gridwidth": 2,
            "linecolor": "white",
            "showbackground": true,
            "ticks": "",
            "zerolinecolor": "white"
           },
           "yaxis": {
            "backgroundcolor": "#E5ECF6",
            "gridcolor": "white",
            "gridwidth": 2,
            "linecolor": "white",
            "showbackground": true,
            "ticks": "",
            "zerolinecolor": "white"
           },
           "zaxis": {
            "backgroundcolor": "#E5ECF6",
            "gridcolor": "white",
            "gridwidth": 2,
            "linecolor": "white",
            "showbackground": true,
            "ticks": "",
            "zerolinecolor": "white"
           }
          },
          "shapedefaults": {
           "line": {
            "color": "#2a3f5f"
           }
          },
          "ternary": {
           "aaxis": {
            "gridcolor": "white",
            "linecolor": "white",
            "ticks": ""
           },
           "baxis": {
            "gridcolor": "white",
            "linecolor": "white",
            "ticks": ""
           },
           "bgcolor": "#E5ECF6",
           "caxis": {
            "gridcolor": "white",
            "linecolor": "white",
            "ticks": ""
           }
          },
          "title": {
           "x": 0.05
          },
          "xaxis": {
           "automargin": true,
           "gridcolor": "white",
           "linecolor": "white",
           "ticks": "",
           "title": {
            "standoff": 15
           },
           "zerolinecolor": "white",
           "zerolinewidth": 2
          },
          "yaxis": {
           "automargin": true,
           "gridcolor": "white",
           "linecolor": "white",
           "ticks": "",
           "title": {
            "standoff": 15
           },
           "zerolinecolor": "white",
           "zerolinewidth": 2
          }
         }
        },
        "title": {
         "text": "Lexical Richness by Story",
         "x": 0.4,
         "xanchor": "center",
         "y": 0.95,
         "yanchor": "top"
        },
        "xaxis": {
         "anchor": "y",
         "domain": [
          0,
          1
         ],
         "tickangle": 45,
         "tickfont": {
          "family": "Rockwell",
          "size": 10
         },
         "title": {
          "text": "Lexical Richness"
         }
        },
        "yaxis": {
         "anchor": "x",
         "domain": [
          0,
          1
         ],
         "title": {
          "text": "Words"
         }
        }
       }
      },
      "text/html": [
       "<div>\n",
       "        \n",
       "        \n",
       "            <div id=\"ba6941fc-5674-4f28-82b9-f0e9dd3ce251\" class=\"plotly-graph-div\" style=\"height:525px; width:100%;\"></div>\n",
       "            <script type=\"text/javascript\">\n",
       "                require([\"plotly\"], function(Plotly) {\n",
       "                    window.PLOTLYENV=window.PLOTLYENV || {};\n",
       "                    \n",
       "                if (document.getElementById(\"ba6941fc-5674-4f28-82b9-f0e9dd3ce251\")) {\n",
       "                    Plotly.newPlot(\n",
       "                        'ba6941fc-5674-4f28-82b9-f0e9dd3ce251',\n",
       "                        [{\"alignmentgroup\": \"True\", \"hoverlabel\": {\"namelength\": 0}, \"hovertemplate\": \"book=Sklepy Cynamonowe<br>story_title=%{x}<br>lexical_richness=%{y}\", \"legendgroup\": \"book=Sklepy Cynamonowe\", \"marker\": {\"color\": \"#636efa\"}, \"name\": \"book=Sklepy Cynamonowe\", \"offsetgroup\": \"book=Sklepy Cynamonowe\", \"orientation\": \"v\", \"showlegend\": true, \"textposition\": \"auto\", \"type\": \"bar\", \"x\": [\"Sierpie\\u0144\", \"Nawiedzenie\", \"Ptaki\", \"Manekiny\", \"Traktat o Manekinach albo Wt\\u00f3rna Ksi\\u0119ga Rodzaju\", \"Nemrod\", \"Pan\", \"Pan Karol\", \"Sklepy Cynamonowe\", \"Ulica Krokodyli\", \"Karakony\", \"Wichura\", \"Noc Wielkiego Sezonu\"], \"xaxis\": \"x\", \"y\": [0.6420454545454546, 0.6032786885245902, 0.6788491446345256, 0.65, 0.5819373634377276, 0.6574690770694577, 0.6879823594266814, 0.645909645909646, 0.5904219691895513, 0.6194255479969766, 0.6583629893238434, 0.6171143035602749, 0.5814176245210728], \"yaxis\": \"y\"}, {\"alignmentgroup\": \"True\", \"hoverlabel\": {\"namelength\": 0}, \"hovertemplate\": \"book=Sanatorium Pod Klepysdr\\u0105<br>story_title=%{x}<br>lexical_richness=%{y}\", \"legendgroup\": \"book=Sanatorium Pod Klepysdr\\u0105\", \"marker\": {\"color\": \"#EF553B\"}, \"name\": \"book=Sanatorium Pod Klepysdr\\u0105\", \"offsetgroup\": \"book=Sanatorium Pod Klepysdr\\u0105\", \"orientation\": \"v\", \"showlegend\": true, \"textposition\": \"auto\", \"type\": \"bar\", \"x\": [\"Ksi\\u0119ga\", \"Genialna Epoka \", \"Wiosna\", \"Noc lipcowa\", \"M\\u00f3j ojciec wst\\u0119puje do stra\\u017cak\\u00f3w\", \"Druga jesie\\u0144\", \"Martwy sezon\", \"Sanatorium pod Klepsydr\\u0105\", \"Dodo\", \"Edzio\", \"Emeryt\", \"Samotno\\u015b\\u0107\", \"Ostatnia ucieczka ojca\"], \"xaxis\": \"x\", \"y\": [0.5682584269662921, 0.5627172195892575, 0.5613873542050337, 0.6519721577726219, 0.642713567839196, 0.6869565217391305, 0.5517941773865944, 0.6321003963011889, 0.5667613636363636, 0.5512265512265512, 0.5358490566037736, 0.6405135520684736, 0.6148949713558243], \"yaxis\": \"y\"}],\n",
       "                        {\"barmode\": \"relative\", \"legend\": {\"tracegroupgap\": 0}, \"margin\": {\"t\": 60}, \"template\": {\"data\": {\"bar\": [{\"error_x\": {\"color\": \"#2a3f5f\"}, \"error_y\": {\"color\": \"#2a3f5f\"}, \"marker\": {\"line\": {\"color\": \"#E5ECF6\", \"width\": 0.5}}, \"type\": \"bar\"}], \"barpolar\": [{\"marker\": {\"line\": {\"color\": \"#E5ECF6\", \"width\": 0.5}}, \"type\": \"barpolar\"}], \"carpet\": [{\"aaxis\": {\"endlinecolor\": \"#2a3f5f\", \"gridcolor\": \"white\", \"linecolor\": \"white\", \"minorgridcolor\": \"white\", \"startlinecolor\": \"#2a3f5f\"}, \"baxis\": {\"endlinecolor\": \"#2a3f5f\", \"gridcolor\": \"white\", \"linecolor\": \"white\", \"minorgridcolor\": \"white\", \"startlinecolor\": \"#2a3f5f\"}, \"type\": \"carpet\"}], \"choropleth\": [{\"colorbar\": {\"outlinewidth\": 0, \"ticks\": \"\"}, \"type\": \"choropleth\"}], \"contour\": [{\"colorbar\": {\"outlinewidth\": 0, \"ticks\": \"\"}, \"colorscale\": [[0.0, \"#0d0887\"], [0.1111111111111111, \"#46039f\"], [0.2222222222222222, \"#7201a8\"], [0.3333333333333333, \"#9c179e\"], [0.4444444444444444, \"#bd3786\"], [0.5555555555555556, \"#d8576b\"], [0.6666666666666666, \"#ed7953\"], [0.7777777777777778, \"#fb9f3a\"], [0.8888888888888888, \"#fdca26\"], [1.0, \"#f0f921\"]], \"type\": \"contour\"}], \"contourcarpet\": [{\"colorbar\": {\"outlinewidth\": 0, \"ticks\": \"\"}, \"type\": \"contourcarpet\"}], \"heatmap\": [{\"colorbar\": {\"outlinewidth\": 0, \"ticks\": \"\"}, \"colorscale\": [[0.0, \"#0d0887\"], [0.1111111111111111, \"#46039f\"], [0.2222222222222222, \"#7201a8\"], [0.3333333333333333, \"#9c179e\"], [0.4444444444444444, \"#bd3786\"], [0.5555555555555556, \"#d8576b\"], [0.6666666666666666, \"#ed7953\"], [0.7777777777777778, \"#fb9f3a\"], [0.8888888888888888, \"#fdca26\"], [1.0, \"#f0f921\"]], \"type\": \"heatmap\"}], \"heatmapgl\": [{\"colorbar\": {\"outlinewidth\": 0, \"ticks\": \"\"}, \"colorscale\": [[0.0, \"#0d0887\"], [0.1111111111111111, \"#46039f\"], [0.2222222222222222, \"#7201a8\"], [0.3333333333333333, \"#9c179e\"], [0.4444444444444444, \"#bd3786\"], [0.5555555555555556, \"#d8576b\"], [0.6666666666666666, \"#ed7953\"], [0.7777777777777778, \"#fb9f3a\"], [0.8888888888888888, \"#fdca26\"], [1.0, \"#f0f921\"]], \"type\": \"heatmapgl\"}], \"histogram\": [{\"marker\": {\"colorbar\": {\"outlinewidth\": 0, \"ticks\": \"\"}}, \"type\": \"histogram\"}], \"histogram2d\": [{\"colorbar\": {\"outlinewidth\": 0, \"ticks\": \"\"}, \"colorscale\": [[0.0, \"#0d0887\"], [0.1111111111111111, \"#46039f\"], [0.2222222222222222, \"#7201a8\"], [0.3333333333333333, \"#9c179e\"], [0.4444444444444444, \"#bd3786\"], [0.5555555555555556, \"#d8576b\"], [0.6666666666666666, \"#ed7953\"], [0.7777777777777778, \"#fb9f3a\"], [0.8888888888888888, \"#fdca26\"], [1.0, \"#f0f921\"]], \"type\": \"histogram2d\"}], \"histogram2dcontour\": [{\"colorbar\": {\"outlinewidth\": 0, \"ticks\": \"\"}, \"colorscale\": [[0.0, \"#0d0887\"], [0.1111111111111111, \"#46039f\"], [0.2222222222222222, \"#7201a8\"], [0.3333333333333333, \"#9c179e\"], [0.4444444444444444, \"#bd3786\"], [0.5555555555555556, \"#d8576b\"], [0.6666666666666666, \"#ed7953\"], [0.7777777777777778, \"#fb9f3a\"], [0.8888888888888888, \"#fdca26\"], [1.0, \"#f0f921\"]], \"type\": \"histogram2dcontour\"}], \"mesh3d\": [{\"colorbar\": {\"outlinewidth\": 0, \"ticks\": \"\"}, \"type\": \"mesh3d\"}], \"parcoords\": [{\"line\": {\"colorbar\": {\"outlinewidth\": 0, \"ticks\": \"\"}}, \"type\": \"parcoords\"}], \"pie\": [{\"automargin\": true, \"type\": \"pie\"}], \"scatter\": [{\"marker\": {\"colorbar\": {\"outlinewidth\": 0, \"ticks\": \"\"}}, \"type\": \"scatter\"}], \"scatter3d\": [{\"line\": {\"colorbar\": {\"outlinewidth\": 0, \"ticks\": \"\"}}, \"marker\": {\"colorbar\": {\"outlinewidth\": 0, \"ticks\": \"\"}}, \"type\": \"scatter3d\"}], \"scattercarpet\": [{\"marker\": {\"colorbar\": {\"outlinewidth\": 0, \"ticks\": \"\"}}, \"type\": \"scattercarpet\"}], \"scattergeo\": [{\"marker\": {\"colorbar\": {\"outlinewidth\": 0, \"ticks\": \"\"}}, \"type\": \"scattergeo\"}], \"scattergl\": [{\"marker\": {\"colorbar\": {\"outlinewidth\": 0, \"ticks\": \"\"}}, \"type\": \"scattergl\"}], \"scattermapbox\": [{\"marker\": {\"colorbar\": {\"outlinewidth\": 0, \"ticks\": \"\"}}, \"type\": \"scattermapbox\"}], \"scatterpolar\": [{\"marker\": {\"colorbar\": {\"outlinewidth\": 0, \"ticks\": \"\"}}, \"type\": \"scatterpolar\"}], \"scatterpolargl\": [{\"marker\": {\"colorbar\": {\"outlinewidth\": 0, \"ticks\": \"\"}}, \"type\": \"scatterpolargl\"}], \"scatterternary\": [{\"marker\": {\"colorbar\": {\"outlinewidth\": 0, \"ticks\": \"\"}}, \"type\": \"scatterternary\"}], \"surface\": [{\"colorbar\": {\"outlinewidth\": 0, \"ticks\": \"\"}, \"colorscale\": [[0.0, \"#0d0887\"], [0.1111111111111111, \"#46039f\"], [0.2222222222222222, \"#7201a8\"], [0.3333333333333333, \"#9c179e\"], [0.4444444444444444, \"#bd3786\"], [0.5555555555555556, \"#d8576b\"], [0.6666666666666666, \"#ed7953\"], [0.7777777777777778, \"#fb9f3a\"], [0.8888888888888888, \"#fdca26\"], [1.0, \"#f0f921\"]], \"type\": \"surface\"}], \"table\": [{\"cells\": {\"fill\": {\"color\": \"#EBF0F8\"}, \"line\": {\"color\": \"white\"}}, \"header\": {\"fill\": {\"color\": \"#C8D4E3\"}, \"line\": {\"color\": \"white\"}}, \"type\": \"table\"}]}, \"layout\": {\"annotationdefaults\": {\"arrowcolor\": \"#2a3f5f\", \"arrowhead\": 0, \"arrowwidth\": 1}, \"coloraxis\": {\"colorbar\": {\"outlinewidth\": 0, \"ticks\": \"\"}}, \"colorscale\": {\"diverging\": [[0, \"#8e0152\"], [0.1, \"#c51b7d\"], [0.2, \"#de77ae\"], [0.3, \"#f1b6da\"], [0.4, \"#fde0ef\"], [0.5, \"#f7f7f7\"], [0.6, \"#e6f5d0\"], [0.7, \"#b8e186\"], [0.8, \"#7fbc41\"], [0.9, \"#4d9221\"], [1, \"#276419\"]], \"sequential\": [[0.0, \"#0d0887\"], [0.1111111111111111, \"#46039f\"], [0.2222222222222222, \"#7201a8\"], [0.3333333333333333, \"#9c179e\"], [0.4444444444444444, \"#bd3786\"], [0.5555555555555556, \"#d8576b\"], [0.6666666666666666, \"#ed7953\"], [0.7777777777777778, \"#fb9f3a\"], [0.8888888888888888, \"#fdca26\"], [1.0, \"#f0f921\"]], \"sequentialminus\": [[0.0, \"#0d0887\"], [0.1111111111111111, \"#46039f\"], [0.2222222222222222, \"#7201a8\"], [0.3333333333333333, \"#9c179e\"], [0.4444444444444444, \"#bd3786\"], [0.5555555555555556, \"#d8576b\"], [0.6666666666666666, \"#ed7953\"], [0.7777777777777778, \"#fb9f3a\"], [0.8888888888888888, \"#fdca26\"], [1.0, \"#f0f921\"]]}, \"colorway\": [\"#636efa\", \"#EF553B\", \"#00cc96\", \"#ab63fa\", \"#FFA15A\", \"#19d3f3\", \"#FF6692\", \"#B6E880\", \"#FF97FF\", \"#FECB52\"], \"font\": {\"color\": \"#2a3f5f\"}, \"geo\": {\"bgcolor\": \"white\", \"lakecolor\": \"white\", \"landcolor\": \"#E5ECF6\", \"showlakes\": true, \"showland\": true, \"subunitcolor\": \"white\"}, \"hoverlabel\": {\"align\": \"left\"}, \"hovermode\": \"closest\", \"mapbox\": {\"style\": \"light\"}, \"paper_bgcolor\": \"white\", \"plot_bgcolor\": \"#E5ECF6\", \"polar\": {\"angularaxis\": {\"gridcolor\": \"white\", \"linecolor\": \"white\", \"ticks\": \"\"}, \"bgcolor\": \"#E5ECF6\", \"radialaxis\": {\"gridcolor\": \"white\", \"linecolor\": \"white\", \"ticks\": \"\"}}, \"scene\": {\"xaxis\": {\"backgroundcolor\": \"#E5ECF6\", \"gridcolor\": \"white\", \"gridwidth\": 2, \"linecolor\": \"white\", \"showbackground\": true, \"ticks\": \"\", \"zerolinecolor\": \"white\"}, \"yaxis\": {\"backgroundcolor\": \"#E5ECF6\", \"gridcolor\": \"white\", \"gridwidth\": 2, \"linecolor\": \"white\", \"showbackground\": true, \"ticks\": \"\", \"zerolinecolor\": \"white\"}, \"zaxis\": {\"backgroundcolor\": \"#E5ECF6\", \"gridcolor\": \"white\", \"gridwidth\": 2, \"linecolor\": \"white\", \"showbackground\": true, \"ticks\": \"\", \"zerolinecolor\": \"white\"}}, \"shapedefaults\": {\"line\": {\"color\": \"#2a3f5f\"}}, \"ternary\": {\"aaxis\": {\"gridcolor\": \"white\", \"linecolor\": \"white\", \"ticks\": \"\"}, \"baxis\": {\"gridcolor\": \"white\", \"linecolor\": \"white\", \"ticks\": \"\"}, \"bgcolor\": \"#E5ECF6\", \"caxis\": {\"gridcolor\": \"white\", \"linecolor\": \"white\", \"ticks\": \"\"}}, \"title\": {\"x\": 0.05}, \"xaxis\": {\"automargin\": true, \"gridcolor\": \"white\", \"linecolor\": \"white\", \"ticks\": \"\", \"title\": {\"standoff\": 15}, \"zerolinecolor\": \"white\", \"zerolinewidth\": 2}, \"yaxis\": {\"automargin\": true, \"gridcolor\": \"white\", \"linecolor\": \"white\", \"ticks\": \"\", \"title\": {\"standoff\": 15}, \"zerolinecolor\": \"white\", \"zerolinewidth\": 2}}}, \"title\": {\"text\": \"Lexical Richness by Story\", \"x\": 0.4, \"xanchor\": \"center\", \"y\": 0.95, \"yanchor\": \"top\"}, \"xaxis\": {\"anchor\": \"y\", \"domain\": [0.0, 1.0], \"tickangle\": 45, \"tickfont\": {\"family\": \"Rockwell\", \"size\": 10}, \"title\": {\"text\": \"Lexical Richness\"}}, \"yaxis\": {\"anchor\": \"x\", \"domain\": [0.0, 1.0], \"title\": {\"text\": \"Words\"}}},\n",
       "                        {\"responsive\": true}\n",
       "                    ).then(function(){\n",
       "                            \n",
       "var gd = document.getElementById('ba6941fc-5674-4f28-82b9-f0e9dd3ce251');\n",
       "var x = new MutationObserver(function (mutations, observer) {{\n",
       "        var display = window.getComputedStyle(gd).display;\n",
       "        if (!display || display === 'none') {{\n",
       "            console.log([gd, 'removed!']);\n",
       "            Plotly.purge(gd);\n",
       "            observer.disconnect();\n",
       "        }}\n",
       "}});\n",
       "\n",
       "// Listen for the removal of the full notebook cells\n",
       "var notebookContainer = gd.closest('#notebook-container');\n",
       "if (notebookContainer) {{\n",
       "    x.observe(notebookContainer, {childList: true});\n",
       "}}\n",
       "\n",
       "// Listen for the clearing of the current output cell\n",
       "var outputEl = gd.closest('.output');\n",
       "if (outputEl) {{\n",
       "    x.observe(outputEl, {childList: true});\n",
       "}}\n",
       "\n",
       "                        })\n",
       "                };\n",
       "                });\n",
       "            </script>\n",
       "        </div>"
      ]
     },
     "metadata": {},
     "output_type": "display_data"
    }
   ],
   "source": [
    "fig = px.bar(df, x='story_title', y='lexical_richness', color = 'book')\n",
    "fig.update_layout(\n",
    "    title={\n",
    "        'text': \"Lexical Richness by Story\",\n",
    "        'y':0.95,\n",
    "        'x':0.40,\n",
    "        'xanchor': 'center',\n",
    "        'yanchor': 'top'\n",
    "    })\n",
    "fig.update_xaxes(title_text='Lexical Richness', tickangle=45, tickfont=dict(family='Rockwell', size=10))\n",
    "fig.update_yaxes(title_text='Words')\n",
    "fig.show()"
   ]
  },
  {
   "cell_type": "code",
   "execution_count": 261,
   "metadata": {},
   "outputs": [
    {
     "data": {
      "application/vnd.plotly.v1+json": {
       "config": {
        "plotlyServerURL": "https://plot.ly"
       },
       "data": [
        {
         "alignmentgroup": "True",
         "hoverlabel": {
          "namelength": 0
         },
         "hovertemplate": "book=Sklepy Cynamonowe<br>story_title=%{x}<br>keystrokes=%{y}",
         "legendgroup": "book=Sklepy Cynamonowe",
         "marker": {
          "color": "#636efa"
         },
         "name": "book=Sklepy Cynamonowe",
         "offsetgroup": "book=Sklepy Cynamonowe",
         "orientation": "v",
         "showlegend": true,
         "textposition": "auto",
         "type": "bar",
         "x": [
          "Sierpień",
          "Nawiedzenie",
          "Ptaki",
          "Manekiny",
          "Traktat o Manekinach albo Wtórna Księga Rodzaju",
          "Nemrod",
          "Pan",
          "Pan Karol",
          "Sklepy Cynamonowe",
          "Ulica Krokodyli",
          "Karakony",
          "Wichura",
          "Noc Wielkiego Sezonu"
         ],
         "xaxis": "x",
         "y": [
          13290,
          10506,
          7569,
          10357,
          16099,
          6206,
          5135,
          4493,
          17591,
          16209,
          6325,
          9089,
          18274
         ],
         "yaxis": "y"
        },
        {
         "alignmentgroup": "True",
         "hoverlabel": {
          "namelength": 0
         },
         "hovertemplate": "book=Sanatorium Pod Klepysdrą<br>story_title=%{x}<br>keystrokes=%{y}",
         "legendgroup": "book=Sanatorium Pod Klepysdrą",
         "marker": {
          "color": "#EF553B"
         },
         "name": "book=Sanatorium Pod Klepysdrą",
         "offsetgroup": "book=Sanatorium Pod Klepysdrą",
         "orientation": "v",
         "showlegend": true,
         "textposition": "auto",
         "type": "bar",
         "x": [
          "Księga",
          "Genialna Epoka ",
          "Wiosna",
          "Noc lipcowa",
          "Mój ojciec wstępuje do strażaków",
          "Druga jesień",
          "Martwy sezon",
          "Sanatorium pod Klepsydrą",
          "Dodo",
          "Edzio",
          "Emeryt",
          "Samotność",
          "Ostatnia ucieczka ojca"
         ],
         "xaxis": "x",
         "y": [
          20120,
          17607,
          18973,
          10087,
          11314,
          6983,
          26036,
          8702,
          11912,
          11161,
          26855,
          3625,
          8952
         ],
         "yaxis": "y"
        }
       ],
       "layout": {
        "barmode": "relative",
        "legend": {
         "tracegroupgap": 0
        },
        "margin": {
         "t": 60
        },
        "template": {
         "data": {
          "bar": [
           {
            "error_x": {
             "color": "#2a3f5f"
            },
            "error_y": {
             "color": "#2a3f5f"
            },
            "marker": {
             "line": {
              "color": "#E5ECF6",
              "width": 0.5
             }
            },
            "type": "bar"
           }
          ],
          "barpolar": [
           {
            "marker": {
             "line": {
              "color": "#E5ECF6",
              "width": 0.5
             }
            },
            "type": "barpolar"
           }
          ],
          "carpet": [
           {
            "aaxis": {
             "endlinecolor": "#2a3f5f",
             "gridcolor": "white",
             "linecolor": "white",
             "minorgridcolor": "white",
             "startlinecolor": "#2a3f5f"
            },
            "baxis": {
             "endlinecolor": "#2a3f5f",
             "gridcolor": "white",
             "linecolor": "white",
             "minorgridcolor": "white",
             "startlinecolor": "#2a3f5f"
            },
            "type": "carpet"
           }
          ],
          "choropleth": [
           {
            "colorbar": {
             "outlinewidth": 0,
             "ticks": ""
            },
            "type": "choropleth"
           }
          ],
          "contour": [
           {
            "colorbar": {
             "outlinewidth": 0,
             "ticks": ""
            },
            "colorscale": [
             [
              0,
              "#0d0887"
             ],
             [
              0.1111111111111111,
              "#46039f"
             ],
             [
              0.2222222222222222,
              "#7201a8"
             ],
             [
              0.3333333333333333,
              "#9c179e"
             ],
             [
              0.4444444444444444,
              "#bd3786"
             ],
             [
              0.5555555555555556,
              "#d8576b"
             ],
             [
              0.6666666666666666,
              "#ed7953"
             ],
             [
              0.7777777777777778,
              "#fb9f3a"
             ],
             [
              0.8888888888888888,
              "#fdca26"
             ],
             [
              1,
              "#f0f921"
             ]
            ],
            "type": "contour"
           }
          ],
          "contourcarpet": [
           {
            "colorbar": {
             "outlinewidth": 0,
             "ticks": ""
            },
            "type": "contourcarpet"
           }
          ],
          "heatmap": [
           {
            "colorbar": {
             "outlinewidth": 0,
             "ticks": ""
            },
            "colorscale": [
             [
              0,
              "#0d0887"
             ],
             [
              0.1111111111111111,
              "#46039f"
             ],
             [
              0.2222222222222222,
              "#7201a8"
             ],
             [
              0.3333333333333333,
              "#9c179e"
             ],
             [
              0.4444444444444444,
              "#bd3786"
             ],
             [
              0.5555555555555556,
              "#d8576b"
             ],
             [
              0.6666666666666666,
              "#ed7953"
             ],
             [
              0.7777777777777778,
              "#fb9f3a"
             ],
             [
              0.8888888888888888,
              "#fdca26"
             ],
             [
              1,
              "#f0f921"
             ]
            ],
            "type": "heatmap"
           }
          ],
          "heatmapgl": [
           {
            "colorbar": {
             "outlinewidth": 0,
             "ticks": ""
            },
            "colorscale": [
             [
              0,
              "#0d0887"
             ],
             [
              0.1111111111111111,
              "#46039f"
             ],
             [
              0.2222222222222222,
              "#7201a8"
             ],
             [
              0.3333333333333333,
              "#9c179e"
             ],
             [
              0.4444444444444444,
              "#bd3786"
             ],
             [
              0.5555555555555556,
              "#d8576b"
             ],
             [
              0.6666666666666666,
              "#ed7953"
             ],
             [
              0.7777777777777778,
              "#fb9f3a"
             ],
             [
              0.8888888888888888,
              "#fdca26"
             ],
             [
              1,
              "#f0f921"
             ]
            ],
            "type": "heatmapgl"
           }
          ],
          "histogram": [
           {
            "marker": {
             "colorbar": {
              "outlinewidth": 0,
              "ticks": ""
             }
            },
            "type": "histogram"
           }
          ],
          "histogram2d": [
           {
            "colorbar": {
             "outlinewidth": 0,
             "ticks": ""
            },
            "colorscale": [
             [
              0,
              "#0d0887"
             ],
             [
              0.1111111111111111,
              "#46039f"
             ],
             [
              0.2222222222222222,
              "#7201a8"
             ],
             [
              0.3333333333333333,
              "#9c179e"
             ],
             [
              0.4444444444444444,
              "#bd3786"
             ],
             [
              0.5555555555555556,
              "#d8576b"
             ],
             [
              0.6666666666666666,
              "#ed7953"
             ],
             [
              0.7777777777777778,
              "#fb9f3a"
             ],
             [
              0.8888888888888888,
              "#fdca26"
             ],
             [
              1,
              "#f0f921"
             ]
            ],
            "type": "histogram2d"
           }
          ],
          "histogram2dcontour": [
           {
            "colorbar": {
             "outlinewidth": 0,
             "ticks": ""
            },
            "colorscale": [
             [
              0,
              "#0d0887"
             ],
             [
              0.1111111111111111,
              "#46039f"
             ],
             [
              0.2222222222222222,
              "#7201a8"
             ],
             [
              0.3333333333333333,
              "#9c179e"
             ],
             [
              0.4444444444444444,
              "#bd3786"
             ],
             [
              0.5555555555555556,
              "#d8576b"
             ],
             [
              0.6666666666666666,
              "#ed7953"
             ],
             [
              0.7777777777777778,
              "#fb9f3a"
             ],
             [
              0.8888888888888888,
              "#fdca26"
             ],
             [
              1,
              "#f0f921"
             ]
            ],
            "type": "histogram2dcontour"
           }
          ],
          "mesh3d": [
           {
            "colorbar": {
             "outlinewidth": 0,
             "ticks": ""
            },
            "type": "mesh3d"
           }
          ],
          "parcoords": [
           {
            "line": {
             "colorbar": {
              "outlinewidth": 0,
              "ticks": ""
             }
            },
            "type": "parcoords"
           }
          ],
          "pie": [
           {
            "automargin": true,
            "type": "pie"
           }
          ],
          "scatter": [
           {
            "marker": {
             "colorbar": {
              "outlinewidth": 0,
              "ticks": ""
             }
            },
            "type": "scatter"
           }
          ],
          "scatter3d": [
           {
            "line": {
             "colorbar": {
              "outlinewidth": 0,
              "ticks": ""
             }
            },
            "marker": {
             "colorbar": {
              "outlinewidth": 0,
              "ticks": ""
             }
            },
            "type": "scatter3d"
           }
          ],
          "scattercarpet": [
           {
            "marker": {
             "colorbar": {
              "outlinewidth": 0,
              "ticks": ""
             }
            },
            "type": "scattercarpet"
           }
          ],
          "scattergeo": [
           {
            "marker": {
             "colorbar": {
              "outlinewidth": 0,
              "ticks": ""
             }
            },
            "type": "scattergeo"
           }
          ],
          "scattergl": [
           {
            "marker": {
             "colorbar": {
              "outlinewidth": 0,
              "ticks": ""
             }
            },
            "type": "scattergl"
           }
          ],
          "scattermapbox": [
           {
            "marker": {
             "colorbar": {
              "outlinewidth": 0,
              "ticks": ""
             }
            },
            "type": "scattermapbox"
           }
          ],
          "scatterpolar": [
           {
            "marker": {
             "colorbar": {
              "outlinewidth": 0,
              "ticks": ""
             }
            },
            "type": "scatterpolar"
           }
          ],
          "scatterpolargl": [
           {
            "marker": {
             "colorbar": {
              "outlinewidth": 0,
              "ticks": ""
             }
            },
            "type": "scatterpolargl"
           }
          ],
          "scatterternary": [
           {
            "marker": {
             "colorbar": {
              "outlinewidth": 0,
              "ticks": ""
             }
            },
            "type": "scatterternary"
           }
          ],
          "surface": [
           {
            "colorbar": {
             "outlinewidth": 0,
             "ticks": ""
            },
            "colorscale": [
             [
              0,
              "#0d0887"
             ],
             [
              0.1111111111111111,
              "#46039f"
             ],
             [
              0.2222222222222222,
              "#7201a8"
             ],
             [
              0.3333333333333333,
              "#9c179e"
             ],
             [
              0.4444444444444444,
              "#bd3786"
             ],
             [
              0.5555555555555556,
              "#d8576b"
             ],
             [
              0.6666666666666666,
              "#ed7953"
             ],
             [
              0.7777777777777778,
              "#fb9f3a"
             ],
             [
              0.8888888888888888,
              "#fdca26"
             ],
             [
              1,
              "#f0f921"
             ]
            ],
            "type": "surface"
           }
          ],
          "table": [
           {
            "cells": {
             "fill": {
              "color": "#EBF0F8"
             },
             "line": {
              "color": "white"
             }
            },
            "header": {
             "fill": {
              "color": "#C8D4E3"
             },
             "line": {
              "color": "white"
             }
            },
            "type": "table"
           }
          ]
         },
         "layout": {
          "annotationdefaults": {
           "arrowcolor": "#2a3f5f",
           "arrowhead": 0,
           "arrowwidth": 1
          },
          "coloraxis": {
           "colorbar": {
            "outlinewidth": 0,
            "ticks": ""
           }
          },
          "colorscale": {
           "diverging": [
            [
             0,
             "#8e0152"
            ],
            [
             0.1,
             "#c51b7d"
            ],
            [
             0.2,
             "#de77ae"
            ],
            [
             0.3,
             "#f1b6da"
            ],
            [
             0.4,
             "#fde0ef"
            ],
            [
             0.5,
             "#f7f7f7"
            ],
            [
             0.6,
             "#e6f5d0"
            ],
            [
             0.7,
             "#b8e186"
            ],
            [
             0.8,
             "#7fbc41"
            ],
            [
             0.9,
             "#4d9221"
            ],
            [
             1,
             "#276419"
            ]
           ],
           "sequential": [
            [
             0,
             "#0d0887"
            ],
            [
             0.1111111111111111,
             "#46039f"
            ],
            [
             0.2222222222222222,
             "#7201a8"
            ],
            [
             0.3333333333333333,
             "#9c179e"
            ],
            [
             0.4444444444444444,
             "#bd3786"
            ],
            [
             0.5555555555555556,
             "#d8576b"
            ],
            [
             0.6666666666666666,
             "#ed7953"
            ],
            [
             0.7777777777777778,
             "#fb9f3a"
            ],
            [
             0.8888888888888888,
             "#fdca26"
            ],
            [
             1,
             "#f0f921"
            ]
           ],
           "sequentialminus": [
            [
             0,
             "#0d0887"
            ],
            [
             0.1111111111111111,
             "#46039f"
            ],
            [
             0.2222222222222222,
             "#7201a8"
            ],
            [
             0.3333333333333333,
             "#9c179e"
            ],
            [
             0.4444444444444444,
             "#bd3786"
            ],
            [
             0.5555555555555556,
             "#d8576b"
            ],
            [
             0.6666666666666666,
             "#ed7953"
            ],
            [
             0.7777777777777778,
             "#fb9f3a"
            ],
            [
             0.8888888888888888,
             "#fdca26"
            ],
            [
             1,
             "#f0f921"
            ]
           ]
          },
          "colorway": [
           "#636efa",
           "#EF553B",
           "#00cc96",
           "#ab63fa",
           "#FFA15A",
           "#19d3f3",
           "#FF6692",
           "#B6E880",
           "#FF97FF",
           "#FECB52"
          ],
          "font": {
           "color": "#2a3f5f"
          },
          "geo": {
           "bgcolor": "white",
           "lakecolor": "white",
           "landcolor": "#E5ECF6",
           "showlakes": true,
           "showland": true,
           "subunitcolor": "white"
          },
          "hoverlabel": {
           "align": "left"
          },
          "hovermode": "closest",
          "mapbox": {
           "style": "light"
          },
          "paper_bgcolor": "white",
          "plot_bgcolor": "#E5ECF6",
          "polar": {
           "angularaxis": {
            "gridcolor": "white",
            "linecolor": "white",
            "ticks": ""
           },
           "bgcolor": "#E5ECF6",
           "radialaxis": {
            "gridcolor": "white",
            "linecolor": "white",
            "ticks": ""
           }
          },
          "scene": {
           "xaxis": {
            "backgroundcolor": "#E5ECF6",
            "gridcolor": "white",
            "gridwidth": 2,
            "linecolor": "white",
            "showbackground": true,
            "ticks": "",
            "zerolinecolor": "white"
           },
           "yaxis": {
            "backgroundcolor": "#E5ECF6",
            "gridcolor": "white",
            "gridwidth": 2,
            "linecolor": "white",
            "showbackground": true,
            "ticks": "",
            "zerolinecolor": "white"
           },
           "zaxis": {
            "backgroundcolor": "#E5ECF6",
            "gridcolor": "white",
            "gridwidth": 2,
            "linecolor": "white",
            "showbackground": true,
            "ticks": "",
            "zerolinecolor": "white"
           }
          },
          "shapedefaults": {
           "line": {
            "color": "#2a3f5f"
           }
          },
          "ternary": {
           "aaxis": {
            "gridcolor": "white",
            "linecolor": "white",
            "ticks": ""
           },
           "baxis": {
            "gridcolor": "white",
            "linecolor": "white",
            "ticks": ""
           },
           "bgcolor": "#E5ECF6",
           "caxis": {
            "gridcolor": "white",
            "linecolor": "white",
            "ticks": ""
           }
          },
          "title": {
           "x": 0.05
          },
          "xaxis": {
           "automargin": true,
           "gridcolor": "white",
           "linecolor": "white",
           "ticks": "",
           "title": {
            "standoff": 15
           },
           "zerolinecolor": "white",
           "zerolinewidth": 2
          },
          "yaxis": {
           "automargin": true,
           "gridcolor": "white",
           "linecolor": "white",
           "ticks": "",
           "title": {
            "standoff": 15
           },
           "zerolinecolor": "white",
           "zerolinewidth": 2
          }
         }
        },
        "title": {
         "text": "Keystrokes by Story",
         "x": 0.4,
         "xanchor": "center",
         "y": 0.95,
         "yanchor": "top"
        },
        "xaxis": {
         "anchor": "y",
         "domain": [
          0,
          1
         ],
         "tickangle": 45,
         "tickfont": {
          "family": "Rockwell",
          "size": 10
         },
         "title": {
          "text": "Keystrokes"
         }
        },
        "yaxis": {
         "anchor": "x",
         "domain": [
          0,
          1
         ],
         "title": {
          "text": "Words"
         }
        }
       }
      },
      "text/html": [
       "<div>\n",
       "        \n",
       "        \n",
       "            <div id=\"d40c9072-5209-46e0-874b-e3a83712a967\" class=\"plotly-graph-div\" style=\"height:525px; width:100%;\"></div>\n",
       "            <script type=\"text/javascript\">\n",
       "                require([\"plotly\"], function(Plotly) {\n",
       "                    window.PLOTLYENV=window.PLOTLYENV || {};\n",
       "                    \n",
       "                if (document.getElementById(\"d40c9072-5209-46e0-874b-e3a83712a967\")) {\n",
       "                    Plotly.newPlot(\n",
       "                        'd40c9072-5209-46e0-874b-e3a83712a967',\n",
       "                        [{\"alignmentgroup\": \"True\", \"hoverlabel\": {\"namelength\": 0}, \"hovertemplate\": \"book=Sklepy Cynamonowe<br>story_title=%{x}<br>keystrokes=%{y}\", \"legendgroup\": \"book=Sklepy Cynamonowe\", \"marker\": {\"color\": \"#636efa\"}, \"name\": \"book=Sklepy Cynamonowe\", \"offsetgroup\": \"book=Sklepy Cynamonowe\", \"orientation\": \"v\", \"showlegend\": true, \"textposition\": \"auto\", \"type\": \"bar\", \"x\": [\"Sierpie\\u0144\", \"Nawiedzenie\", \"Ptaki\", \"Manekiny\", \"Traktat o Manekinach albo Wt\\u00f3rna Ksi\\u0119ga Rodzaju\", \"Nemrod\", \"Pan\", \"Pan Karol\", \"Sklepy Cynamonowe\", \"Ulica Krokodyli\", \"Karakony\", \"Wichura\", \"Noc Wielkiego Sezonu\"], \"xaxis\": \"x\", \"y\": [13290, 10506, 7569, 10357, 16099, 6206, 5135, 4493, 17591, 16209, 6325, 9089, 18274], \"yaxis\": \"y\"}, {\"alignmentgroup\": \"True\", \"hoverlabel\": {\"namelength\": 0}, \"hovertemplate\": \"book=Sanatorium Pod Klepysdr\\u0105<br>story_title=%{x}<br>keystrokes=%{y}\", \"legendgroup\": \"book=Sanatorium Pod Klepysdr\\u0105\", \"marker\": {\"color\": \"#EF553B\"}, \"name\": \"book=Sanatorium Pod Klepysdr\\u0105\", \"offsetgroup\": \"book=Sanatorium Pod Klepysdr\\u0105\", \"orientation\": \"v\", \"showlegend\": true, \"textposition\": \"auto\", \"type\": \"bar\", \"x\": [\"Ksi\\u0119ga\", \"Genialna Epoka \", \"Wiosna\", \"Noc lipcowa\", \"M\\u00f3j ojciec wst\\u0119puje do stra\\u017cak\\u00f3w\", \"Druga jesie\\u0144\", \"Martwy sezon\", \"Sanatorium pod Klepsydr\\u0105\", \"Dodo\", \"Edzio\", \"Emeryt\", \"Samotno\\u015b\\u0107\", \"Ostatnia ucieczka ojca\"], \"xaxis\": \"x\", \"y\": [20120, 17607, 18973, 10087, 11314, 6983, 26036, 8702, 11912, 11161, 26855, 3625, 8952], \"yaxis\": \"y\"}],\n",
       "                        {\"barmode\": \"relative\", \"legend\": {\"tracegroupgap\": 0}, \"margin\": {\"t\": 60}, \"template\": {\"data\": {\"bar\": [{\"error_x\": {\"color\": \"#2a3f5f\"}, \"error_y\": {\"color\": \"#2a3f5f\"}, \"marker\": {\"line\": {\"color\": \"#E5ECF6\", \"width\": 0.5}}, \"type\": \"bar\"}], \"barpolar\": [{\"marker\": {\"line\": {\"color\": \"#E5ECF6\", \"width\": 0.5}}, \"type\": \"barpolar\"}], \"carpet\": [{\"aaxis\": {\"endlinecolor\": \"#2a3f5f\", \"gridcolor\": \"white\", \"linecolor\": \"white\", \"minorgridcolor\": \"white\", \"startlinecolor\": \"#2a3f5f\"}, \"baxis\": {\"endlinecolor\": \"#2a3f5f\", \"gridcolor\": \"white\", \"linecolor\": \"white\", \"minorgridcolor\": \"white\", \"startlinecolor\": \"#2a3f5f\"}, \"type\": \"carpet\"}], \"choropleth\": [{\"colorbar\": {\"outlinewidth\": 0, \"ticks\": \"\"}, \"type\": \"choropleth\"}], \"contour\": [{\"colorbar\": {\"outlinewidth\": 0, \"ticks\": \"\"}, \"colorscale\": [[0.0, \"#0d0887\"], [0.1111111111111111, \"#46039f\"], [0.2222222222222222, \"#7201a8\"], [0.3333333333333333, \"#9c179e\"], [0.4444444444444444, \"#bd3786\"], [0.5555555555555556, \"#d8576b\"], [0.6666666666666666, \"#ed7953\"], [0.7777777777777778, \"#fb9f3a\"], [0.8888888888888888, \"#fdca26\"], [1.0, \"#f0f921\"]], \"type\": \"contour\"}], \"contourcarpet\": [{\"colorbar\": {\"outlinewidth\": 0, \"ticks\": \"\"}, \"type\": \"contourcarpet\"}], \"heatmap\": [{\"colorbar\": {\"outlinewidth\": 0, \"ticks\": \"\"}, \"colorscale\": [[0.0, \"#0d0887\"], [0.1111111111111111, \"#46039f\"], [0.2222222222222222, \"#7201a8\"], [0.3333333333333333, \"#9c179e\"], [0.4444444444444444, \"#bd3786\"], [0.5555555555555556, \"#d8576b\"], [0.6666666666666666, \"#ed7953\"], [0.7777777777777778, \"#fb9f3a\"], [0.8888888888888888, \"#fdca26\"], [1.0, \"#f0f921\"]], \"type\": \"heatmap\"}], \"heatmapgl\": [{\"colorbar\": {\"outlinewidth\": 0, \"ticks\": \"\"}, \"colorscale\": [[0.0, \"#0d0887\"], [0.1111111111111111, \"#46039f\"], [0.2222222222222222, \"#7201a8\"], [0.3333333333333333, \"#9c179e\"], [0.4444444444444444, \"#bd3786\"], [0.5555555555555556, \"#d8576b\"], [0.6666666666666666, \"#ed7953\"], [0.7777777777777778, \"#fb9f3a\"], [0.8888888888888888, \"#fdca26\"], [1.0, \"#f0f921\"]], \"type\": \"heatmapgl\"}], \"histogram\": [{\"marker\": {\"colorbar\": {\"outlinewidth\": 0, \"ticks\": \"\"}}, \"type\": \"histogram\"}], \"histogram2d\": [{\"colorbar\": {\"outlinewidth\": 0, \"ticks\": \"\"}, \"colorscale\": [[0.0, \"#0d0887\"], [0.1111111111111111, \"#46039f\"], [0.2222222222222222, \"#7201a8\"], [0.3333333333333333, \"#9c179e\"], [0.4444444444444444, \"#bd3786\"], [0.5555555555555556, \"#d8576b\"], [0.6666666666666666, \"#ed7953\"], [0.7777777777777778, \"#fb9f3a\"], [0.8888888888888888, \"#fdca26\"], [1.0, \"#f0f921\"]], \"type\": \"histogram2d\"}], \"histogram2dcontour\": [{\"colorbar\": {\"outlinewidth\": 0, \"ticks\": \"\"}, \"colorscale\": [[0.0, \"#0d0887\"], [0.1111111111111111, \"#46039f\"], [0.2222222222222222, \"#7201a8\"], [0.3333333333333333, \"#9c179e\"], [0.4444444444444444, \"#bd3786\"], [0.5555555555555556, \"#d8576b\"], [0.6666666666666666, \"#ed7953\"], [0.7777777777777778, \"#fb9f3a\"], [0.8888888888888888, \"#fdca26\"], [1.0, \"#f0f921\"]], \"type\": \"histogram2dcontour\"}], \"mesh3d\": [{\"colorbar\": {\"outlinewidth\": 0, \"ticks\": \"\"}, \"type\": \"mesh3d\"}], \"parcoords\": [{\"line\": {\"colorbar\": {\"outlinewidth\": 0, \"ticks\": \"\"}}, \"type\": \"parcoords\"}], \"pie\": [{\"automargin\": true, \"type\": \"pie\"}], \"scatter\": [{\"marker\": {\"colorbar\": {\"outlinewidth\": 0, \"ticks\": \"\"}}, \"type\": \"scatter\"}], \"scatter3d\": [{\"line\": {\"colorbar\": {\"outlinewidth\": 0, \"ticks\": \"\"}}, \"marker\": {\"colorbar\": {\"outlinewidth\": 0, \"ticks\": \"\"}}, \"type\": \"scatter3d\"}], \"scattercarpet\": [{\"marker\": {\"colorbar\": {\"outlinewidth\": 0, \"ticks\": \"\"}}, \"type\": \"scattercarpet\"}], \"scattergeo\": [{\"marker\": {\"colorbar\": {\"outlinewidth\": 0, \"ticks\": \"\"}}, \"type\": \"scattergeo\"}], \"scattergl\": [{\"marker\": {\"colorbar\": {\"outlinewidth\": 0, \"ticks\": \"\"}}, \"type\": \"scattergl\"}], \"scattermapbox\": [{\"marker\": {\"colorbar\": {\"outlinewidth\": 0, \"ticks\": \"\"}}, \"type\": \"scattermapbox\"}], \"scatterpolar\": [{\"marker\": {\"colorbar\": {\"outlinewidth\": 0, \"ticks\": \"\"}}, \"type\": \"scatterpolar\"}], \"scatterpolargl\": [{\"marker\": {\"colorbar\": {\"outlinewidth\": 0, \"ticks\": \"\"}}, \"type\": \"scatterpolargl\"}], \"scatterternary\": [{\"marker\": {\"colorbar\": {\"outlinewidth\": 0, \"ticks\": \"\"}}, \"type\": \"scatterternary\"}], \"surface\": [{\"colorbar\": {\"outlinewidth\": 0, \"ticks\": \"\"}, \"colorscale\": [[0.0, \"#0d0887\"], [0.1111111111111111, \"#46039f\"], [0.2222222222222222, \"#7201a8\"], [0.3333333333333333, \"#9c179e\"], [0.4444444444444444, \"#bd3786\"], [0.5555555555555556, \"#d8576b\"], [0.6666666666666666, \"#ed7953\"], [0.7777777777777778, \"#fb9f3a\"], [0.8888888888888888, \"#fdca26\"], [1.0, \"#f0f921\"]], \"type\": \"surface\"}], \"table\": [{\"cells\": {\"fill\": {\"color\": \"#EBF0F8\"}, \"line\": {\"color\": \"white\"}}, \"header\": {\"fill\": {\"color\": \"#C8D4E3\"}, \"line\": {\"color\": \"white\"}}, \"type\": \"table\"}]}, \"layout\": {\"annotationdefaults\": {\"arrowcolor\": \"#2a3f5f\", \"arrowhead\": 0, \"arrowwidth\": 1}, \"coloraxis\": {\"colorbar\": {\"outlinewidth\": 0, \"ticks\": \"\"}}, \"colorscale\": {\"diverging\": [[0, \"#8e0152\"], [0.1, \"#c51b7d\"], [0.2, \"#de77ae\"], [0.3, \"#f1b6da\"], [0.4, \"#fde0ef\"], [0.5, \"#f7f7f7\"], [0.6, \"#e6f5d0\"], [0.7, \"#b8e186\"], [0.8, \"#7fbc41\"], [0.9, \"#4d9221\"], [1, \"#276419\"]], \"sequential\": [[0.0, \"#0d0887\"], [0.1111111111111111, \"#46039f\"], [0.2222222222222222, \"#7201a8\"], [0.3333333333333333, \"#9c179e\"], [0.4444444444444444, \"#bd3786\"], [0.5555555555555556, \"#d8576b\"], [0.6666666666666666, \"#ed7953\"], [0.7777777777777778, \"#fb9f3a\"], [0.8888888888888888, \"#fdca26\"], [1.0, \"#f0f921\"]], \"sequentialminus\": [[0.0, \"#0d0887\"], [0.1111111111111111, \"#46039f\"], [0.2222222222222222, \"#7201a8\"], [0.3333333333333333, \"#9c179e\"], [0.4444444444444444, \"#bd3786\"], [0.5555555555555556, \"#d8576b\"], [0.6666666666666666, \"#ed7953\"], [0.7777777777777778, \"#fb9f3a\"], [0.8888888888888888, \"#fdca26\"], [1.0, \"#f0f921\"]]}, \"colorway\": [\"#636efa\", \"#EF553B\", \"#00cc96\", \"#ab63fa\", \"#FFA15A\", \"#19d3f3\", \"#FF6692\", \"#B6E880\", \"#FF97FF\", \"#FECB52\"], \"font\": {\"color\": \"#2a3f5f\"}, \"geo\": {\"bgcolor\": \"white\", \"lakecolor\": \"white\", \"landcolor\": \"#E5ECF6\", \"showlakes\": true, \"showland\": true, \"subunitcolor\": \"white\"}, \"hoverlabel\": {\"align\": \"left\"}, \"hovermode\": \"closest\", \"mapbox\": {\"style\": \"light\"}, \"paper_bgcolor\": \"white\", \"plot_bgcolor\": \"#E5ECF6\", \"polar\": {\"angularaxis\": {\"gridcolor\": \"white\", \"linecolor\": \"white\", \"ticks\": \"\"}, \"bgcolor\": \"#E5ECF6\", \"radialaxis\": {\"gridcolor\": \"white\", \"linecolor\": \"white\", \"ticks\": \"\"}}, \"scene\": {\"xaxis\": {\"backgroundcolor\": \"#E5ECF6\", \"gridcolor\": \"white\", \"gridwidth\": 2, \"linecolor\": \"white\", \"showbackground\": true, \"ticks\": \"\", \"zerolinecolor\": \"white\"}, \"yaxis\": {\"backgroundcolor\": \"#E5ECF6\", \"gridcolor\": \"white\", \"gridwidth\": 2, \"linecolor\": \"white\", \"showbackground\": true, \"ticks\": \"\", \"zerolinecolor\": \"white\"}, \"zaxis\": {\"backgroundcolor\": \"#E5ECF6\", \"gridcolor\": \"white\", \"gridwidth\": 2, \"linecolor\": \"white\", \"showbackground\": true, \"ticks\": \"\", \"zerolinecolor\": \"white\"}}, \"shapedefaults\": {\"line\": {\"color\": \"#2a3f5f\"}}, \"ternary\": {\"aaxis\": {\"gridcolor\": \"white\", \"linecolor\": \"white\", \"ticks\": \"\"}, \"baxis\": {\"gridcolor\": \"white\", \"linecolor\": \"white\", \"ticks\": \"\"}, \"bgcolor\": \"#E5ECF6\", \"caxis\": {\"gridcolor\": \"white\", \"linecolor\": \"white\", \"ticks\": \"\"}}, \"title\": {\"x\": 0.05}, \"xaxis\": {\"automargin\": true, \"gridcolor\": \"white\", \"linecolor\": \"white\", \"ticks\": \"\", \"title\": {\"standoff\": 15}, \"zerolinecolor\": \"white\", \"zerolinewidth\": 2}, \"yaxis\": {\"automargin\": true, \"gridcolor\": \"white\", \"linecolor\": \"white\", \"ticks\": \"\", \"title\": {\"standoff\": 15}, \"zerolinecolor\": \"white\", \"zerolinewidth\": 2}}}, \"title\": {\"text\": \"Keystrokes by Story\", \"x\": 0.4, \"xanchor\": \"center\", \"y\": 0.95, \"yanchor\": \"top\"}, \"xaxis\": {\"anchor\": \"y\", \"domain\": [0.0, 1.0], \"tickangle\": 45, \"tickfont\": {\"family\": \"Rockwell\", \"size\": 10}, \"title\": {\"text\": \"Keystrokes\"}}, \"yaxis\": {\"anchor\": \"x\", \"domain\": [0.0, 1.0], \"title\": {\"text\": \"Words\"}}},\n",
       "                        {\"responsive\": true}\n",
       "                    ).then(function(){\n",
       "                            \n",
       "var gd = document.getElementById('d40c9072-5209-46e0-874b-e3a83712a967');\n",
       "var x = new MutationObserver(function (mutations, observer) {{\n",
       "        var display = window.getComputedStyle(gd).display;\n",
       "        if (!display || display === 'none') {{\n",
       "            console.log([gd, 'removed!']);\n",
       "            Plotly.purge(gd);\n",
       "            observer.disconnect();\n",
       "        }}\n",
       "}});\n",
       "\n",
       "// Listen for the removal of the full notebook cells\n",
       "var notebookContainer = gd.closest('#notebook-container');\n",
       "if (notebookContainer) {{\n",
       "    x.observe(notebookContainer, {childList: true});\n",
       "}}\n",
       "\n",
       "// Listen for the clearing of the current output cell\n",
       "var outputEl = gd.closest('.output');\n",
       "if (outputEl) {{\n",
       "    x.observe(outputEl, {childList: true});\n",
       "}}\n",
       "\n",
       "                        })\n",
       "                };\n",
       "                });\n",
       "            </script>\n",
       "        </div>"
      ]
     },
     "metadata": {},
     "output_type": "display_data"
    }
   ],
   "source": [
    "fig = px.bar(df, x='story_title', y='keystrokes', color = 'book')\n",
    "fig.update_layout(\n",
    "    title={\n",
    "        'text': \"Keystrokes by Story\",\n",
    "        'y':0.95,\n",
    "        'x':0.40,\n",
    "        'xanchor': 'center',\n",
    "        'yanchor': 'top'\n",
    "    })\n",
    "fig.update_xaxes(title_text='Keystrokes', tickangle=45, tickfont=dict(family='Rockwell', size=10))\n",
    "fig.update_yaxes(title_text='Words')\n",
    "fig.show()"
   ]
  },
  {
   "cell_type": "code",
   "execution_count": 262,
   "metadata": {},
   "outputs": [
    {
     "data": {
      "application/vnd.plotly.v1+json": {
       "config": {
        "plotlyServerURL": "https://plot.ly"
       },
       "data": [
        {
         "alignmentgroup": "True",
         "hoverlabel": {
          "namelength": 0
         },
         "hovertemplate": "book=Sklepy Cynamonowe<br>story_title=%{x}<br>total_hapax_words=%{y}",
         "legendgroup": "book=Sklepy Cynamonowe",
         "marker": {
          "color": "#636efa"
         },
         "name": "book=Sklepy Cynamonowe",
         "offsetgroup": "book=Sklepy Cynamonowe",
         "orientation": "v",
         "showlegend": true,
         "textposition": "auto",
         "type": "bar",
         "x": [
          "Sierpień",
          "Nawiedzenie",
          "Ptaki",
          "Manekiny",
          "Traktat o Manekinach albo Wtórna Księga Rodzaju",
          "Nemrod",
          "Pan",
          "Pan Karol",
          "Sklepy Cynamonowe",
          "Ulica Krokodyli",
          "Karakony",
          "Wichura",
          "Noc Wielkiego Sezonu"
         ],
         "xaxis": "x",
         "y": [
          854,
          634,
          567,
          703,
          892,
          428,
          363,
          314,
          917,
          925,
          445,
          563,
          989
         ],
         "yaxis": "y"
        },
        {
         "alignmentgroup": "True",
         "hoverlabel": {
          "namelength": 0
         },
         "hovertemplate": "book=Sanatorium Pod Klepysdrą<br>story_title=%{x}<br>total_hapax_words=%{y}",
         "legendgroup": "book=Sanatorium Pod Klepysdrą",
         "marker": {
          "color": "#EF553B"
         },
         "name": "book=Sanatorium Pod Klepysdrą",
         "offsetgroup": "book=Sanatorium Pod Klepysdrą",
         "orientation": "v",
         "showlegend": true,
         "textposition": "auto",
         "type": "bar",
         "x": [
          "Księga",
          "Genialna Epoka ",
          "Wiosna",
          "Noc lipcowa",
          "Mój ojciec wstępuje do strażaków",
          "Druga jesień",
          "Martwy sezon",
          "Sanatorium pod Klepsydrą",
          "Dodo",
          "Edzio",
          "Emeryt",
          "Samotność",
          "Ostatnia ucieczka ojca"
         ],
         "xaxis": "x",
         "y": [
          1129,
          960,
          1022,
          652,
          721,
          495,
          1313,
          542,
          678,
          688,
          1344,
          272,
          604
         ],
         "yaxis": "y"
        }
       ],
       "layout": {
        "barmode": "relative",
        "legend": {
         "tracegroupgap": 0
        },
        "margin": {
         "t": 60
        },
        "template": {
         "data": {
          "bar": [
           {
            "error_x": {
             "color": "#2a3f5f"
            },
            "error_y": {
             "color": "#2a3f5f"
            },
            "marker": {
             "line": {
              "color": "#E5ECF6",
              "width": 0.5
             }
            },
            "type": "bar"
           }
          ],
          "barpolar": [
           {
            "marker": {
             "line": {
              "color": "#E5ECF6",
              "width": 0.5
             }
            },
            "type": "barpolar"
           }
          ],
          "carpet": [
           {
            "aaxis": {
             "endlinecolor": "#2a3f5f",
             "gridcolor": "white",
             "linecolor": "white",
             "minorgridcolor": "white",
             "startlinecolor": "#2a3f5f"
            },
            "baxis": {
             "endlinecolor": "#2a3f5f",
             "gridcolor": "white",
             "linecolor": "white",
             "minorgridcolor": "white",
             "startlinecolor": "#2a3f5f"
            },
            "type": "carpet"
           }
          ],
          "choropleth": [
           {
            "colorbar": {
             "outlinewidth": 0,
             "ticks": ""
            },
            "type": "choropleth"
           }
          ],
          "contour": [
           {
            "colorbar": {
             "outlinewidth": 0,
             "ticks": ""
            },
            "colorscale": [
             [
              0,
              "#0d0887"
             ],
             [
              0.1111111111111111,
              "#46039f"
             ],
             [
              0.2222222222222222,
              "#7201a8"
             ],
             [
              0.3333333333333333,
              "#9c179e"
             ],
             [
              0.4444444444444444,
              "#bd3786"
             ],
             [
              0.5555555555555556,
              "#d8576b"
             ],
             [
              0.6666666666666666,
              "#ed7953"
             ],
             [
              0.7777777777777778,
              "#fb9f3a"
             ],
             [
              0.8888888888888888,
              "#fdca26"
             ],
             [
              1,
              "#f0f921"
             ]
            ],
            "type": "contour"
           }
          ],
          "contourcarpet": [
           {
            "colorbar": {
             "outlinewidth": 0,
             "ticks": ""
            },
            "type": "contourcarpet"
           }
          ],
          "heatmap": [
           {
            "colorbar": {
             "outlinewidth": 0,
             "ticks": ""
            },
            "colorscale": [
             [
              0,
              "#0d0887"
             ],
             [
              0.1111111111111111,
              "#46039f"
             ],
             [
              0.2222222222222222,
              "#7201a8"
             ],
             [
              0.3333333333333333,
              "#9c179e"
             ],
             [
              0.4444444444444444,
              "#bd3786"
             ],
             [
              0.5555555555555556,
              "#d8576b"
             ],
             [
              0.6666666666666666,
              "#ed7953"
             ],
             [
              0.7777777777777778,
              "#fb9f3a"
             ],
             [
              0.8888888888888888,
              "#fdca26"
             ],
             [
              1,
              "#f0f921"
             ]
            ],
            "type": "heatmap"
           }
          ],
          "heatmapgl": [
           {
            "colorbar": {
             "outlinewidth": 0,
             "ticks": ""
            },
            "colorscale": [
             [
              0,
              "#0d0887"
             ],
             [
              0.1111111111111111,
              "#46039f"
             ],
             [
              0.2222222222222222,
              "#7201a8"
             ],
             [
              0.3333333333333333,
              "#9c179e"
             ],
             [
              0.4444444444444444,
              "#bd3786"
             ],
             [
              0.5555555555555556,
              "#d8576b"
             ],
             [
              0.6666666666666666,
              "#ed7953"
             ],
             [
              0.7777777777777778,
              "#fb9f3a"
             ],
             [
              0.8888888888888888,
              "#fdca26"
             ],
             [
              1,
              "#f0f921"
             ]
            ],
            "type": "heatmapgl"
           }
          ],
          "histogram": [
           {
            "marker": {
             "colorbar": {
              "outlinewidth": 0,
              "ticks": ""
             }
            },
            "type": "histogram"
           }
          ],
          "histogram2d": [
           {
            "colorbar": {
             "outlinewidth": 0,
             "ticks": ""
            },
            "colorscale": [
             [
              0,
              "#0d0887"
             ],
             [
              0.1111111111111111,
              "#46039f"
             ],
             [
              0.2222222222222222,
              "#7201a8"
             ],
             [
              0.3333333333333333,
              "#9c179e"
             ],
             [
              0.4444444444444444,
              "#bd3786"
             ],
             [
              0.5555555555555556,
              "#d8576b"
             ],
             [
              0.6666666666666666,
              "#ed7953"
             ],
             [
              0.7777777777777778,
              "#fb9f3a"
             ],
             [
              0.8888888888888888,
              "#fdca26"
             ],
             [
              1,
              "#f0f921"
             ]
            ],
            "type": "histogram2d"
           }
          ],
          "histogram2dcontour": [
           {
            "colorbar": {
             "outlinewidth": 0,
             "ticks": ""
            },
            "colorscale": [
             [
              0,
              "#0d0887"
             ],
             [
              0.1111111111111111,
              "#46039f"
             ],
             [
              0.2222222222222222,
              "#7201a8"
             ],
             [
              0.3333333333333333,
              "#9c179e"
             ],
             [
              0.4444444444444444,
              "#bd3786"
             ],
             [
              0.5555555555555556,
              "#d8576b"
             ],
             [
              0.6666666666666666,
              "#ed7953"
             ],
             [
              0.7777777777777778,
              "#fb9f3a"
             ],
             [
              0.8888888888888888,
              "#fdca26"
             ],
             [
              1,
              "#f0f921"
             ]
            ],
            "type": "histogram2dcontour"
           }
          ],
          "mesh3d": [
           {
            "colorbar": {
             "outlinewidth": 0,
             "ticks": ""
            },
            "type": "mesh3d"
           }
          ],
          "parcoords": [
           {
            "line": {
             "colorbar": {
              "outlinewidth": 0,
              "ticks": ""
             }
            },
            "type": "parcoords"
           }
          ],
          "pie": [
           {
            "automargin": true,
            "type": "pie"
           }
          ],
          "scatter": [
           {
            "marker": {
             "colorbar": {
              "outlinewidth": 0,
              "ticks": ""
             }
            },
            "type": "scatter"
           }
          ],
          "scatter3d": [
           {
            "line": {
             "colorbar": {
              "outlinewidth": 0,
              "ticks": ""
             }
            },
            "marker": {
             "colorbar": {
              "outlinewidth": 0,
              "ticks": ""
             }
            },
            "type": "scatter3d"
           }
          ],
          "scattercarpet": [
           {
            "marker": {
             "colorbar": {
              "outlinewidth": 0,
              "ticks": ""
             }
            },
            "type": "scattercarpet"
           }
          ],
          "scattergeo": [
           {
            "marker": {
             "colorbar": {
              "outlinewidth": 0,
              "ticks": ""
             }
            },
            "type": "scattergeo"
           }
          ],
          "scattergl": [
           {
            "marker": {
             "colorbar": {
              "outlinewidth": 0,
              "ticks": ""
             }
            },
            "type": "scattergl"
           }
          ],
          "scattermapbox": [
           {
            "marker": {
             "colorbar": {
              "outlinewidth": 0,
              "ticks": ""
             }
            },
            "type": "scattermapbox"
           }
          ],
          "scatterpolar": [
           {
            "marker": {
             "colorbar": {
              "outlinewidth": 0,
              "ticks": ""
             }
            },
            "type": "scatterpolar"
           }
          ],
          "scatterpolargl": [
           {
            "marker": {
             "colorbar": {
              "outlinewidth": 0,
              "ticks": ""
             }
            },
            "type": "scatterpolargl"
           }
          ],
          "scatterternary": [
           {
            "marker": {
             "colorbar": {
              "outlinewidth": 0,
              "ticks": ""
             }
            },
            "type": "scatterternary"
           }
          ],
          "surface": [
           {
            "colorbar": {
             "outlinewidth": 0,
             "ticks": ""
            },
            "colorscale": [
             [
              0,
              "#0d0887"
             ],
             [
              0.1111111111111111,
              "#46039f"
             ],
             [
              0.2222222222222222,
              "#7201a8"
             ],
             [
              0.3333333333333333,
              "#9c179e"
             ],
             [
              0.4444444444444444,
              "#bd3786"
             ],
             [
              0.5555555555555556,
              "#d8576b"
             ],
             [
              0.6666666666666666,
              "#ed7953"
             ],
             [
              0.7777777777777778,
              "#fb9f3a"
             ],
             [
              0.8888888888888888,
              "#fdca26"
             ],
             [
              1,
              "#f0f921"
             ]
            ],
            "type": "surface"
           }
          ],
          "table": [
           {
            "cells": {
             "fill": {
              "color": "#EBF0F8"
             },
             "line": {
              "color": "white"
             }
            },
            "header": {
             "fill": {
              "color": "#C8D4E3"
             },
             "line": {
              "color": "white"
             }
            },
            "type": "table"
           }
          ]
         },
         "layout": {
          "annotationdefaults": {
           "arrowcolor": "#2a3f5f",
           "arrowhead": 0,
           "arrowwidth": 1
          },
          "coloraxis": {
           "colorbar": {
            "outlinewidth": 0,
            "ticks": ""
           }
          },
          "colorscale": {
           "diverging": [
            [
             0,
             "#8e0152"
            ],
            [
             0.1,
             "#c51b7d"
            ],
            [
             0.2,
             "#de77ae"
            ],
            [
             0.3,
             "#f1b6da"
            ],
            [
             0.4,
             "#fde0ef"
            ],
            [
             0.5,
             "#f7f7f7"
            ],
            [
             0.6,
             "#e6f5d0"
            ],
            [
             0.7,
             "#b8e186"
            ],
            [
             0.8,
             "#7fbc41"
            ],
            [
             0.9,
             "#4d9221"
            ],
            [
             1,
             "#276419"
            ]
           ],
           "sequential": [
            [
             0,
             "#0d0887"
            ],
            [
             0.1111111111111111,
             "#46039f"
            ],
            [
             0.2222222222222222,
             "#7201a8"
            ],
            [
             0.3333333333333333,
             "#9c179e"
            ],
            [
             0.4444444444444444,
             "#bd3786"
            ],
            [
             0.5555555555555556,
             "#d8576b"
            ],
            [
             0.6666666666666666,
             "#ed7953"
            ],
            [
             0.7777777777777778,
             "#fb9f3a"
            ],
            [
             0.8888888888888888,
             "#fdca26"
            ],
            [
             1,
             "#f0f921"
            ]
           ],
           "sequentialminus": [
            [
             0,
             "#0d0887"
            ],
            [
             0.1111111111111111,
             "#46039f"
            ],
            [
             0.2222222222222222,
             "#7201a8"
            ],
            [
             0.3333333333333333,
             "#9c179e"
            ],
            [
             0.4444444444444444,
             "#bd3786"
            ],
            [
             0.5555555555555556,
             "#d8576b"
            ],
            [
             0.6666666666666666,
             "#ed7953"
            ],
            [
             0.7777777777777778,
             "#fb9f3a"
            ],
            [
             0.8888888888888888,
             "#fdca26"
            ],
            [
             1,
             "#f0f921"
            ]
           ]
          },
          "colorway": [
           "#636efa",
           "#EF553B",
           "#00cc96",
           "#ab63fa",
           "#FFA15A",
           "#19d3f3",
           "#FF6692",
           "#B6E880",
           "#FF97FF",
           "#FECB52"
          ],
          "font": {
           "color": "#2a3f5f"
          },
          "geo": {
           "bgcolor": "white",
           "lakecolor": "white",
           "landcolor": "#E5ECF6",
           "showlakes": true,
           "showland": true,
           "subunitcolor": "white"
          },
          "hoverlabel": {
           "align": "left"
          },
          "hovermode": "closest",
          "mapbox": {
           "style": "light"
          },
          "paper_bgcolor": "white",
          "plot_bgcolor": "#E5ECF6",
          "polar": {
           "angularaxis": {
            "gridcolor": "white",
            "linecolor": "white",
            "ticks": ""
           },
           "bgcolor": "#E5ECF6",
           "radialaxis": {
            "gridcolor": "white",
            "linecolor": "white",
            "ticks": ""
           }
          },
          "scene": {
           "xaxis": {
            "backgroundcolor": "#E5ECF6",
            "gridcolor": "white",
            "gridwidth": 2,
            "linecolor": "white",
            "showbackground": true,
            "ticks": "",
            "zerolinecolor": "white"
           },
           "yaxis": {
            "backgroundcolor": "#E5ECF6",
            "gridcolor": "white",
            "gridwidth": 2,
            "linecolor": "white",
            "showbackground": true,
            "ticks": "",
            "zerolinecolor": "white"
           },
           "zaxis": {
            "backgroundcolor": "#E5ECF6",
            "gridcolor": "white",
            "gridwidth": 2,
            "linecolor": "white",
            "showbackground": true,
            "ticks": "",
            "zerolinecolor": "white"
           }
          },
          "shapedefaults": {
           "line": {
            "color": "#2a3f5f"
           }
          },
          "ternary": {
           "aaxis": {
            "gridcolor": "white",
            "linecolor": "white",
            "ticks": ""
           },
           "baxis": {
            "gridcolor": "white",
            "linecolor": "white",
            "ticks": ""
           },
           "bgcolor": "#E5ECF6",
           "caxis": {
            "gridcolor": "white",
            "linecolor": "white",
            "ticks": ""
           }
          },
          "title": {
           "x": 0.05
          },
          "xaxis": {
           "automargin": true,
           "gridcolor": "white",
           "linecolor": "white",
           "ticks": "",
           "title": {
            "standoff": 15
           },
           "zerolinecolor": "white",
           "zerolinewidth": 2
          },
          "yaxis": {
           "automargin": true,
           "gridcolor": "white",
           "linecolor": "white",
           "ticks": "",
           "title": {
            "standoff": 15
           },
           "zerolinecolor": "white",
           "zerolinewidth": 2
          }
         }
        },
        "title": {
         "text": "Hapax Words by Story",
         "x": 0.4,
         "xanchor": "center",
         "y": 0.95,
         "yanchor": "top"
        },
        "xaxis": {
         "anchor": "y",
         "domain": [
          0,
          1
         ],
         "tickangle": 45,
         "tickfont": {
          "family": "Rockwell",
          "size": 10
         },
         "title": {
          "text": "Hapax Words"
         }
        },
        "yaxis": {
         "anchor": "x",
         "domain": [
          0,
          1
         ],
         "title": {
          "text": "Words"
         }
        }
       }
      },
      "text/html": [
       "<div>\n",
       "        \n",
       "        \n",
       "            <div id=\"0950b95c-925b-4cb5-b043-b7512a61c6c2\" class=\"plotly-graph-div\" style=\"height:525px; width:100%;\"></div>\n",
       "            <script type=\"text/javascript\">\n",
       "                require([\"plotly\"], function(Plotly) {\n",
       "                    window.PLOTLYENV=window.PLOTLYENV || {};\n",
       "                    \n",
       "                if (document.getElementById(\"0950b95c-925b-4cb5-b043-b7512a61c6c2\")) {\n",
       "                    Plotly.newPlot(\n",
       "                        '0950b95c-925b-4cb5-b043-b7512a61c6c2',\n",
       "                        [{\"alignmentgroup\": \"True\", \"hoverlabel\": {\"namelength\": 0}, \"hovertemplate\": \"book=Sklepy Cynamonowe<br>story_title=%{x}<br>total_hapax_words=%{y}\", \"legendgroup\": \"book=Sklepy Cynamonowe\", \"marker\": {\"color\": \"#636efa\"}, \"name\": \"book=Sklepy Cynamonowe\", \"offsetgroup\": \"book=Sklepy Cynamonowe\", \"orientation\": \"v\", \"showlegend\": true, \"textposition\": \"auto\", \"type\": \"bar\", \"x\": [\"Sierpie\\u0144\", \"Nawiedzenie\", \"Ptaki\", \"Manekiny\", \"Traktat o Manekinach albo Wt\\u00f3rna Ksi\\u0119ga Rodzaju\", \"Nemrod\", \"Pan\", \"Pan Karol\", \"Sklepy Cynamonowe\", \"Ulica Krokodyli\", \"Karakony\", \"Wichura\", \"Noc Wielkiego Sezonu\"], \"xaxis\": \"x\", \"y\": [854, 634, 567, 703, 892, 428, 363, 314, 917, 925, 445, 563, 989], \"yaxis\": \"y\"}, {\"alignmentgroup\": \"True\", \"hoverlabel\": {\"namelength\": 0}, \"hovertemplate\": \"book=Sanatorium Pod Klepysdr\\u0105<br>story_title=%{x}<br>total_hapax_words=%{y}\", \"legendgroup\": \"book=Sanatorium Pod Klepysdr\\u0105\", \"marker\": {\"color\": \"#EF553B\"}, \"name\": \"book=Sanatorium Pod Klepysdr\\u0105\", \"offsetgroup\": \"book=Sanatorium Pod Klepysdr\\u0105\", \"orientation\": \"v\", \"showlegend\": true, \"textposition\": \"auto\", \"type\": \"bar\", \"x\": [\"Ksi\\u0119ga\", \"Genialna Epoka \", \"Wiosna\", \"Noc lipcowa\", \"M\\u00f3j ojciec wst\\u0119puje do stra\\u017cak\\u00f3w\", \"Druga jesie\\u0144\", \"Martwy sezon\", \"Sanatorium pod Klepsydr\\u0105\", \"Dodo\", \"Edzio\", \"Emeryt\", \"Samotno\\u015b\\u0107\", \"Ostatnia ucieczka ojca\"], \"xaxis\": \"x\", \"y\": [1129, 960, 1022, 652, 721, 495, 1313, 542, 678, 688, 1344, 272, 604], \"yaxis\": \"y\"}],\n",
       "                        {\"barmode\": \"relative\", \"legend\": {\"tracegroupgap\": 0}, \"margin\": {\"t\": 60}, \"template\": {\"data\": {\"bar\": [{\"error_x\": {\"color\": \"#2a3f5f\"}, \"error_y\": {\"color\": \"#2a3f5f\"}, \"marker\": {\"line\": {\"color\": \"#E5ECF6\", \"width\": 0.5}}, \"type\": \"bar\"}], \"barpolar\": [{\"marker\": {\"line\": {\"color\": \"#E5ECF6\", \"width\": 0.5}}, \"type\": \"barpolar\"}], \"carpet\": [{\"aaxis\": {\"endlinecolor\": \"#2a3f5f\", \"gridcolor\": \"white\", \"linecolor\": \"white\", \"minorgridcolor\": \"white\", \"startlinecolor\": \"#2a3f5f\"}, \"baxis\": {\"endlinecolor\": \"#2a3f5f\", \"gridcolor\": \"white\", \"linecolor\": \"white\", \"minorgridcolor\": \"white\", \"startlinecolor\": \"#2a3f5f\"}, \"type\": \"carpet\"}], \"choropleth\": [{\"colorbar\": {\"outlinewidth\": 0, \"ticks\": \"\"}, \"type\": \"choropleth\"}], \"contour\": [{\"colorbar\": {\"outlinewidth\": 0, \"ticks\": \"\"}, \"colorscale\": [[0.0, \"#0d0887\"], [0.1111111111111111, \"#46039f\"], [0.2222222222222222, \"#7201a8\"], [0.3333333333333333, \"#9c179e\"], [0.4444444444444444, \"#bd3786\"], [0.5555555555555556, \"#d8576b\"], [0.6666666666666666, \"#ed7953\"], [0.7777777777777778, \"#fb9f3a\"], [0.8888888888888888, \"#fdca26\"], [1.0, \"#f0f921\"]], \"type\": \"contour\"}], \"contourcarpet\": [{\"colorbar\": {\"outlinewidth\": 0, \"ticks\": \"\"}, \"type\": \"contourcarpet\"}], \"heatmap\": [{\"colorbar\": {\"outlinewidth\": 0, \"ticks\": \"\"}, \"colorscale\": [[0.0, \"#0d0887\"], [0.1111111111111111, \"#46039f\"], [0.2222222222222222, \"#7201a8\"], [0.3333333333333333, \"#9c179e\"], [0.4444444444444444, \"#bd3786\"], [0.5555555555555556, \"#d8576b\"], [0.6666666666666666, \"#ed7953\"], [0.7777777777777778, \"#fb9f3a\"], [0.8888888888888888, \"#fdca26\"], [1.0, \"#f0f921\"]], \"type\": \"heatmap\"}], \"heatmapgl\": [{\"colorbar\": {\"outlinewidth\": 0, \"ticks\": \"\"}, \"colorscale\": [[0.0, \"#0d0887\"], [0.1111111111111111, \"#46039f\"], [0.2222222222222222, \"#7201a8\"], [0.3333333333333333, \"#9c179e\"], [0.4444444444444444, \"#bd3786\"], [0.5555555555555556, \"#d8576b\"], [0.6666666666666666, \"#ed7953\"], [0.7777777777777778, \"#fb9f3a\"], [0.8888888888888888, \"#fdca26\"], [1.0, \"#f0f921\"]], \"type\": \"heatmapgl\"}], \"histogram\": [{\"marker\": {\"colorbar\": {\"outlinewidth\": 0, \"ticks\": \"\"}}, \"type\": \"histogram\"}], \"histogram2d\": [{\"colorbar\": {\"outlinewidth\": 0, \"ticks\": \"\"}, \"colorscale\": [[0.0, \"#0d0887\"], [0.1111111111111111, \"#46039f\"], [0.2222222222222222, \"#7201a8\"], [0.3333333333333333, \"#9c179e\"], [0.4444444444444444, \"#bd3786\"], [0.5555555555555556, \"#d8576b\"], [0.6666666666666666, \"#ed7953\"], [0.7777777777777778, \"#fb9f3a\"], [0.8888888888888888, \"#fdca26\"], [1.0, \"#f0f921\"]], \"type\": \"histogram2d\"}], \"histogram2dcontour\": [{\"colorbar\": {\"outlinewidth\": 0, \"ticks\": \"\"}, \"colorscale\": [[0.0, \"#0d0887\"], [0.1111111111111111, \"#46039f\"], [0.2222222222222222, \"#7201a8\"], [0.3333333333333333, \"#9c179e\"], [0.4444444444444444, \"#bd3786\"], [0.5555555555555556, \"#d8576b\"], [0.6666666666666666, \"#ed7953\"], [0.7777777777777778, \"#fb9f3a\"], [0.8888888888888888, \"#fdca26\"], [1.0, \"#f0f921\"]], \"type\": \"histogram2dcontour\"}], \"mesh3d\": [{\"colorbar\": {\"outlinewidth\": 0, \"ticks\": \"\"}, \"type\": \"mesh3d\"}], \"parcoords\": [{\"line\": {\"colorbar\": {\"outlinewidth\": 0, \"ticks\": \"\"}}, \"type\": \"parcoords\"}], \"pie\": [{\"automargin\": true, \"type\": \"pie\"}], \"scatter\": [{\"marker\": {\"colorbar\": {\"outlinewidth\": 0, \"ticks\": \"\"}}, \"type\": \"scatter\"}], \"scatter3d\": [{\"line\": {\"colorbar\": {\"outlinewidth\": 0, \"ticks\": \"\"}}, \"marker\": {\"colorbar\": {\"outlinewidth\": 0, \"ticks\": \"\"}}, \"type\": \"scatter3d\"}], \"scattercarpet\": [{\"marker\": {\"colorbar\": {\"outlinewidth\": 0, \"ticks\": \"\"}}, \"type\": \"scattercarpet\"}], \"scattergeo\": [{\"marker\": {\"colorbar\": {\"outlinewidth\": 0, \"ticks\": \"\"}}, \"type\": \"scattergeo\"}], \"scattergl\": [{\"marker\": {\"colorbar\": {\"outlinewidth\": 0, \"ticks\": \"\"}}, \"type\": \"scattergl\"}], \"scattermapbox\": [{\"marker\": {\"colorbar\": {\"outlinewidth\": 0, \"ticks\": \"\"}}, \"type\": \"scattermapbox\"}], \"scatterpolar\": [{\"marker\": {\"colorbar\": {\"outlinewidth\": 0, \"ticks\": \"\"}}, \"type\": \"scatterpolar\"}], \"scatterpolargl\": [{\"marker\": {\"colorbar\": {\"outlinewidth\": 0, \"ticks\": \"\"}}, \"type\": \"scatterpolargl\"}], \"scatterternary\": [{\"marker\": {\"colorbar\": {\"outlinewidth\": 0, \"ticks\": \"\"}}, \"type\": \"scatterternary\"}], \"surface\": [{\"colorbar\": {\"outlinewidth\": 0, \"ticks\": \"\"}, \"colorscale\": [[0.0, \"#0d0887\"], [0.1111111111111111, \"#46039f\"], [0.2222222222222222, \"#7201a8\"], [0.3333333333333333, \"#9c179e\"], [0.4444444444444444, \"#bd3786\"], [0.5555555555555556, \"#d8576b\"], [0.6666666666666666, \"#ed7953\"], [0.7777777777777778, \"#fb9f3a\"], [0.8888888888888888, \"#fdca26\"], [1.0, \"#f0f921\"]], \"type\": \"surface\"}], \"table\": [{\"cells\": {\"fill\": {\"color\": \"#EBF0F8\"}, \"line\": {\"color\": \"white\"}}, \"header\": {\"fill\": {\"color\": \"#C8D4E3\"}, \"line\": {\"color\": \"white\"}}, \"type\": \"table\"}]}, \"layout\": {\"annotationdefaults\": {\"arrowcolor\": \"#2a3f5f\", \"arrowhead\": 0, \"arrowwidth\": 1}, \"coloraxis\": {\"colorbar\": {\"outlinewidth\": 0, \"ticks\": \"\"}}, \"colorscale\": {\"diverging\": [[0, \"#8e0152\"], [0.1, \"#c51b7d\"], [0.2, \"#de77ae\"], [0.3, \"#f1b6da\"], [0.4, \"#fde0ef\"], [0.5, \"#f7f7f7\"], [0.6, \"#e6f5d0\"], [0.7, \"#b8e186\"], [0.8, \"#7fbc41\"], [0.9, \"#4d9221\"], [1, \"#276419\"]], \"sequential\": [[0.0, \"#0d0887\"], [0.1111111111111111, \"#46039f\"], [0.2222222222222222, \"#7201a8\"], [0.3333333333333333, \"#9c179e\"], [0.4444444444444444, \"#bd3786\"], [0.5555555555555556, \"#d8576b\"], [0.6666666666666666, \"#ed7953\"], [0.7777777777777778, \"#fb9f3a\"], [0.8888888888888888, \"#fdca26\"], [1.0, \"#f0f921\"]], \"sequentialminus\": [[0.0, \"#0d0887\"], [0.1111111111111111, \"#46039f\"], [0.2222222222222222, \"#7201a8\"], [0.3333333333333333, \"#9c179e\"], [0.4444444444444444, \"#bd3786\"], [0.5555555555555556, \"#d8576b\"], [0.6666666666666666, \"#ed7953\"], [0.7777777777777778, \"#fb9f3a\"], [0.8888888888888888, \"#fdca26\"], [1.0, \"#f0f921\"]]}, \"colorway\": [\"#636efa\", \"#EF553B\", \"#00cc96\", \"#ab63fa\", \"#FFA15A\", \"#19d3f3\", \"#FF6692\", \"#B6E880\", \"#FF97FF\", \"#FECB52\"], \"font\": {\"color\": \"#2a3f5f\"}, \"geo\": {\"bgcolor\": \"white\", \"lakecolor\": \"white\", \"landcolor\": \"#E5ECF6\", \"showlakes\": true, \"showland\": true, \"subunitcolor\": \"white\"}, \"hoverlabel\": {\"align\": \"left\"}, \"hovermode\": \"closest\", \"mapbox\": {\"style\": \"light\"}, \"paper_bgcolor\": \"white\", \"plot_bgcolor\": \"#E5ECF6\", \"polar\": {\"angularaxis\": {\"gridcolor\": \"white\", \"linecolor\": \"white\", \"ticks\": \"\"}, \"bgcolor\": \"#E5ECF6\", \"radialaxis\": {\"gridcolor\": \"white\", \"linecolor\": \"white\", \"ticks\": \"\"}}, \"scene\": {\"xaxis\": {\"backgroundcolor\": \"#E5ECF6\", \"gridcolor\": \"white\", \"gridwidth\": 2, \"linecolor\": \"white\", \"showbackground\": true, \"ticks\": \"\", \"zerolinecolor\": \"white\"}, \"yaxis\": {\"backgroundcolor\": \"#E5ECF6\", \"gridcolor\": \"white\", \"gridwidth\": 2, \"linecolor\": \"white\", \"showbackground\": true, \"ticks\": \"\", \"zerolinecolor\": \"white\"}, \"zaxis\": {\"backgroundcolor\": \"#E5ECF6\", \"gridcolor\": \"white\", \"gridwidth\": 2, \"linecolor\": \"white\", \"showbackground\": true, \"ticks\": \"\", \"zerolinecolor\": \"white\"}}, \"shapedefaults\": {\"line\": {\"color\": \"#2a3f5f\"}}, \"ternary\": {\"aaxis\": {\"gridcolor\": \"white\", \"linecolor\": \"white\", \"ticks\": \"\"}, \"baxis\": {\"gridcolor\": \"white\", \"linecolor\": \"white\", \"ticks\": \"\"}, \"bgcolor\": \"#E5ECF6\", \"caxis\": {\"gridcolor\": \"white\", \"linecolor\": \"white\", \"ticks\": \"\"}}, \"title\": {\"x\": 0.05}, \"xaxis\": {\"automargin\": true, \"gridcolor\": \"white\", \"linecolor\": \"white\", \"ticks\": \"\", \"title\": {\"standoff\": 15}, \"zerolinecolor\": \"white\", \"zerolinewidth\": 2}, \"yaxis\": {\"automargin\": true, \"gridcolor\": \"white\", \"linecolor\": \"white\", \"ticks\": \"\", \"title\": {\"standoff\": 15}, \"zerolinecolor\": \"white\", \"zerolinewidth\": 2}}}, \"title\": {\"text\": \"Hapax Words by Story\", \"x\": 0.4, \"xanchor\": \"center\", \"y\": 0.95, \"yanchor\": \"top\"}, \"xaxis\": {\"anchor\": \"y\", \"domain\": [0.0, 1.0], \"tickangle\": 45, \"tickfont\": {\"family\": \"Rockwell\", \"size\": 10}, \"title\": {\"text\": \"Hapax Words\"}}, \"yaxis\": {\"anchor\": \"x\", \"domain\": [0.0, 1.0], \"title\": {\"text\": \"Words\"}}},\n",
       "                        {\"responsive\": true}\n",
       "                    ).then(function(){\n",
       "                            \n",
       "var gd = document.getElementById('0950b95c-925b-4cb5-b043-b7512a61c6c2');\n",
       "var x = new MutationObserver(function (mutations, observer) {{\n",
       "        var display = window.getComputedStyle(gd).display;\n",
       "        if (!display || display === 'none') {{\n",
       "            console.log([gd, 'removed!']);\n",
       "            Plotly.purge(gd);\n",
       "            observer.disconnect();\n",
       "        }}\n",
       "}});\n",
       "\n",
       "// Listen for the removal of the full notebook cells\n",
       "var notebookContainer = gd.closest('#notebook-container');\n",
       "if (notebookContainer) {{\n",
       "    x.observe(notebookContainer, {childList: true});\n",
       "}}\n",
       "\n",
       "// Listen for the clearing of the current output cell\n",
       "var outputEl = gd.closest('.output');\n",
       "if (outputEl) {{\n",
       "    x.observe(outputEl, {childList: true});\n",
       "}}\n",
       "\n",
       "                        })\n",
       "                };\n",
       "                });\n",
       "            </script>\n",
       "        </div>"
      ]
     },
     "metadata": {},
     "output_type": "display_data"
    }
   ],
   "source": [
    "fig = px.bar(df, x='story_title', y='total_hapax_words', color = 'book')\n",
    "fig.update_layout(\n",
    "    title={\n",
    "        'text': \"Hapax Words by Story\",\n",
    "        'y':0.95,\n",
    "        'x':0.40,\n",
    "        'xanchor': 'center',\n",
    "        'yanchor': 'top'\n",
    "    })\n",
    "fig.update_xaxes(title_text='Hapax Words', tickangle=45, tickfont=dict(family='Rockwell', size=10))\n",
    "fig.update_yaxes(title_text='Words')\n",
    "fig.show()"
   ]
  },
  {
   "cell_type": "markdown",
   "metadata": {},
   "source": [
    "### Common and Uncommon Words Across Stories"
   ]
  },
  {
   "cell_type": "code",
   "execution_count": 263,
   "metadata": {},
   "outputs": [],
   "source": [
    "from collections import Counter"
   ]
  },
  {
   "cell_type": "code",
   "execution_count": 264,
   "metadata": {},
   "outputs": [],
   "source": [
    "def take(n, iterable):\n",
    "    '''Return first n items of the iterable as a list'''\n",
    "    return list(islice(iterable, n))"
   ]
  },
  {
   "cell_type": "code",
   "execution_count": 265,
   "metadata": {},
   "outputs": [],
   "source": [
    "def get_top_words(df, num_words):\n",
    "    '''\n",
    "    Retrieves top words from the dictionary of top words stored in top_words column.\n",
    "    \n",
    "    '''\n",
    "    tuple_list = []\n",
    "    for story in df.iterrows():\n",
    "        print(\"***\",\"Story Title: \", story[1]['story_title'],\"|\",\"Book: \", story[1]['book'], \"***\")\n",
    "        top_words = \"\"\n",
    "        for item in take(num_words, story[1]['top_words'].items()):\n",
    "            top_words = top_words + \",\" + item[0]\n",
    "            tuple_list.append(item)\n",
    "        print(\"Top Words: \", top_words[1:len(top_words)])\n",
    "    wordcount = Counter(elem[0] for elem in tuple_list)\n",
    "    return wordcount"
   ]
  },
  {
   "cell_type": "code",
   "execution_count": 266,
   "metadata": {},
   "outputs": [
    {
     "name": "stdout",
     "output_type": "stream",
     "text": [
      "*** Story Title:  Sierpień | Book:  Sklepy Cynamonowe ***\n",
      "Top Words:  dzień,twarz,swój,wielki,złoty\n",
      "*** Story Title:  Nawiedzenie | Book:  Sklepy Cynamonowe ***\n",
      "Top Words:  dzień,ojciec,noc,wielki,łóżko\n",
      "*** Story Title:  Ptaki | Book:  Sklepy Cynamonowe ***\n",
      "Top Words:  ojciec,ptasi,pokój,swój,wielki\n",
      "*** Story Title:  Manekiny | Book:  Sklepy Cynamonowe ***\n",
      "Top Words:  swój,ojciec,dzień,pokój,pełny\n",
      "*** Story Title:  Traktat o Manekinach albo Wtórna Księga Rodzaju | Book:  Sklepy Cynamonowe ***\n",
      "Top Words:  ojciec,materia,oko,mówić,swój\n",
      "*** Story Title:  Nemrod | Book:  Sklepy Cynamonowe ***\n",
      "Top Words:  żyć,podłoga,swój,nemrod,nowy\n",
      "*** Story Title:  Pan | Book:  Sklepy Cynamonowe ***\n",
      "Top Words:  powietrze,ściana,słońce,deska,wysoki\n",
      "*** Story Title:  Pan Karol | Book:  Sklepy Cynamonowe ***\n",
      "Top Words:  dzień,pościelić,pusty,woda,karol\n",
      "*** Story Title:  Sklepy Cynamonowe | Book:  Sklepy Cynamonowe ***\n",
      "Top Words:  noc,pełny,ulica,swój,wielki\n",
      "*** Story Title:  Ulica Krokodyli | Book:  Sklepy Cynamonowe ***\n",
      "Top Words:  ulica,dzielnica,miasto,swój,szary\n",
      "*** Story Title:  Karakony | Book:  Sklepy Cynamonowe ***\n",
      "Top Words:  ojciec,karakon,dzień,pokój,oko\n",
      "*** Story Title:  Wichura | Book:  Sklepy Cynamonowe ***\n",
      "Top Words:  noc,wichura,czarny,zacząć,wicher\n",
      "*** Story Title:  Noc Wielkiego Sezonu | Book:  Sklepy Cynamonowe ***\n",
      "Top Words:  wielki,ojciec,kolorowy,pełny,ciemny\n",
      "*** Story Title:  Księga | Book:  Sanatorium Pod Klepysdrą ***\n",
      "Top Words:  swój,pełny,ojciec,rzecz,oko\n",
      "*** Story Title:  Genialna Epoka  | Book:  Sanatorium Pod Klepysdrą ***\n",
      "Top Words:  swój,dzień,pełny,ręka,okno\n",
      "*** Story Title:  Wiosna | Book:  Sanatorium Pod Klepysdrą ***\n",
      "Top Words:  świat,swój,noc,wiosna,pełny\n",
      "*** Story Title:  Noc lipcowa | Book:  Sanatorium Pod Klepysdrą ***\n",
      "Top Words:  noc,czarny,swój,ciemność,lipcowy\n",
      "*** Story Title:  Mój ojciec wstępuje do strażaków | Book:  Sanatorium Pod Klepysdrą ***\n",
      "Top Words:  ojciec,matka,wielki,noc,rzec\n",
      "*** Story Title:  Druga jesień | Book:  Sanatorium Pod Klepysdrą ***\n",
      "Top Words:  jesień,piękny,wielki,stary,niebo\n",
      "*** Story Title:  Martwy sezon | Book:  Sanatorium Pod Klepysdrą ***\n",
      "Top Words:  ojciec,noc,swój,subiekt,sklep\n",
      "*** Story Title:  Sanatorium pod Klepsydrą | Book:  Sanatorium Pod Klepysdrą ***\n",
      "Top Words:  ojciec,drzwi,ciemny,pokój,pewny\n",
      "*** Story Title:  Dodo | Book:  Sanatorium Pod Klepysdrą ***\n",
      "Top Words:  dodo,swój,ciotka,hieronim,wuj\n",
      "*** Story Title:  Edzio | Book:  Sanatorium Pod Klepysdrą ***\n",
      "Top Words:  edzio,noc,wielki,swój,noga\n",
      "*** Story Title:  Emeryt | Book:  Sanatorium Pod Klepysdrą ***\n",
      "Top Words:  mój,pewny,dzień,szkoła,oko\n",
      "*** Story Title:  Samotność | Book:  Sanatorium Pod Klepysdrą ***\n",
      "Top Words:  pokój,móc,patrzyć,szary,siedzieć\n",
      "*** Story Title:  Ostatnia ucieczka ojca | Book:  Sanatorium Pod Klepysdrą ***\n",
      "Top Words:  ojciec,pewny,zdawać,dzień,swój\n"
     ]
    }
   ],
   "source": [
    "top_words = get_top_words(df, 5)"
   ]
  },
  {
   "cell_type": "code",
   "execution_count": 267,
   "metadata": {},
   "outputs": [],
   "source": [
    "tw_df = pd.DataFrame(list(top_words.items()), columns=['word', 'occurrence'])"
   ]
  },
  {
   "cell_type": "code",
   "execution_count": 268,
   "metadata": {},
   "outputs": [],
   "source": [
    "tw_df['occurrence'] = tw_df['occurrence'].astype('int')"
   ]
  },
  {
   "cell_type": "code",
   "execution_count": 269,
   "metadata": {},
   "outputs": [],
   "source": [
    "tw_df = tw_df[tw_df['occurrence'] > 1]"
   ]
  },
  {
   "cell_type": "code",
   "execution_count": 270,
   "metadata": {},
   "outputs": [
    {
     "data": {
      "application/vnd.plotly.v1+json": {
       "config": {
        "plotlyServerURL": "https://plot.ly"
       },
       "data": [
        {
         "alignmentgroup": "True",
         "hoverlabel": {
          "namelength": 0
         },
         "hovertemplate": "word=%{x}<br>occurrence=%{y}",
         "legendgroup": "",
         "marker": {
          "color": "#636efa"
         },
         "name": "",
         "offsetgroup": "",
         "orientation": "v",
         "showlegend": false,
         "textposition": "auto",
         "type": "bar",
         "x": [
          "swój",
          "ojciec",
          "dzień",
          "wielki",
          "noc",
          "pełny",
          "pokój",
          "oko",
          "pewny",
          "ulica",
          "szary",
          "czarny",
          "ciemny"
         ],
         "xaxis": "x",
         "y": [
          15,
          11,
          8,
          8,
          8,
          6,
          5,
          4,
          3,
          2,
          2,
          2,
          2
         ],
         "yaxis": "y"
        }
       ],
       "layout": {
        "barmode": "relative",
        "legend": {
         "tracegroupgap": 0
        },
        "margin": {
         "t": 60
        },
        "template": {
         "data": {
          "bar": [
           {
            "error_x": {
             "color": "#2a3f5f"
            },
            "error_y": {
             "color": "#2a3f5f"
            },
            "marker": {
             "line": {
              "color": "#E5ECF6",
              "width": 0.5
             }
            },
            "type": "bar"
           }
          ],
          "barpolar": [
           {
            "marker": {
             "line": {
              "color": "#E5ECF6",
              "width": 0.5
             }
            },
            "type": "barpolar"
           }
          ],
          "carpet": [
           {
            "aaxis": {
             "endlinecolor": "#2a3f5f",
             "gridcolor": "white",
             "linecolor": "white",
             "minorgridcolor": "white",
             "startlinecolor": "#2a3f5f"
            },
            "baxis": {
             "endlinecolor": "#2a3f5f",
             "gridcolor": "white",
             "linecolor": "white",
             "minorgridcolor": "white",
             "startlinecolor": "#2a3f5f"
            },
            "type": "carpet"
           }
          ],
          "choropleth": [
           {
            "colorbar": {
             "outlinewidth": 0,
             "ticks": ""
            },
            "type": "choropleth"
           }
          ],
          "contour": [
           {
            "colorbar": {
             "outlinewidth": 0,
             "ticks": ""
            },
            "colorscale": [
             [
              0,
              "#0d0887"
             ],
             [
              0.1111111111111111,
              "#46039f"
             ],
             [
              0.2222222222222222,
              "#7201a8"
             ],
             [
              0.3333333333333333,
              "#9c179e"
             ],
             [
              0.4444444444444444,
              "#bd3786"
             ],
             [
              0.5555555555555556,
              "#d8576b"
             ],
             [
              0.6666666666666666,
              "#ed7953"
             ],
             [
              0.7777777777777778,
              "#fb9f3a"
             ],
             [
              0.8888888888888888,
              "#fdca26"
             ],
             [
              1,
              "#f0f921"
             ]
            ],
            "type": "contour"
           }
          ],
          "contourcarpet": [
           {
            "colorbar": {
             "outlinewidth": 0,
             "ticks": ""
            },
            "type": "contourcarpet"
           }
          ],
          "heatmap": [
           {
            "colorbar": {
             "outlinewidth": 0,
             "ticks": ""
            },
            "colorscale": [
             [
              0,
              "#0d0887"
             ],
             [
              0.1111111111111111,
              "#46039f"
             ],
             [
              0.2222222222222222,
              "#7201a8"
             ],
             [
              0.3333333333333333,
              "#9c179e"
             ],
             [
              0.4444444444444444,
              "#bd3786"
             ],
             [
              0.5555555555555556,
              "#d8576b"
             ],
             [
              0.6666666666666666,
              "#ed7953"
             ],
             [
              0.7777777777777778,
              "#fb9f3a"
             ],
             [
              0.8888888888888888,
              "#fdca26"
             ],
             [
              1,
              "#f0f921"
             ]
            ],
            "type": "heatmap"
           }
          ],
          "heatmapgl": [
           {
            "colorbar": {
             "outlinewidth": 0,
             "ticks": ""
            },
            "colorscale": [
             [
              0,
              "#0d0887"
             ],
             [
              0.1111111111111111,
              "#46039f"
             ],
             [
              0.2222222222222222,
              "#7201a8"
             ],
             [
              0.3333333333333333,
              "#9c179e"
             ],
             [
              0.4444444444444444,
              "#bd3786"
             ],
             [
              0.5555555555555556,
              "#d8576b"
             ],
             [
              0.6666666666666666,
              "#ed7953"
             ],
             [
              0.7777777777777778,
              "#fb9f3a"
             ],
             [
              0.8888888888888888,
              "#fdca26"
             ],
             [
              1,
              "#f0f921"
             ]
            ],
            "type": "heatmapgl"
           }
          ],
          "histogram": [
           {
            "marker": {
             "colorbar": {
              "outlinewidth": 0,
              "ticks": ""
             }
            },
            "type": "histogram"
           }
          ],
          "histogram2d": [
           {
            "colorbar": {
             "outlinewidth": 0,
             "ticks": ""
            },
            "colorscale": [
             [
              0,
              "#0d0887"
             ],
             [
              0.1111111111111111,
              "#46039f"
             ],
             [
              0.2222222222222222,
              "#7201a8"
             ],
             [
              0.3333333333333333,
              "#9c179e"
             ],
             [
              0.4444444444444444,
              "#bd3786"
             ],
             [
              0.5555555555555556,
              "#d8576b"
             ],
             [
              0.6666666666666666,
              "#ed7953"
             ],
             [
              0.7777777777777778,
              "#fb9f3a"
             ],
             [
              0.8888888888888888,
              "#fdca26"
             ],
             [
              1,
              "#f0f921"
             ]
            ],
            "type": "histogram2d"
           }
          ],
          "histogram2dcontour": [
           {
            "colorbar": {
             "outlinewidth": 0,
             "ticks": ""
            },
            "colorscale": [
             [
              0,
              "#0d0887"
             ],
             [
              0.1111111111111111,
              "#46039f"
             ],
             [
              0.2222222222222222,
              "#7201a8"
             ],
             [
              0.3333333333333333,
              "#9c179e"
             ],
             [
              0.4444444444444444,
              "#bd3786"
             ],
             [
              0.5555555555555556,
              "#d8576b"
             ],
             [
              0.6666666666666666,
              "#ed7953"
             ],
             [
              0.7777777777777778,
              "#fb9f3a"
             ],
             [
              0.8888888888888888,
              "#fdca26"
             ],
             [
              1,
              "#f0f921"
             ]
            ],
            "type": "histogram2dcontour"
           }
          ],
          "mesh3d": [
           {
            "colorbar": {
             "outlinewidth": 0,
             "ticks": ""
            },
            "type": "mesh3d"
           }
          ],
          "parcoords": [
           {
            "line": {
             "colorbar": {
              "outlinewidth": 0,
              "ticks": ""
             }
            },
            "type": "parcoords"
           }
          ],
          "pie": [
           {
            "automargin": true,
            "type": "pie"
           }
          ],
          "scatter": [
           {
            "marker": {
             "colorbar": {
              "outlinewidth": 0,
              "ticks": ""
             }
            },
            "type": "scatter"
           }
          ],
          "scatter3d": [
           {
            "line": {
             "colorbar": {
              "outlinewidth": 0,
              "ticks": ""
             }
            },
            "marker": {
             "colorbar": {
              "outlinewidth": 0,
              "ticks": ""
             }
            },
            "type": "scatter3d"
           }
          ],
          "scattercarpet": [
           {
            "marker": {
             "colorbar": {
              "outlinewidth": 0,
              "ticks": ""
             }
            },
            "type": "scattercarpet"
           }
          ],
          "scattergeo": [
           {
            "marker": {
             "colorbar": {
              "outlinewidth": 0,
              "ticks": ""
             }
            },
            "type": "scattergeo"
           }
          ],
          "scattergl": [
           {
            "marker": {
             "colorbar": {
              "outlinewidth": 0,
              "ticks": ""
             }
            },
            "type": "scattergl"
           }
          ],
          "scattermapbox": [
           {
            "marker": {
             "colorbar": {
              "outlinewidth": 0,
              "ticks": ""
             }
            },
            "type": "scattermapbox"
           }
          ],
          "scatterpolar": [
           {
            "marker": {
             "colorbar": {
              "outlinewidth": 0,
              "ticks": ""
             }
            },
            "type": "scatterpolar"
           }
          ],
          "scatterpolargl": [
           {
            "marker": {
             "colorbar": {
              "outlinewidth": 0,
              "ticks": ""
             }
            },
            "type": "scatterpolargl"
           }
          ],
          "scatterternary": [
           {
            "marker": {
             "colorbar": {
              "outlinewidth": 0,
              "ticks": ""
             }
            },
            "type": "scatterternary"
           }
          ],
          "surface": [
           {
            "colorbar": {
             "outlinewidth": 0,
             "ticks": ""
            },
            "colorscale": [
             [
              0,
              "#0d0887"
             ],
             [
              0.1111111111111111,
              "#46039f"
             ],
             [
              0.2222222222222222,
              "#7201a8"
             ],
             [
              0.3333333333333333,
              "#9c179e"
             ],
             [
              0.4444444444444444,
              "#bd3786"
             ],
             [
              0.5555555555555556,
              "#d8576b"
             ],
             [
              0.6666666666666666,
              "#ed7953"
             ],
             [
              0.7777777777777778,
              "#fb9f3a"
             ],
             [
              0.8888888888888888,
              "#fdca26"
             ],
             [
              1,
              "#f0f921"
             ]
            ],
            "type": "surface"
           }
          ],
          "table": [
           {
            "cells": {
             "fill": {
              "color": "#EBF0F8"
             },
             "line": {
              "color": "white"
             }
            },
            "header": {
             "fill": {
              "color": "#C8D4E3"
             },
             "line": {
              "color": "white"
             }
            },
            "type": "table"
           }
          ]
         },
         "layout": {
          "annotationdefaults": {
           "arrowcolor": "#2a3f5f",
           "arrowhead": 0,
           "arrowwidth": 1
          },
          "coloraxis": {
           "colorbar": {
            "outlinewidth": 0,
            "ticks": ""
           }
          },
          "colorscale": {
           "diverging": [
            [
             0,
             "#8e0152"
            ],
            [
             0.1,
             "#c51b7d"
            ],
            [
             0.2,
             "#de77ae"
            ],
            [
             0.3,
             "#f1b6da"
            ],
            [
             0.4,
             "#fde0ef"
            ],
            [
             0.5,
             "#f7f7f7"
            ],
            [
             0.6,
             "#e6f5d0"
            ],
            [
             0.7,
             "#b8e186"
            ],
            [
             0.8,
             "#7fbc41"
            ],
            [
             0.9,
             "#4d9221"
            ],
            [
             1,
             "#276419"
            ]
           ],
           "sequential": [
            [
             0,
             "#0d0887"
            ],
            [
             0.1111111111111111,
             "#46039f"
            ],
            [
             0.2222222222222222,
             "#7201a8"
            ],
            [
             0.3333333333333333,
             "#9c179e"
            ],
            [
             0.4444444444444444,
             "#bd3786"
            ],
            [
             0.5555555555555556,
             "#d8576b"
            ],
            [
             0.6666666666666666,
             "#ed7953"
            ],
            [
             0.7777777777777778,
             "#fb9f3a"
            ],
            [
             0.8888888888888888,
             "#fdca26"
            ],
            [
             1,
             "#f0f921"
            ]
           ],
           "sequentialminus": [
            [
             0,
             "#0d0887"
            ],
            [
             0.1111111111111111,
             "#46039f"
            ],
            [
             0.2222222222222222,
             "#7201a8"
            ],
            [
             0.3333333333333333,
             "#9c179e"
            ],
            [
             0.4444444444444444,
             "#bd3786"
            ],
            [
             0.5555555555555556,
             "#d8576b"
            ],
            [
             0.6666666666666666,
             "#ed7953"
            ],
            [
             0.7777777777777778,
             "#fb9f3a"
            ],
            [
             0.8888888888888888,
             "#fdca26"
            ],
            [
             1,
             "#f0f921"
            ]
           ]
          },
          "colorway": [
           "#636efa",
           "#EF553B",
           "#00cc96",
           "#ab63fa",
           "#FFA15A",
           "#19d3f3",
           "#FF6692",
           "#B6E880",
           "#FF97FF",
           "#FECB52"
          ],
          "font": {
           "color": "#2a3f5f"
          },
          "geo": {
           "bgcolor": "white",
           "lakecolor": "white",
           "landcolor": "#E5ECF6",
           "showlakes": true,
           "showland": true,
           "subunitcolor": "white"
          },
          "hoverlabel": {
           "align": "left"
          },
          "hovermode": "closest",
          "mapbox": {
           "style": "light"
          },
          "paper_bgcolor": "white",
          "plot_bgcolor": "#E5ECF6",
          "polar": {
           "angularaxis": {
            "gridcolor": "white",
            "linecolor": "white",
            "ticks": ""
           },
           "bgcolor": "#E5ECF6",
           "radialaxis": {
            "gridcolor": "white",
            "linecolor": "white",
            "ticks": ""
           }
          },
          "scene": {
           "xaxis": {
            "backgroundcolor": "#E5ECF6",
            "gridcolor": "white",
            "gridwidth": 2,
            "linecolor": "white",
            "showbackground": true,
            "ticks": "",
            "zerolinecolor": "white"
           },
           "yaxis": {
            "backgroundcolor": "#E5ECF6",
            "gridcolor": "white",
            "gridwidth": 2,
            "linecolor": "white",
            "showbackground": true,
            "ticks": "",
            "zerolinecolor": "white"
           },
           "zaxis": {
            "backgroundcolor": "#E5ECF6",
            "gridcolor": "white",
            "gridwidth": 2,
            "linecolor": "white",
            "showbackground": true,
            "ticks": "",
            "zerolinecolor": "white"
           }
          },
          "shapedefaults": {
           "line": {
            "color": "#2a3f5f"
           }
          },
          "ternary": {
           "aaxis": {
            "gridcolor": "white",
            "linecolor": "white",
            "ticks": ""
           },
           "baxis": {
            "gridcolor": "white",
            "linecolor": "white",
            "ticks": ""
           },
           "bgcolor": "#E5ECF6",
           "caxis": {
            "gridcolor": "white",
            "linecolor": "white",
            "ticks": ""
           }
          },
          "title": {
           "x": 0.05
          },
          "xaxis": {
           "automargin": true,
           "gridcolor": "white",
           "linecolor": "white",
           "ticks": "",
           "title": {
            "standoff": 15
           },
           "zerolinecolor": "white",
           "zerolinewidth": 2
          },
          "yaxis": {
           "automargin": true,
           "gridcolor": "white",
           "linecolor": "white",
           "ticks": "",
           "title": {
            "standoff": 15
           },
           "zerolinecolor": "white",
           "zerolinewidth": 2
          }
         }
        },
        "title": {
         "text": "Reoccurring Top Words by Story",
         "x": 0.5,
         "xanchor": "center",
         "y": 0.95,
         "yanchor": "top"
        },
        "xaxis": {
         "anchor": "y",
         "domain": [
          0,
          1
         ],
         "tickangle": 45,
         "tickfont": {
          "family": "Rockwell",
          "size": 10
         },
         "title": {
          "text": "Word"
         }
        },
        "yaxis": {
         "anchor": "x",
         "domain": [
          0,
          1
         ],
         "title": {
          "text": "# Times Occurs as Top Word"
         }
        }
       }
      },
      "text/html": [
       "<div>\n",
       "        \n",
       "        \n",
       "            <div id=\"8ba022f1-6611-4dcc-9e4c-8ddde7d93a9e\" class=\"plotly-graph-div\" style=\"height:525px; width:100%;\"></div>\n",
       "            <script type=\"text/javascript\">\n",
       "                require([\"plotly\"], function(Plotly) {\n",
       "                    window.PLOTLYENV=window.PLOTLYENV || {};\n",
       "                    \n",
       "                if (document.getElementById(\"8ba022f1-6611-4dcc-9e4c-8ddde7d93a9e\")) {\n",
       "                    Plotly.newPlot(\n",
       "                        '8ba022f1-6611-4dcc-9e4c-8ddde7d93a9e',\n",
       "                        [{\"alignmentgroup\": \"True\", \"hoverlabel\": {\"namelength\": 0}, \"hovertemplate\": \"word=%{x}<br>occurrence=%{y}\", \"legendgroup\": \"\", \"marker\": {\"color\": \"#636efa\"}, \"name\": \"\", \"offsetgroup\": \"\", \"orientation\": \"v\", \"showlegend\": false, \"textposition\": \"auto\", \"type\": \"bar\", \"x\": [\"sw\\u00f3j\", \"ojciec\", \"dzie\\u0144\", \"wielki\", \"noc\", \"pe\\u0142ny\", \"pok\\u00f3j\", \"oko\", \"pewny\", \"ulica\", \"szary\", \"czarny\", \"ciemny\"], \"xaxis\": \"x\", \"y\": [15, 11, 8, 8, 8, 6, 5, 4, 3, 2, 2, 2, 2], \"yaxis\": \"y\"}],\n",
       "                        {\"barmode\": \"relative\", \"legend\": {\"tracegroupgap\": 0}, \"margin\": {\"t\": 60}, \"template\": {\"data\": {\"bar\": [{\"error_x\": {\"color\": \"#2a3f5f\"}, \"error_y\": {\"color\": \"#2a3f5f\"}, \"marker\": {\"line\": {\"color\": \"#E5ECF6\", \"width\": 0.5}}, \"type\": \"bar\"}], \"barpolar\": [{\"marker\": {\"line\": {\"color\": \"#E5ECF6\", \"width\": 0.5}}, \"type\": \"barpolar\"}], \"carpet\": [{\"aaxis\": {\"endlinecolor\": \"#2a3f5f\", \"gridcolor\": \"white\", \"linecolor\": \"white\", \"minorgridcolor\": \"white\", \"startlinecolor\": \"#2a3f5f\"}, \"baxis\": {\"endlinecolor\": \"#2a3f5f\", \"gridcolor\": \"white\", \"linecolor\": \"white\", \"minorgridcolor\": \"white\", \"startlinecolor\": \"#2a3f5f\"}, \"type\": \"carpet\"}], \"choropleth\": [{\"colorbar\": {\"outlinewidth\": 0, \"ticks\": \"\"}, \"type\": \"choropleth\"}], \"contour\": [{\"colorbar\": {\"outlinewidth\": 0, \"ticks\": \"\"}, \"colorscale\": [[0.0, \"#0d0887\"], [0.1111111111111111, \"#46039f\"], [0.2222222222222222, \"#7201a8\"], [0.3333333333333333, \"#9c179e\"], [0.4444444444444444, \"#bd3786\"], [0.5555555555555556, \"#d8576b\"], [0.6666666666666666, \"#ed7953\"], [0.7777777777777778, \"#fb9f3a\"], [0.8888888888888888, \"#fdca26\"], [1.0, \"#f0f921\"]], \"type\": \"contour\"}], \"contourcarpet\": [{\"colorbar\": {\"outlinewidth\": 0, \"ticks\": \"\"}, \"type\": \"contourcarpet\"}], \"heatmap\": [{\"colorbar\": {\"outlinewidth\": 0, \"ticks\": \"\"}, \"colorscale\": [[0.0, \"#0d0887\"], [0.1111111111111111, \"#46039f\"], [0.2222222222222222, \"#7201a8\"], [0.3333333333333333, \"#9c179e\"], [0.4444444444444444, \"#bd3786\"], [0.5555555555555556, \"#d8576b\"], [0.6666666666666666, \"#ed7953\"], [0.7777777777777778, \"#fb9f3a\"], [0.8888888888888888, \"#fdca26\"], [1.0, \"#f0f921\"]], \"type\": \"heatmap\"}], \"heatmapgl\": [{\"colorbar\": {\"outlinewidth\": 0, \"ticks\": \"\"}, \"colorscale\": [[0.0, \"#0d0887\"], [0.1111111111111111, \"#46039f\"], [0.2222222222222222, \"#7201a8\"], [0.3333333333333333, \"#9c179e\"], [0.4444444444444444, \"#bd3786\"], [0.5555555555555556, \"#d8576b\"], [0.6666666666666666, \"#ed7953\"], [0.7777777777777778, \"#fb9f3a\"], [0.8888888888888888, \"#fdca26\"], [1.0, \"#f0f921\"]], \"type\": \"heatmapgl\"}], \"histogram\": [{\"marker\": {\"colorbar\": {\"outlinewidth\": 0, \"ticks\": \"\"}}, \"type\": \"histogram\"}], \"histogram2d\": [{\"colorbar\": {\"outlinewidth\": 0, \"ticks\": \"\"}, \"colorscale\": [[0.0, \"#0d0887\"], [0.1111111111111111, \"#46039f\"], [0.2222222222222222, \"#7201a8\"], [0.3333333333333333, \"#9c179e\"], [0.4444444444444444, \"#bd3786\"], [0.5555555555555556, \"#d8576b\"], [0.6666666666666666, \"#ed7953\"], [0.7777777777777778, \"#fb9f3a\"], [0.8888888888888888, \"#fdca26\"], [1.0, \"#f0f921\"]], \"type\": \"histogram2d\"}], \"histogram2dcontour\": [{\"colorbar\": {\"outlinewidth\": 0, \"ticks\": \"\"}, \"colorscale\": [[0.0, \"#0d0887\"], [0.1111111111111111, \"#46039f\"], [0.2222222222222222, \"#7201a8\"], [0.3333333333333333, \"#9c179e\"], [0.4444444444444444, \"#bd3786\"], [0.5555555555555556, \"#d8576b\"], [0.6666666666666666, \"#ed7953\"], [0.7777777777777778, \"#fb9f3a\"], [0.8888888888888888, \"#fdca26\"], [1.0, \"#f0f921\"]], \"type\": \"histogram2dcontour\"}], \"mesh3d\": [{\"colorbar\": {\"outlinewidth\": 0, \"ticks\": \"\"}, \"type\": \"mesh3d\"}], \"parcoords\": [{\"line\": {\"colorbar\": {\"outlinewidth\": 0, \"ticks\": \"\"}}, \"type\": \"parcoords\"}], \"pie\": [{\"automargin\": true, \"type\": \"pie\"}], \"scatter\": [{\"marker\": {\"colorbar\": {\"outlinewidth\": 0, \"ticks\": \"\"}}, \"type\": \"scatter\"}], \"scatter3d\": [{\"line\": {\"colorbar\": {\"outlinewidth\": 0, \"ticks\": \"\"}}, \"marker\": {\"colorbar\": {\"outlinewidth\": 0, \"ticks\": \"\"}}, \"type\": \"scatter3d\"}], \"scattercarpet\": [{\"marker\": {\"colorbar\": {\"outlinewidth\": 0, \"ticks\": \"\"}}, \"type\": \"scattercarpet\"}], \"scattergeo\": [{\"marker\": {\"colorbar\": {\"outlinewidth\": 0, \"ticks\": \"\"}}, \"type\": \"scattergeo\"}], \"scattergl\": [{\"marker\": {\"colorbar\": {\"outlinewidth\": 0, \"ticks\": \"\"}}, \"type\": \"scattergl\"}], \"scattermapbox\": [{\"marker\": {\"colorbar\": {\"outlinewidth\": 0, \"ticks\": \"\"}}, \"type\": \"scattermapbox\"}], \"scatterpolar\": [{\"marker\": {\"colorbar\": {\"outlinewidth\": 0, \"ticks\": \"\"}}, \"type\": \"scatterpolar\"}], \"scatterpolargl\": [{\"marker\": {\"colorbar\": {\"outlinewidth\": 0, \"ticks\": \"\"}}, \"type\": \"scatterpolargl\"}], \"scatterternary\": [{\"marker\": {\"colorbar\": {\"outlinewidth\": 0, \"ticks\": \"\"}}, \"type\": \"scatterternary\"}], \"surface\": [{\"colorbar\": {\"outlinewidth\": 0, \"ticks\": \"\"}, \"colorscale\": [[0.0, \"#0d0887\"], [0.1111111111111111, \"#46039f\"], [0.2222222222222222, \"#7201a8\"], [0.3333333333333333, \"#9c179e\"], [0.4444444444444444, \"#bd3786\"], [0.5555555555555556, \"#d8576b\"], [0.6666666666666666, \"#ed7953\"], [0.7777777777777778, \"#fb9f3a\"], [0.8888888888888888, \"#fdca26\"], [1.0, \"#f0f921\"]], \"type\": \"surface\"}], \"table\": [{\"cells\": {\"fill\": {\"color\": \"#EBF0F8\"}, \"line\": {\"color\": \"white\"}}, \"header\": {\"fill\": {\"color\": \"#C8D4E3\"}, \"line\": {\"color\": \"white\"}}, \"type\": \"table\"}]}, \"layout\": {\"annotationdefaults\": {\"arrowcolor\": \"#2a3f5f\", \"arrowhead\": 0, \"arrowwidth\": 1}, \"coloraxis\": {\"colorbar\": {\"outlinewidth\": 0, \"ticks\": \"\"}}, \"colorscale\": {\"diverging\": [[0, \"#8e0152\"], [0.1, \"#c51b7d\"], [0.2, \"#de77ae\"], [0.3, \"#f1b6da\"], [0.4, \"#fde0ef\"], [0.5, \"#f7f7f7\"], [0.6, \"#e6f5d0\"], [0.7, \"#b8e186\"], [0.8, \"#7fbc41\"], [0.9, \"#4d9221\"], [1, \"#276419\"]], \"sequential\": [[0.0, \"#0d0887\"], [0.1111111111111111, \"#46039f\"], [0.2222222222222222, \"#7201a8\"], [0.3333333333333333, \"#9c179e\"], [0.4444444444444444, \"#bd3786\"], [0.5555555555555556, \"#d8576b\"], [0.6666666666666666, \"#ed7953\"], [0.7777777777777778, \"#fb9f3a\"], [0.8888888888888888, \"#fdca26\"], [1.0, \"#f0f921\"]], \"sequentialminus\": [[0.0, \"#0d0887\"], [0.1111111111111111, \"#46039f\"], [0.2222222222222222, \"#7201a8\"], [0.3333333333333333, \"#9c179e\"], [0.4444444444444444, \"#bd3786\"], [0.5555555555555556, \"#d8576b\"], [0.6666666666666666, \"#ed7953\"], [0.7777777777777778, \"#fb9f3a\"], [0.8888888888888888, \"#fdca26\"], [1.0, \"#f0f921\"]]}, \"colorway\": [\"#636efa\", \"#EF553B\", \"#00cc96\", \"#ab63fa\", \"#FFA15A\", \"#19d3f3\", \"#FF6692\", \"#B6E880\", \"#FF97FF\", \"#FECB52\"], \"font\": {\"color\": \"#2a3f5f\"}, \"geo\": {\"bgcolor\": \"white\", \"lakecolor\": \"white\", \"landcolor\": \"#E5ECF6\", \"showlakes\": true, \"showland\": true, \"subunitcolor\": \"white\"}, \"hoverlabel\": {\"align\": \"left\"}, \"hovermode\": \"closest\", \"mapbox\": {\"style\": \"light\"}, \"paper_bgcolor\": \"white\", \"plot_bgcolor\": \"#E5ECF6\", \"polar\": {\"angularaxis\": {\"gridcolor\": \"white\", \"linecolor\": \"white\", \"ticks\": \"\"}, \"bgcolor\": \"#E5ECF6\", \"radialaxis\": {\"gridcolor\": \"white\", \"linecolor\": \"white\", \"ticks\": \"\"}}, \"scene\": {\"xaxis\": {\"backgroundcolor\": \"#E5ECF6\", \"gridcolor\": \"white\", \"gridwidth\": 2, \"linecolor\": \"white\", \"showbackground\": true, \"ticks\": \"\", \"zerolinecolor\": \"white\"}, \"yaxis\": {\"backgroundcolor\": \"#E5ECF6\", \"gridcolor\": \"white\", \"gridwidth\": 2, \"linecolor\": \"white\", \"showbackground\": true, \"ticks\": \"\", \"zerolinecolor\": \"white\"}, \"zaxis\": {\"backgroundcolor\": \"#E5ECF6\", \"gridcolor\": \"white\", \"gridwidth\": 2, \"linecolor\": \"white\", \"showbackground\": true, \"ticks\": \"\", \"zerolinecolor\": \"white\"}}, \"shapedefaults\": {\"line\": {\"color\": \"#2a3f5f\"}}, \"ternary\": {\"aaxis\": {\"gridcolor\": \"white\", \"linecolor\": \"white\", \"ticks\": \"\"}, \"baxis\": {\"gridcolor\": \"white\", \"linecolor\": \"white\", \"ticks\": \"\"}, \"bgcolor\": \"#E5ECF6\", \"caxis\": {\"gridcolor\": \"white\", \"linecolor\": \"white\", \"ticks\": \"\"}}, \"title\": {\"x\": 0.05}, \"xaxis\": {\"automargin\": true, \"gridcolor\": \"white\", \"linecolor\": \"white\", \"ticks\": \"\", \"title\": {\"standoff\": 15}, \"zerolinecolor\": \"white\", \"zerolinewidth\": 2}, \"yaxis\": {\"automargin\": true, \"gridcolor\": \"white\", \"linecolor\": \"white\", \"ticks\": \"\", \"title\": {\"standoff\": 15}, \"zerolinecolor\": \"white\", \"zerolinewidth\": 2}}}, \"title\": {\"text\": \"Reoccurring Top Words by Story\", \"x\": 0.5, \"xanchor\": \"center\", \"y\": 0.95, \"yanchor\": \"top\"}, \"xaxis\": {\"anchor\": \"y\", \"domain\": [0.0, 1.0], \"tickangle\": 45, \"tickfont\": {\"family\": \"Rockwell\", \"size\": 10}, \"title\": {\"text\": \"Word\"}}, \"yaxis\": {\"anchor\": \"x\", \"domain\": [0.0, 1.0], \"title\": {\"text\": \"# Times Occurs as Top Word\"}}},\n",
       "                        {\"responsive\": true}\n",
       "                    ).then(function(){\n",
       "                            \n",
       "var gd = document.getElementById('8ba022f1-6611-4dcc-9e4c-8ddde7d93a9e');\n",
       "var x = new MutationObserver(function (mutations, observer) {{\n",
       "        var display = window.getComputedStyle(gd).display;\n",
       "        if (!display || display === 'none') {{\n",
       "            console.log([gd, 'removed!']);\n",
       "            Plotly.purge(gd);\n",
       "            observer.disconnect();\n",
       "        }}\n",
       "}});\n",
       "\n",
       "// Listen for the removal of the full notebook cells\n",
       "var notebookContainer = gd.closest('#notebook-container');\n",
       "if (notebookContainer) {{\n",
       "    x.observe(notebookContainer, {childList: true});\n",
       "}}\n",
       "\n",
       "// Listen for the clearing of the current output cell\n",
       "var outputEl = gd.closest('.output');\n",
       "if (outputEl) {{\n",
       "    x.observe(outputEl, {childList: true});\n",
       "}}\n",
       "\n",
       "                        })\n",
       "                };\n",
       "                });\n",
       "            </script>\n",
       "        </div>"
      ]
     },
     "metadata": {},
     "output_type": "display_data"
    }
   ],
   "source": [
    "fig = px.bar(tw_df.sort_values(by='occurrence', ascending=False), x='word', y='occurrence')\n",
    "fig.update_layout(\n",
    "    title={\n",
    "        'text': \"Reoccurring Top Words by Story\",\n",
    "        'y':0.95,\n",
    "        'x':0.50,\n",
    "        'xanchor': 'center',\n",
    "        'yanchor': 'top'\n",
    "    })\n",
    "fig.update_xaxes(title_text='Word', tickangle=45, tickfont=dict(family='Rockwell', size=10))\n",
    "fig.update_yaxes(title_text='# Times Occurs as Top Word')\n",
    "fig.show()"
   ]
  },
  {
   "cell_type": "code",
   "execution_count": null,
   "metadata": {},
   "outputs": [],
   "source": []
  },
  {
   "cell_type": "code",
   "execution_count": null,
   "metadata": {},
   "outputs": [],
   "source": []
  },
  {
   "cell_type": "markdown",
   "metadata": {},
   "source": [
    "### Whole Text Corpus"
   ]
  },
  {
   "cell_type": "code",
   "execution_count": 271,
   "metadata": {},
   "outputs": [],
   "source": [
    "sklepy = open(\"./sklepy_cynamonowe_polish.txt\",\"r\") \n",
    "sklepy = sklepy.read()"
   ]
  },
  {
   "cell_type": "code",
   "execution_count": 272,
   "metadata": {},
   "outputs": [],
   "source": [
    "sanatorium = open(\"./sanatorium_pod_klepsydra_polish.txt\",\"r\") \n",
    "sanatorium = sanatorium.read()"
   ]
  },
  {
   "cell_type": "markdown",
   "metadata": {},
   "source": [
    "#### Processing"
   ]
  },
  {
   "cell_type": "code",
   "execution_count": 273,
   "metadata": {},
   "outputs": [],
   "source": [
    "full_text = sklepy + sanatorium"
   ]
  },
  {
   "cell_type": "code",
   "execution_count": 274,
   "metadata": {},
   "outputs": [
    {
     "data": {
      "text/plain": [
       "333905"
      ]
     },
     "execution_count": 274,
     "metadata": {},
     "output_type": "execute_result"
    }
   ],
   "source": [
    "get_keystrokes(full_text) #print keystrokes with stopwords, punctuation"
   ]
  },
  {
   "cell_type": "code",
   "execution_count": 275,
   "metadata": {},
   "outputs": [],
   "source": [
    "full_text = remove_punctuation(full_text)"
   ]
  },
  {
   "cell_type": "code",
   "execution_count": 276,
   "metadata": {},
   "outputs": [],
   "source": [
    "full_text = remove_stopwords(full_text, polish_stopwords)"
   ]
  },
  {
   "cell_type": "markdown",
   "metadata": {},
   "source": [
    "#### Stats"
   ]
  },
  {
   "cell_type": "code",
   "execution_count": 277,
   "metadata": {},
   "outputs": [
    {
     "data": {
      "text/plain": [
       "269500"
      ]
     },
     "execution_count": 277,
     "metadata": {},
     "output_type": "execute_result"
    }
   ],
   "source": [
    "get_keystrokes(full_text) #print keystrokes without stopwords, punctuation"
   ]
  },
  {
   "cell_type": "code",
   "execution_count": 278,
   "metadata": {},
   "outputs": [
    {
     "data": {
      "text/plain": [
       "(36468, 10043, 0.27539212460239115)"
      ]
     },
     "execution_count": 278,
     "metadata": {},
     "output_type": "execute_result"
    }
   ],
   "source": [
    "basic_stats(full_text, lemmat = True) #print number of words, distinct words, lexical richness"
   ]
  },
  {
   "cell_type": "code",
   "execution_count": 279,
   "metadata": {},
   "outputs": [],
   "source": [
    "top_words, hapax_words, total_hapax_words, colloc_words = advanced_stats(text = full_text, num_words = 10, num_hapax = 20, lemmat = True)"
   ]
  },
  {
   "cell_type": "code",
   "execution_count": 280,
   "metadata": {},
   "outputs": [
    {
     "data": {
      "text/plain": [
       "'niezmiernie, tyrs, smukłonogiej, odpowiedziałem, zrealizować, niedźwiedziowatość, przyjechaliśmy, ściemisko, podróżujący, nica, zakorzeniać, kroczek, bagażowy, żałować, natchnąć, pyłek, pro, szumowiny, uwstecznienie, nauczycielka'"
      ]
     },
     "execution_count": 280,
     "metadata": {},
     "output_type": "execute_result"
    }
   ],
   "source": [
    "hapax_words"
   ]
  },
  {
   "cell_type": "code",
   "execution_count": 281,
   "metadata": {},
   "outputs": [
    {
     "data": {
      "text/plain": [
       "5069"
      ]
     },
     "execution_count": 281,
     "metadata": {},
     "output_type": "execute_result"
    }
   ],
   "source": [
    "total_hapax_words"
   ]
  },
  {
   "cell_type": "code",
   "execution_count": 282,
   "metadata": {},
   "outputs": [],
   "source": [
    "tw_df = pd.DataFrame(list(top_words.items()), columns=['word', 'occurrence'])"
   ]
  },
  {
   "cell_type": "code",
   "execution_count": 283,
   "metadata": {},
   "outputs": [],
   "source": [
    "tw_df['occurrence'] = tw_df['occurrence'].astype('int')"
   ]
  },
  {
   "cell_type": "code",
   "execution_count": 284,
   "metadata": {},
   "outputs": [],
   "source": [
    "tw_df = tw_df[tw_df['occurrence'] > 1]"
   ]
  },
  {
   "cell_type": "code",
   "execution_count": 285,
   "metadata": {},
   "outputs": [
    {
     "data": {
      "application/vnd.plotly.v1+json": {
       "config": {
        "plotlyServerURL": "https://plot.ly"
       },
       "data": [
        {
         "alignmentgroup": "True",
         "hoverlabel": {
          "namelength": 0
         },
         "hovertemplate": "word=%{x}<br>occurrence=%{y}",
         "legendgroup": "",
         "marker": {
          "color": "#636efa"
         },
         "name": "",
         "offsetgroup": "",
         "orientation": "v",
         "showlegend": false,
         "textposition": "auto",
         "type": "bar",
         "x": [
          "swój",
          "ojciec",
          "dzień",
          "pełny",
          "noc",
          "wielki",
          "oko",
          "pokój",
          "twarz",
          "chwila"
         ],
         "xaxis": "x",
         "y": [
          274,
          226,
          205,
          198,
          193,
          184,
          148,
          118,
          118,
          107
         ],
         "yaxis": "y"
        }
       ],
       "layout": {
        "barmode": "relative",
        "legend": {
         "tracegroupgap": 0
        },
        "margin": {
         "t": 60
        },
        "template": {
         "data": {
          "bar": [
           {
            "error_x": {
             "color": "#2a3f5f"
            },
            "error_y": {
             "color": "#2a3f5f"
            },
            "marker": {
             "line": {
              "color": "#E5ECF6",
              "width": 0.5
             }
            },
            "type": "bar"
           }
          ],
          "barpolar": [
           {
            "marker": {
             "line": {
              "color": "#E5ECF6",
              "width": 0.5
             }
            },
            "type": "barpolar"
           }
          ],
          "carpet": [
           {
            "aaxis": {
             "endlinecolor": "#2a3f5f",
             "gridcolor": "white",
             "linecolor": "white",
             "minorgridcolor": "white",
             "startlinecolor": "#2a3f5f"
            },
            "baxis": {
             "endlinecolor": "#2a3f5f",
             "gridcolor": "white",
             "linecolor": "white",
             "minorgridcolor": "white",
             "startlinecolor": "#2a3f5f"
            },
            "type": "carpet"
           }
          ],
          "choropleth": [
           {
            "colorbar": {
             "outlinewidth": 0,
             "ticks": ""
            },
            "type": "choropleth"
           }
          ],
          "contour": [
           {
            "colorbar": {
             "outlinewidth": 0,
             "ticks": ""
            },
            "colorscale": [
             [
              0,
              "#0d0887"
             ],
             [
              0.1111111111111111,
              "#46039f"
             ],
             [
              0.2222222222222222,
              "#7201a8"
             ],
             [
              0.3333333333333333,
              "#9c179e"
             ],
             [
              0.4444444444444444,
              "#bd3786"
             ],
             [
              0.5555555555555556,
              "#d8576b"
             ],
             [
              0.6666666666666666,
              "#ed7953"
             ],
             [
              0.7777777777777778,
              "#fb9f3a"
             ],
             [
              0.8888888888888888,
              "#fdca26"
             ],
             [
              1,
              "#f0f921"
             ]
            ],
            "type": "contour"
           }
          ],
          "contourcarpet": [
           {
            "colorbar": {
             "outlinewidth": 0,
             "ticks": ""
            },
            "type": "contourcarpet"
           }
          ],
          "heatmap": [
           {
            "colorbar": {
             "outlinewidth": 0,
             "ticks": ""
            },
            "colorscale": [
             [
              0,
              "#0d0887"
             ],
             [
              0.1111111111111111,
              "#46039f"
             ],
             [
              0.2222222222222222,
              "#7201a8"
             ],
             [
              0.3333333333333333,
              "#9c179e"
             ],
             [
              0.4444444444444444,
              "#bd3786"
             ],
             [
              0.5555555555555556,
              "#d8576b"
             ],
             [
              0.6666666666666666,
              "#ed7953"
             ],
             [
              0.7777777777777778,
              "#fb9f3a"
             ],
             [
              0.8888888888888888,
              "#fdca26"
             ],
             [
              1,
              "#f0f921"
             ]
            ],
            "type": "heatmap"
           }
          ],
          "heatmapgl": [
           {
            "colorbar": {
             "outlinewidth": 0,
             "ticks": ""
            },
            "colorscale": [
             [
              0,
              "#0d0887"
             ],
             [
              0.1111111111111111,
              "#46039f"
             ],
             [
              0.2222222222222222,
              "#7201a8"
             ],
             [
              0.3333333333333333,
              "#9c179e"
             ],
             [
              0.4444444444444444,
              "#bd3786"
             ],
             [
              0.5555555555555556,
              "#d8576b"
             ],
             [
              0.6666666666666666,
              "#ed7953"
             ],
             [
              0.7777777777777778,
              "#fb9f3a"
             ],
             [
              0.8888888888888888,
              "#fdca26"
             ],
             [
              1,
              "#f0f921"
             ]
            ],
            "type": "heatmapgl"
           }
          ],
          "histogram": [
           {
            "marker": {
             "colorbar": {
              "outlinewidth": 0,
              "ticks": ""
             }
            },
            "type": "histogram"
           }
          ],
          "histogram2d": [
           {
            "colorbar": {
             "outlinewidth": 0,
             "ticks": ""
            },
            "colorscale": [
             [
              0,
              "#0d0887"
             ],
             [
              0.1111111111111111,
              "#46039f"
             ],
             [
              0.2222222222222222,
              "#7201a8"
             ],
             [
              0.3333333333333333,
              "#9c179e"
             ],
             [
              0.4444444444444444,
              "#bd3786"
             ],
             [
              0.5555555555555556,
              "#d8576b"
             ],
             [
              0.6666666666666666,
              "#ed7953"
             ],
             [
              0.7777777777777778,
              "#fb9f3a"
             ],
             [
              0.8888888888888888,
              "#fdca26"
             ],
             [
              1,
              "#f0f921"
             ]
            ],
            "type": "histogram2d"
           }
          ],
          "histogram2dcontour": [
           {
            "colorbar": {
             "outlinewidth": 0,
             "ticks": ""
            },
            "colorscale": [
             [
              0,
              "#0d0887"
             ],
             [
              0.1111111111111111,
              "#46039f"
             ],
             [
              0.2222222222222222,
              "#7201a8"
             ],
             [
              0.3333333333333333,
              "#9c179e"
             ],
             [
              0.4444444444444444,
              "#bd3786"
             ],
             [
              0.5555555555555556,
              "#d8576b"
             ],
             [
              0.6666666666666666,
              "#ed7953"
             ],
             [
              0.7777777777777778,
              "#fb9f3a"
             ],
             [
              0.8888888888888888,
              "#fdca26"
             ],
             [
              1,
              "#f0f921"
             ]
            ],
            "type": "histogram2dcontour"
           }
          ],
          "mesh3d": [
           {
            "colorbar": {
             "outlinewidth": 0,
             "ticks": ""
            },
            "type": "mesh3d"
           }
          ],
          "parcoords": [
           {
            "line": {
             "colorbar": {
              "outlinewidth": 0,
              "ticks": ""
             }
            },
            "type": "parcoords"
           }
          ],
          "pie": [
           {
            "automargin": true,
            "type": "pie"
           }
          ],
          "scatter": [
           {
            "marker": {
             "colorbar": {
              "outlinewidth": 0,
              "ticks": ""
             }
            },
            "type": "scatter"
           }
          ],
          "scatter3d": [
           {
            "line": {
             "colorbar": {
              "outlinewidth": 0,
              "ticks": ""
             }
            },
            "marker": {
             "colorbar": {
              "outlinewidth": 0,
              "ticks": ""
             }
            },
            "type": "scatter3d"
           }
          ],
          "scattercarpet": [
           {
            "marker": {
             "colorbar": {
              "outlinewidth": 0,
              "ticks": ""
             }
            },
            "type": "scattercarpet"
           }
          ],
          "scattergeo": [
           {
            "marker": {
             "colorbar": {
              "outlinewidth": 0,
              "ticks": ""
             }
            },
            "type": "scattergeo"
           }
          ],
          "scattergl": [
           {
            "marker": {
             "colorbar": {
              "outlinewidth": 0,
              "ticks": ""
             }
            },
            "type": "scattergl"
           }
          ],
          "scattermapbox": [
           {
            "marker": {
             "colorbar": {
              "outlinewidth": 0,
              "ticks": ""
             }
            },
            "type": "scattermapbox"
           }
          ],
          "scatterpolar": [
           {
            "marker": {
             "colorbar": {
              "outlinewidth": 0,
              "ticks": ""
             }
            },
            "type": "scatterpolar"
           }
          ],
          "scatterpolargl": [
           {
            "marker": {
             "colorbar": {
              "outlinewidth": 0,
              "ticks": ""
             }
            },
            "type": "scatterpolargl"
           }
          ],
          "scatterternary": [
           {
            "marker": {
             "colorbar": {
              "outlinewidth": 0,
              "ticks": ""
             }
            },
            "type": "scatterternary"
           }
          ],
          "surface": [
           {
            "colorbar": {
             "outlinewidth": 0,
             "ticks": ""
            },
            "colorscale": [
             [
              0,
              "#0d0887"
             ],
             [
              0.1111111111111111,
              "#46039f"
             ],
             [
              0.2222222222222222,
              "#7201a8"
             ],
             [
              0.3333333333333333,
              "#9c179e"
             ],
             [
              0.4444444444444444,
              "#bd3786"
             ],
             [
              0.5555555555555556,
              "#d8576b"
             ],
             [
              0.6666666666666666,
              "#ed7953"
             ],
             [
              0.7777777777777778,
              "#fb9f3a"
             ],
             [
              0.8888888888888888,
              "#fdca26"
             ],
             [
              1,
              "#f0f921"
             ]
            ],
            "type": "surface"
           }
          ],
          "table": [
           {
            "cells": {
             "fill": {
              "color": "#EBF0F8"
             },
             "line": {
              "color": "white"
             }
            },
            "header": {
             "fill": {
              "color": "#C8D4E3"
             },
             "line": {
              "color": "white"
             }
            },
            "type": "table"
           }
          ]
         },
         "layout": {
          "annotationdefaults": {
           "arrowcolor": "#2a3f5f",
           "arrowhead": 0,
           "arrowwidth": 1
          },
          "coloraxis": {
           "colorbar": {
            "outlinewidth": 0,
            "ticks": ""
           }
          },
          "colorscale": {
           "diverging": [
            [
             0,
             "#8e0152"
            ],
            [
             0.1,
             "#c51b7d"
            ],
            [
             0.2,
             "#de77ae"
            ],
            [
             0.3,
             "#f1b6da"
            ],
            [
             0.4,
             "#fde0ef"
            ],
            [
             0.5,
             "#f7f7f7"
            ],
            [
             0.6,
             "#e6f5d0"
            ],
            [
             0.7,
             "#b8e186"
            ],
            [
             0.8,
             "#7fbc41"
            ],
            [
             0.9,
             "#4d9221"
            ],
            [
             1,
             "#276419"
            ]
           ],
           "sequential": [
            [
             0,
             "#0d0887"
            ],
            [
             0.1111111111111111,
             "#46039f"
            ],
            [
             0.2222222222222222,
             "#7201a8"
            ],
            [
             0.3333333333333333,
             "#9c179e"
            ],
            [
             0.4444444444444444,
             "#bd3786"
            ],
            [
             0.5555555555555556,
             "#d8576b"
            ],
            [
             0.6666666666666666,
             "#ed7953"
            ],
            [
             0.7777777777777778,
             "#fb9f3a"
            ],
            [
             0.8888888888888888,
             "#fdca26"
            ],
            [
             1,
             "#f0f921"
            ]
           ],
           "sequentialminus": [
            [
             0,
             "#0d0887"
            ],
            [
             0.1111111111111111,
             "#46039f"
            ],
            [
             0.2222222222222222,
             "#7201a8"
            ],
            [
             0.3333333333333333,
             "#9c179e"
            ],
            [
             0.4444444444444444,
             "#bd3786"
            ],
            [
             0.5555555555555556,
             "#d8576b"
            ],
            [
             0.6666666666666666,
             "#ed7953"
            ],
            [
             0.7777777777777778,
             "#fb9f3a"
            ],
            [
             0.8888888888888888,
             "#fdca26"
            ],
            [
             1,
             "#f0f921"
            ]
           ]
          },
          "colorway": [
           "#636efa",
           "#EF553B",
           "#00cc96",
           "#ab63fa",
           "#FFA15A",
           "#19d3f3",
           "#FF6692",
           "#B6E880",
           "#FF97FF",
           "#FECB52"
          ],
          "font": {
           "color": "#2a3f5f"
          },
          "geo": {
           "bgcolor": "white",
           "lakecolor": "white",
           "landcolor": "#E5ECF6",
           "showlakes": true,
           "showland": true,
           "subunitcolor": "white"
          },
          "hoverlabel": {
           "align": "left"
          },
          "hovermode": "closest",
          "mapbox": {
           "style": "light"
          },
          "paper_bgcolor": "white",
          "plot_bgcolor": "#E5ECF6",
          "polar": {
           "angularaxis": {
            "gridcolor": "white",
            "linecolor": "white",
            "ticks": ""
           },
           "bgcolor": "#E5ECF6",
           "radialaxis": {
            "gridcolor": "white",
            "linecolor": "white",
            "ticks": ""
           }
          },
          "scene": {
           "xaxis": {
            "backgroundcolor": "#E5ECF6",
            "gridcolor": "white",
            "gridwidth": 2,
            "linecolor": "white",
            "showbackground": true,
            "ticks": "",
            "zerolinecolor": "white"
           },
           "yaxis": {
            "backgroundcolor": "#E5ECF6",
            "gridcolor": "white",
            "gridwidth": 2,
            "linecolor": "white",
            "showbackground": true,
            "ticks": "",
            "zerolinecolor": "white"
           },
           "zaxis": {
            "backgroundcolor": "#E5ECF6",
            "gridcolor": "white",
            "gridwidth": 2,
            "linecolor": "white",
            "showbackground": true,
            "ticks": "",
            "zerolinecolor": "white"
           }
          },
          "shapedefaults": {
           "line": {
            "color": "#2a3f5f"
           }
          },
          "ternary": {
           "aaxis": {
            "gridcolor": "white",
            "linecolor": "white",
            "ticks": ""
           },
           "baxis": {
            "gridcolor": "white",
            "linecolor": "white",
            "ticks": ""
           },
           "bgcolor": "#E5ECF6",
           "caxis": {
            "gridcolor": "white",
            "linecolor": "white",
            "ticks": ""
           }
          },
          "title": {
           "x": 0.05
          },
          "xaxis": {
           "automargin": true,
           "gridcolor": "white",
           "linecolor": "white",
           "ticks": "",
           "title": {
            "standoff": 15
           },
           "zerolinecolor": "white",
           "zerolinewidth": 2
          },
          "yaxis": {
           "automargin": true,
           "gridcolor": "white",
           "linecolor": "white",
           "ticks": "",
           "title": {
            "standoff": 15
           },
           "zerolinecolor": "white",
           "zerolinewidth": 2
          }
         }
        },
        "title": {
         "text": "Top Words Across All Stories",
         "x": 0.5,
         "xanchor": "center",
         "y": 0.95,
         "yanchor": "top"
        },
        "xaxis": {
         "anchor": "y",
         "domain": [
          0,
          1
         ],
         "tickangle": 45,
         "tickfont": {
          "family": "Rockwell",
          "size": 10
         },
         "title": {
          "text": "Word"
         }
        },
        "yaxis": {
         "anchor": "x",
         "domain": [
          0,
          1
         ],
         "title": {
          "text": "# Occurences Across Stories"
         }
        }
       }
      },
      "text/html": [
       "<div>\n",
       "        \n",
       "        \n",
       "            <div id=\"4350d73e-d65c-43cd-9561-de5290f98208\" class=\"plotly-graph-div\" style=\"height:525px; width:100%;\"></div>\n",
       "            <script type=\"text/javascript\">\n",
       "                require([\"plotly\"], function(Plotly) {\n",
       "                    window.PLOTLYENV=window.PLOTLYENV || {};\n",
       "                    \n",
       "                if (document.getElementById(\"4350d73e-d65c-43cd-9561-de5290f98208\")) {\n",
       "                    Plotly.newPlot(\n",
       "                        '4350d73e-d65c-43cd-9561-de5290f98208',\n",
       "                        [{\"alignmentgroup\": \"True\", \"hoverlabel\": {\"namelength\": 0}, \"hovertemplate\": \"word=%{x}<br>occurrence=%{y}\", \"legendgroup\": \"\", \"marker\": {\"color\": \"#636efa\"}, \"name\": \"\", \"offsetgroup\": \"\", \"orientation\": \"v\", \"showlegend\": false, \"textposition\": \"auto\", \"type\": \"bar\", \"x\": [\"sw\\u00f3j\", \"ojciec\", \"dzie\\u0144\", \"pe\\u0142ny\", \"noc\", \"wielki\", \"oko\", \"pok\\u00f3j\", \"twarz\", \"chwila\"], \"xaxis\": \"x\", \"y\": [274, 226, 205, 198, 193, 184, 148, 118, 118, 107], \"yaxis\": \"y\"}],\n",
       "                        {\"barmode\": \"relative\", \"legend\": {\"tracegroupgap\": 0}, \"margin\": {\"t\": 60}, \"template\": {\"data\": {\"bar\": [{\"error_x\": {\"color\": \"#2a3f5f\"}, \"error_y\": {\"color\": \"#2a3f5f\"}, \"marker\": {\"line\": {\"color\": \"#E5ECF6\", \"width\": 0.5}}, \"type\": \"bar\"}], \"barpolar\": [{\"marker\": {\"line\": {\"color\": \"#E5ECF6\", \"width\": 0.5}}, \"type\": \"barpolar\"}], \"carpet\": [{\"aaxis\": {\"endlinecolor\": \"#2a3f5f\", \"gridcolor\": \"white\", \"linecolor\": \"white\", \"minorgridcolor\": \"white\", \"startlinecolor\": \"#2a3f5f\"}, \"baxis\": {\"endlinecolor\": \"#2a3f5f\", \"gridcolor\": \"white\", \"linecolor\": \"white\", \"minorgridcolor\": \"white\", \"startlinecolor\": \"#2a3f5f\"}, \"type\": \"carpet\"}], \"choropleth\": [{\"colorbar\": {\"outlinewidth\": 0, \"ticks\": \"\"}, \"type\": \"choropleth\"}], \"contour\": [{\"colorbar\": {\"outlinewidth\": 0, \"ticks\": \"\"}, \"colorscale\": [[0.0, \"#0d0887\"], [0.1111111111111111, \"#46039f\"], [0.2222222222222222, \"#7201a8\"], [0.3333333333333333, \"#9c179e\"], [0.4444444444444444, \"#bd3786\"], [0.5555555555555556, \"#d8576b\"], [0.6666666666666666, \"#ed7953\"], [0.7777777777777778, \"#fb9f3a\"], [0.8888888888888888, \"#fdca26\"], [1.0, \"#f0f921\"]], \"type\": \"contour\"}], \"contourcarpet\": [{\"colorbar\": {\"outlinewidth\": 0, \"ticks\": \"\"}, \"type\": \"contourcarpet\"}], \"heatmap\": [{\"colorbar\": {\"outlinewidth\": 0, \"ticks\": \"\"}, \"colorscale\": [[0.0, \"#0d0887\"], [0.1111111111111111, \"#46039f\"], [0.2222222222222222, \"#7201a8\"], [0.3333333333333333, \"#9c179e\"], [0.4444444444444444, \"#bd3786\"], [0.5555555555555556, \"#d8576b\"], [0.6666666666666666, \"#ed7953\"], [0.7777777777777778, \"#fb9f3a\"], [0.8888888888888888, \"#fdca26\"], [1.0, \"#f0f921\"]], \"type\": \"heatmap\"}], \"heatmapgl\": [{\"colorbar\": {\"outlinewidth\": 0, \"ticks\": \"\"}, \"colorscale\": [[0.0, \"#0d0887\"], [0.1111111111111111, \"#46039f\"], [0.2222222222222222, \"#7201a8\"], [0.3333333333333333, \"#9c179e\"], [0.4444444444444444, \"#bd3786\"], [0.5555555555555556, \"#d8576b\"], [0.6666666666666666, \"#ed7953\"], [0.7777777777777778, \"#fb9f3a\"], [0.8888888888888888, \"#fdca26\"], [1.0, \"#f0f921\"]], \"type\": \"heatmapgl\"}], \"histogram\": [{\"marker\": {\"colorbar\": {\"outlinewidth\": 0, \"ticks\": \"\"}}, \"type\": \"histogram\"}], \"histogram2d\": [{\"colorbar\": {\"outlinewidth\": 0, \"ticks\": \"\"}, \"colorscale\": [[0.0, \"#0d0887\"], [0.1111111111111111, \"#46039f\"], [0.2222222222222222, \"#7201a8\"], [0.3333333333333333, \"#9c179e\"], [0.4444444444444444, \"#bd3786\"], [0.5555555555555556, \"#d8576b\"], [0.6666666666666666, \"#ed7953\"], [0.7777777777777778, \"#fb9f3a\"], [0.8888888888888888, \"#fdca26\"], [1.0, \"#f0f921\"]], \"type\": \"histogram2d\"}], \"histogram2dcontour\": [{\"colorbar\": {\"outlinewidth\": 0, \"ticks\": \"\"}, \"colorscale\": [[0.0, \"#0d0887\"], [0.1111111111111111, \"#46039f\"], [0.2222222222222222, \"#7201a8\"], [0.3333333333333333, \"#9c179e\"], [0.4444444444444444, \"#bd3786\"], [0.5555555555555556, \"#d8576b\"], [0.6666666666666666, \"#ed7953\"], [0.7777777777777778, \"#fb9f3a\"], [0.8888888888888888, \"#fdca26\"], [1.0, \"#f0f921\"]], \"type\": \"histogram2dcontour\"}], \"mesh3d\": [{\"colorbar\": {\"outlinewidth\": 0, \"ticks\": \"\"}, \"type\": \"mesh3d\"}], \"parcoords\": [{\"line\": {\"colorbar\": {\"outlinewidth\": 0, \"ticks\": \"\"}}, \"type\": \"parcoords\"}], \"pie\": [{\"automargin\": true, \"type\": \"pie\"}], \"scatter\": [{\"marker\": {\"colorbar\": {\"outlinewidth\": 0, \"ticks\": \"\"}}, \"type\": \"scatter\"}], \"scatter3d\": [{\"line\": {\"colorbar\": {\"outlinewidth\": 0, \"ticks\": \"\"}}, \"marker\": {\"colorbar\": {\"outlinewidth\": 0, \"ticks\": \"\"}}, \"type\": \"scatter3d\"}], \"scattercarpet\": [{\"marker\": {\"colorbar\": {\"outlinewidth\": 0, \"ticks\": \"\"}}, \"type\": \"scattercarpet\"}], \"scattergeo\": [{\"marker\": {\"colorbar\": {\"outlinewidth\": 0, \"ticks\": \"\"}}, \"type\": \"scattergeo\"}], \"scattergl\": [{\"marker\": {\"colorbar\": {\"outlinewidth\": 0, \"ticks\": \"\"}}, \"type\": \"scattergl\"}], \"scattermapbox\": [{\"marker\": {\"colorbar\": {\"outlinewidth\": 0, \"ticks\": \"\"}}, \"type\": \"scattermapbox\"}], \"scatterpolar\": [{\"marker\": {\"colorbar\": {\"outlinewidth\": 0, \"ticks\": \"\"}}, \"type\": \"scatterpolar\"}], \"scatterpolargl\": [{\"marker\": {\"colorbar\": {\"outlinewidth\": 0, \"ticks\": \"\"}}, \"type\": \"scatterpolargl\"}], \"scatterternary\": [{\"marker\": {\"colorbar\": {\"outlinewidth\": 0, \"ticks\": \"\"}}, \"type\": \"scatterternary\"}], \"surface\": [{\"colorbar\": {\"outlinewidth\": 0, \"ticks\": \"\"}, \"colorscale\": [[0.0, \"#0d0887\"], [0.1111111111111111, \"#46039f\"], [0.2222222222222222, \"#7201a8\"], [0.3333333333333333, \"#9c179e\"], [0.4444444444444444, \"#bd3786\"], [0.5555555555555556, \"#d8576b\"], [0.6666666666666666, \"#ed7953\"], [0.7777777777777778, \"#fb9f3a\"], [0.8888888888888888, \"#fdca26\"], [1.0, \"#f0f921\"]], \"type\": \"surface\"}], \"table\": [{\"cells\": {\"fill\": {\"color\": \"#EBF0F8\"}, \"line\": {\"color\": \"white\"}}, \"header\": {\"fill\": {\"color\": \"#C8D4E3\"}, \"line\": {\"color\": \"white\"}}, \"type\": \"table\"}]}, \"layout\": {\"annotationdefaults\": {\"arrowcolor\": \"#2a3f5f\", \"arrowhead\": 0, \"arrowwidth\": 1}, \"coloraxis\": {\"colorbar\": {\"outlinewidth\": 0, \"ticks\": \"\"}}, \"colorscale\": {\"diverging\": [[0, \"#8e0152\"], [0.1, \"#c51b7d\"], [0.2, \"#de77ae\"], [0.3, \"#f1b6da\"], [0.4, \"#fde0ef\"], [0.5, \"#f7f7f7\"], [0.6, \"#e6f5d0\"], [0.7, \"#b8e186\"], [0.8, \"#7fbc41\"], [0.9, \"#4d9221\"], [1, \"#276419\"]], \"sequential\": [[0.0, \"#0d0887\"], [0.1111111111111111, \"#46039f\"], [0.2222222222222222, \"#7201a8\"], [0.3333333333333333, \"#9c179e\"], [0.4444444444444444, \"#bd3786\"], [0.5555555555555556, \"#d8576b\"], [0.6666666666666666, \"#ed7953\"], [0.7777777777777778, \"#fb9f3a\"], [0.8888888888888888, \"#fdca26\"], [1.0, \"#f0f921\"]], \"sequentialminus\": [[0.0, \"#0d0887\"], [0.1111111111111111, \"#46039f\"], [0.2222222222222222, \"#7201a8\"], [0.3333333333333333, \"#9c179e\"], [0.4444444444444444, \"#bd3786\"], [0.5555555555555556, \"#d8576b\"], [0.6666666666666666, \"#ed7953\"], [0.7777777777777778, \"#fb9f3a\"], [0.8888888888888888, \"#fdca26\"], [1.0, \"#f0f921\"]]}, \"colorway\": [\"#636efa\", \"#EF553B\", \"#00cc96\", \"#ab63fa\", \"#FFA15A\", \"#19d3f3\", \"#FF6692\", \"#B6E880\", \"#FF97FF\", \"#FECB52\"], \"font\": {\"color\": \"#2a3f5f\"}, \"geo\": {\"bgcolor\": \"white\", \"lakecolor\": \"white\", \"landcolor\": \"#E5ECF6\", \"showlakes\": true, \"showland\": true, \"subunitcolor\": \"white\"}, \"hoverlabel\": {\"align\": \"left\"}, \"hovermode\": \"closest\", \"mapbox\": {\"style\": \"light\"}, \"paper_bgcolor\": \"white\", \"plot_bgcolor\": \"#E5ECF6\", \"polar\": {\"angularaxis\": {\"gridcolor\": \"white\", \"linecolor\": \"white\", \"ticks\": \"\"}, \"bgcolor\": \"#E5ECF6\", \"radialaxis\": {\"gridcolor\": \"white\", \"linecolor\": \"white\", \"ticks\": \"\"}}, \"scene\": {\"xaxis\": {\"backgroundcolor\": \"#E5ECF6\", \"gridcolor\": \"white\", \"gridwidth\": 2, \"linecolor\": \"white\", \"showbackground\": true, \"ticks\": \"\", \"zerolinecolor\": \"white\"}, \"yaxis\": {\"backgroundcolor\": \"#E5ECF6\", \"gridcolor\": \"white\", \"gridwidth\": 2, \"linecolor\": \"white\", \"showbackground\": true, \"ticks\": \"\", \"zerolinecolor\": \"white\"}, \"zaxis\": {\"backgroundcolor\": \"#E5ECF6\", \"gridcolor\": \"white\", \"gridwidth\": 2, \"linecolor\": \"white\", \"showbackground\": true, \"ticks\": \"\", \"zerolinecolor\": \"white\"}}, \"shapedefaults\": {\"line\": {\"color\": \"#2a3f5f\"}}, \"ternary\": {\"aaxis\": {\"gridcolor\": \"white\", \"linecolor\": \"white\", \"ticks\": \"\"}, \"baxis\": {\"gridcolor\": \"white\", \"linecolor\": \"white\", \"ticks\": \"\"}, \"bgcolor\": \"#E5ECF6\", \"caxis\": {\"gridcolor\": \"white\", \"linecolor\": \"white\", \"ticks\": \"\"}}, \"title\": {\"x\": 0.05}, \"xaxis\": {\"automargin\": true, \"gridcolor\": \"white\", \"linecolor\": \"white\", \"ticks\": \"\", \"title\": {\"standoff\": 15}, \"zerolinecolor\": \"white\", \"zerolinewidth\": 2}, \"yaxis\": {\"automargin\": true, \"gridcolor\": \"white\", \"linecolor\": \"white\", \"ticks\": \"\", \"title\": {\"standoff\": 15}, \"zerolinecolor\": \"white\", \"zerolinewidth\": 2}}}, \"title\": {\"text\": \"Top Words Across All Stories\", \"x\": 0.5, \"xanchor\": \"center\", \"y\": 0.95, \"yanchor\": \"top\"}, \"xaxis\": {\"anchor\": \"y\", \"domain\": [0.0, 1.0], \"tickangle\": 45, \"tickfont\": {\"family\": \"Rockwell\", \"size\": 10}, \"title\": {\"text\": \"Word\"}}, \"yaxis\": {\"anchor\": \"x\", \"domain\": [0.0, 1.0], \"title\": {\"text\": \"# Occurences Across Stories\"}}},\n",
       "                        {\"responsive\": true}\n",
       "                    ).then(function(){\n",
       "                            \n",
       "var gd = document.getElementById('4350d73e-d65c-43cd-9561-de5290f98208');\n",
       "var x = new MutationObserver(function (mutations, observer) {{\n",
       "        var display = window.getComputedStyle(gd).display;\n",
       "        if (!display || display === 'none') {{\n",
       "            console.log([gd, 'removed!']);\n",
       "            Plotly.purge(gd);\n",
       "            observer.disconnect();\n",
       "        }}\n",
       "}});\n",
       "\n",
       "// Listen for the removal of the full notebook cells\n",
       "var notebookContainer = gd.closest('#notebook-container');\n",
       "if (notebookContainer) {{\n",
       "    x.observe(notebookContainer, {childList: true});\n",
       "}}\n",
       "\n",
       "// Listen for the clearing of the current output cell\n",
       "var outputEl = gd.closest('.output');\n",
       "if (outputEl) {{\n",
       "    x.observe(outputEl, {childList: true});\n",
       "}}\n",
       "\n",
       "                        })\n",
       "                };\n",
       "                });\n",
       "            </script>\n",
       "        </div>"
      ]
     },
     "metadata": {},
     "output_type": "display_data"
    }
   ],
   "source": [
    "fig = px.bar(tw_df.sort_values(by='occurrence', ascending=False), x='word', y='occurrence')\n",
    "fig.update_layout(\n",
    "    title={\n",
    "        'text': \"Top Words Across All Stories\",\n",
    "        'y':0.95,\n",
    "        'x':0.50,\n",
    "        'xanchor': 'center',\n",
    "        'yanchor': 'top'\n",
    "    })\n",
    "fig.update_xaxes(title_text='Word', tickangle=45, tickfont=dict(family='Rockwell', size=10))\n",
    "fig.update_yaxes(title_text='# Occurences Across Stories')\n",
    "fig.show()"
   ]
  },
  {
   "cell_type": "code",
   "execution_count": 286,
   "metadata": {},
   "outputs": [
    {
     "data": {
      "text/plain": [
       "'wuj hieronim, anna csillag, wciąż nowy, ulica krokodyli, oba strona, sok malinowy, ciotka retycja, noc lipcowy, mój ojciec, grunt rzecz, noc zimowy, szklany drzwi, subiekt teodor, drugi strona, noc letni, epoka genialny, wyrzucać siebie, przędzalnia tkalnia, rzecz dziwny, jeden drugie'"
      ]
     },
     "execution_count": 286,
     "metadata": {},
     "output_type": "execute_result"
    }
   ],
   "source": [
    "colloc_words"
   ]
  },
  {
   "cell_type": "markdown",
   "metadata": {},
   "source": [
    "#### Create Dispersion Plot Function"
   ]
  },
  {
   "cell_type": "code",
   "execution_count": 287,
   "metadata": {},
   "outputs": [],
   "source": [
    "tokens = tokenize_text(full_text)\n",
    "ntext = Text(tokens)"
   ]
  },
  {
   "cell_type": "code",
   "execution_count": 288,
   "metadata": {},
   "outputs": [],
   "source": [
    "text_to_comp = list(map(str.lower, ntext))"
   ]
  },
  {
   "cell_type": "code",
   "execution_count": 289,
   "metadata": {},
   "outputs": [],
   "source": [
    "titles = [x.lower() for x in df.story_title.values]"
   ]
  },
  {
   "cell_type": "code",
   "execution_count": 290,
   "metadata": {},
   "outputs": [],
   "source": [
    "title_offset = {}\n",
    "for title in titles:\n",
    "    try:\n",
    "        offset = text_to_comp.index(title)\n",
    "    except:\n",
    "        title_offset[title] = ''\n",
    "        continue\n",
    "    title_offset[title] = offset"
   ]
  },
  {
   "cell_type": "code",
   "execution_count": 291,
   "metadata": {},
   "outputs": [],
   "source": [
    "#manual offset of individual stories\n",
    "title_offset['traktat o manekinach albo wtórna księga rodzaju'] = 4838\n",
    "title_offset['pan'] = 7316\n",
    "title_offset['pan karol'] = 7892\n",
    "title_offset['sklepy cynamonowe'] = 8406\n",
    "title_offset['ulica krokodyli'] = 10401\n",
    "title_offset['karakony'] = 12207\n",
    "title_offset['noc wielkiego sezonu'] = 14013\n",
    "title_offset['księga'] = 16149\n",
    "title_offset['genialna epoka '] = 18595\n",
    "title_offset['noc lipcowa'] = 22453\n",
    "title_offset['mój ojciec wstępuje do strażaków'] = 23581\n",
    "title_offset['druga jesień'] = 24917\n",
    "title_offset['martwy sezon'] = 25679\n",
    "title_offset['sanatorium pod klepsydrą'] = 28607\n",
    "title_offset['ostatnia ucieczka ojca'] = 35532"
   ]
  },
  {
   "cell_type": "code",
   "execution_count": 292,
   "metadata": {},
   "outputs": [],
   "source": [
    "def dispersion_plotly(text, words, ignore_case = False, title=\"Lexical Dispersion Plot\", titles = False):\n",
    "    '''\n",
    "    For a given text and group of words, plot the occurrence of the words throughout the text.\n",
    "    The titles boolean argument allows you the option of plotting the start of the stories when they occur in the text.\n",
    "    '''\n",
    "    text = list(text)\n",
    "    words.reverse()\n",
    "\n",
    "    if ignore_case:\n",
    "        words_to_comp = list(map(str.lower, words))\n",
    "        text_to_comp = list(map(str.lower, text))\n",
    "    else:\n",
    "        words_to_comp = words\n",
    "        text_to_comp = text\n",
    "\n",
    "    points = [\n",
    "        (x, y)\n",
    "        for x in range(len(text_to_comp))\n",
    "        for y in range(len(words_to_comp))\n",
    "        if text_to_comp[x] == words_to_comp[y]\n",
    "    ]\n",
    "    if points:\n",
    "        x, y = list(zip(*points))\n",
    "    else:\n",
    "        x = y = ()\n",
    "        \n",
    "    fig = px.scatter(\n",
    "        x = x, y = y, \n",
    "        color = y, color_continuous_scale='Viridis',\n",
    "    )\n",
    "\n",
    "    fig.update_layout(\n",
    "        title={\n",
    "            'text': \"Lexical Dispersion\",\n",
    "            'y':0.95,\n",
    "            'x':0.50,\n",
    "            'xanchor': 'center',\n",
    "            'yanchor': 'top'\n",
    "        },\n",
    "        yaxis = dict(\n",
    "            tickmode = 'array',\n",
    "            tickvals = list(range(len(words))),\n",
    "            ticktext = words\n",
    "        ),\n",
    "        coloraxis_showscale=False,\n",
    "    )\n",
    "    \n",
    "\n",
    "    fig.update_xaxes(title_text='Word Offset (All Stories)')\n",
    "    fig.update_yaxes(title_text='Word')\n",
    "    \n",
    "    if titles:\n",
    "        shapes = list()\n",
    "        for i in title_offset.values():\n",
    "            shapes.append({'type': 'line',\n",
    "                           'xref': 'x',\n",
    "                           'yref': 'y',\n",
    "                           'x0': i,\n",
    "                           'y0': 0,\n",
    "                           'x1': i,\n",
    "                           'y1': len(words)-1,\n",
    "                           'line': dict(color = \"LightSalmon\", width = 1\n",
    "                    )})\n",
    "        for shape in shapes:\n",
    "            fig.add_shape(shape)\n",
    "\n",
    "    fig.show()\n",
    "    \n",
    "    #offline.plot(fig, filename = 'file_name.html', auto_open=False)\n"
   ]
  },
  {
   "cell_type": "markdown",
   "metadata": {},
   "source": [
    "#### Dispersion Plots"
   ]
  },
  {
   "cell_type": "code",
   "execution_count": 293,
   "metadata": {},
   "outputs": [
    {
     "data": {
      "application/vnd.plotly.v1+json": {
       "config": {
        "plotlyServerURL": "https://plot.ly"
       },
       "data": [
        {
         "hoverlabel": {
          "namelength": 0
         },
         "hovertemplate": "x=%{x}<br>y=%{y}<br>color=%{marker.color}",
         "legendgroup": "",
         "marker": {
          "color": [
           8,
           7,
           2,
           7,
           4,
           7,
           1,
           0,
           2,
           1,
           7,
           1,
           1,
           7,
           5,
           8,
           8,
           8,
           1,
           2,
           5,
           1,
           1,
           2,
           5,
           8,
           8,
           8,
           7,
           1,
           8,
           7,
           7,
           8,
           1,
           8,
           8,
           8,
           2,
           1,
           8,
           8,
           8,
           8,
           8,
           7,
           2,
           6,
           7,
           7,
           7,
           7,
           1,
           8,
           5,
           8,
           8,
           8,
           8,
           8,
           1,
           8,
           8,
           8,
           8,
           3,
           8,
           8,
           8,
           8,
           4,
           8,
           8,
           8,
           8,
           8,
           3,
           8,
           8,
           8,
           8,
           8,
           2,
           8,
           8,
           2,
           1,
           8,
           8,
           1,
           8,
           4,
           0,
           4,
           7,
           0,
           1,
           1,
           2,
           7,
           3,
           8,
           1,
           1,
           1,
           0,
           8,
           5,
           5,
           5,
           5,
           5,
           5,
           7,
           5,
           5,
           7,
           5,
           5,
           4,
           1,
           5,
           5,
           5,
           8,
           5,
           8,
           4,
           7,
           1,
           8,
           7,
           7,
           2,
           8,
           1,
           8,
           8,
           7,
           7,
           8,
           8,
           8,
           8,
           4,
           5,
           2,
           7,
           5,
           5,
           5,
           5,
           5,
           4,
           8,
           8,
           7,
           8,
           5,
           5,
           5,
           8,
           8,
           8,
           5,
           1,
           8,
           8,
           8,
           4,
           4,
           8,
           8,
           8,
           8,
           5,
           7,
           7,
           7,
           8,
           8,
           8,
           8,
           8,
           7,
           8,
           8,
           8,
           2,
           2,
           8,
           5,
           8,
           8,
           4,
           8,
           7,
           7,
           1,
           7,
           0,
           2,
           3,
           7,
           2,
           4,
           7,
           1,
           7,
           1,
           2,
           2,
           1,
           8,
           4,
           8,
           1,
           5,
           5,
           5,
           5,
           5,
           5,
           5,
           8,
           8,
           8,
           8,
           3,
           2,
           5,
           7,
           2,
           5,
           5,
           5,
           5,
           5,
           5,
           5,
           5,
           1,
           5,
           2,
           8,
           0,
           5,
           8,
           5,
           2,
           8,
           1,
           8,
           5,
           8,
           2,
           8,
           8,
           5,
           8,
           8,
           8,
           8,
           4,
           7,
           8,
           0,
           8,
           8,
           7,
           8,
           8,
           8,
           8,
           8,
           0,
           7,
           8,
           1,
           8,
           1,
           8,
           8,
           7,
           7,
           5,
           8,
           5,
           8,
           8,
           8,
           7,
           8,
           8,
           8,
           5,
           5,
           8,
           1,
           8,
           0,
           8,
           5,
           8,
           5,
           1,
           8,
           8,
           1,
           5,
           4,
           7,
           2,
           7,
           5,
           4,
           8,
           8,
           8,
           8,
           8,
           2,
           8,
           2,
           1,
           1,
           1,
           7,
           1,
           4,
           4,
           1,
           5,
           7,
           5,
           5,
           5,
           4,
           2,
           4,
           1,
           5,
           4,
           1,
           5,
           1,
           1,
           5,
           7,
           7,
           0,
           1,
           1,
           7,
           4,
           1,
           5,
           5,
           5,
           1,
           2,
           5,
           5,
           7,
           7,
           1,
           2,
           2,
           2,
           8,
           8,
           8,
           8,
           8,
           8,
           7,
           7,
           8,
           8,
           4
          ],
          "coloraxis": "coloraxis",
          "symbol": "circle"
         },
         "mode": "markers",
         "name": "",
         "showlegend": false,
         "type": "scatter",
         "x": [
          3,
          102,
          151,
          322,
          502,
          503,
          739,
          743,
          1113,
          1393,
          1398,
          1480,
          1571,
          1601,
          1755,
          1756,
          1829,
          1964,
          1981,
          2006,
          2071,
          2252,
          2272,
          2325,
          2341,
          2345,
          2437,
          2454,
          2457,
          2530,
          2558,
          2640,
          2754,
          2861,
          3028,
          3128,
          3190,
          3248,
          3261,
          3357,
          3409,
          3601,
          3618,
          3629,
          3755,
          3923,
          4017,
          4095,
          4096,
          4100,
          4131,
          4163,
          4376,
          4452,
          4479,
          4529,
          4552,
          4603,
          4656,
          4697,
          4704,
          4751,
          4842,
          4965,
          5023,
          5053,
          5124,
          5158,
          5176,
          5299,
          5324,
          5372,
          5426,
          5475,
          5538,
          5568,
          5819,
          5877,
          5901,
          6102,
          6147,
          6236,
          6267,
          6278,
          6292,
          6332,
          6391,
          6409,
          6433,
          6491,
          6575,
          6925,
          7221,
          7390,
          7615,
          7661,
          7782,
          7809,
          8139,
          8145,
          8245,
          8429,
          8435,
          8535,
          8569,
          8683,
          8703,
          8745,
          8782,
          8822,
          8870,
          8925,
          8966,
          9216,
          9268,
          9506,
          9510,
          9531,
          9606,
          9879,
          9972,
          9990,
          10079,
          10311,
          10341,
          10350,
          10398,
          10913,
          11349,
          12227,
          12297,
          12333,
          12397,
          12413,
          12620,
          12632,
          12688,
          12703,
          12740,
          12760,
          12778,
          12804,
          12825,
          12884,
          13118,
          13327,
          13376,
          13409,
          13418,
          13442,
          13452,
          13593,
          13958,
          14137,
          14213,
          14269,
          14289,
          14431,
          14718,
          14720,
          14752,
          14851,
          14928,
          14994,
          15068,
          15096,
          15121,
          15146,
          15161,
          15173,
          15189,
          15209,
          15320,
          15365,
          15422,
          15598,
          15660,
          15663,
          15665,
          15668,
          15813,
          15941,
          15971,
          15985,
          16054,
          16077,
          16203,
          16246,
          16325,
          16336,
          16374,
          16411,
          16522,
          16575,
          16592,
          16604,
          16837,
          16953,
          17064,
          18602,
          18620,
          19065,
          19361,
          19394,
          19413,
          19688,
          19723,
          19811,
          19902,
          19973,
          20070,
          20100,
          20315,
          20554,
          20574,
          20588,
          20591,
          20624,
          20875,
          20900,
          20985,
          21077,
          21085,
          21121,
          21176,
          21206,
          21225,
          21241,
          22111,
          22309,
          22373,
          22384,
          22559,
          22751,
          22759,
          22827,
          22876,
          22892,
          23013,
          23092,
          23110,
          23120,
          23271,
          23348,
          23357,
          23490,
          23507,
          23544,
          23981,
          24011,
          24104,
          24263,
          24275,
          24438,
          24695,
          24710,
          24761,
          24789,
          24804,
          24823,
          24885,
          24967,
          25284,
          25417,
          25493,
          25545,
          25585,
          25730,
          25906,
          25949,
          26051,
          26089,
          26194,
          26453,
          26489,
          26508,
          26694,
          27038,
          27054,
          27071,
          27074,
          27366,
          27394,
          27452,
          27455,
          27490,
          27510,
          27536,
          27559,
          27646,
          27680,
          27701,
          27777,
          27793,
          27842,
          27863,
          27868,
          27968,
          28070,
          28161,
          28172,
          28211,
          28273,
          28302,
          28322,
          28493,
          28502,
          28539,
          28544,
          28568,
          28788,
          28790,
          29007,
          29023,
          29032,
          29049,
          29223,
          29254,
          29265,
          29314,
          29381,
          29407,
          29417,
          29429,
          29444,
          29451,
          29617,
          30269,
          30282,
          30302,
          30322,
          30382,
          30705,
          31183,
          31536,
          31555,
          31584,
          31676,
          31764,
          31837,
          31856,
          31865,
          31922,
          31941,
          31953,
          32308,
          32338,
          32763,
          32861,
          33038,
          33040,
          33144,
          33611,
          33701,
          34420,
          34554,
          34605,
          34692,
          34975,
          35053,
          35093,
          35109,
          35112,
          35172,
          35247,
          35305,
          35437,
          35443,
          35458,
          35575,
          35595,
          35753,
          35819,
          35967,
          35982,
          36093,
          36094,
          36149,
          36158,
          36359
         ],
         "xaxis": "x",
         "y": [
          8,
          7,
          2,
          7,
          4,
          7,
          1,
          0,
          2,
          1,
          7,
          1,
          1,
          7,
          5,
          8,
          8,
          8,
          1,
          2,
          5,
          1,
          1,
          2,
          5,
          8,
          8,
          8,
          7,
          1,
          8,
          7,
          7,
          8,
          1,
          8,
          8,
          8,
          2,
          1,
          8,
          8,
          8,
          8,
          8,
          7,
          2,
          6,
          7,
          7,
          7,
          7,
          1,
          8,
          5,
          8,
          8,
          8,
          8,
          8,
          1,
          8,
          8,
          8,
          8,
          3,
          8,
          8,
          8,
          8,
          4,
          8,
          8,
          8,
          8,
          8,
          3,
          8,
          8,
          8,
          8,
          8,
          2,
          8,
          8,
          2,
          1,
          8,
          8,
          1,
          8,
          4,
          0,
          4,
          7,
          0,
          1,
          1,
          2,
          7,
          3,
          8,
          1,
          1,
          1,
          0,
          8,
          5,
          5,
          5,
          5,
          5,
          5,
          7,
          5,
          5,
          7,
          5,
          5,
          4,
          1,
          5,
          5,
          5,
          8,
          5,
          8,
          4,
          7,
          1,
          8,
          7,
          7,
          2,
          8,
          1,
          8,
          8,
          7,
          7,
          8,
          8,
          8,
          8,
          4,
          5,
          2,
          7,
          5,
          5,
          5,
          5,
          5,
          4,
          8,
          8,
          7,
          8,
          5,
          5,
          5,
          8,
          8,
          8,
          5,
          1,
          8,
          8,
          8,
          4,
          4,
          8,
          8,
          8,
          8,
          5,
          7,
          7,
          7,
          8,
          8,
          8,
          8,
          8,
          7,
          8,
          8,
          8,
          2,
          2,
          8,
          5,
          8,
          8,
          4,
          8,
          7,
          7,
          1,
          7,
          0,
          2,
          3,
          7,
          2,
          4,
          7,
          1,
          7,
          1,
          2,
          2,
          1,
          8,
          4,
          8,
          1,
          5,
          5,
          5,
          5,
          5,
          5,
          5,
          8,
          8,
          8,
          8,
          3,
          2,
          5,
          7,
          2,
          5,
          5,
          5,
          5,
          5,
          5,
          5,
          5,
          1,
          5,
          2,
          8,
          0,
          5,
          8,
          5,
          2,
          8,
          1,
          8,
          5,
          8,
          2,
          8,
          8,
          5,
          8,
          8,
          8,
          8,
          4,
          7,
          8,
          0,
          8,
          8,
          7,
          8,
          8,
          8,
          8,
          8,
          0,
          7,
          8,
          1,
          8,
          1,
          8,
          8,
          7,
          7,
          5,
          8,
          5,
          8,
          8,
          8,
          7,
          8,
          8,
          8,
          5,
          5,
          8,
          1,
          8,
          0,
          8,
          5,
          8,
          5,
          1,
          8,
          8,
          1,
          5,
          4,
          7,
          2,
          7,
          5,
          4,
          8,
          8,
          8,
          8,
          8,
          2,
          8,
          2,
          1,
          1,
          1,
          7,
          1,
          4,
          4,
          1,
          5,
          7,
          5,
          5,
          5,
          4,
          2,
          4,
          1,
          5,
          4,
          1,
          5,
          1,
          1,
          5,
          7,
          7,
          0,
          1,
          1,
          7,
          4,
          1,
          5,
          5,
          5,
          1,
          2,
          5,
          5,
          7,
          7,
          1,
          2,
          2,
          2,
          8,
          8,
          8,
          8,
          8,
          8,
          7,
          7,
          8,
          8,
          4
         ],
         "yaxis": "y"
        }
       ],
       "layout": {
        "coloraxis": {
         "colorbar": {
          "title": {
           "text": "color"
          }
         },
         "colorscale": [
          [
           0,
           "#440154"
          ],
          [
           0.1111111111111111,
           "#482878"
          ],
          [
           0.2222222222222222,
           "#3e4989"
          ],
          [
           0.3333333333333333,
           "#31688e"
          ],
          [
           0.4444444444444444,
           "#26828e"
          ],
          [
           0.5555555555555556,
           "#1f9e89"
          ],
          [
           0.6666666666666666,
           "#35b779"
          ],
          [
           0.7777777777777778,
           "#6ece58"
          ],
          [
           0.8888888888888888,
           "#b5de2b"
          ],
          [
           1,
           "#fde725"
          ]
         ],
         "showscale": false
        },
        "legend": {
         "tracegroupgap": 0
        },
        "margin": {
         "t": 60
        },
        "template": {
         "data": {
          "bar": [
           {
            "error_x": {
             "color": "#2a3f5f"
            },
            "error_y": {
             "color": "#2a3f5f"
            },
            "marker": {
             "line": {
              "color": "#E5ECF6",
              "width": 0.5
             }
            },
            "type": "bar"
           }
          ],
          "barpolar": [
           {
            "marker": {
             "line": {
              "color": "#E5ECF6",
              "width": 0.5
             }
            },
            "type": "barpolar"
           }
          ],
          "carpet": [
           {
            "aaxis": {
             "endlinecolor": "#2a3f5f",
             "gridcolor": "white",
             "linecolor": "white",
             "minorgridcolor": "white",
             "startlinecolor": "#2a3f5f"
            },
            "baxis": {
             "endlinecolor": "#2a3f5f",
             "gridcolor": "white",
             "linecolor": "white",
             "minorgridcolor": "white",
             "startlinecolor": "#2a3f5f"
            },
            "type": "carpet"
           }
          ],
          "choropleth": [
           {
            "colorbar": {
             "outlinewidth": 0,
             "ticks": ""
            },
            "type": "choropleth"
           }
          ],
          "contour": [
           {
            "colorbar": {
             "outlinewidth": 0,
             "ticks": ""
            },
            "colorscale": [
             [
              0,
              "#0d0887"
             ],
             [
              0.1111111111111111,
              "#46039f"
             ],
             [
              0.2222222222222222,
              "#7201a8"
             ],
             [
              0.3333333333333333,
              "#9c179e"
             ],
             [
              0.4444444444444444,
              "#bd3786"
             ],
             [
              0.5555555555555556,
              "#d8576b"
             ],
             [
              0.6666666666666666,
              "#ed7953"
             ],
             [
              0.7777777777777778,
              "#fb9f3a"
             ],
             [
              0.8888888888888888,
              "#fdca26"
             ],
             [
              1,
              "#f0f921"
             ]
            ],
            "type": "contour"
           }
          ],
          "contourcarpet": [
           {
            "colorbar": {
             "outlinewidth": 0,
             "ticks": ""
            },
            "type": "contourcarpet"
           }
          ],
          "heatmap": [
           {
            "colorbar": {
             "outlinewidth": 0,
             "ticks": ""
            },
            "colorscale": [
             [
              0,
              "#0d0887"
             ],
             [
              0.1111111111111111,
              "#46039f"
             ],
             [
              0.2222222222222222,
              "#7201a8"
             ],
             [
              0.3333333333333333,
              "#9c179e"
             ],
             [
              0.4444444444444444,
              "#bd3786"
             ],
             [
              0.5555555555555556,
              "#d8576b"
             ],
             [
              0.6666666666666666,
              "#ed7953"
             ],
             [
              0.7777777777777778,
              "#fb9f3a"
             ],
             [
              0.8888888888888888,
              "#fdca26"
             ],
             [
              1,
              "#f0f921"
             ]
            ],
            "type": "heatmap"
           }
          ],
          "heatmapgl": [
           {
            "colorbar": {
             "outlinewidth": 0,
             "ticks": ""
            },
            "colorscale": [
             [
              0,
              "#0d0887"
             ],
             [
              0.1111111111111111,
              "#46039f"
             ],
             [
              0.2222222222222222,
              "#7201a8"
             ],
             [
              0.3333333333333333,
              "#9c179e"
             ],
             [
              0.4444444444444444,
              "#bd3786"
             ],
             [
              0.5555555555555556,
              "#d8576b"
             ],
             [
              0.6666666666666666,
              "#ed7953"
             ],
             [
              0.7777777777777778,
              "#fb9f3a"
             ],
             [
              0.8888888888888888,
              "#fdca26"
             ],
             [
              1,
              "#f0f921"
             ]
            ],
            "type": "heatmapgl"
           }
          ],
          "histogram": [
           {
            "marker": {
             "colorbar": {
              "outlinewidth": 0,
              "ticks": ""
             }
            },
            "type": "histogram"
           }
          ],
          "histogram2d": [
           {
            "colorbar": {
             "outlinewidth": 0,
             "ticks": ""
            },
            "colorscale": [
             [
              0,
              "#0d0887"
             ],
             [
              0.1111111111111111,
              "#46039f"
             ],
             [
              0.2222222222222222,
              "#7201a8"
             ],
             [
              0.3333333333333333,
              "#9c179e"
             ],
             [
              0.4444444444444444,
              "#bd3786"
             ],
             [
              0.5555555555555556,
              "#d8576b"
             ],
             [
              0.6666666666666666,
              "#ed7953"
             ],
             [
              0.7777777777777778,
              "#fb9f3a"
             ],
             [
              0.8888888888888888,
              "#fdca26"
             ],
             [
              1,
              "#f0f921"
             ]
            ],
            "type": "histogram2d"
           }
          ],
          "histogram2dcontour": [
           {
            "colorbar": {
             "outlinewidth": 0,
             "ticks": ""
            },
            "colorscale": [
             [
              0,
              "#0d0887"
             ],
             [
              0.1111111111111111,
              "#46039f"
             ],
             [
              0.2222222222222222,
              "#7201a8"
             ],
             [
              0.3333333333333333,
              "#9c179e"
             ],
             [
              0.4444444444444444,
              "#bd3786"
             ],
             [
              0.5555555555555556,
              "#d8576b"
             ],
             [
              0.6666666666666666,
              "#ed7953"
             ],
             [
              0.7777777777777778,
              "#fb9f3a"
             ],
             [
              0.8888888888888888,
              "#fdca26"
             ],
             [
              1,
              "#f0f921"
             ]
            ],
            "type": "histogram2dcontour"
           }
          ],
          "mesh3d": [
           {
            "colorbar": {
             "outlinewidth": 0,
             "ticks": ""
            },
            "type": "mesh3d"
           }
          ],
          "parcoords": [
           {
            "line": {
             "colorbar": {
              "outlinewidth": 0,
              "ticks": ""
             }
            },
            "type": "parcoords"
           }
          ],
          "pie": [
           {
            "automargin": true,
            "type": "pie"
           }
          ],
          "scatter": [
           {
            "marker": {
             "colorbar": {
              "outlinewidth": 0,
              "ticks": ""
             }
            },
            "type": "scatter"
           }
          ],
          "scatter3d": [
           {
            "line": {
             "colorbar": {
              "outlinewidth": 0,
              "ticks": ""
             }
            },
            "marker": {
             "colorbar": {
              "outlinewidth": 0,
              "ticks": ""
             }
            },
            "type": "scatter3d"
           }
          ],
          "scattercarpet": [
           {
            "marker": {
             "colorbar": {
              "outlinewidth": 0,
              "ticks": ""
             }
            },
            "type": "scattercarpet"
           }
          ],
          "scattergeo": [
           {
            "marker": {
             "colorbar": {
              "outlinewidth": 0,
              "ticks": ""
             }
            },
            "type": "scattergeo"
           }
          ],
          "scattergl": [
           {
            "marker": {
             "colorbar": {
              "outlinewidth": 0,
              "ticks": ""
             }
            },
            "type": "scattergl"
           }
          ],
          "scattermapbox": [
           {
            "marker": {
             "colorbar": {
              "outlinewidth": 0,
              "ticks": ""
             }
            },
            "type": "scattermapbox"
           }
          ],
          "scatterpolar": [
           {
            "marker": {
             "colorbar": {
              "outlinewidth": 0,
              "ticks": ""
             }
            },
            "type": "scatterpolar"
           }
          ],
          "scatterpolargl": [
           {
            "marker": {
             "colorbar": {
              "outlinewidth": 0,
              "ticks": ""
             }
            },
            "type": "scatterpolargl"
           }
          ],
          "scatterternary": [
           {
            "marker": {
             "colorbar": {
              "outlinewidth": 0,
              "ticks": ""
             }
            },
            "type": "scatterternary"
           }
          ],
          "surface": [
           {
            "colorbar": {
             "outlinewidth": 0,
             "ticks": ""
            },
            "colorscale": [
             [
              0,
              "#0d0887"
             ],
             [
              0.1111111111111111,
              "#46039f"
             ],
             [
              0.2222222222222222,
              "#7201a8"
             ],
             [
              0.3333333333333333,
              "#9c179e"
             ],
             [
              0.4444444444444444,
              "#bd3786"
             ],
             [
              0.5555555555555556,
              "#d8576b"
             ],
             [
              0.6666666666666666,
              "#ed7953"
             ],
             [
              0.7777777777777778,
              "#fb9f3a"
             ],
             [
              0.8888888888888888,
              "#fdca26"
             ],
             [
              1,
              "#f0f921"
             ]
            ],
            "type": "surface"
           }
          ],
          "table": [
           {
            "cells": {
             "fill": {
              "color": "#EBF0F8"
             },
             "line": {
              "color": "white"
             }
            },
            "header": {
             "fill": {
              "color": "#C8D4E3"
             },
             "line": {
              "color": "white"
             }
            },
            "type": "table"
           }
          ]
         },
         "layout": {
          "annotationdefaults": {
           "arrowcolor": "#2a3f5f",
           "arrowhead": 0,
           "arrowwidth": 1
          },
          "coloraxis": {
           "colorbar": {
            "outlinewidth": 0,
            "ticks": ""
           }
          },
          "colorscale": {
           "diverging": [
            [
             0,
             "#8e0152"
            ],
            [
             0.1,
             "#c51b7d"
            ],
            [
             0.2,
             "#de77ae"
            ],
            [
             0.3,
             "#f1b6da"
            ],
            [
             0.4,
             "#fde0ef"
            ],
            [
             0.5,
             "#f7f7f7"
            ],
            [
             0.6,
             "#e6f5d0"
            ],
            [
             0.7,
             "#b8e186"
            ],
            [
             0.8,
             "#7fbc41"
            ],
            [
             0.9,
             "#4d9221"
            ],
            [
             1,
             "#276419"
            ]
           ],
           "sequential": [
            [
             0,
             "#0d0887"
            ],
            [
             0.1111111111111111,
             "#46039f"
            ],
            [
             0.2222222222222222,
             "#7201a8"
            ],
            [
             0.3333333333333333,
             "#9c179e"
            ],
            [
             0.4444444444444444,
             "#bd3786"
            ],
            [
             0.5555555555555556,
             "#d8576b"
            ],
            [
             0.6666666666666666,
             "#ed7953"
            ],
            [
             0.7777777777777778,
             "#fb9f3a"
            ],
            [
             0.8888888888888888,
             "#fdca26"
            ],
            [
             1,
             "#f0f921"
            ]
           ],
           "sequentialminus": [
            [
             0,
             "#0d0887"
            ],
            [
             0.1111111111111111,
             "#46039f"
            ],
            [
             0.2222222222222222,
             "#7201a8"
            ],
            [
             0.3333333333333333,
             "#9c179e"
            ],
            [
             0.4444444444444444,
             "#bd3786"
            ],
            [
             0.5555555555555556,
             "#d8576b"
            ],
            [
             0.6666666666666666,
             "#ed7953"
            ],
            [
             0.7777777777777778,
             "#fb9f3a"
            ],
            [
             0.8888888888888888,
             "#fdca26"
            ],
            [
             1,
             "#f0f921"
            ]
           ]
          },
          "colorway": [
           "#636efa",
           "#EF553B",
           "#00cc96",
           "#ab63fa",
           "#FFA15A",
           "#19d3f3",
           "#FF6692",
           "#B6E880",
           "#FF97FF",
           "#FECB52"
          ],
          "font": {
           "color": "#2a3f5f"
          },
          "geo": {
           "bgcolor": "white",
           "lakecolor": "white",
           "landcolor": "#E5ECF6",
           "showlakes": true,
           "showland": true,
           "subunitcolor": "white"
          },
          "hoverlabel": {
           "align": "left"
          },
          "hovermode": "closest",
          "mapbox": {
           "style": "light"
          },
          "paper_bgcolor": "white",
          "plot_bgcolor": "#E5ECF6",
          "polar": {
           "angularaxis": {
            "gridcolor": "white",
            "linecolor": "white",
            "ticks": ""
           },
           "bgcolor": "#E5ECF6",
           "radialaxis": {
            "gridcolor": "white",
            "linecolor": "white",
            "ticks": ""
           }
          },
          "scene": {
           "xaxis": {
            "backgroundcolor": "#E5ECF6",
            "gridcolor": "white",
            "gridwidth": 2,
            "linecolor": "white",
            "showbackground": true,
            "ticks": "",
            "zerolinecolor": "white"
           },
           "yaxis": {
            "backgroundcolor": "#E5ECF6",
            "gridcolor": "white",
            "gridwidth": 2,
            "linecolor": "white",
            "showbackground": true,
            "ticks": "",
            "zerolinecolor": "white"
           },
           "zaxis": {
            "backgroundcolor": "#E5ECF6",
            "gridcolor": "white",
            "gridwidth": 2,
            "linecolor": "white",
            "showbackground": true,
            "ticks": "",
            "zerolinecolor": "white"
           }
          },
          "shapedefaults": {
           "line": {
            "color": "#2a3f5f"
           }
          },
          "ternary": {
           "aaxis": {
            "gridcolor": "white",
            "linecolor": "white",
            "ticks": ""
           },
           "baxis": {
            "gridcolor": "white",
            "linecolor": "white",
            "ticks": ""
           },
           "bgcolor": "#E5ECF6",
           "caxis": {
            "gridcolor": "white",
            "linecolor": "white",
            "ticks": ""
           }
          },
          "title": {
           "x": 0.05
          },
          "xaxis": {
           "automargin": true,
           "gridcolor": "white",
           "linecolor": "white",
           "ticks": "",
           "title": {
            "standoff": 15
           },
           "zerolinecolor": "white",
           "zerolinewidth": 2
          },
          "yaxis": {
           "automargin": true,
           "gridcolor": "white",
           "linecolor": "white",
           "ticks": "",
           "title": {
            "standoff": 15
           },
           "zerolinecolor": "white",
           "zerolinewidth": 2
          }
         }
        },
        "title": {
         "text": "Lexical Dispersion",
         "x": 0.5,
         "xanchor": "center",
         "y": 0.95,
         "yanchor": "top"
        },
        "xaxis": {
         "anchor": "y",
         "domain": [
          0,
          1
         ],
         "title": {
          "text": "Word Offset (All Stories)"
         }
        },
        "yaxis": {
         "anchor": "x",
         "domain": [
          0,
          1
         ],
         "tickmode": "array",
         "ticktext": [
          "chwila",
          "twarz",
          "pokój",
          "oko",
          "wielki",
          "noc",
          "pełny",
          "dzień",
          "ojciec",
          "swój"
         ],
         "tickvals": [
          0,
          1,
          2,
          3,
          4,
          5,
          6,
          7,
          8,
          9
         ],
         "title": {
          "text": "Word"
         }
        }
       }
      },
      "text/html": [
       "<div>\n",
       "        \n",
       "        \n",
       "            <div id=\"3144120d-b092-497a-b9a3-1ea8fd1f1d96\" class=\"plotly-graph-div\" style=\"height:525px; width:100%;\"></div>\n",
       "            <script type=\"text/javascript\">\n",
       "                require([\"plotly\"], function(Plotly) {\n",
       "                    window.PLOTLYENV=window.PLOTLYENV || {};\n",
       "                    \n",
       "                if (document.getElementById(\"3144120d-b092-497a-b9a3-1ea8fd1f1d96\")) {\n",
       "                    Plotly.newPlot(\n",
       "                        '3144120d-b092-497a-b9a3-1ea8fd1f1d96',\n",
       "                        [{\"hoverlabel\": {\"namelength\": 0}, \"hovertemplate\": \"x=%{x}<br>y=%{y}<br>color=%{marker.color}\", \"legendgroup\": \"\", \"marker\": {\"color\": [8, 7, 2, 7, 4, 7, 1, 0, 2, 1, 7, 1, 1, 7, 5, 8, 8, 8, 1, 2, 5, 1, 1, 2, 5, 8, 8, 8, 7, 1, 8, 7, 7, 8, 1, 8, 8, 8, 2, 1, 8, 8, 8, 8, 8, 7, 2, 6, 7, 7, 7, 7, 1, 8, 5, 8, 8, 8, 8, 8, 1, 8, 8, 8, 8, 3, 8, 8, 8, 8, 4, 8, 8, 8, 8, 8, 3, 8, 8, 8, 8, 8, 2, 8, 8, 2, 1, 8, 8, 1, 8, 4, 0, 4, 7, 0, 1, 1, 2, 7, 3, 8, 1, 1, 1, 0, 8, 5, 5, 5, 5, 5, 5, 7, 5, 5, 7, 5, 5, 4, 1, 5, 5, 5, 8, 5, 8, 4, 7, 1, 8, 7, 7, 2, 8, 1, 8, 8, 7, 7, 8, 8, 8, 8, 4, 5, 2, 7, 5, 5, 5, 5, 5, 4, 8, 8, 7, 8, 5, 5, 5, 8, 8, 8, 5, 1, 8, 8, 8, 4, 4, 8, 8, 8, 8, 5, 7, 7, 7, 8, 8, 8, 8, 8, 7, 8, 8, 8, 2, 2, 8, 5, 8, 8, 4, 8, 7, 7, 1, 7, 0, 2, 3, 7, 2, 4, 7, 1, 7, 1, 2, 2, 1, 8, 4, 8, 1, 5, 5, 5, 5, 5, 5, 5, 8, 8, 8, 8, 3, 2, 5, 7, 2, 5, 5, 5, 5, 5, 5, 5, 5, 1, 5, 2, 8, 0, 5, 8, 5, 2, 8, 1, 8, 5, 8, 2, 8, 8, 5, 8, 8, 8, 8, 4, 7, 8, 0, 8, 8, 7, 8, 8, 8, 8, 8, 0, 7, 8, 1, 8, 1, 8, 8, 7, 7, 5, 8, 5, 8, 8, 8, 7, 8, 8, 8, 5, 5, 8, 1, 8, 0, 8, 5, 8, 5, 1, 8, 8, 1, 5, 4, 7, 2, 7, 5, 4, 8, 8, 8, 8, 8, 2, 8, 2, 1, 1, 1, 7, 1, 4, 4, 1, 5, 7, 5, 5, 5, 4, 2, 4, 1, 5, 4, 1, 5, 1, 1, 5, 7, 7, 0, 1, 1, 7, 4, 1, 5, 5, 5, 1, 2, 5, 5, 7, 7, 1, 2, 2, 2, 8, 8, 8, 8, 8, 8, 7, 7, 8, 8, 4], \"coloraxis\": \"coloraxis\", \"symbol\": \"circle\"}, \"mode\": \"markers\", \"name\": \"\", \"showlegend\": false, \"type\": \"scatter\", \"x\": [3, 102, 151, 322, 502, 503, 739, 743, 1113, 1393, 1398, 1480, 1571, 1601, 1755, 1756, 1829, 1964, 1981, 2006, 2071, 2252, 2272, 2325, 2341, 2345, 2437, 2454, 2457, 2530, 2558, 2640, 2754, 2861, 3028, 3128, 3190, 3248, 3261, 3357, 3409, 3601, 3618, 3629, 3755, 3923, 4017, 4095, 4096, 4100, 4131, 4163, 4376, 4452, 4479, 4529, 4552, 4603, 4656, 4697, 4704, 4751, 4842, 4965, 5023, 5053, 5124, 5158, 5176, 5299, 5324, 5372, 5426, 5475, 5538, 5568, 5819, 5877, 5901, 6102, 6147, 6236, 6267, 6278, 6292, 6332, 6391, 6409, 6433, 6491, 6575, 6925, 7221, 7390, 7615, 7661, 7782, 7809, 8139, 8145, 8245, 8429, 8435, 8535, 8569, 8683, 8703, 8745, 8782, 8822, 8870, 8925, 8966, 9216, 9268, 9506, 9510, 9531, 9606, 9879, 9972, 9990, 10079, 10311, 10341, 10350, 10398, 10913, 11349, 12227, 12297, 12333, 12397, 12413, 12620, 12632, 12688, 12703, 12740, 12760, 12778, 12804, 12825, 12884, 13118, 13327, 13376, 13409, 13418, 13442, 13452, 13593, 13958, 14137, 14213, 14269, 14289, 14431, 14718, 14720, 14752, 14851, 14928, 14994, 15068, 15096, 15121, 15146, 15161, 15173, 15189, 15209, 15320, 15365, 15422, 15598, 15660, 15663, 15665, 15668, 15813, 15941, 15971, 15985, 16054, 16077, 16203, 16246, 16325, 16336, 16374, 16411, 16522, 16575, 16592, 16604, 16837, 16953, 17064, 18602, 18620, 19065, 19361, 19394, 19413, 19688, 19723, 19811, 19902, 19973, 20070, 20100, 20315, 20554, 20574, 20588, 20591, 20624, 20875, 20900, 20985, 21077, 21085, 21121, 21176, 21206, 21225, 21241, 22111, 22309, 22373, 22384, 22559, 22751, 22759, 22827, 22876, 22892, 23013, 23092, 23110, 23120, 23271, 23348, 23357, 23490, 23507, 23544, 23981, 24011, 24104, 24263, 24275, 24438, 24695, 24710, 24761, 24789, 24804, 24823, 24885, 24967, 25284, 25417, 25493, 25545, 25585, 25730, 25906, 25949, 26051, 26089, 26194, 26453, 26489, 26508, 26694, 27038, 27054, 27071, 27074, 27366, 27394, 27452, 27455, 27490, 27510, 27536, 27559, 27646, 27680, 27701, 27777, 27793, 27842, 27863, 27868, 27968, 28070, 28161, 28172, 28211, 28273, 28302, 28322, 28493, 28502, 28539, 28544, 28568, 28788, 28790, 29007, 29023, 29032, 29049, 29223, 29254, 29265, 29314, 29381, 29407, 29417, 29429, 29444, 29451, 29617, 30269, 30282, 30302, 30322, 30382, 30705, 31183, 31536, 31555, 31584, 31676, 31764, 31837, 31856, 31865, 31922, 31941, 31953, 32308, 32338, 32763, 32861, 33038, 33040, 33144, 33611, 33701, 34420, 34554, 34605, 34692, 34975, 35053, 35093, 35109, 35112, 35172, 35247, 35305, 35437, 35443, 35458, 35575, 35595, 35753, 35819, 35967, 35982, 36093, 36094, 36149, 36158, 36359], \"xaxis\": \"x\", \"y\": [8, 7, 2, 7, 4, 7, 1, 0, 2, 1, 7, 1, 1, 7, 5, 8, 8, 8, 1, 2, 5, 1, 1, 2, 5, 8, 8, 8, 7, 1, 8, 7, 7, 8, 1, 8, 8, 8, 2, 1, 8, 8, 8, 8, 8, 7, 2, 6, 7, 7, 7, 7, 1, 8, 5, 8, 8, 8, 8, 8, 1, 8, 8, 8, 8, 3, 8, 8, 8, 8, 4, 8, 8, 8, 8, 8, 3, 8, 8, 8, 8, 8, 2, 8, 8, 2, 1, 8, 8, 1, 8, 4, 0, 4, 7, 0, 1, 1, 2, 7, 3, 8, 1, 1, 1, 0, 8, 5, 5, 5, 5, 5, 5, 7, 5, 5, 7, 5, 5, 4, 1, 5, 5, 5, 8, 5, 8, 4, 7, 1, 8, 7, 7, 2, 8, 1, 8, 8, 7, 7, 8, 8, 8, 8, 4, 5, 2, 7, 5, 5, 5, 5, 5, 4, 8, 8, 7, 8, 5, 5, 5, 8, 8, 8, 5, 1, 8, 8, 8, 4, 4, 8, 8, 8, 8, 5, 7, 7, 7, 8, 8, 8, 8, 8, 7, 8, 8, 8, 2, 2, 8, 5, 8, 8, 4, 8, 7, 7, 1, 7, 0, 2, 3, 7, 2, 4, 7, 1, 7, 1, 2, 2, 1, 8, 4, 8, 1, 5, 5, 5, 5, 5, 5, 5, 8, 8, 8, 8, 3, 2, 5, 7, 2, 5, 5, 5, 5, 5, 5, 5, 5, 1, 5, 2, 8, 0, 5, 8, 5, 2, 8, 1, 8, 5, 8, 2, 8, 8, 5, 8, 8, 8, 8, 4, 7, 8, 0, 8, 8, 7, 8, 8, 8, 8, 8, 0, 7, 8, 1, 8, 1, 8, 8, 7, 7, 5, 8, 5, 8, 8, 8, 7, 8, 8, 8, 5, 5, 8, 1, 8, 0, 8, 5, 8, 5, 1, 8, 8, 1, 5, 4, 7, 2, 7, 5, 4, 8, 8, 8, 8, 8, 2, 8, 2, 1, 1, 1, 7, 1, 4, 4, 1, 5, 7, 5, 5, 5, 4, 2, 4, 1, 5, 4, 1, 5, 1, 1, 5, 7, 7, 0, 1, 1, 7, 4, 1, 5, 5, 5, 1, 2, 5, 5, 7, 7, 1, 2, 2, 2, 8, 8, 8, 8, 8, 8, 7, 7, 8, 8, 4], \"yaxis\": \"y\"}],\n",
       "                        {\"coloraxis\": {\"colorbar\": {\"title\": {\"text\": \"color\"}}, \"colorscale\": [[0.0, \"#440154\"], [0.1111111111111111, \"#482878\"], [0.2222222222222222, \"#3e4989\"], [0.3333333333333333, \"#31688e\"], [0.4444444444444444, \"#26828e\"], [0.5555555555555556, \"#1f9e89\"], [0.6666666666666666, \"#35b779\"], [0.7777777777777778, \"#6ece58\"], [0.8888888888888888, \"#b5de2b\"], [1.0, \"#fde725\"]], \"showscale\": false}, \"legend\": {\"tracegroupgap\": 0}, \"margin\": {\"t\": 60}, \"template\": {\"data\": {\"bar\": [{\"error_x\": {\"color\": \"#2a3f5f\"}, \"error_y\": {\"color\": \"#2a3f5f\"}, \"marker\": {\"line\": {\"color\": \"#E5ECF6\", \"width\": 0.5}}, \"type\": \"bar\"}], \"barpolar\": [{\"marker\": {\"line\": {\"color\": \"#E5ECF6\", \"width\": 0.5}}, \"type\": \"barpolar\"}], \"carpet\": [{\"aaxis\": {\"endlinecolor\": \"#2a3f5f\", \"gridcolor\": \"white\", \"linecolor\": \"white\", \"minorgridcolor\": \"white\", \"startlinecolor\": \"#2a3f5f\"}, \"baxis\": {\"endlinecolor\": \"#2a3f5f\", \"gridcolor\": \"white\", \"linecolor\": \"white\", \"minorgridcolor\": \"white\", \"startlinecolor\": \"#2a3f5f\"}, \"type\": \"carpet\"}], \"choropleth\": [{\"colorbar\": {\"outlinewidth\": 0, \"ticks\": \"\"}, \"type\": \"choropleth\"}], \"contour\": [{\"colorbar\": {\"outlinewidth\": 0, \"ticks\": \"\"}, \"colorscale\": [[0.0, \"#0d0887\"], [0.1111111111111111, \"#46039f\"], [0.2222222222222222, \"#7201a8\"], [0.3333333333333333, \"#9c179e\"], [0.4444444444444444, \"#bd3786\"], [0.5555555555555556, \"#d8576b\"], [0.6666666666666666, \"#ed7953\"], [0.7777777777777778, \"#fb9f3a\"], [0.8888888888888888, \"#fdca26\"], [1.0, \"#f0f921\"]], \"type\": \"contour\"}], \"contourcarpet\": [{\"colorbar\": {\"outlinewidth\": 0, \"ticks\": \"\"}, \"type\": \"contourcarpet\"}], \"heatmap\": [{\"colorbar\": {\"outlinewidth\": 0, \"ticks\": \"\"}, \"colorscale\": [[0.0, \"#0d0887\"], [0.1111111111111111, \"#46039f\"], [0.2222222222222222, \"#7201a8\"], [0.3333333333333333, \"#9c179e\"], [0.4444444444444444, \"#bd3786\"], [0.5555555555555556, \"#d8576b\"], [0.6666666666666666, \"#ed7953\"], [0.7777777777777778, \"#fb9f3a\"], [0.8888888888888888, \"#fdca26\"], [1.0, \"#f0f921\"]], \"type\": \"heatmap\"}], \"heatmapgl\": [{\"colorbar\": {\"outlinewidth\": 0, \"ticks\": \"\"}, \"colorscale\": [[0.0, \"#0d0887\"], [0.1111111111111111, \"#46039f\"], [0.2222222222222222, \"#7201a8\"], [0.3333333333333333, \"#9c179e\"], [0.4444444444444444, \"#bd3786\"], [0.5555555555555556, \"#d8576b\"], [0.6666666666666666, \"#ed7953\"], [0.7777777777777778, \"#fb9f3a\"], [0.8888888888888888, \"#fdca26\"], [1.0, \"#f0f921\"]], \"type\": \"heatmapgl\"}], \"histogram\": [{\"marker\": {\"colorbar\": {\"outlinewidth\": 0, \"ticks\": \"\"}}, \"type\": \"histogram\"}], \"histogram2d\": [{\"colorbar\": {\"outlinewidth\": 0, \"ticks\": \"\"}, \"colorscale\": [[0.0, \"#0d0887\"], [0.1111111111111111, \"#46039f\"], [0.2222222222222222, \"#7201a8\"], [0.3333333333333333, \"#9c179e\"], [0.4444444444444444, \"#bd3786\"], [0.5555555555555556, \"#d8576b\"], [0.6666666666666666, \"#ed7953\"], [0.7777777777777778, \"#fb9f3a\"], [0.8888888888888888, \"#fdca26\"], [1.0, \"#f0f921\"]], \"type\": \"histogram2d\"}], \"histogram2dcontour\": [{\"colorbar\": {\"outlinewidth\": 0, \"ticks\": \"\"}, \"colorscale\": [[0.0, \"#0d0887\"], [0.1111111111111111, \"#46039f\"], [0.2222222222222222, \"#7201a8\"], [0.3333333333333333, \"#9c179e\"], [0.4444444444444444, \"#bd3786\"], [0.5555555555555556, \"#d8576b\"], [0.6666666666666666, \"#ed7953\"], [0.7777777777777778, \"#fb9f3a\"], [0.8888888888888888, \"#fdca26\"], [1.0, \"#f0f921\"]], \"type\": \"histogram2dcontour\"}], \"mesh3d\": [{\"colorbar\": {\"outlinewidth\": 0, \"ticks\": \"\"}, \"type\": \"mesh3d\"}], \"parcoords\": [{\"line\": {\"colorbar\": {\"outlinewidth\": 0, \"ticks\": \"\"}}, \"type\": \"parcoords\"}], \"pie\": [{\"automargin\": true, \"type\": \"pie\"}], \"scatter\": [{\"marker\": {\"colorbar\": {\"outlinewidth\": 0, \"ticks\": \"\"}}, \"type\": \"scatter\"}], \"scatter3d\": [{\"line\": {\"colorbar\": {\"outlinewidth\": 0, \"ticks\": \"\"}}, \"marker\": {\"colorbar\": {\"outlinewidth\": 0, \"ticks\": \"\"}}, \"type\": \"scatter3d\"}], \"scattercarpet\": [{\"marker\": {\"colorbar\": {\"outlinewidth\": 0, \"ticks\": \"\"}}, \"type\": \"scattercarpet\"}], \"scattergeo\": [{\"marker\": {\"colorbar\": {\"outlinewidth\": 0, \"ticks\": \"\"}}, \"type\": \"scattergeo\"}], \"scattergl\": [{\"marker\": {\"colorbar\": {\"outlinewidth\": 0, \"ticks\": \"\"}}, \"type\": \"scattergl\"}], \"scattermapbox\": [{\"marker\": {\"colorbar\": {\"outlinewidth\": 0, \"ticks\": \"\"}}, \"type\": \"scattermapbox\"}], \"scatterpolar\": [{\"marker\": {\"colorbar\": {\"outlinewidth\": 0, \"ticks\": \"\"}}, \"type\": \"scatterpolar\"}], \"scatterpolargl\": [{\"marker\": {\"colorbar\": {\"outlinewidth\": 0, \"ticks\": \"\"}}, \"type\": \"scatterpolargl\"}], \"scatterternary\": [{\"marker\": {\"colorbar\": {\"outlinewidth\": 0, \"ticks\": \"\"}}, \"type\": \"scatterternary\"}], \"surface\": [{\"colorbar\": {\"outlinewidth\": 0, \"ticks\": \"\"}, \"colorscale\": [[0.0, \"#0d0887\"], [0.1111111111111111, \"#46039f\"], [0.2222222222222222, \"#7201a8\"], [0.3333333333333333, \"#9c179e\"], [0.4444444444444444, \"#bd3786\"], [0.5555555555555556, \"#d8576b\"], [0.6666666666666666, \"#ed7953\"], [0.7777777777777778, \"#fb9f3a\"], [0.8888888888888888, \"#fdca26\"], [1.0, \"#f0f921\"]], \"type\": \"surface\"}], \"table\": [{\"cells\": {\"fill\": {\"color\": \"#EBF0F8\"}, \"line\": {\"color\": \"white\"}}, \"header\": {\"fill\": {\"color\": \"#C8D4E3\"}, \"line\": {\"color\": \"white\"}}, \"type\": \"table\"}]}, \"layout\": {\"annotationdefaults\": {\"arrowcolor\": \"#2a3f5f\", \"arrowhead\": 0, \"arrowwidth\": 1}, \"coloraxis\": {\"colorbar\": {\"outlinewidth\": 0, \"ticks\": \"\"}}, \"colorscale\": {\"diverging\": [[0, \"#8e0152\"], [0.1, \"#c51b7d\"], [0.2, \"#de77ae\"], [0.3, \"#f1b6da\"], [0.4, \"#fde0ef\"], [0.5, \"#f7f7f7\"], [0.6, \"#e6f5d0\"], [0.7, \"#b8e186\"], [0.8, \"#7fbc41\"], [0.9, \"#4d9221\"], [1, \"#276419\"]], \"sequential\": [[0.0, \"#0d0887\"], [0.1111111111111111, \"#46039f\"], [0.2222222222222222, \"#7201a8\"], [0.3333333333333333, \"#9c179e\"], [0.4444444444444444, \"#bd3786\"], [0.5555555555555556, \"#d8576b\"], [0.6666666666666666, \"#ed7953\"], [0.7777777777777778, \"#fb9f3a\"], [0.8888888888888888, \"#fdca26\"], [1.0, \"#f0f921\"]], \"sequentialminus\": [[0.0, \"#0d0887\"], [0.1111111111111111, \"#46039f\"], [0.2222222222222222, \"#7201a8\"], [0.3333333333333333, \"#9c179e\"], [0.4444444444444444, \"#bd3786\"], [0.5555555555555556, \"#d8576b\"], [0.6666666666666666, \"#ed7953\"], [0.7777777777777778, \"#fb9f3a\"], [0.8888888888888888, \"#fdca26\"], [1.0, \"#f0f921\"]]}, \"colorway\": [\"#636efa\", \"#EF553B\", \"#00cc96\", \"#ab63fa\", \"#FFA15A\", \"#19d3f3\", \"#FF6692\", \"#B6E880\", \"#FF97FF\", \"#FECB52\"], \"font\": {\"color\": \"#2a3f5f\"}, \"geo\": {\"bgcolor\": \"white\", \"lakecolor\": \"white\", \"landcolor\": \"#E5ECF6\", \"showlakes\": true, \"showland\": true, \"subunitcolor\": \"white\"}, \"hoverlabel\": {\"align\": \"left\"}, \"hovermode\": \"closest\", \"mapbox\": {\"style\": \"light\"}, \"paper_bgcolor\": \"white\", \"plot_bgcolor\": \"#E5ECF6\", \"polar\": {\"angularaxis\": {\"gridcolor\": \"white\", \"linecolor\": \"white\", \"ticks\": \"\"}, \"bgcolor\": \"#E5ECF6\", \"radialaxis\": {\"gridcolor\": \"white\", \"linecolor\": \"white\", \"ticks\": \"\"}}, \"scene\": {\"xaxis\": {\"backgroundcolor\": \"#E5ECF6\", \"gridcolor\": \"white\", \"gridwidth\": 2, \"linecolor\": \"white\", \"showbackground\": true, \"ticks\": \"\", \"zerolinecolor\": \"white\"}, \"yaxis\": {\"backgroundcolor\": \"#E5ECF6\", \"gridcolor\": \"white\", \"gridwidth\": 2, \"linecolor\": \"white\", \"showbackground\": true, \"ticks\": \"\", \"zerolinecolor\": \"white\"}, \"zaxis\": {\"backgroundcolor\": \"#E5ECF6\", \"gridcolor\": \"white\", \"gridwidth\": 2, \"linecolor\": \"white\", \"showbackground\": true, \"ticks\": \"\", \"zerolinecolor\": \"white\"}}, \"shapedefaults\": {\"line\": {\"color\": \"#2a3f5f\"}}, \"ternary\": {\"aaxis\": {\"gridcolor\": \"white\", \"linecolor\": \"white\", \"ticks\": \"\"}, \"baxis\": {\"gridcolor\": \"white\", \"linecolor\": \"white\", \"ticks\": \"\"}, \"bgcolor\": \"#E5ECF6\", \"caxis\": {\"gridcolor\": \"white\", \"linecolor\": \"white\", \"ticks\": \"\"}}, \"title\": {\"x\": 0.05}, \"xaxis\": {\"automargin\": true, \"gridcolor\": \"white\", \"linecolor\": \"white\", \"ticks\": \"\", \"title\": {\"standoff\": 15}, \"zerolinecolor\": \"white\", \"zerolinewidth\": 2}, \"yaxis\": {\"automargin\": true, \"gridcolor\": \"white\", \"linecolor\": \"white\", \"ticks\": \"\", \"title\": {\"standoff\": 15}, \"zerolinecolor\": \"white\", \"zerolinewidth\": 2}}}, \"title\": {\"text\": \"Lexical Dispersion\", \"x\": 0.5, \"xanchor\": \"center\", \"y\": 0.95, \"yanchor\": \"top\"}, \"xaxis\": {\"anchor\": \"y\", \"domain\": [0.0, 1.0], \"title\": {\"text\": \"Word Offset (All Stories)\"}}, \"yaxis\": {\"anchor\": \"x\", \"domain\": [0.0, 1.0], \"tickmode\": \"array\", \"ticktext\": [\"chwila\", \"twarz\", \"pok\\u00f3j\", \"oko\", \"wielki\", \"noc\", \"pe\\u0142ny\", \"dzie\\u0144\", \"ojciec\", \"sw\\u00f3j\"], \"tickvals\": [0, 1, 2, 3, 4, 5, 6, 7, 8, 9], \"title\": {\"text\": \"Word\"}}},\n",
       "                        {\"responsive\": true}\n",
       "                    ).then(function(){\n",
       "                            \n",
       "var gd = document.getElementById('3144120d-b092-497a-b9a3-1ea8fd1f1d96');\n",
       "var x = new MutationObserver(function (mutations, observer) {{\n",
       "        var display = window.getComputedStyle(gd).display;\n",
       "        if (!display || display === 'none') {{\n",
       "            console.log([gd, 'removed!']);\n",
       "            Plotly.purge(gd);\n",
       "            observer.disconnect();\n",
       "        }}\n",
       "}});\n",
       "\n",
       "// Listen for the removal of the full notebook cells\n",
       "var notebookContainer = gd.closest('#notebook-container');\n",
       "if (notebookContainer) {{\n",
       "    x.observe(notebookContainer, {childList: true});\n",
       "}}\n",
       "\n",
       "// Listen for the clearing of the current output cell\n",
       "var outputEl = gd.closest('.output');\n",
       "if (outputEl) {{\n",
       "    x.observe(outputEl, {childList: true});\n",
       "}}\n",
       "\n",
       "                        })\n",
       "                };\n",
       "                });\n",
       "            </script>\n",
       "        </div>"
      ]
     },
     "metadata": {},
     "output_type": "display_data"
    }
   ],
   "source": [
    "dispersion_plotly(ntext, list(top_words.keys()))"
   ]
  },
  {
   "cell_type": "code",
   "execution_count": 294,
   "metadata": {},
   "outputs": [],
   "source": [
    "characters = ['wuj', 'ciotka', 'ojciec', 'teodor', 'matka', 'adela', 'agata']"
   ]
  },
  {
   "cell_type": "code",
   "execution_count": 295,
   "metadata": {},
   "outputs": [
    {
     "data": {
      "application/vnd.plotly.v1+json": {
       "config": {
        "plotlyServerURL": "https://plot.ly"
       },
       "data": [
        {
         "hoverlabel": {
          "namelength": 0
         },
         "hovertemplate": "x=%{x}<br>y=%{y}<br>color=%{marker.color}",
         "legendgroup": "",
         "marker": {
          "color": [
           4,
           1,
           1,
           2,
           1,
           5,
           0,
           5,
           0,
           5,
           6,
           4,
           4,
           2,
           4,
           4,
           2,
           4,
           4,
           4,
           2,
           1,
           4,
           2,
           2,
           1,
           1,
           4,
           4,
           4,
           4,
           1,
           1,
           4,
           1,
           4,
           4,
           4,
           1,
           1,
           2,
           1,
           2,
           1,
           2,
           4,
           4,
           4,
           4,
           4,
           1,
           4,
           1,
           4,
           4,
           4,
           4,
           4,
           4,
           4,
           4,
           4,
           4,
           1,
           4,
           4,
           4,
           1,
           4,
           4,
           4,
           4,
           4,
           4,
           4,
           4,
           4,
           1,
           4,
           6,
           4,
           2,
           4,
           4,
           4,
           1,
           4,
           2,
           1,
           2,
           4,
           1,
           4,
           4,
           4,
           4,
           4,
           1,
           2,
           4,
           2,
           2,
           2,
           3,
           1,
           1,
           2,
           3,
           1,
           5,
           1,
           5,
           1,
           5,
           1,
           2,
           3,
           4,
           4,
           4,
           4,
           4,
           4,
           1,
           4,
           4,
           4,
           4,
           4,
           4,
           4,
           4,
           4,
           1,
           4,
           4,
           4,
           4,
           1,
           4,
           4,
           4,
           2,
           4,
           4,
           4,
           2,
           2,
           1,
           1,
           1,
           4,
           4,
           4,
           4,
           4,
           4,
           4,
           4,
           2,
           2,
           2,
           2,
           2,
           4,
           1,
           1,
           4,
           2,
           3,
           1,
           4,
           1,
           1,
           4,
           4,
           1,
           4,
           4,
           4,
           4,
           4,
           4,
           4,
           2,
           4,
           4,
           4,
           4,
           4,
           2,
           2,
           4,
           2,
           4,
           2,
           4,
           4,
           4,
           4,
           4,
           4,
           4,
           4,
           4,
           4,
           3,
           3,
           2,
           4,
           2,
           4,
           4,
           4,
           4,
           4,
           4,
           4,
           4,
           4,
           4,
           5,
           6,
           6,
           6,
           6,
           5,
           6,
           5,
           6,
           6,
           6,
           5,
           5,
           6,
           5,
           5,
           5,
           5,
           6,
           1,
           1,
           1,
           1,
           1,
           1,
           1,
           2,
           1,
           4,
           4,
           2,
           2,
           4,
           4,
           4,
           4,
           6,
           4,
           4,
           2,
           6,
           2
          ],
          "coloraxis": "coloraxis",
          "symbol": "circle"
         },
         "mode": "markers",
         "name": "",
         "showlegend": false,
         "type": "scatter",
         "x": [
          3,
          32,
          140,
          901,
          924,
          1017,
          1018,
          1138,
          1139,
          1170,
          1239,
          1756,
          1829,
          1861,
          1964,
          2345,
          2432,
          2437,
          2454,
          2558,
          2579,
          2753,
          2861,
          2930,
          2983,
          3042,
          3073,
          3128,
          3190,
          3248,
          3409,
          3551,
          3587,
          3601,
          3615,
          3618,
          3629,
          3755,
          3837,
          3945,
          3987,
          3995,
          4043,
          4176,
          4191,
          4452,
          4529,
          4552,
          4603,
          4656,
          4667,
          4697,
          4709,
          4751,
          4842,
          4965,
          5023,
          5124,
          5158,
          5176,
          5299,
          5372,
          5426,
          5430,
          5475,
          5538,
          5568,
          5847,
          5877,
          5901,
          6102,
          6147,
          6236,
          6278,
          6292,
          6409,
          6433,
          6566,
          6575,
          7891,
          8429,
          8584,
          8703,
          10341,
          10398,
          12267,
          12297,
          12340,
          12369,
          12482,
          12620,
          12665,
          12688,
          12703,
          12778,
          12804,
          12825,
          12861,
          12877,
          12884,
          13100,
          13319,
          13412,
          13415,
          13471,
          13510,
          13576,
          13685,
          13726,
          13731,
          13748,
          13751,
          13764,
          13781,
          13935,
          13940,
          13946,
          14213,
          14269,
          14431,
          14851,
          14928,
          14994,
          15089,
          15121,
          15146,
          15161,
          15209,
          15320,
          15365,
          15422,
          15668,
          15813,
          15835,
          15941,
          15971,
          15985,
          16077,
          16090,
          16203,
          16246,
          16374,
          16391,
          16522,
          16575,
          16604,
          18472,
          18793,
          18916,
          19392,
          19944,
          20554,
          20588,
          21176,
          21206,
          21225,
          21241,
          23357,
          23544,
          23663,
          23814,
          23851,
          23903,
          24039,
          24104,
          24149,
          24183,
          24275,
          24434,
          24533,
          24683,
          24695,
          24735,
          24752,
          24761,
          24789,
          24813,
          24823,
          24885,
          24967,
          25284,
          25545,
          25730,
          25906,
          26016,
          26051,
          26089,
          26194,
          26453,
          26489,
          26641,
          26759,
          27038,
          27058,
          27071,
          27327,
          27366,
          27394,
          27510,
          27559,
          27646,
          27680,
          27777,
          27793,
          27842,
          27968,
          27988,
          28039,
          28052,
          28161,
          28187,
          28211,
          28302,
          28502,
          28539,
          29223,
          29254,
          29265,
          29314,
          29381,
          29417,
          30152,
          30236,
          30347,
          30377,
          30411,
          30449,
          30462,
          30487,
          30511,
          30582,
          30612,
          30660,
          30725,
          30737,
          30766,
          30837,
          30851,
          30861,
          30866,
          31213,
          31361,
          31566,
          31851,
          31897,
          31914,
          31960,
          35514,
          35518,
          35575,
          35595,
          35680,
          35729,
          35753,
          35819,
          35967,
          35982,
          36102,
          36149,
          36158,
          36292,
          36368,
          36379
         ],
         "xaxis": "x",
         "y": [
          4,
          1,
          1,
          2,
          1,
          5,
          0,
          5,
          0,
          5,
          6,
          4,
          4,
          2,
          4,
          4,
          2,
          4,
          4,
          4,
          2,
          1,
          4,
          2,
          2,
          1,
          1,
          4,
          4,
          4,
          4,
          1,
          1,
          4,
          1,
          4,
          4,
          4,
          1,
          1,
          2,
          1,
          2,
          1,
          2,
          4,
          4,
          4,
          4,
          4,
          1,
          4,
          1,
          4,
          4,
          4,
          4,
          4,
          4,
          4,
          4,
          4,
          4,
          1,
          4,
          4,
          4,
          1,
          4,
          4,
          4,
          4,
          4,
          4,
          4,
          4,
          4,
          1,
          4,
          6,
          4,
          2,
          4,
          4,
          4,
          1,
          4,
          2,
          1,
          2,
          4,
          1,
          4,
          4,
          4,
          4,
          4,
          1,
          2,
          4,
          2,
          2,
          2,
          3,
          1,
          1,
          2,
          3,
          1,
          5,
          1,
          5,
          1,
          5,
          1,
          2,
          3,
          4,
          4,
          4,
          4,
          4,
          4,
          1,
          4,
          4,
          4,
          4,
          4,
          4,
          4,
          4,
          4,
          1,
          4,
          4,
          4,
          4,
          1,
          4,
          4,
          4,
          2,
          4,
          4,
          4,
          2,
          2,
          1,
          1,
          1,
          4,
          4,
          4,
          4,
          4,
          4,
          4,
          4,
          2,
          2,
          2,
          2,
          2,
          4,
          1,
          1,
          4,
          2,
          3,
          1,
          4,
          1,
          1,
          4,
          4,
          1,
          4,
          4,
          4,
          4,
          4,
          4,
          4,
          2,
          4,
          4,
          4,
          4,
          4,
          2,
          2,
          4,
          2,
          4,
          2,
          4,
          4,
          4,
          4,
          4,
          4,
          4,
          4,
          4,
          4,
          3,
          3,
          2,
          4,
          2,
          4,
          4,
          4,
          4,
          4,
          4,
          4,
          4,
          4,
          4,
          5,
          6,
          6,
          6,
          6,
          5,
          6,
          5,
          6,
          6,
          6,
          5,
          5,
          6,
          5,
          5,
          5,
          5,
          6,
          1,
          1,
          1,
          1,
          1,
          1,
          1,
          2,
          1,
          4,
          4,
          2,
          2,
          4,
          4,
          4,
          4,
          6,
          4,
          4,
          2,
          6,
          2
         ],
         "yaxis": "y"
        }
       ],
       "layout": {
        "coloraxis": {
         "colorbar": {
          "title": {
           "text": "color"
          }
         },
         "colorscale": [
          [
           0,
           "#440154"
          ],
          [
           0.1111111111111111,
           "#482878"
          ],
          [
           0.2222222222222222,
           "#3e4989"
          ],
          [
           0.3333333333333333,
           "#31688e"
          ],
          [
           0.4444444444444444,
           "#26828e"
          ],
          [
           0.5555555555555556,
           "#1f9e89"
          ],
          [
           0.6666666666666666,
           "#35b779"
          ],
          [
           0.7777777777777778,
           "#6ece58"
          ],
          [
           0.8888888888888888,
           "#b5de2b"
          ],
          [
           1,
           "#fde725"
          ]
         ],
         "showscale": false
        },
        "legend": {
         "tracegroupgap": 0
        },
        "margin": {
         "t": 60
        },
        "template": {
         "data": {
          "bar": [
           {
            "error_x": {
             "color": "#2a3f5f"
            },
            "error_y": {
             "color": "#2a3f5f"
            },
            "marker": {
             "line": {
              "color": "#E5ECF6",
              "width": 0.5
             }
            },
            "type": "bar"
           }
          ],
          "barpolar": [
           {
            "marker": {
             "line": {
              "color": "#E5ECF6",
              "width": 0.5
             }
            },
            "type": "barpolar"
           }
          ],
          "carpet": [
           {
            "aaxis": {
             "endlinecolor": "#2a3f5f",
             "gridcolor": "white",
             "linecolor": "white",
             "minorgridcolor": "white",
             "startlinecolor": "#2a3f5f"
            },
            "baxis": {
             "endlinecolor": "#2a3f5f",
             "gridcolor": "white",
             "linecolor": "white",
             "minorgridcolor": "white",
             "startlinecolor": "#2a3f5f"
            },
            "type": "carpet"
           }
          ],
          "choropleth": [
           {
            "colorbar": {
             "outlinewidth": 0,
             "ticks": ""
            },
            "type": "choropleth"
           }
          ],
          "contour": [
           {
            "colorbar": {
             "outlinewidth": 0,
             "ticks": ""
            },
            "colorscale": [
             [
              0,
              "#0d0887"
             ],
             [
              0.1111111111111111,
              "#46039f"
             ],
             [
              0.2222222222222222,
              "#7201a8"
             ],
             [
              0.3333333333333333,
              "#9c179e"
             ],
             [
              0.4444444444444444,
              "#bd3786"
             ],
             [
              0.5555555555555556,
              "#d8576b"
             ],
             [
              0.6666666666666666,
              "#ed7953"
             ],
             [
              0.7777777777777778,
              "#fb9f3a"
             ],
             [
              0.8888888888888888,
              "#fdca26"
             ],
             [
              1,
              "#f0f921"
             ]
            ],
            "type": "contour"
           }
          ],
          "contourcarpet": [
           {
            "colorbar": {
             "outlinewidth": 0,
             "ticks": ""
            },
            "type": "contourcarpet"
           }
          ],
          "heatmap": [
           {
            "colorbar": {
             "outlinewidth": 0,
             "ticks": ""
            },
            "colorscale": [
             [
              0,
              "#0d0887"
             ],
             [
              0.1111111111111111,
              "#46039f"
             ],
             [
              0.2222222222222222,
              "#7201a8"
             ],
             [
              0.3333333333333333,
              "#9c179e"
             ],
             [
              0.4444444444444444,
              "#bd3786"
             ],
             [
              0.5555555555555556,
              "#d8576b"
             ],
             [
              0.6666666666666666,
              "#ed7953"
             ],
             [
              0.7777777777777778,
              "#fb9f3a"
             ],
             [
              0.8888888888888888,
              "#fdca26"
             ],
             [
              1,
              "#f0f921"
             ]
            ],
            "type": "heatmap"
           }
          ],
          "heatmapgl": [
           {
            "colorbar": {
             "outlinewidth": 0,
             "ticks": ""
            },
            "colorscale": [
             [
              0,
              "#0d0887"
             ],
             [
              0.1111111111111111,
              "#46039f"
             ],
             [
              0.2222222222222222,
              "#7201a8"
             ],
             [
              0.3333333333333333,
              "#9c179e"
             ],
             [
              0.4444444444444444,
              "#bd3786"
             ],
             [
              0.5555555555555556,
              "#d8576b"
             ],
             [
              0.6666666666666666,
              "#ed7953"
             ],
             [
              0.7777777777777778,
              "#fb9f3a"
             ],
             [
              0.8888888888888888,
              "#fdca26"
             ],
             [
              1,
              "#f0f921"
             ]
            ],
            "type": "heatmapgl"
           }
          ],
          "histogram": [
           {
            "marker": {
             "colorbar": {
              "outlinewidth": 0,
              "ticks": ""
             }
            },
            "type": "histogram"
           }
          ],
          "histogram2d": [
           {
            "colorbar": {
             "outlinewidth": 0,
             "ticks": ""
            },
            "colorscale": [
             [
              0,
              "#0d0887"
             ],
             [
              0.1111111111111111,
              "#46039f"
             ],
             [
              0.2222222222222222,
              "#7201a8"
             ],
             [
              0.3333333333333333,
              "#9c179e"
             ],
             [
              0.4444444444444444,
              "#bd3786"
             ],
             [
              0.5555555555555556,
              "#d8576b"
             ],
             [
              0.6666666666666666,
              "#ed7953"
             ],
             [
              0.7777777777777778,
              "#fb9f3a"
             ],
             [
              0.8888888888888888,
              "#fdca26"
             ],
             [
              1,
              "#f0f921"
             ]
            ],
            "type": "histogram2d"
           }
          ],
          "histogram2dcontour": [
           {
            "colorbar": {
             "outlinewidth": 0,
             "ticks": ""
            },
            "colorscale": [
             [
              0,
              "#0d0887"
             ],
             [
              0.1111111111111111,
              "#46039f"
             ],
             [
              0.2222222222222222,
              "#7201a8"
             ],
             [
              0.3333333333333333,
              "#9c179e"
             ],
             [
              0.4444444444444444,
              "#bd3786"
             ],
             [
              0.5555555555555556,
              "#d8576b"
             ],
             [
              0.6666666666666666,
              "#ed7953"
             ],
             [
              0.7777777777777778,
              "#fb9f3a"
             ],
             [
              0.8888888888888888,
              "#fdca26"
             ],
             [
              1,
              "#f0f921"
             ]
            ],
            "type": "histogram2dcontour"
           }
          ],
          "mesh3d": [
           {
            "colorbar": {
             "outlinewidth": 0,
             "ticks": ""
            },
            "type": "mesh3d"
           }
          ],
          "parcoords": [
           {
            "line": {
             "colorbar": {
              "outlinewidth": 0,
              "ticks": ""
             }
            },
            "type": "parcoords"
           }
          ],
          "pie": [
           {
            "automargin": true,
            "type": "pie"
           }
          ],
          "scatter": [
           {
            "marker": {
             "colorbar": {
              "outlinewidth": 0,
              "ticks": ""
             }
            },
            "type": "scatter"
           }
          ],
          "scatter3d": [
           {
            "line": {
             "colorbar": {
              "outlinewidth": 0,
              "ticks": ""
             }
            },
            "marker": {
             "colorbar": {
              "outlinewidth": 0,
              "ticks": ""
             }
            },
            "type": "scatter3d"
           }
          ],
          "scattercarpet": [
           {
            "marker": {
             "colorbar": {
              "outlinewidth": 0,
              "ticks": ""
             }
            },
            "type": "scattercarpet"
           }
          ],
          "scattergeo": [
           {
            "marker": {
             "colorbar": {
              "outlinewidth": 0,
              "ticks": ""
             }
            },
            "type": "scattergeo"
           }
          ],
          "scattergl": [
           {
            "marker": {
             "colorbar": {
              "outlinewidth": 0,
              "ticks": ""
             }
            },
            "type": "scattergl"
           }
          ],
          "scattermapbox": [
           {
            "marker": {
             "colorbar": {
              "outlinewidth": 0,
              "ticks": ""
             }
            },
            "type": "scattermapbox"
           }
          ],
          "scatterpolar": [
           {
            "marker": {
             "colorbar": {
              "outlinewidth": 0,
              "ticks": ""
             }
            },
            "type": "scatterpolar"
           }
          ],
          "scatterpolargl": [
           {
            "marker": {
             "colorbar": {
              "outlinewidth": 0,
              "ticks": ""
             }
            },
            "type": "scatterpolargl"
           }
          ],
          "scatterternary": [
           {
            "marker": {
             "colorbar": {
              "outlinewidth": 0,
              "ticks": ""
             }
            },
            "type": "scatterternary"
           }
          ],
          "surface": [
           {
            "colorbar": {
             "outlinewidth": 0,
             "ticks": ""
            },
            "colorscale": [
             [
              0,
              "#0d0887"
             ],
             [
              0.1111111111111111,
              "#46039f"
             ],
             [
              0.2222222222222222,
              "#7201a8"
             ],
             [
              0.3333333333333333,
              "#9c179e"
             ],
             [
              0.4444444444444444,
              "#bd3786"
             ],
             [
              0.5555555555555556,
              "#d8576b"
             ],
             [
              0.6666666666666666,
              "#ed7953"
             ],
             [
              0.7777777777777778,
              "#fb9f3a"
             ],
             [
              0.8888888888888888,
              "#fdca26"
             ],
             [
              1,
              "#f0f921"
             ]
            ],
            "type": "surface"
           }
          ],
          "table": [
           {
            "cells": {
             "fill": {
              "color": "#EBF0F8"
             },
             "line": {
              "color": "white"
             }
            },
            "header": {
             "fill": {
              "color": "#C8D4E3"
             },
             "line": {
              "color": "white"
             }
            },
            "type": "table"
           }
          ]
         },
         "layout": {
          "annotationdefaults": {
           "arrowcolor": "#2a3f5f",
           "arrowhead": 0,
           "arrowwidth": 1
          },
          "coloraxis": {
           "colorbar": {
            "outlinewidth": 0,
            "ticks": ""
           }
          },
          "colorscale": {
           "diverging": [
            [
             0,
             "#8e0152"
            ],
            [
             0.1,
             "#c51b7d"
            ],
            [
             0.2,
             "#de77ae"
            ],
            [
             0.3,
             "#f1b6da"
            ],
            [
             0.4,
             "#fde0ef"
            ],
            [
             0.5,
             "#f7f7f7"
            ],
            [
             0.6,
             "#e6f5d0"
            ],
            [
             0.7,
             "#b8e186"
            ],
            [
             0.8,
             "#7fbc41"
            ],
            [
             0.9,
             "#4d9221"
            ],
            [
             1,
             "#276419"
            ]
           ],
           "sequential": [
            [
             0,
             "#0d0887"
            ],
            [
             0.1111111111111111,
             "#46039f"
            ],
            [
             0.2222222222222222,
             "#7201a8"
            ],
            [
             0.3333333333333333,
             "#9c179e"
            ],
            [
             0.4444444444444444,
             "#bd3786"
            ],
            [
             0.5555555555555556,
             "#d8576b"
            ],
            [
             0.6666666666666666,
             "#ed7953"
            ],
            [
             0.7777777777777778,
             "#fb9f3a"
            ],
            [
             0.8888888888888888,
             "#fdca26"
            ],
            [
             1,
             "#f0f921"
            ]
           ],
           "sequentialminus": [
            [
             0,
             "#0d0887"
            ],
            [
             0.1111111111111111,
             "#46039f"
            ],
            [
             0.2222222222222222,
             "#7201a8"
            ],
            [
             0.3333333333333333,
             "#9c179e"
            ],
            [
             0.4444444444444444,
             "#bd3786"
            ],
            [
             0.5555555555555556,
             "#d8576b"
            ],
            [
             0.6666666666666666,
             "#ed7953"
            ],
            [
             0.7777777777777778,
             "#fb9f3a"
            ],
            [
             0.8888888888888888,
             "#fdca26"
            ],
            [
             1,
             "#f0f921"
            ]
           ]
          },
          "colorway": [
           "#636efa",
           "#EF553B",
           "#00cc96",
           "#ab63fa",
           "#FFA15A",
           "#19d3f3",
           "#FF6692",
           "#B6E880",
           "#FF97FF",
           "#FECB52"
          ],
          "font": {
           "color": "#2a3f5f"
          },
          "geo": {
           "bgcolor": "white",
           "lakecolor": "white",
           "landcolor": "#E5ECF6",
           "showlakes": true,
           "showland": true,
           "subunitcolor": "white"
          },
          "hoverlabel": {
           "align": "left"
          },
          "hovermode": "closest",
          "mapbox": {
           "style": "light"
          },
          "paper_bgcolor": "white",
          "plot_bgcolor": "#E5ECF6",
          "polar": {
           "angularaxis": {
            "gridcolor": "white",
            "linecolor": "white",
            "ticks": ""
           },
           "bgcolor": "#E5ECF6",
           "radialaxis": {
            "gridcolor": "white",
            "linecolor": "white",
            "ticks": ""
           }
          },
          "scene": {
           "xaxis": {
            "backgroundcolor": "#E5ECF6",
            "gridcolor": "white",
            "gridwidth": 2,
            "linecolor": "white",
            "showbackground": true,
            "ticks": "",
            "zerolinecolor": "white"
           },
           "yaxis": {
            "backgroundcolor": "#E5ECF6",
            "gridcolor": "white",
            "gridwidth": 2,
            "linecolor": "white",
            "showbackground": true,
            "ticks": "",
            "zerolinecolor": "white"
           },
           "zaxis": {
            "backgroundcolor": "#E5ECF6",
            "gridcolor": "white",
            "gridwidth": 2,
            "linecolor": "white",
            "showbackground": true,
            "ticks": "",
            "zerolinecolor": "white"
           }
          },
          "shapedefaults": {
           "line": {
            "color": "#2a3f5f"
           }
          },
          "ternary": {
           "aaxis": {
            "gridcolor": "white",
            "linecolor": "white",
            "ticks": ""
           },
           "baxis": {
            "gridcolor": "white",
            "linecolor": "white",
            "ticks": ""
           },
           "bgcolor": "#E5ECF6",
           "caxis": {
            "gridcolor": "white",
            "linecolor": "white",
            "ticks": ""
           }
          },
          "title": {
           "x": 0.05
          },
          "xaxis": {
           "automargin": true,
           "gridcolor": "white",
           "linecolor": "white",
           "ticks": "",
           "title": {
            "standoff": 15
           },
           "zerolinecolor": "white",
           "zerolinewidth": 2
          },
          "yaxis": {
           "automargin": true,
           "gridcolor": "white",
           "linecolor": "white",
           "ticks": "",
           "title": {
            "standoff": 15
           },
           "zerolinecolor": "white",
           "zerolinewidth": 2
          }
         }
        },
        "title": {
         "text": "Lexical Dispersion",
         "x": 0.5,
         "xanchor": "center",
         "y": 0.95,
         "yanchor": "top"
        },
        "xaxis": {
         "anchor": "y",
         "domain": [
          0,
          1
         ],
         "title": {
          "text": "Word Offset (All Stories)"
         }
        },
        "yaxis": {
         "anchor": "x",
         "domain": [
          0,
          1
         ],
         "tickmode": "array",
         "ticktext": [
          "agata",
          "adela",
          "matka",
          "teodor",
          "ojciec",
          "ciotka",
          "wuj"
         ],
         "tickvals": [
          0,
          1,
          2,
          3,
          4,
          5,
          6
         ],
         "title": {
          "text": "Word"
         }
        }
       }
      },
      "text/html": [
       "<div>\n",
       "        \n",
       "        \n",
       "            <div id=\"b33f3e19-9e1b-47a4-ab52-8b73907e08f9\" class=\"plotly-graph-div\" style=\"height:525px; width:100%;\"></div>\n",
       "            <script type=\"text/javascript\">\n",
       "                require([\"plotly\"], function(Plotly) {\n",
       "                    window.PLOTLYENV=window.PLOTLYENV || {};\n",
       "                    \n",
       "                if (document.getElementById(\"b33f3e19-9e1b-47a4-ab52-8b73907e08f9\")) {\n",
       "                    Plotly.newPlot(\n",
       "                        'b33f3e19-9e1b-47a4-ab52-8b73907e08f9',\n",
       "                        [{\"hoverlabel\": {\"namelength\": 0}, \"hovertemplate\": \"x=%{x}<br>y=%{y}<br>color=%{marker.color}\", \"legendgroup\": \"\", \"marker\": {\"color\": [4, 1, 1, 2, 1, 5, 0, 5, 0, 5, 6, 4, 4, 2, 4, 4, 2, 4, 4, 4, 2, 1, 4, 2, 2, 1, 1, 4, 4, 4, 4, 1, 1, 4, 1, 4, 4, 4, 1, 1, 2, 1, 2, 1, 2, 4, 4, 4, 4, 4, 1, 4, 1, 4, 4, 4, 4, 4, 4, 4, 4, 4, 4, 1, 4, 4, 4, 1, 4, 4, 4, 4, 4, 4, 4, 4, 4, 1, 4, 6, 4, 2, 4, 4, 4, 1, 4, 2, 1, 2, 4, 1, 4, 4, 4, 4, 4, 1, 2, 4, 2, 2, 2, 3, 1, 1, 2, 3, 1, 5, 1, 5, 1, 5, 1, 2, 3, 4, 4, 4, 4, 4, 4, 1, 4, 4, 4, 4, 4, 4, 4, 4, 4, 1, 4, 4, 4, 4, 1, 4, 4, 4, 2, 4, 4, 4, 2, 2, 1, 1, 1, 4, 4, 4, 4, 4, 4, 4, 4, 2, 2, 2, 2, 2, 4, 1, 1, 4, 2, 3, 1, 4, 1, 1, 4, 4, 1, 4, 4, 4, 4, 4, 4, 4, 2, 4, 4, 4, 4, 4, 2, 2, 4, 2, 4, 2, 4, 4, 4, 4, 4, 4, 4, 4, 4, 4, 3, 3, 2, 4, 2, 4, 4, 4, 4, 4, 4, 4, 4, 4, 4, 5, 6, 6, 6, 6, 5, 6, 5, 6, 6, 6, 5, 5, 6, 5, 5, 5, 5, 6, 1, 1, 1, 1, 1, 1, 1, 2, 1, 4, 4, 2, 2, 4, 4, 4, 4, 6, 4, 4, 2, 6, 2], \"coloraxis\": \"coloraxis\", \"symbol\": \"circle\"}, \"mode\": \"markers\", \"name\": \"\", \"showlegend\": false, \"type\": \"scatter\", \"x\": [3, 32, 140, 901, 924, 1017, 1018, 1138, 1139, 1170, 1239, 1756, 1829, 1861, 1964, 2345, 2432, 2437, 2454, 2558, 2579, 2753, 2861, 2930, 2983, 3042, 3073, 3128, 3190, 3248, 3409, 3551, 3587, 3601, 3615, 3618, 3629, 3755, 3837, 3945, 3987, 3995, 4043, 4176, 4191, 4452, 4529, 4552, 4603, 4656, 4667, 4697, 4709, 4751, 4842, 4965, 5023, 5124, 5158, 5176, 5299, 5372, 5426, 5430, 5475, 5538, 5568, 5847, 5877, 5901, 6102, 6147, 6236, 6278, 6292, 6409, 6433, 6566, 6575, 7891, 8429, 8584, 8703, 10341, 10398, 12267, 12297, 12340, 12369, 12482, 12620, 12665, 12688, 12703, 12778, 12804, 12825, 12861, 12877, 12884, 13100, 13319, 13412, 13415, 13471, 13510, 13576, 13685, 13726, 13731, 13748, 13751, 13764, 13781, 13935, 13940, 13946, 14213, 14269, 14431, 14851, 14928, 14994, 15089, 15121, 15146, 15161, 15209, 15320, 15365, 15422, 15668, 15813, 15835, 15941, 15971, 15985, 16077, 16090, 16203, 16246, 16374, 16391, 16522, 16575, 16604, 18472, 18793, 18916, 19392, 19944, 20554, 20588, 21176, 21206, 21225, 21241, 23357, 23544, 23663, 23814, 23851, 23903, 24039, 24104, 24149, 24183, 24275, 24434, 24533, 24683, 24695, 24735, 24752, 24761, 24789, 24813, 24823, 24885, 24967, 25284, 25545, 25730, 25906, 26016, 26051, 26089, 26194, 26453, 26489, 26641, 26759, 27038, 27058, 27071, 27327, 27366, 27394, 27510, 27559, 27646, 27680, 27777, 27793, 27842, 27968, 27988, 28039, 28052, 28161, 28187, 28211, 28302, 28502, 28539, 29223, 29254, 29265, 29314, 29381, 29417, 30152, 30236, 30347, 30377, 30411, 30449, 30462, 30487, 30511, 30582, 30612, 30660, 30725, 30737, 30766, 30837, 30851, 30861, 30866, 31213, 31361, 31566, 31851, 31897, 31914, 31960, 35514, 35518, 35575, 35595, 35680, 35729, 35753, 35819, 35967, 35982, 36102, 36149, 36158, 36292, 36368, 36379], \"xaxis\": \"x\", \"y\": [4, 1, 1, 2, 1, 5, 0, 5, 0, 5, 6, 4, 4, 2, 4, 4, 2, 4, 4, 4, 2, 1, 4, 2, 2, 1, 1, 4, 4, 4, 4, 1, 1, 4, 1, 4, 4, 4, 1, 1, 2, 1, 2, 1, 2, 4, 4, 4, 4, 4, 1, 4, 1, 4, 4, 4, 4, 4, 4, 4, 4, 4, 4, 1, 4, 4, 4, 1, 4, 4, 4, 4, 4, 4, 4, 4, 4, 1, 4, 6, 4, 2, 4, 4, 4, 1, 4, 2, 1, 2, 4, 1, 4, 4, 4, 4, 4, 1, 2, 4, 2, 2, 2, 3, 1, 1, 2, 3, 1, 5, 1, 5, 1, 5, 1, 2, 3, 4, 4, 4, 4, 4, 4, 1, 4, 4, 4, 4, 4, 4, 4, 4, 4, 1, 4, 4, 4, 4, 1, 4, 4, 4, 2, 4, 4, 4, 2, 2, 1, 1, 1, 4, 4, 4, 4, 4, 4, 4, 4, 2, 2, 2, 2, 2, 4, 1, 1, 4, 2, 3, 1, 4, 1, 1, 4, 4, 1, 4, 4, 4, 4, 4, 4, 4, 2, 4, 4, 4, 4, 4, 2, 2, 4, 2, 4, 2, 4, 4, 4, 4, 4, 4, 4, 4, 4, 4, 3, 3, 2, 4, 2, 4, 4, 4, 4, 4, 4, 4, 4, 4, 4, 5, 6, 6, 6, 6, 5, 6, 5, 6, 6, 6, 5, 5, 6, 5, 5, 5, 5, 6, 1, 1, 1, 1, 1, 1, 1, 2, 1, 4, 4, 2, 2, 4, 4, 4, 4, 6, 4, 4, 2, 6, 2], \"yaxis\": \"y\"}],\n",
       "                        {\"coloraxis\": {\"colorbar\": {\"title\": {\"text\": \"color\"}}, \"colorscale\": [[0.0, \"#440154\"], [0.1111111111111111, \"#482878\"], [0.2222222222222222, \"#3e4989\"], [0.3333333333333333, \"#31688e\"], [0.4444444444444444, \"#26828e\"], [0.5555555555555556, \"#1f9e89\"], [0.6666666666666666, \"#35b779\"], [0.7777777777777778, \"#6ece58\"], [0.8888888888888888, \"#b5de2b\"], [1.0, \"#fde725\"]], \"showscale\": false}, \"legend\": {\"tracegroupgap\": 0}, \"margin\": {\"t\": 60}, \"template\": {\"data\": {\"bar\": [{\"error_x\": {\"color\": \"#2a3f5f\"}, \"error_y\": {\"color\": \"#2a3f5f\"}, \"marker\": {\"line\": {\"color\": \"#E5ECF6\", \"width\": 0.5}}, \"type\": \"bar\"}], \"barpolar\": [{\"marker\": {\"line\": {\"color\": \"#E5ECF6\", \"width\": 0.5}}, \"type\": \"barpolar\"}], \"carpet\": [{\"aaxis\": {\"endlinecolor\": \"#2a3f5f\", \"gridcolor\": \"white\", \"linecolor\": \"white\", \"minorgridcolor\": \"white\", \"startlinecolor\": \"#2a3f5f\"}, \"baxis\": {\"endlinecolor\": \"#2a3f5f\", \"gridcolor\": \"white\", \"linecolor\": \"white\", \"minorgridcolor\": \"white\", \"startlinecolor\": \"#2a3f5f\"}, \"type\": \"carpet\"}], \"choropleth\": [{\"colorbar\": {\"outlinewidth\": 0, \"ticks\": \"\"}, \"type\": \"choropleth\"}], \"contour\": [{\"colorbar\": {\"outlinewidth\": 0, \"ticks\": \"\"}, \"colorscale\": [[0.0, \"#0d0887\"], [0.1111111111111111, \"#46039f\"], [0.2222222222222222, \"#7201a8\"], [0.3333333333333333, \"#9c179e\"], [0.4444444444444444, \"#bd3786\"], [0.5555555555555556, \"#d8576b\"], [0.6666666666666666, \"#ed7953\"], [0.7777777777777778, \"#fb9f3a\"], [0.8888888888888888, \"#fdca26\"], [1.0, \"#f0f921\"]], \"type\": \"contour\"}], \"contourcarpet\": [{\"colorbar\": {\"outlinewidth\": 0, \"ticks\": \"\"}, \"type\": \"contourcarpet\"}], \"heatmap\": [{\"colorbar\": {\"outlinewidth\": 0, \"ticks\": \"\"}, \"colorscale\": [[0.0, \"#0d0887\"], [0.1111111111111111, \"#46039f\"], [0.2222222222222222, \"#7201a8\"], [0.3333333333333333, \"#9c179e\"], [0.4444444444444444, \"#bd3786\"], [0.5555555555555556, \"#d8576b\"], [0.6666666666666666, \"#ed7953\"], [0.7777777777777778, \"#fb9f3a\"], [0.8888888888888888, \"#fdca26\"], [1.0, \"#f0f921\"]], \"type\": \"heatmap\"}], \"heatmapgl\": [{\"colorbar\": {\"outlinewidth\": 0, \"ticks\": \"\"}, \"colorscale\": [[0.0, \"#0d0887\"], [0.1111111111111111, \"#46039f\"], [0.2222222222222222, \"#7201a8\"], [0.3333333333333333, \"#9c179e\"], [0.4444444444444444, \"#bd3786\"], [0.5555555555555556, \"#d8576b\"], [0.6666666666666666, \"#ed7953\"], [0.7777777777777778, \"#fb9f3a\"], [0.8888888888888888, \"#fdca26\"], [1.0, \"#f0f921\"]], \"type\": \"heatmapgl\"}], \"histogram\": [{\"marker\": {\"colorbar\": {\"outlinewidth\": 0, \"ticks\": \"\"}}, \"type\": \"histogram\"}], \"histogram2d\": [{\"colorbar\": {\"outlinewidth\": 0, \"ticks\": \"\"}, \"colorscale\": [[0.0, \"#0d0887\"], [0.1111111111111111, \"#46039f\"], [0.2222222222222222, \"#7201a8\"], [0.3333333333333333, \"#9c179e\"], [0.4444444444444444, \"#bd3786\"], [0.5555555555555556, \"#d8576b\"], [0.6666666666666666, \"#ed7953\"], [0.7777777777777778, \"#fb9f3a\"], [0.8888888888888888, \"#fdca26\"], [1.0, \"#f0f921\"]], \"type\": \"histogram2d\"}], \"histogram2dcontour\": [{\"colorbar\": {\"outlinewidth\": 0, \"ticks\": \"\"}, \"colorscale\": [[0.0, \"#0d0887\"], [0.1111111111111111, \"#46039f\"], [0.2222222222222222, \"#7201a8\"], [0.3333333333333333, \"#9c179e\"], [0.4444444444444444, \"#bd3786\"], [0.5555555555555556, \"#d8576b\"], [0.6666666666666666, \"#ed7953\"], [0.7777777777777778, \"#fb9f3a\"], [0.8888888888888888, \"#fdca26\"], [1.0, \"#f0f921\"]], \"type\": \"histogram2dcontour\"}], \"mesh3d\": [{\"colorbar\": {\"outlinewidth\": 0, \"ticks\": \"\"}, \"type\": \"mesh3d\"}], \"parcoords\": [{\"line\": {\"colorbar\": {\"outlinewidth\": 0, \"ticks\": \"\"}}, \"type\": \"parcoords\"}], \"pie\": [{\"automargin\": true, \"type\": \"pie\"}], \"scatter\": [{\"marker\": {\"colorbar\": {\"outlinewidth\": 0, \"ticks\": \"\"}}, \"type\": \"scatter\"}], \"scatter3d\": [{\"line\": {\"colorbar\": {\"outlinewidth\": 0, \"ticks\": \"\"}}, \"marker\": {\"colorbar\": {\"outlinewidth\": 0, \"ticks\": \"\"}}, \"type\": \"scatter3d\"}], \"scattercarpet\": [{\"marker\": {\"colorbar\": {\"outlinewidth\": 0, \"ticks\": \"\"}}, \"type\": \"scattercarpet\"}], \"scattergeo\": [{\"marker\": {\"colorbar\": {\"outlinewidth\": 0, \"ticks\": \"\"}}, \"type\": \"scattergeo\"}], \"scattergl\": [{\"marker\": {\"colorbar\": {\"outlinewidth\": 0, \"ticks\": \"\"}}, \"type\": \"scattergl\"}], \"scattermapbox\": [{\"marker\": {\"colorbar\": {\"outlinewidth\": 0, \"ticks\": \"\"}}, \"type\": \"scattermapbox\"}], \"scatterpolar\": [{\"marker\": {\"colorbar\": {\"outlinewidth\": 0, \"ticks\": \"\"}}, \"type\": \"scatterpolar\"}], \"scatterpolargl\": [{\"marker\": {\"colorbar\": {\"outlinewidth\": 0, \"ticks\": \"\"}}, \"type\": \"scatterpolargl\"}], \"scatterternary\": [{\"marker\": {\"colorbar\": {\"outlinewidth\": 0, \"ticks\": \"\"}}, \"type\": \"scatterternary\"}], \"surface\": [{\"colorbar\": {\"outlinewidth\": 0, \"ticks\": \"\"}, \"colorscale\": [[0.0, \"#0d0887\"], [0.1111111111111111, \"#46039f\"], [0.2222222222222222, \"#7201a8\"], [0.3333333333333333, \"#9c179e\"], [0.4444444444444444, \"#bd3786\"], [0.5555555555555556, \"#d8576b\"], [0.6666666666666666, \"#ed7953\"], [0.7777777777777778, \"#fb9f3a\"], [0.8888888888888888, \"#fdca26\"], [1.0, \"#f0f921\"]], \"type\": \"surface\"}], \"table\": [{\"cells\": {\"fill\": {\"color\": \"#EBF0F8\"}, \"line\": {\"color\": \"white\"}}, \"header\": {\"fill\": {\"color\": \"#C8D4E3\"}, \"line\": {\"color\": \"white\"}}, \"type\": \"table\"}]}, \"layout\": {\"annotationdefaults\": {\"arrowcolor\": \"#2a3f5f\", \"arrowhead\": 0, \"arrowwidth\": 1}, \"coloraxis\": {\"colorbar\": {\"outlinewidth\": 0, \"ticks\": \"\"}}, \"colorscale\": {\"diverging\": [[0, \"#8e0152\"], [0.1, \"#c51b7d\"], [0.2, \"#de77ae\"], [0.3, \"#f1b6da\"], [0.4, \"#fde0ef\"], [0.5, \"#f7f7f7\"], [0.6, \"#e6f5d0\"], [0.7, \"#b8e186\"], [0.8, \"#7fbc41\"], [0.9, \"#4d9221\"], [1, \"#276419\"]], \"sequential\": [[0.0, \"#0d0887\"], [0.1111111111111111, \"#46039f\"], [0.2222222222222222, \"#7201a8\"], [0.3333333333333333, \"#9c179e\"], [0.4444444444444444, \"#bd3786\"], [0.5555555555555556, \"#d8576b\"], [0.6666666666666666, \"#ed7953\"], [0.7777777777777778, \"#fb9f3a\"], [0.8888888888888888, \"#fdca26\"], [1.0, \"#f0f921\"]], \"sequentialminus\": [[0.0, \"#0d0887\"], [0.1111111111111111, \"#46039f\"], [0.2222222222222222, \"#7201a8\"], [0.3333333333333333, \"#9c179e\"], [0.4444444444444444, \"#bd3786\"], [0.5555555555555556, \"#d8576b\"], [0.6666666666666666, \"#ed7953\"], [0.7777777777777778, \"#fb9f3a\"], [0.8888888888888888, \"#fdca26\"], [1.0, \"#f0f921\"]]}, \"colorway\": [\"#636efa\", \"#EF553B\", \"#00cc96\", \"#ab63fa\", \"#FFA15A\", \"#19d3f3\", \"#FF6692\", \"#B6E880\", \"#FF97FF\", \"#FECB52\"], \"font\": {\"color\": \"#2a3f5f\"}, \"geo\": {\"bgcolor\": \"white\", \"lakecolor\": \"white\", \"landcolor\": \"#E5ECF6\", \"showlakes\": true, \"showland\": true, \"subunitcolor\": \"white\"}, \"hoverlabel\": {\"align\": \"left\"}, \"hovermode\": \"closest\", \"mapbox\": {\"style\": \"light\"}, \"paper_bgcolor\": \"white\", \"plot_bgcolor\": \"#E5ECF6\", \"polar\": {\"angularaxis\": {\"gridcolor\": \"white\", \"linecolor\": \"white\", \"ticks\": \"\"}, \"bgcolor\": \"#E5ECF6\", \"radialaxis\": {\"gridcolor\": \"white\", \"linecolor\": \"white\", \"ticks\": \"\"}}, \"scene\": {\"xaxis\": {\"backgroundcolor\": \"#E5ECF6\", \"gridcolor\": \"white\", \"gridwidth\": 2, \"linecolor\": \"white\", \"showbackground\": true, \"ticks\": \"\", \"zerolinecolor\": \"white\"}, \"yaxis\": {\"backgroundcolor\": \"#E5ECF6\", \"gridcolor\": \"white\", \"gridwidth\": 2, \"linecolor\": \"white\", \"showbackground\": true, \"ticks\": \"\", \"zerolinecolor\": \"white\"}, \"zaxis\": {\"backgroundcolor\": \"#E5ECF6\", \"gridcolor\": \"white\", \"gridwidth\": 2, \"linecolor\": \"white\", \"showbackground\": true, \"ticks\": \"\", \"zerolinecolor\": \"white\"}}, \"shapedefaults\": {\"line\": {\"color\": \"#2a3f5f\"}}, \"ternary\": {\"aaxis\": {\"gridcolor\": \"white\", \"linecolor\": \"white\", \"ticks\": \"\"}, \"baxis\": {\"gridcolor\": \"white\", \"linecolor\": \"white\", \"ticks\": \"\"}, \"bgcolor\": \"#E5ECF6\", \"caxis\": {\"gridcolor\": \"white\", \"linecolor\": \"white\", \"ticks\": \"\"}}, \"title\": {\"x\": 0.05}, \"xaxis\": {\"automargin\": true, \"gridcolor\": \"white\", \"linecolor\": \"white\", \"ticks\": \"\", \"title\": {\"standoff\": 15}, \"zerolinecolor\": \"white\", \"zerolinewidth\": 2}, \"yaxis\": {\"automargin\": true, \"gridcolor\": \"white\", \"linecolor\": \"white\", \"ticks\": \"\", \"title\": {\"standoff\": 15}, \"zerolinecolor\": \"white\", \"zerolinewidth\": 2}}}, \"title\": {\"text\": \"Lexical Dispersion\", \"x\": 0.5, \"xanchor\": \"center\", \"y\": 0.95, \"yanchor\": \"top\"}, \"xaxis\": {\"anchor\": \"y\", \"domain\": [0.0, 1.0], \"title\": {\"text\": \"Word Offset (All Stories)\"}}, \"yaxis\": {\"anchor\": \"x\", \"domain\": [0.0, 1.0], \"tickmode\": \"array\", \"ticktext\": [\"agata\", \"adela\", \"matka\", \"teodor\", \"ojciec\", \"ciotka\", \"wuj\"], \"tickvals\": [0, 1, 2, 3, 4, 5, 6], \"title\": {\"text\": \"Word\"}}},\n",
       "                        {\"responsive\": true}\n",
       "                    ).then(function(){\n",
       "                            \n",
       "var gd = document.getElementById('b33f3e19-9e1b-47a4-ab52-8b73907e08f9');\n",
       "var x = new MutationObserver(function (mutations, observer) {{\n",
       "        var display = window.getComputedStyle(gd).display;\n",
       "        if (!display || display === 'none') {{\n",
       "            console.log([gd, 'removed!']);\n",
       "            Plotly.purge(gd);\n",
       "            observer.disconnect();\n",
       "        }}\n",
       "}});\n",
       "\n",
       "// Listen for the removal of the full notebook cells\n",
       "var notebookContainer = gd.closest('#notebook-container');\n",
       "if (notebookContainer) {{\n",
       "    x.observe(notebookContainer, {childList: true});\n",
       "}}\n",
       "\n",
       "// Listen for the clearing of the current output cell\n",
       "var outputEl = gd.closest('.output');\n",
       "if (outputEl) {{\n",
       "    x.observe(outputEl, {childList: true});\n",
       "}}\n",
       "\n",
       "                        })\n",
       "                };\n",
       "                });\n",
       "            </script>\n",
       "        </div>"
      ]
     },
     "metadata": {},
     "output_type": "display_data"
    }
   ],
   "source": [
    "dispersion_plotly(ntext, characters)"
   ]
  },
  {
   "cell_type": "code",
   "execution_count": 296,
   "metadata": {},
   "outputs": [
    {
     "data": {
      "application/vnd.plotly.v1+json": {
       "config": {
        "plotlyServerURL": "https://plot.ly"
       },
       "data": [
        {
         "hoverlabel": {
          "namelength": 0
         },
         "hovertemplate": "x=%{x}<br>y=%{y}<br>color=%{marker.color}",
         "legendgroup": "",
         "marker": {
          "color": [
           2,
           5,
           5,
           4,
           5,
           1,
           6,
           1,
           6,
           1,
           0,
           2,
           2,
           4,
           2,
           2,
           4,
           2,
           2,
           2,
           4,
           5,
           2,
           4,
           4,
           5,
           5,
           2,
           2,
           2,
           2,
           5,
           5,
           2,
           5,
           2,
           2,
           2,
           5,
           5,
           4,
           5,
           4,
           5,
           4,
           2,
           2,
           2,
           2,
           2,
           5,
           2,
           5,
           2,
           2,
           2,
           2,
           2,
           2,
           2,
           2,
           2,
           2,
           5,
           2,
           2,
           2,
           5,
           2,
           2,
           2,
           2,
           2,
           2,
           2,
           2,
           2,
           5,
           2,
           0,
           2,
           4,
           2,
           2,
           2,
           5,
           2,
           4,
           5,
           4,
           2,
           5,
           2,
           2,
           2,
           2,
           2,
           5,
           4,
           2,
           4,
           4,
           4,
           3,
           5,
           5,
           4,
           3,
           5,
           1,
           5,
           1,
           5,
           1,
           5,
           4,
           3,
           2,
           2,
           2,
           2,
           2,
           2,
           5,
           2,
           2,
           2,
           2,
           2,
           2,
           2,
           2,
           2,
           5,
           2,
           2,
           2,
           2,
           5,
           2,
           2,
           2,
           4,
           2,
           2,
           2,
           4,
           4,
           5,
           5,
           5,
           2,
           2,
           2,
           2,
           2,
           2,
           2,
           2,
           4,
           4,
           4,
           4,
           4,
           2,
           5,
           5,
           2,
           4,
           3,
           5,
           2,
           5,
           5,
           2,
           2,
           5,
           2,
           2,
           2,
           2,
           2,
           2,
           2,
           4,
           2,
           2,
           2,
           2,
           2,
           4,
           4,
           2,
           4,
           2,
           4,
           2,
           2,
           2,
           2,
           2,
           2,
           2,
           2,
           2,
           2,
           3,
           3,
           4,
           2,
           4,
           2,
           2,
           2,
           2,
           2,
           2,
           2,
           2,
           2,
           2,
           1,
           0,
           0,
           0,
           0,
           1,
           0,
           1,
           0,
           0,
           0,
           1,
           1,
           0,
           1,
           1,
           1,
           1,
           0,
           5,
           5,
           5,
           5,
           5,
           5,
           5,
           4,
           5,
           2,
           2,
           4,
           4,
           2,
           2,
           2,
           2,
           0,
           2,
           2,
           4,
           0,
           4
          ],
          "coloraxis": "coloraxis",
          "symbol": "circle"
         },
         "mode": "markers",
         "name": "",
         "showlegend": false,
         "type": "scatter",
         "x": [
          3,
          32,
          140,
          901,
          924,
          1017,
          1018,
          1138,
          1139,
          1170,
          1239,
          1756,
          1829,
          1861,
          1964,
          2345,
          2432,
          2437,
          2454,
          2558,
          2579,
          2753,
          2861,
          2930,
          2983,
          3042,
          3073,
          3128,
          3190,
          3248,
          3409,
          3551,
          3587,
          3601,
          3615,
          3618,
          3629,
          3755,
          3837,
          3945,
          3987,
          3995,
          4043,
          4176,
          4191,
          4452,
          4529,
          4552,
          4603,
          4656,
          4667,
          4697,
          4709,
          4751,
          4842,
          4965,
          5023,
          5124,
          5158,
          5176,
          5299,
          5372,
          5426,
          5430,
          5475,
          5538,
          5568,
          5847,
          5877,
          5901,
          6102,
          6147,
          6236,
          6278,
          6292,
          6409,
          6433,
          6566,
          6575,
          7891,
          8429,
          8584,
          8703,
          10341,
          10398,
          12267,
          12297,
          12340,
          12369,
          12482,
          12620,
          12665,
          12688,
          12703,
          12778,
          12804,
          12825,
          12861,
          12877,
          12884,
          13100,
          13319,
          13412,
          13415,
          13471,
          13510,
          13576,
          13685,
          13726,
          13731,
          13748,
          13751,
          13764,
          13781,
          13935,
          13940,
          13946,
          14213,
          14269,
          14431,
          14851,
          14928,
          14994,
          15089,
          15121,
          15146,
          15161,
          15209,
          15320,
          15365,
          15422,
          15668,
          15813,
          15835,
          15941,
          15971,
          15985,
          16077,
          16090,
          16203,
          16246,
          16374,
          16391,
          16522,
          16575,
          16604,
          18472,
          18793,
          18916,
          19392,
          19944,
          20554,
          20588,
          21176,
          21206,
          21225,
          21241,
          23357,
          23544,
          23663,
          23814,
          23851,
          23903,
          24039,
          24104,
          24149,
          24183,
          24275,
          24434,
          24533,
          24683,
          24695,
          24735,
          24752,
          24761,
          24789,
          24813,
          24823,
          24885,
          24967,
          25284,
          25545,
          25730,
          25906,
          26016,
          26051,
          26089,
          26194,
          26453,
          26489,
          26641,
          26759,
          27038,
          27058,
          27071,
          27327,
          27366,
          27394,
          27510,
          27559,
          27646,
          27680,
          27777,
          27793,
          27842,
          27968,
          27988,
          28039,
          28052,
          28161,
          28187,
          28211,
          28302,
          28502,
          28539,
          29223,
          29254,
          29265,
          29314,
          29381,
          29417,
          30152,
          30236,
          30347,
          30377,
          30411,
          30449,
          30462,
          30487,
          30511,
          30582,
          30612,
          30660,
          30725,
          30737,
          30766,
          30837,
          30851,
          30861,
          30866,
          31213,
          31361,
          31566,
          31851,
          31897,
          31914,
          31960,
          35514,
          35518,
          35575,
          35595,
          35680,
          35729,
          35753,
          35819,
          35967,
          35982,
          36102,
          36149,
          36158,
          36292,
          36368,
          36379
         ],
         "xaxis": "x",
         "y": [
          2,
          5,
          5,
          4,
          5,
          1,
          6,
          1,
          6,
          1,
          0,
          2,
          2,
          4,
          2,
          2,
          4,
          2,
          2,
          2,
          4,
          5,
          2,
          4,
          4,
          5,
          5,
          2,
          2,
          2,
          2,
          5,
          5,
          2,
          5,
          2,
          2,
          2,
          5,
          5,
          4,
          5,
          4,
          5,
          4,
          2,
          2,
          2,
          2,
          2,
          5,
          2,
          5,
          2,
          2,
          2,
          2,
          2,
          2,
          2,
          2,
          2,
          2,
          5,
          2,
          2,
          2,
          5,
          2,
          2,
          2,
          2,
          2,
          2,
          2,
          2,
          2,
          5,
          2,
          0,
          2,
          4,
          2,
          2,
          2,
          5,
          2,
          4,
          5,
          4,
          2,
          5,
          2,
          2,
          2,
          2,
          2,
          5,
          4,
          2,
          4,
          4,
          4,
          3,
          5,
          5,
          4,
          3,
          5,
          1,
          5,
          1,
          5,
          1,
          5,
          4,
          3,
          2,
          2,
          2,
          2,
          2,
          2,
          5,
          2,
          2,
          2,
          2,
          2,
          2,
          2,
          2,
          2,
          5,
          2,
          2,
          2,
          2,
          5,
          2,
          2,
          2,
          4,
          2,
          2,
          2,
          4,
          4,
          5,
          5,
          5,
          2,
          2,
          2,
          2,
          2,
          2,
          2,
          2,
          4,
          4,
          4,
          4,
          4,
          2,
          5,
          5,
          2,
          4,
          3,
          5,
          2,
          5,
          5,
          2,
          2,
          5,
          2,
          2,
          2,
          2,
          2,
          2,
          2,
          4,
          2,
          2,
          2,
          2,
          2,
          4,
          4,
          2,
          4,
          2,
          4,
          2,
          2,
          2,
          2,
          2,
          2,
          2,
          2,
          2,
          2,
          3,
          3,
          4,
          2,
          4,
          2,
          2,
          2,
          2,
          2,
          2,
          2,
          2,
          2,
          2,
          1,
          0,
          0,
          0,
          0,
          1,
          0,
          1,
          0,
          0,
          0,
          1,
          1,
          0,
          1,
          1,
          1,
          1,
          0,
          5,
          5,
          5,
          5,
          5,
          5,
          5,
          4,
          5,
          2,
          2,
          4,
          4,
          2,
          2,
          2,
          2,
          0,
          2,
          2,
          4,
          0,
          4
         ],
         "yaxis": "y"
        }
       ],
       "layout": {
        "coloraxis": {
         "colorbar": {
          "title": {
           "text": "color"
          }
         },
         "colorscale": [
          [
           0,
           "#440154"
          ],
          [
           0.1111111111111111,
           "#482878"
          ],
          [
           0.2222222222222222,
           "#3e4989"
          ],
          [
           0.3333333333333333,
           "#31688e"
          ],
          [
           0.4444444444444444,
           "#26828e"
          ],
          [
           0.5555555555555556,
           "#1f9e89"
          ],
          [
           0.6666666666666666,
           "#35b779"
          ],
          [
           0.7777777777777778,
           "#6ece58"
          ],
          [
           0.8888888888888888,
           "#b5de2b"
          ],
          [
           1,
           "#fde725"
          ]
         ],
         "showscale": false
        },
        "legend": {
         "tracegroupgap": 0
        },
        "margin": {
         "t": 60
        },
        "shapes": [
         {
          "line": {
           "color": "LightSalmon",
           "width": 1
          },
          "type": "line",
          "x0": 0,
          "x1": 0,
          "xref": "x",
          "y0": 0,
          "y1": 6,
          "yref": "y"
         },
         {
          "line": {
           "color": "LightSalmon",
           "width": 1
          },
          "type": "line",
          "x0": 1576,
          "x1": 1576,
          "xref": "x",
          "y0": 0,
          "y1": 6,
          "yref": "y"
         },
         {
          "line": {
           "color": "LightSalmon",
           "width": 1
          },
          "type": "line",
          "x0": 2757,
          "x1": 2757,
          "xref": "x",
          "y0": 0,
          "y1": 6,
          "yref": "y"
         },
         {
          "line": {
           "color": "LightSalmon",
           "width": 1
          },
          "type": "line",
          "x0": 3639,
          "x1": 3639,
          "xref": "x",
          "y0": 0,
          "y1": 6,
          "yref": "y"
         },
         {
          "line": {
           "color": "LightSalmon",
           "width": 1
          },
          "type": "line",
          "x0": 4838,
          "x1": 4838,
          "xref": "x",
          "y0": 0,
          "y1": 6,
          "yref": "y"
         },
         {
          "line": {
           "color": "LightSalmon",
           "width": 1
          },
          "type": "line",
          "x0": 6606,
          "x1": 6606,
          "xref": "x",
          "y0": 0,
          "y1": 6,
          "yref": "y"
         },
         {
          "line": {
           "color": "LightSalmon",
           "width": 1
          },
          "type": "line",
          "x0": 7316,
          "x1": 7316,
          "xref": "x",
          "y0": 0,
          "y1": 6,
          "yref": "y"
         },
         {
          "line": {
           "color": "LightSalmon",
           "width": 1
          },
          "type": "line",
          "x0": 7892,
          "x1": 7892,
          "xref": "x",
          "y0": 0,
          "y1": 6,
          "yref": "y"
         },
         {
          "line": {
           "color": "LightSalmon",
           "width": 1
          },
          "type": "line",
          "x0": 8406,
          "x1": 8406,
          "xref": "x",
          "y0": 0,
          "y1": 6,
          "yref": "y"
         },
         {
          "line": {
           "color": "LightSalmon",
           "width": 1
          },
          "type": "line",
          "x0": 10401,
          "x1": 10401,
          "xref": "x",
          "y0": 0,
          "y1": 6,
          "yref": "y"
         },
         {
          "line": {
           "color": "LightSalmon",
           "width": 1
          },
          "type": "line",
          "x0": 12207,
          "x1": 12207,
          "xref": "x",
          "y0": 0,
          "y1": 6,
          "yref": "y"
         },
         {
          "line": {
           "color": "LightSalmon",
           "width": 1
          },
          "type": "line",
          "x0": 12896,
          "x1": 12896,
          "xref": "x",
          "y0": 0,
          "y1": 6,
          "yref": "y"
         },
         {
          "line": {
           "color": "LightSalmon",
           "width": 1
          },
          "type": "line",
          "x0": 14013,
          "x1": 14013,
          "xref": "x",
          "y0": 0,
          "y1": 6,
          "yref": "y"
         },
         {
          "line": {
           "color": "LightSalmon",
           "width": 1
          },
          "type": "line",
          "x0": 16149,
          "x1": 16149,
          "xref": "x",
          "y0": 0,
          "y1": 6,
          "yref": "y"
         },
         {
          "line": {
           "color": "LightSalmon",
           "width": 1
          },
          "type": "line",
          "x0": 18595,
          "x1": 18595,
          "xref": "x",
          "y0": 0,
          "y1": 6,
          "yref": "y"
         },
         {
          "line": {
           "color": "LightSalmon",
           "width": 1
          },
          "type": "line",
          "x0": 19843,
          "x1": 19843,
          "xref": "x",
          "y0": 0,
          "y1": 6,
          "yref": "y"
         },
         {
          "line": {
           "color": "LightSalmon",
           "width": 1
          },
          "type": "line",
          "x0": 22453,
          "x1": 22453,
          "xref": "x",
          "y0": 0,
          "y1": 6,
          "yref": "y"
         },
         {
          "line": {
           "color": "LightSalmon",
           "width": 1
          },
          "type": "line",
          "x0": 23581,
          "x1": 23581,
          "xref": "x",
          "y0": 0,
          "y1": 6,
          "yref": "y"
         },
         {
          "line": {
           "color": "LightSalmon",
           "width": 1
          },
          "type": "line",
          "x0": 24917,
          "x1": 24917,
          "xref": "x",
          "y0": 0,
          "y1": 6,
          "yref": "y"
         },
         {
          "line": {
           "color": "LightSalmon",
           "width": 1
          },
          "type": "line",
          "x0": 25679,
          "x1": 25679,
          "xref": "x",
          "y0": 0,
          "y1": 6,
          "yref": "y"
         },
         {
          "line": {
           "color": "LightSalmon",
           "width": 1
          },
          "type": "line",
          "x0": 28607,
          "x1": 28607,
          "xref": "x",
          "y0": 0,
          "y1": 6,
          "yref": "y"
         },
         {
          "line": {
           "color": "LightSalmon",
           "width": 1
          },
          "type": "line",
          "x0": 29593,
          "x1": 29593,
          "xref": "x",
          "y0": 0,
          "y1": 6,
          "yref": "y"
         },
         {
          "line": {
           "color": "LightSalmon",
           "width": 1
          },
          "type": "line",
          "x0": 30875,
          "x1": 30875,
          "xref": "x",
          "y0": 0,
          "y1": 6,
          "yref": "y"
         },
         {
          "line": {
           "color": "LightSalmon",
           "width": 1
          },
          "type": "line",
          "x0": 32107,
          "x1": 32107,
          "xref": "x",
          "y0": 0,
          "y1": 6,
          "yref": "y"
         },
         {
          "line": {
           "color": "LightSalmon",
           "width": 1
          },
          "type": "line",
          "x0": 35075,
          "x1": 35075,
          "xref": "x",
          "y0": 0,
          "y1": 6,
          "yref": "y"
         },
         {
          "line": {
           "color": "LightSalmon",
           "width": 1
          },
          "type": "line",
          "x0": 35532,
          "x1": 35532,
          "xref": "x",
          "y0": 0,
          "y1": 6,
          "yref": "y"
         }
        ],
        "template": {
         "data": {
          "bar": [
           {
            "error_x": {
             "color": "#2a3f5f"
            },
            "error_y": {
             "color": "#2a3f5f"
            },
            "marker": {
             "line": {
              "color": "#E5ECF6",
              "width": 0.5
             }
            },
            "type": "bar"
           }
          ],
          "barpolar": [
           {
            "marker": {
             "line": {
              "color": "#E5ECF6",
              "width": 0.5
             }
            },
            "type": "barpolar"
           }
          ],
          "carpet": [
           {
            "aaxis": {
             "endlinecolor": "#2a3f5f",
             "gridcolor": "white",
             "linecolor": "white",
             "minorgridcolor": "white",
             "startlinecolor": "#2a3f5f"
            },
            "baxis": {
             "endlinecolor": "#2a3f5f",
             "gridcolor": "white",
             "linecolor": "white",
             "minorgridcolor": "white",
             "startlinecolor": "#2a3f5f"
            },
            "type": "carpet"
           }
          ],
          "choropleth": [
           {
            "colorbar": {
             "outlinewidth": 0,
             "ticks": ""
            },
            "type": "choropleth"
           }
          ],
          "contour": [
           {
            "colorbar": {
             "outlinewidth": 0,
             "ticks": ""
            },
            "colorscale": [
             [
              0,
              "#0d0887"
             ],
             [
              0.1111111111111111,
              "#46039f"
             ],
             [
              0.2222222222222222,
              "#7201a8"
             ],
             [
              0.3333333333333333,
              "#9c179e"
             ],
             [
              0.4444444444444444,
              "#bd3786"
             ],
             [
              0.5555555555555556,
              "#d8576b"
             ],
             [
              0.6666666666666666,
              "#ed7953"
             ],
             [
              0.7777777777777778,
              "#fb9f3a"
             ],
             [
              0.8888888888888888,
              "#fdca26"
             ],
             [
              1,
              "#f0f921"
             ]
            ],
            "type": "contour"
           }
          ],
          "contourcarpet": [
           {
            "colorbar": {
             "outlinewidth": 0,
             "ticks": ""
            },
            "type": "contourcarpet"
           }
          ],
          "heatmap": [
           {
            "colorbar": {
             "outlinewidth": 0,
             "ticks": ""
            },
            "colorscale": [
             [
              0,
              "#0d0887"
             ],
             [
              0.1111111111111111,
              "#46039f"
             ],
             [
              0.2222222222222222,
              "#7201a8"
             ],
             [
              0.3333333333333333,
              "#9c179e"
             ],
             [
              0.4444444444444444,
              "#bd3786"
             ],
             [
              0.5555555555555556,
              "#d8576b"
             ],
             [
              0.6666666666666666,
              "#ed7953"
             ],
             [
              0.7777777777777778,
              "#fb9f3a"
             ],
             [
              0.8888888888888888,
              "#fdca26"
             ],
             [
              1,
              "#f0f921"
             ]
            ],
            "type": "heatmap"
           }
          ],
          "heatmapgl": [
           {
            "colorbar": {
             "outlinewidth": 0,
             "ticks": ""
            },
            "colorscale": [
             [
              0,
              "#0d0887"
             ],
             [
              0.1111111111111111,
              "#46039f"
             ],
             [
              0.2222222222222222,
              "#7201a8"
             ],
             [
              0.3333333333333333,
              "#9c179e"
             ],
             [
              0.4444444444444444,
              "#bd3786"
             ],
             [
              0.5555555555555556,
              "#d8576b"
             ],
             [
              0.6666666666666666,
              "#ed7953"
             ],
             [
              0.7777777777777778,
              "#fb9f3a"
             ],
             [
              0.8888888888888888,
              "#fdca26"
             ],
             [
              1,
              "#f0f921"
             ]
            ],
            "type": "heatmapgl"
           }
          ],
          "histogram": [
           {
            "marker": {
             "colorbar": {
              "outlinewidth": 0,
              "ticks": ""
             }
            },
            "type": "histogram"
           }
          ],
          "histogram2d": [
           {
            "colorbar": {
             "outlinewidth": 0,
             "ticks": ""
            },
            "colorscale": [
             [
              0,
              "#0d0887"
             ],
             [
              0.1111111111111111,
              "#46039f"
             ],
             [
              0.2222222222222222,
              "#7201a8"
             ],
             [
              0.3333333333333333,
              "#9c179e"
             ],
             [
              0.4444444444444444,
              "#bd3786"
             ],
             [
              0.5555555555555556,
              "#d8576b"
             ],
             [
              0.6666666666666666,
              "#ed7953"
             ],
             [
              0.7777777777777778,
              "#fb9f3a"
             ],
             [
              0.8888888888888888,
              "#fdca26"
             ],
             [
              1,
              "#f0f921"
             ]
            ],
            "type": "histogram2d"
           }
          ],
          "histogram2dcontour": [
           {
            "colorbar": {
             "outlinewidth": 0,
             "ticks": ""
            },
            "colorscale": [
             [
              0,
              "#0d0887"
             ],
             [
              0.1111111111111111,
              "#46039f"
             ],
             [
              0.2222222222222222,
              "#7201a8"
             ],
             [
              0.3333333333333333,
              "#9c179e"
             ],
             [
              0.4444444444444444,
              "#bd3786"
             ],
             [
              0.5555555555555556,
              "#d8576b"
             ],
             [
              0.6666666666666666,
              "#ed7953"
             ],
             [
              0.7777777777777778,
              "#fb9f3a"
             ],
             [
              0.8888888888888888,
              "#fdca26"
             ],
             [
              1,
              "#f0f921"
             ]
            ],
            "type": "histogram2dcontour"
           }
          ],
          "mesh3d": [
           {
            "colorbar": {
             "outlinewidth": 0,
             "ticks": ""
            },
            "type": "mesh3d"
           }
          ],
          "parcoords": [
           {
            "line": {
             "colorbar": {
              "outlinewidth": 0,
              "ticks": ""
             }
            },
            "type": "parcoords"
           }
          ],
          "pie": [
           {
            "automargin": true,
            "type": "pie"
           }
          ],
          "scatter": [
           {
            "marker": {
             "colorbar": {
              "outlinewidth": 0,
              "ticks": ""
             }
            },
            "type": "scatter"
           }
          ],
          "scatter3d": [
           {
            "line": {
             "colorbar": {
              "outlinewidth": 0,
              "ticks": ""
             }
            },
            "marker": {
             "colorbar": {
              "outlinewidth": 0,
              "ticks": ""
             }
            },
            "type": "scatter3d"
           }
          ],
          "scattercarpet": [
           {
            "marker": {
             "colorbar": {
              "outlinewidth": 0,
              "ticks": ""
             }
            },
            "type": "scattercarpet"
           }
          ],
          "scattergeo": [
           {
            "marker": {
             "colorbar": {
              "outlinewidth": 0,
              "ticks": ""
             }
            },
            "type": "scattergeo"
           }
          ],
          "scattergl": [
           {
            "marker": {
             "colorbar": {
              "outlinewidth": 0,
              "ticks": ""
             }
            },
            "type": "scattergl"
           }
          ],
          "scattermapbox": [
           {
            "marker": {
             "colorbar": {
              "outlinewidth": 0,
              "ticks": ""
             }
            },
            "type": "scattermapbox"
           }
          ],
          "scatterpolar": [
           {
            "marker": {
             "colorbar": {
              "outlinewidth": 0,
              "ticks": ""
             }
            },
            "type": "scatterpolar"
           }
          ],
          "scatterpolargl": [
           {
            "marker": {
             "colorbar": {
              "outlinewidth": 0,
              "ticks": ""
             }
            },
            "type": "scatterpolargl"
           }
          ],
          "scatterternary": [
           {
            "marker": {
             "colorbar": {
              "outlinewidth": 0,
              "ticks": ""
             }
            },
            "type": "scatterternary"
           }
          ],
          "surface": [
           {
            "colorbar": {
             "outlinewidth": 0,
             "ticks": ""
            },
            "colorscale": [
             [
              0,
              "#0d0887"
             ],
             [
              0.1111111111111111,
              "#46039f"
             ],
             [
              0.2222222222222222,
              "#7201a8"
             ],
             [
              0.3333333333333333,
              "#9c179e"
             ],
             [
              0.4444444444444444,
              "#bd3786"
             ],
             [
              0.5555555555555556,
              "#d8576b"
             ],
             [
              0.6666666666666666,
              "#ed7953"
             ],
             [
              0.7777777777777778,
              "#fb9f3a"
             ],
             [
              0.8888888888888888,
              "#fdca26"
             ],
             [
              1,
              "#f0f921"
             ]
            ],
            "type": "surface"
           }
          ],
          "table": [
           {
            "cells": {
             "fill": {
              "color": "#EBF0F8"
             },
             "line": {
              "color": "white"
             }
            },
            "header": {
             "fill": {
              "color": "#C8D4E3"
             },
             "line": {
              "color": "white"
             }
            },
            "type": "table"
           }
          ]
         },
         "layout": {
          "annotationdefaults": {
           "arrowcolor": "#2a3f5f",
           "arrowhead": 0,
           "arrowwidth": 1
          },
          "coloraxis": {
           "colorbar": {
            "outlinewidth": 0,
            "ticks": ""
           }
          },
          "colorscale": {
           "diverging": [
            [
             0,
             "#8e0152"
            ],
            [
             0.1,
             "#c51b7d"
            ],
            [
             0.2,
             "#de77ae"
            ],
            [
             0.3,
             "#f1b6da"
            ],
            [
             0.4,
             "#fde0ef"
            ],
            [
             0.5,
             "#f7f7f7"
            ],
            [
             0.6,
             "#e6f5d0"
            ],
            [
             0.7,
             "#b8e186"
            ],
            [
             0.8,
             "#7fbc41"
            ],
            [
             0.9,
             "#4d9221"
            ],
            [
             1,
             "#276419"
            ]
           ],
           "sequential": [
            [
             0,
             "#0d0887"
            ],
            [
             0.1111111111111111,
             "#46039f"
            ],
            [
             0.2222222222222222,
             "#7201a8"
            ],
            [
             0.3333333333333333,
             "#9c179e"
            ],
            [
             0.4444444444444444,
             "#bd3786"
            ],
            [
             0.5555555555555556,
             "#d8576b"
            ],
            [
             0.6666666666666666,
             "#ed7953"
            ],
            [
             0.7777777777777778,
             "#fb9f3a"
            ],
            [
             0.8888888888888888,
             "#fdca26"
            ],
            [
             1,
             "#f0f921"
            ]
           ],
           "sequentialminus": [
            [
             0,
             "#0d0887"
            ],
            [
             0.1111111111111111,
             "#46039f"
            ],
            [
             0.2222222222222222,
             "#7201a8"
            ],
            [
             0.3333333333333333,
             "#9c179e"
            ],
            [
             0.4444444444444444,
             "#bd3786"
            ],
            [
             0.5555555555555556,
             "#d8576b"
            ],
            [
             0.6666666666666666,
             "#ed7953"
            ],
            [
             0.7777777777777778,
             "#fb9f3a"
            ],
            [
             0.8888888888888888,
             "#fdca26"
            ],
            [
             1,
             "#f0f921"
            ]
           ]
          },
          "colorway": [
           "#636efa",
           "#EF553B",
           "#00cc96",
           "#ab63fa",
           "#FFA15A",
           "#19d3f3",
           "#FF6692",
           "#B6E880",
           "#FF97FF",
           "#FECB52"
          ],
          "font": {
           "color": "#2a3f5f"
          },
          "geo": {
           "bgcolor": "white",
           "lakecolor": "white",
           "landcolor": "#E5ECF6",
           "showlakes": true,
           "showland": true,
           "subunitcolor": "white"
          },
          "hoverlabel": {
           "align": "left"
          },
          "hovermode": "closest",
          "mapbox": {
           "style": "light"
          },
          "paper_bgcolor": "white",
          "plot_bgcolor": "#E5ECF6",
          "polar": {
           "angularaxis": {
            "gridcolor": "white",
            "linecolor": "white",
            "ticks": ""
           },
           "bgcolor": "#E5ECF6",
           "radialaxis": {
            "gridcolor": "white",
            "linecolor": "white",
            "ticks": ""
           }
          },
          "scene": {
           "xaxis": {
            "backgroundcolor": "#E5ECF6",
            "gridcolor": "white",
            "gridwidth": 2,
            "linecolor": "white",
            "showbackground": true,
            "ticks": "",
            "zerolinecolor": "white"
           },
           "yaxis": {
            "backgroundcolor": "#E5ECF6",
            "gridcolor": "white",
            "gridwidth": 2,
            "linecolor": "white",
            "showbackground": true,
            "ticks": "",
            "zerolinecolor": "white"
           },
           "zaxis": {
            "backgroundcolor": "#E5ECF6",
            "gridcolor": "white",
            "gridwidth": 2,
            "linecolor": "white",
            "showbackground": true,
            "ticks": "",
            "zerolinecolor": "white"
           }
          },
          "shapedefaults": {
           "line": {
            "color": "#2a3f5f"
           }
          },
          "ternary": {
           "aaxis": {
            "gridcolor": "white",
            "linecolor": "white",
            "ticks": ""
           },
           "baxis": {
            "gridcolor": "white",
            "linecolor": "white",
            "ticks": ""
           },
           "bgcolor": "#E5ECF6",
           "caxis": {
            "gridcolor": "white",
            "linecolor": "white",
            "ticks": ""
           }
          },
          "title": {
           "x": 0.05
          },
          "xaxis": {
           "automargin": true,
           "gridcolor": "white",
           "linecolor": "white",
           "ticks": "",
           "title": {
            "standoff": 15
           },
           "zerolinecolor": "white",
           "zerolinewidth": 2
          },
          "yaxis": {
           "automargin": true,
           "gridcolor": "white",
           "linecolor": "white",
           "ticks": "",
           "title": {
            "standoff": 15
           },
           "zerolinecolor": "white",
           "zerolinewidth": 2
          }
         }
        },
        "title": {
         "text": "Lexical Dispersion",
         "x": 0.5,
         "xanchor": "center",
         "y": 0.95,
         "yanchor": "top"
        },
        "xaxis": {
         "anchor": "y",
         "domain": [
          0,
          1
         ],
         "title": {
          "text": "Word Offset (All Stories)"
         }
        },
        "yaxis": {
         "anchor": "x",
         "domain": [
          0,
          1
         ],
         "tickmode": "array",
         "ticktext": [
          "wuj",
          "ciotka",
          "ojciec",
          "teodor",
          "matka",
          "adela",
          "agata"
         ],
         "tickvals": [
          0,
          1,
          2,
          3,
          4,
          5,
          6
         ],
         "title": {
          "text": "Word"
         }
        }
       }
      },
      "text/html": [
       "<div>\n",
       "        \n",
       "        \n",
       "            <div id=\"120f7775-4f3a-40b9-b5b4-d29f4e2fe7fd\" class=\"plotly-graph-div\" style=\"height:525px; width:100%;\"></div>\n",
       "            <script type=\"text/javascript\">\n",
       "                require([\"plotly\"], function(Plotly) {\n",
       "                    window.PLOTLYENV=window.PLOTLYENV || {};\n",
       "                    \n",
       "                if (document.getElementById(\"120f7775-4f3a-40b9-b5b4-d29f4e2fe7fd\")) {\n",
       "                    Plotly.newPlot(\n",
       "                        '120f7775-4f3a-40b9-b5b4-d29f4e2fe7fd',\n",
       "                        [{\"hoverlabel\": {\"namelength\": 0}, \"hovertemplate\": \"x=%{x}<br>y=%{y}<br>color=%{marker.color}\", \"legendgroup\": \"\", \"marker\": {\"color\": [2, 5, 5, 4, 5, 1, 6, 1, 6, 1, 0, 2, 2, 4, 2, 2, 4, 2, 2, 2, 4, 5, 2, 4, 4, 5, 5, 2, 2, 2, 2, 5, 5, 2, 5, 2, 2, 2, 5, 5, 4, 5, 4, 5, 4, 2, 2, 2, 2, 2, 5, 2, 5, 2, 2, 2, 2, 2, 2, 2, 2, 2, 2, 5, 2, 2, 2, 5, 2, 2, 2, 2, 2, 2, 2, 2, 2, 5, 2, 0, 2, 4, 2, 2, 2, 5, 2, 4, 5, 4, 2, 5, 2, 2, 2, 2, 2, 5, 4, 2, 4, 4, 4, 3, 5, 5, 4, 3, 5, 1, 5, 1, 5, 1, 5, 4, 3, 2, 2, 2, 2, 2, 2, 5, 2, 2, 2, 2, 2, 2, 2, 2, 2, 5, 2, 2, 2, 2, 5, 2, 2, 2, 4, 2, 2, 2, 4, 4, 5, 5, 5, 2, 2, 2, 2, 2, 2, 2, 2, 4, 4, 4, 4, 4, 2, 5, 5, 2, 4, 3, 5, 2, 5, 5, 2, 2, 5, 2, 2, 2, 2, 2, 2, 2, 4, 2, 2, 2, 2, 2, 4, 4, 2, 4, 2, 4, 2, 2, 2, 2, 2, 2, 2, 2, 2, 2, 3, 3, 4, 2, 4, 2, 2, 2, 2, 2, 2, 2, 2, 2, 2, 1, 0, 0, 0, 0, 1, 0, 1, 0, 0, 0, 1, 1, 0, 1, 1, 1, 1, 0, 5, 5, 5, 5, 5, 5, 5, 4, 5, 2, 2, 4, 4, 2, 2, 2, 2, 0, 2, 2, 4, 0, 4], \"coloraxis\": \"coloraxis\", \"symbol\": \"circle\"}, \"mode\": \"markers\", \"name\": \"\", \"showlegend\": false, \"type\": \"scatter\", \"x\": [3, 32, 140, 901, 924, 1017, 1018, 1138, 1139, 1170, 1239, 1756, 1829, 1861, 1964, 2345, 2432, 2437, 2454, 2558, 2579, 2753, 2861, 2930, 2983, 3042, 3073, 3128, 3190, 3248, 3409, 3551, 3587, 3601, 3615, 3618, 3629, 3755, 3837, 3945, 3987, 3995, 4043, 4176, 4191, 4452, 4529, 4552, 4603, 4656, 4667, 4697, 4709, 4751, 4842, 4965, 5023, 5124, 5158, 5176, 5299, 5372, 5426, 5430, 5475, 5538, 5568, 5847, 5877, 5901, 6102, 6147, 6236, 6278, 6292, 6409, 6433, 6566, 6575, 7891, 8429, 8584, 8703, 10341, 10398, 12267, 12297, 12340, 12369, 12482, 12620, 12665, 12688, 12703, 12778, 12804, 12825, 12861, 12877, 12884, 13100, 13319, 13412, 13415, 13471, 13510, 13576, 13685, 13726, 13731, 13748, 13751, 13764, 13781, 13935, 13940, 13946, 14213, 14269, 14431, 14851, 14928, 14994, 15089, 15121, 15146, 15161, 15209, 15320, 15365, 15422, 15668, 15813, 15835, 15941, 15971, 15985, 16077, 16090, 16203, 16246, 16374, 16391, 16522, 16575, 16604, 18472, 18793, 18916, 19392, 19944, 20554, 20588, 21176, 21206, 21225, 21241, 23357, 23544, 23663, 23814, 23851, 23903, 24039, 24104, 24149, 24183, 24275, 24434, 24533, 24683, 24695, 24735, 24752, 24761, 24789, 24813, 24823, 24885, 24967, 25284, 25545, 25730, 25906, 26016, 26051, 26089, 26194, 26453, 26489, 26641, 26759, 27038, 27058, 27071, 27327, 27366, 27394, 27510, 27559, 27646, 27680, 27777, 27793, 27842, 27968, 27988, 28039, 28052, 28161, 28187, 28211, 28302, 28502, 28539, 29223, 29254, 29265, 29314, 29381, 29417, 30152, 30236, 30347, 30377, 30411, 30449, 30462, 30487, 30511, 30582, 30612, 30660, 30725, 30737, 30766, 30837, 30851, 30861, 30866, 31213, 31361, 31566, 31851, 31897, 31914, 31960, 35514, 35518, 35575, 35595, 35680, 35729, 35753, 35819, 35967, 35982, 36102, 36149, 36158, 36292, 36368, 36379], \"xaxis\": \"x\", \"y\": [2, 5, 5, 4, 5, 1, 6, 1, 6, 1, 0, 2, 2, 4, 2, 2, 4, 2, 2, 2, 4, 5, 2, 4, 4, 5, 5, 2, 2, 2, 2, 5, 5, 2, 5, 2, 2, 2, 5, 5, 4, 5, 4, 5, 4, 2, 2, 2, 2, 2, 5, 2, 5, 2, 2, 2, 2, 2, 2, 2, 2, 2, 2, 5, 2, 2, 2, 5, 2, 2, 2, 2, 2, 2, 2, 2, 2, 5, 2, 0, 2, 4, 2, 2, 2, 5, 2, 4, 5, 4, 2, 5, 2, 2, 2, 2, 2, 5, 4, 2, 4, 4, 4, 3, 5, 5, 4, 3, 5, 1, 5, 1, 5, 1, 5, 4, 3, 2, 2, 2, 2, 2, 2, 5, 2, 2, 2, 2, 2, 2, 2, 2, 2, 5, 2, 2, 2, 2, 5, 2, 2, 2, 4, 2, 2, 2, 4, 4, 5, 5, 5, 2, 2, 2, 2, 2, 2, 2, 2, 4, 4, 4, 4, 4, 2, 5, 5, 2, 4, 3, 5, 2, 5, 5, 2, 2, 5, 2, 2, 2, 2, 2, 2, 2, 4, 2, 2, 2, 2, 2, 4, 4, 2, 4, 2, 4, 2, 2, 2, 2, 2, 2, 2, 2, 2, 2, 3, 3, 4, 2, 4, 2, 2, 2, 2, 2, 2, 2, 2, 2, 2, 1, 0, 0, 0, 0, 1, 0, 1, 0, 0, 0, 1, 1, 0, 1, 1, 1, 1, 0, 5, 5, 5, 5, 5, 5, 5, 4, 5, 2, 2, 4, 4, 2, 2, 2, 2, 0, 2, 2, 4, 0, 4], \"yaxis\": \"y\"}],\n",
       "                        {\"coloraxis\": {\"colorbar\": {\"title\": {\"text\": \"color\"}}, \"colorscale\": [[0.0, \"#440154\"], [0.1111111111111111, \"#482878\"], [0.2222222222222222, \"#3e4989\"], [0.3333333333333333, \"#31688e\"], [0.4444444444444444, \"#26828e\"], [0.5555555555555556, \"#1f9e89\"], [0.6666666666666666, \"#35b779\"], [0.7777777777777778, \"#6ece58\"], [0.8888888888888888, \"#b5de2b\"], [1.0, \"#fde725\"]], \"showscale\": false}, \"legend\": {\"tracegroupgap\": 0}, \"margin\": {\"t\": 60}, \"shapes\": [{\"line\": {\"color\": \"LightSalmon\", \"width\": 1}, \"type\": \"line\", \"x0\": 0, \"x1\": 0, \"xref\": \"x\", \"y0\": 0, \"y1\": 6, \"yref\": \"y\"}, {\"line\": {\"color\": \"LightSalmon\", \"width\": 1}, \"type\": \"line\", \"x0\": 1576, \"x1\": 1576, \"xref\": \"x\", \"y0\": 0, \"y1\": 6, \"yref\": \"y\"}, {\"line\": {\"color\": \"LightSalmon\", \"width\": 1}, \"type\": \"line\", \"x0\": 2757, \"x1\": 2757, \"xref\": \"x\", \"y0\": 0, \"y1\": 6, \"yref\": \"y\"}, {\"line\": {\"color\": \"LightSalmon\", \"width\": 1}, \"type\": \"line\", \"x0\": 3639, \"x1\": 3639, \"xref\": \"x\", \"y0\": 0, \"y1\": 6, \"yref\": \"y\"}, {\"line\": {\"color\": \"LightSalmon\", \"width\": 1}, \"type\": \"line\", \"x0\": 4838, \"x1\": 4838, \"xref\": \"x\", \"y0\": 0, \"y1\": 6, \"yref\": \"y\"}, {\"line\": {\"color\": \"LightSalmon\", \"width\": 1}, \"type\": \"line\", \"x0\": 6606, \"x1\": 6606, \"xref\": \"x\", \"y0\": 0, \"y1\": 6, \"yref\": \"y\"}, {\"line\": {\"color\": \"LightSalmon\", \"width\": 1}, \"type\": \"line\", \"x0\": 7316, \"x1\": 7316, \"xref\": \"x\", \"y0\": 0, \"y1\": 6, \"yref\": \"y\"}, {\"line\": {\"color\": \"LightSalmon\", \"width\": 1}, \"type\": \"line\", \"x0\": 7892, \"x1\": 7892, \"xref\": \"x\", \"y0\": 0, \"y1\": 6, \"yref\": \"y\"}, {\"line\": {\"color\": \"LightSalmon\", \"width\": 1}, \"type\": \"line\", \"x0\": 8406, \"x1\": 8406, \"xref\": \"x\", \"y0\": 0, \"y1\": 6, \"yref\": \"y\"}, {\"line\": {\"color\": \"LightSalmon\", \"width\": 1}, \"type\": \"line\", \"x0\": 10401, \"x1\": 10401, \"xref\": \"x\", \"y0\": 0, \"y1\": 6, \"yref\": \"y\"}, {\"line\": {\"color\": \"LightSalmon\", \"width\": 1}, \"type\": \"line\", \"x0\": 12207, \"x1\": 12207, \"xref\": \"x\", \"y0\": 0, \"y1\": 6, \"yref\": \"y\"}, {\"line\": {\"color\": \"LightSalmon\", \"width\": 1}, \"type\": \"line\", \"x0\": 12896, \"x1\": 12896, \"xref\": \"x\", \"y0\": 0, \"y1\": 6, \"yref\": \"y\"}, {\"line\": {\"color\": \"LightSalmon\", \"width\": 1}, \"type\": \"line\", \"x0\": 14013, \"x1\": 14013, \"xref\": \"x\", \"y0\": 0, \"y1\": 6, \"yref\": \"y\"}, {\"line\": {\"color\": \"LightSalmon\", \"width\": 1}, \"type\": \"line\", \"x0\": 16149, \"x1\": 16149, \"xref\": \"x\", \"y0\": 0, \"y1\": 6, \"yref\": \"y\"}, {\"line\": {\"color\": \"LightSalmon\", \"width\": 1}, \"type\": \"line\", \"x0\": 18595, \"x1\": 18595, \"xref\": \"x\", \"y0\": 0, \"y1\": 6, \"yref\": \"y\"}, {\"line\": {\"color\": \"LightSalmon\", \"width\": 1}, \"type\": \"line\", \"x0\": 19843, \"x1\": 19843, \"xref\": \"x\", \"y0\": 0, \"y1\": 6, \"yref\": \"y\"}, {\"line\": {\"color\": \"LightSalmon\", \"width\": 1}, \"type\": \"line\", \"x0\": 22453, \"x1\": 22453, \"xref\": \"x\", \"y0\": 0, \"y1\": 6, \"yref\": \"y\"}, {\"line\": {\"color\": \"LightSalmon\", \"width\": 1}, \"type\": \"line\", \"x0\": 23581, \"x1\": 23581, \"xref\": \"x\", \"y0\": 0, \"y1\": 6, \"yref\": \"y\"}, {\"line\": {\"color\": \"LightSalmon\", \"width\": 1}, \"type\": \"line\", \"x0\": 24917, \"x1\": 24917, \"xref\": \"x\", \"y0\": 0, \"y1\": 6, \"yref\": \"y\"}, {\"line\": {\"color\": \"LightSalmon\", \"width\": 1}, \"type\": \"line\", \"x0\": 25679, \"x1\": 25679, \"xref\": \"x\", \"y0\": 0, \"y1\": 6, \"yref\": \"y\"}, {\"line\": {\"color\": \"LightSalmon\", \"width\": 1}, \"type\": \"line\", \"x0\": 28607, \"x1\": 28607, \"xref\": \"x\", \"y0\": 0, \"y1\": 6, \"yref\": \"y\"}, {\"line\": {\"color\": \"LightSalmon\", \"width\": 1}, \"type\": \"line\", \"x0\": 29593, \"x1\": 29593, \"xref\": \"x\", \"y0\": 0, \"y1\": 6, \"yref\": \"y\"}, {\"line\": {\"color\": \"LightSalmon\", \"width\": 1}, \"type\": \"line\", \"x0\": 30875, \"x1\": 30875, \"xref\": \"x\", \"y0\": 0, \"y1\": 6, \"yref\": \"y\"}, {\"line\": {\"color\": \"LightSalmon\", \"width\": 1}, \"type\": \"line\", \"x0\": 32107, \"x1\": 32107, \"xref\": \"x\", \"y0\": 0, \"y1\": 6, \"yref\": \"y\"}, {\"line\": {\"color\": \"LightSalmon\", \"width\": 1}, \"type\": \"line\", \"x0\": 35075, \"x1\": 35075, \"xref\": \"x\", \"y0\": 0, \"y1\": 6, \"yref\": \"y\"}, {\"line\": {\"color\": \"LightSalmon\", \"width\": 1}, \"type\": \"line\", \"x0\": 35532, \"x1\": 35532, \"xref\": \"x\", \"y0\": 0, \"y1\": 6, \"yref\": \"y\"}], \"template\": {\"data\": {\"bar\": [{\"error_x\": {\"color\": \"#2a3f5f\"}, \"error_y\": {\"color\": \"#2a3f5f\"}, \"marker\": {\"line\": {\"color\": \"#E5ECF6\", \"width\": 0.5}}, \"type\": \"bar\"}], \"barpolar\": [{\"marker\": {\"line\": {\"color\": \"#E5ECF6\", \"width\": 0.5}}, \"type\": \"barpolar\"}], \"carpet\": [{\"aaxis\": {\"endlinecolor\": \"#2a3f5f\", \"gridcolor\": \"white\", \"linecolor\": \"white\", \"minorgridcolor\": \"white\", \"startlinecolor\": \"#2a3f5f\"}, \"baxis\": {\"endlinecolor\": \"#2a3f5f\", \"gridcolor\": \"white\", \"linecolor\": \"white\", \"minorgridcolor\": \"white\", \"startlinecolor\": \"#2a3f5f\"}, \"type\": \"carpet\"}], \"choropleth\": [{\"colorbar\": {\"outlinewidth\": 0, \"ticks\": \"\"}, \"type\": \"choropleth\"}], \"contour\": [{\"colorbar\": {\"outlinewidth\": 0, \"ticks\": \"\"}, \"colorscale\": [[0.0, \"#0d0887\"], [0.1111111111111111, \"#46039f\"], [0.2222222222222222, \"#7201a8\"], [0.3333333333333333, \"#9c179e\"], [0.4444444444444444, \"#bd3786\"], [0.5555555555555556, \"#d8576b\"], [0.6666666666666666, \"#ed7953\"], [0.7777777777777778, \"#fb9f3a\"], [0.8888888888888888, \"#fdca26\"], [1.0, \"#f0f921\"]], \"type\": \"contour\"}], \"contourcarpet\": [{\"colorbar\": {\"outlinewidth\": 0, \"ticks\": \"\"}, \"type\": \"contourcarpet\"}], \"heatmap\": [{\"colorbar\": {\"outlinewidth\": 0, \"ticks\": \"\"}, \"colorscale\": [[0.0, \"#0d0887\"], [0.1111111111111111, \"#46039f\"], [0.2222222222222222, \"#7201a8\"], [0.3333333333333333, \"#9c179e\"], [0.4444444444444444, \"#bd3786\"], [0.5555555555555556, \"#d8576b\"], [0.6666666666666666, \"#ed7953\"], [0.7777777777777778, \"#fb9f3a\"], [0.8888888888888888, \"#fdca26\"], [1.0, \"#f0f921\"]], \"type\": \"heatmap\"}], \"heatmapgl\": [{\"colorbar\": {\"outlinewidth\": 0, \"ticks\": \"\"}, \"colorscale\": [[0.0, \"#0d0887\"], [0.1111111111111111, \"#46039f\"], [0.2222222222222222, \"#7201a8\"], [0.3333333333333333, \"#9c179e\"], [0.4444444444444444, \"#bd3786\"], [0.5555555555555556, \"#d8576b\"], [0.6666666666666666, \"#ed7953\"], [0.7777777777777778, \"#fb9f3a\"], [0.8888888888888888, \"#fdca26\"], [1.0, \"#f0f921\"]], \"type\": \"heatmapgl\"}], \"histogram\": [{\"marker\": {\"colorbar\": {\"outlinewidth\": 0, \"ticks\": \"\"}}, \"type\": \"histogram\"}], \"histogram2d\": [{\"colorbar\": {\"outlinewidth\": 0, \"ticks\": \"\"}, \"colorscale\": [[0.0, \"#0d0887\"], [0.1111111111111111, \"#46039f\"], [0.2222222222222222, \"#7201a8\"], [0.3333333333333333, \"#9c179e\"], [0.4444444444444444, \"#bd3786\"], [0.5555555555555556, \"#d8576b\"], [0.6666666666666666, \"#ed7953\"], [0.7777777777777778, \"#fb9f3a\"], [0.8888888888888888, \"#fdca26\"], [1.0, \"#f0f921\"]], \"type\": \"histogram2d\"}], \"histogram2dcontour\": [{\"colorbar\": {\"outlinewidth\": 0, \"ticks\": \"\"}, \"colorscale\": [[0.0, \"#0d0887\"], [0.1111111111111111, \"#46039f\"], [0.2222222222222222, \"#7201a8\"], [0.3333333333333333, \"#9c179e\"], [0.4444444444444444, \"#bd3786\"], [0.5555555555555556, \"#d8576b\"], [0.6666666666666666, \"#ed7953\"], [0.7777777777777778, \"#fb9f3a\"], [0.8888888888888888, \"#fdca26\"], [1.0, \"#f0f921\"]], \"type\": \"histogram2dcontour\"}], \"mesh3d\": [{\"colorbar\": {\"outlinewidth\": 0, \"ticks\": \"\"}, \"type\": \"mesh3d\"}], \"parcoords\": [{\"line\": {\"colorbar\": {\"outlinewidth\": 0, \"ticks\": \"\"}}, \"type\": \"parcoords\"}], \"pie\": [{\"automargin\": true, \"type\": \"pie\"}], \"scatter\": [{\"marker\": {\"colorbar\": {\"outlinewidth\": 0, \"ticks\": \"\"}}, \"type\": \"scatter\"}], \"scatter3d\": [{\"line\": {\"colorbar\": {\"outlinewidth\": 0, \"ticks\": \"\"}}, \"marker\": {\"colorbar\": {\"outlinewidth\": 0, \"ticks\": \"\"}}, \"type\": \"scatter3d\"}], \"scattercarpet\": [{\"marker\": {\"colorbar\": {\"outlinewidth\": 0, \"ticks\": \"\"}}, \"type\": \"scattercarpet\"}], \"scattergeo\": [{\"marker\": {\"colorbar\": {\"outlinewidth\": 0, \"ticks\": \"\"}}, \"type\": \"scattergeo\"}], \"scattergl\": [{\"marker\": {\"colorbar\": {\"outlinewidth\": 0, \"ticks\": \"\"}}, \"type\": \"scattergl\"}], \"scattermapbox\": [{\"marker\": {\"colorbar\": {\"outlinewidth\": 0, \"ticks\": \"\"}}, \"type\": \"scattermapbox\"}], \"scatterpolar\": [{\"marker\": {\"colorbar\": {\"outlinewidth\": 0, \"ticks\": \"\"}}, \"type\": \"scatterpolar\"}], \"scatterpolargl\": [{\"marker\": {\"colorbar\": {\"outlinewidth\": 0, \"ticks\": \"\"}}, \"type\": \"scatterpolargl\"}], \"scatterternary\": [{\"marker\": {\"colorbar\": {\"outlinewidth\": 0, \"ticks\": \"\"}}, \"type\": \"scatterternary\"}], \"surface\": [{\"colorbar\": {\"outlinewidth\": 0, \"ticks\": \"\"}, \"colorscale\": [[0.0, \"#0d0887\"], [0.1111111111111111, \"#46039f\"], [0.2222222222222222, \"#7201a8\"], [0.3333333333333333, \"#9c179e\"], [0.4444444444444444, \"#bd3786\"], [0.5555555555555556, \"#d8576b\"], [0.6666666666666666, \"#ed7953\"], [0.7777777777777778, \"#fb9f3a\"], [0.8888888888888888, \"#fdca26\"], [1.0, \"#f0f921\"]], \"type\": \"surface\"}], \"table\": [{\"cells\": {\"fill\": {\"color\": \"#EBF0F8\"}, \"line\": {\"color\": \"white\"}}, \"header\": {\"fill\": {\"color\": \"#C8D4E3\"}, \"line\": {\"color\": \"white\"}}, \"type\": \"table\"}]}, \"layout\": {\"annotationdefaults\": {\"arrowcolor\": \"#2a3f5f\", \"arrowhead\": 0, \"arrowwidth\": 1}, \"coloraxis\": {\"colorbar\": {\"outlinewidth\": 0, \"ticks\": \"\"}}, \"colorscale\": {\"diverging\": [[0, \"#8e0152\"], [0.1, \"#c51b7d\"], [0.2, \"#de77ae\"], [0.3, \"#f1b6da\"], [0.4, \"#fde0ef\"], [0.5, \"#f7f7f7\"], [0.6, \"#e6f5d0\"], [0.7, \"#b8e186\"], [0.8, \"#7fbc41\"], [0.9, \"#4d9221\"], [1, \"#276419\"]], \"sequential\": [[0.0, \"#0d0887\"], [0.1111111111111111, \"#46039f\"], [0.2222222222222222, \"#7201a8\"], [0.3333333333333333, \"#9c179e\"], [0.4444444444444444, \"#bd3786\"], [0.5555555555555556, \"#d8576b\"], [0.6666666666666666, \"#ed7953\"], [0.7777777777777778, \"#fb9f3a\"], [0.8888888888888888, \"#fdca26\"], [1.0, \"#f0f921\"]], \"sequentialminus\": [[0.0, \"#0d0887\"], [0.1111111111111111, \"#46039f\"], [0.2222222222222222, \"#7201a8\"], [0.3333333333333333, \"#9c179e\"], [0.4444444444444444, \"#bd3786\"], [0.5555555555555556, \"#d8576b\"], [0.6666666666666666, \"#ed7953\"], [0.7777777777777778, \"#fb9f3a\"], [0.8888888888888888, \"#fdca26\"], [1.0, \"#f0f921\"]]}, \"colorway\": [\"#636efa\", \"#EF553B\", \"#00cc96\", \"#ab63fa\", \"#FFA15A\", \"#19d3f3\", \"#FF6692\", \"#B6E880\", \"#FF97FF\", \"#FECB52\"], \"font\": {\"color\": \"#2a3f5f\"}, \"geo\": {\"bgcolor\": \"white\", \"lakecolor\": \"white\", \"landcolor\": \"#E5ECF6\", \"showlakes\": true, \"showland\": true, \"subunitcolor\": \"white\"}, \"hoverlabel\": {\"align\": \"left\"}, \"hovermode\": \"closest\", \"mapbox\": {\"style\": \"light\"}, \"paper_bgcolor\": \"white\", \"plot_bgcolor\": \"#E5ECF6\", \"polar\": {\"angularaxis\": {\"gridcolor\": \"white\", \"linecolor\": \"white\", \"ticks\": \"\"}, \"bgcolor\": \"#E5ECF6\", \"radialaxis\": {\"gridcolor\": \"white\", \"linecolor\": \"white\", \"ticks\": \"\"}}, \"scene\": {\"xaxis\": {\"backgroundcolor\": \"#E5ECF6\", \"gridcolor\": \"white\", \"gridwidth\": 2, \"linecolor\": \"white\", \"showbackground\": true, \"ticks\": \"\", \"zerolinecolor\": \"white\"}, \"yaxis\": {\"backgroundcolor\": \"#E5ECF6\", \"gridcolor\": \"white\", \"gridwidth\": 2, \"linecolor\": \"white\", \"showbackground\": true, \"ticks\": \"\", \"zerolinecolor\": \"white\"}, \"zaxis\": {\"backgroundcolor\": \"#E5ECF6\", \"gridcolor\": \"white\", \"gridwidth\": 2, \"linecolor\": \"white\", \"showbackground\": true, \"ticks\": \"\", \"zerolinecolor\": \"white\"}}, \"shapedefaults\": {\"line\": {\"color\": \"#2a3f5f\"}}, \"ternary\": {\"aaxis\": {\"gridcolor\": \"white\", \"linecolor\": \"white\", \"ticks\": \"\"}, \"baxis\": {\"gridcolor\": \"white\", \"linecolor\": \"white\", \"ticks\": \"\"}, \"bgcolor\": \"#E5ECF6\", \"caxis\": {\"gridcolor\": \"white\", \"linecolor\": \"white\", \"ticks\": \"\"}}, \"title\": {\"x\": 0.05}, \"xaxis\": {\"automargin\": true, \"gridcolor\": \"white\", \"linecolor\": \"white\", \"ticks\": \"\", \"title\": {\"standoff\": 15}, \"zerolinecolor\": \"white\", \"zerolinewidth\": 2}, \"yaxis\": {\"automargin\": true, \"gridcolor\": \"white\", \"linecolor\": \"white\", \"ticks\": \"\", \"title\": {\"standoff\": 15}, \"zerolinecolor\": \"white\", \"zerolinewidth\": 2}}}, \"title\": {\"text\": \"Lexical Dispersion\", \"x\": 0.5, \"xanchor\": \"center\", \"y\": 0.95, \"yanchor\": \"top\"}, \"xaxis\": {\"anchor\": \"y\", \"domain\": [0.0, 1.0], \"title\": {\"text\": \"Word Offset (All Stories)\"}}, \"yaxis\": {\"anchor\": \"x\", \"domain\": [0.0, 1.0], \"tickmode\": \"array\", \"ticktext\": [\"wuj\", \"ciotka\", \"ojciec\", \"teodor\", \"matka\", \"adela\", \"agata\"], \"tickvals\": [0, 1, 2, 3, 4, 5, 6], \"title\": {\"text\": \"Word\"}}},\n",
       "                        {\"responsive\": true}\n",
       "                    ).then(function(){\n",
       "                            \n",
       "var gd = document.getElementById('120f7775-4f3a-40b9-b5b4-d29f4e2fe7fd');\n",
       "var x = new MutationObserver(function (mutations, observer) {{\n",
       "        var display = window.getComputedStyle(gd).display;\n",
       "        if (!display || display === 'none') {{\n",
       "            console.log([gd, 'removed!']);\n",
       "            Plotly.purge(gd);\n",
       "            observer.disconnect();\n",
       "        }}\n",
       "}});\n",
       "\n",
       "// Listen for the removal of the full notebook cells\n",
       "var notebookContainer = gd.closest('#notebook-container');\n",
       "if (notebookContainer) {{\n",
       "    x.observe(notebookContainer, {childList: true});\n",
       "}}\n",
       "\n",
       "// Listen for the clearing of the current output cell\n",
       "var outputEl = gd.closest('.output');\n",
       "if (outputEl) {{\n",
       "    x.observe(outputEl, {childList: true});\n",
       "}}\n",
       "\n",
       "                        })\n",
       "                };\n",
       "                });\n",
       "            </script>\n",
       "        </div>"
      ]
     },
     "metadata": {},
     "output_type": "display_data"
    }
   ],
   "source": [
    "dispersion_plotly(ntext, characters, titles = True)"
   ]
  },
  {
   "cell_type": "code",
   "execution_count": null,
   "metadata": {},
   "outputs": [],
   "source": []
  },
  {
   "cell_type": "markdown",
   "metadata": {},
   "source": [
    "### Whole Text (in Russian)"
   ]
  },
  {
   "cell_type": "code",
   "execution_count": 297,
   "metadata": {},
   "outputs": [],
   "source": [
    "sklepy_ru = open(\"./sklepy_cynamonowe_russian.txt\",\"r\") \n",
    "sklepy_ru = sklepy_ru.read()"
   ]
  },
  {
   "cell_type": "code",
   "execution_count": 298,
   "metadata": {},
   "outputs": [],
   "source": [
    "sanatorium_ru = open(\"./sanatorium_pod_klepsydra_russian.txt\",\"r\") \n",
    "sanatorium_ru = sanatorium_ru.read()"
   ]
  },
  {
   "cell_type": "markdown",
   "metadata": {},
   "source": [
    "#### Processing"
   ]
  },
  {
   "cell_type": "code",
   "execution_count": 299,
   "metadata": {},
   "outputs": [],
   "source": [
    "full_text = sklepy_ru + sanatorium_ru"
   ]
  },
  {
   "cell_type": "code",
   "execution_count": 300,
   "metadata": {},
   "outputs": [],
   "source": [
    "full_text = remove_punctuation(full_text)"
   ]
  },
  {
   "cell_type": "code",
   "execution_count": 301,
   "metadata": {},
   "outputs": [],
   "source": [
    "full_text = remove_stopwords(full_text, russian_stopwords)"
   ]
  },
  {
   "cell_type": "code",
   "execution_count": 302,
   "metadata": {},
   "outputs": [],
   "source": [
    "mystem = Mystem() "
   ]
  },
  {
   "cell_type": "code",
   "execution_count": 303,
   "metadata": {},
   "outputs": [],
   "source": [
    "tokens = mystem.lemmatize(full_text.lower())"
   ]
  },
  {
   "cell_type": "code",
   "execution_count": 304,
   "metadata": {},
   "outputs": [],
   "source": [
    "def process_ru_text(text):\n",
    "    tokens = mystem.lemmatize(text.lower())\n",
    "    tokens = [token for token in tokens if token not in russian_stopwords\\\n",
    "              and token != \" \" \\\n",
    "              and token.strip() not in punctuation]\n",
    "    \n",
    "    text = \" \".join(tokens)\n",
    "    return text"
   ]
  },
  {
   "cell_type": "code",
   "execution_count": 305,
   "metadata": {},
   "outputs": [],
   "source": [
    "full_ru_text = process_ru_text(full_text)"
   ]
  },
  {
   "cell_type": "markdown",
   "metadata": {},
   "source": [
    "#### Stats"
   ]
  },
  {
   "cell_type": "code",
   "execution_count": 306,
   "metadata": {},
   "outputs": [
    {
     "data": {
      "text/plain": [
       "142879"
      ]
     },
     "execution_count": 306,
     "metadata": {},
     "output_type": "execute_result"
    }
   ],
   "source": [
    "get_keystrokes(full_ru_text) #print keystrokes without stopwords, punctuation"
   ]
  },
  {
   "cell_type": "code",
   "execution_count": 307,
   "metadata": {},
   "outputs": [
    {
     "data": {
      "text/plain": [
       "(18432, 7677, 0.41650390625)"
      ]
     },
     "execution_count": 307,
     "metadata": {},
     "output_type": "execute_result"
    }
   ],
   "source": [
    "basic_stats(full_ru_text) #print number of words, distinct words, lexical richness"
   ]
  },
  {
   "cell_type": "code",
   "execution_count": 308,
   "metadata": {},
   "outputs": [],
   "source": [
    "top_words, hapax_words, total_hapax_words, colloc_words = advanced_stats(text = full_ru_text, num_words = 10, num_hapax = 5, lemmat = True)"
   ]
  },
  {
   "cell_type": "code",
   "execution_count": 309,
   "metadata": {},
   "outputs": [],
   "source": [
    "tw_df = pd.DataFrame(list(top_words.items()), columns=['word', 'occurrence'])"
   ]
  },
  {
   "cell_type": "code",
   "execution_count": 310,
   "metadata": {},
   "outputs": [],
   "source": [
    "tw_df['occurrence'] = tw_df['occurrence'].astype('int')"
   ]
  },
  {
   "cell_type": "code",
   "execution_count": 311,
   "metadata": {},
   "outputs": [],
   "source": [
    "tw_df = tw_df[tw_df['occurrence'] > 1]"
   ]
  },
  {
   "cell_type": "code",
   "execution_count": 312,
   "metadata": {},
   "outputs": [
    {
     "data": {
      "application/vnd.plotly.v1+json": {
       "config": {
        "plotlyServerURL": "https://plot.ly"
       },
       "data": [
        {
         "alignmentgroup": "True",
         "hoverlabel": {
          "namelength": 0
         },
         "hovertemplate": "word=%{x}<br>occurrence=%{y}",
         "legendgroup": "",
         "marker": {
          "color": "#636efa"
         },
         "name": "",
         "offsetgroup": "",
         "orientation": "v",
         "showlegend": false,
         "textposition": "auto",
         "type": "bar",
         "x": [
          "словно",
          "огромный",
          "темный",
          "небо",
          "черный",
          "воздух",
          "пустой",
          "становиться",
          "некий",
          "аделя"
         ],
         "xaxis": "x",
         "y": [
          80,
          59,
          58,
          55,
          54,
          48,
          47,
          43,
          41,
          40
         ],
         "yaxis": "y"
        }
       ],
       "layout": {
        "barmode": "relative",
        "legend": {
         "tracegroupgap": 0
        },
        "margin": {
         "t": 60
        },
        "template": {
         "data": {
          "bar": [
           {
            "error_x": {
             "color": "#2a3f5f"
            },
            "error_y": {
             "color": "#2a3f5f"
            },
            "marker": {
             "line": {
              "color": "#E5ECF6",
              "width": 0.5
             }
            },
            "type": "bar"
           }
          ],
          "barpolar": [
           {
            "marker": {
             "line": {
              "color": "#E5ECF6",
              "width": 0.5
             }
            },
            "type": "barpolar"
           }
          ],
          "carpet": [
           {
            "aaxis": {
             "endlinecolor": "#2a3f5f",
             "gridcolor": "white",
             "linecolor": "white",
             "minorgridcolor": "white",
             "startlinecolor": "#2a3f5f"
            },
            "baxis": {
             "endlinecolor": "#2a3f5f",
             "gridcolor": "white",
             "linecolor": "white",
             "minorgridcolor": "white",
             "startlinecolor": "#2a3f5f"
            },
            "type": "carpet"
           }
          ],
          "choropleth": [
           {
            "colorbar": {
             "outlinewidth": 0,
             "ticks": ""
            },
            "type": "choropleth"
           }
          ],
          "contour": [
           {
            "colorbar": {
             "outlinewidth": 0,
             "ticks": ""
            },
            "colorscale": [
             [
              0,
              "#0d0887"
             ],
             [
              0.1111111111111111,
              "#46039f"
             ],
             [
              0.2222222222222222,
              "#7201a8"
             ],
             [
              0.3333333333333333,
              "#9c179e"
             ],
             [
              0.4444444444444444,
              "#bd3786"
             ],
             [
              0.5555555555555556,
              "#d8576b"
             ],
             [
              0.6666666666666666,
              "#ed7953"
             ],
             [
              0.7777777777777778,
              "#fb9f3a"
             ],
             [
              0.8888888888888888,
              "#fdca26"
             ],
             [
              1,
              "#f0f921"
             ]
            ],
            "type": "contour"
           }
          ],
          "contourcarpet": [
           {
            "colorbar": {
             "outlinewidth": 0,
             "ticks": ""
            },
            "type": "contourcarpet"
           }
          ],
          "heatmap": [
           {
            "colorbar": {
             "outlinewidth": 0,
             "ticks": ""
            },
            "colorscale": [
             [
              0,
              "#0d0887"
             ],
             [
              0.1111111111111111,
              "#46039f"
             ],
             [
              0.2222222222222222,
              "#7201a8"
             ],
             [
              0.3333333333333333,
              "#9c179e"
             ],
             [
              0.4444444444444444,
              "#bd3786"
             ],
             [
              0.5555555555555556,
              "#d8576b"
             ],
             [
              0.6666666666666666,
              "#ed7953"
             ],
             [
              0.7777777777777778,
              "#fb9f3a"
             ],
             [
              0.8888888888888888,
              "#fdca26"
             ],
             [
              1,
              "#f0f921"
             ]
            ],
            "type": "heatmap"
           }
          ],
          "heatmapgl": [
           {
            "colorbar": {
             "outlinewidth": 0,
             "ticks": ""
            },
            "colorscale": [
             [
              0,
              "#0d0887"
             ],
             [
              0.1111111111111111,
              "#46039f"
             ],
             [
              0.2222222222222222,
              "#7201a8"
             ],
             [
              0.3333333333333333,
              "#9c179e"
             ],
             [
              0.4444444444444444,
              "#bd3786"
             ],
             [
              0.5555555555555556,
              "#d8576b"
             ],
             [
              0.6666666666666666,
              "#ed7953"
             ],
             [
              0.7777777777777778,
              "#fb9f3a"
             ],
             [
              0.8888888888888888,
              "#fdca26"
             ],
             [
              1,
              "#f0f921"
             ]
            ],
            "type": "heatmapgl"
           }
          ],
          "histogram": [
           {
            "marker": {
             "colorbar": {
              "outlinewidth": 0,
              "ticks": ""
             }
            },
            "type": "histogram"
           }
          ],
          "histogram2d": [
           {
            "colorbar": {
             "outlinewidth": 0,
             "ticks": ""
            },
            "colorscale": [
             [
              0,
              "#0d0887"
             ],
             [
              0.1111111111111111,
              "#46039f"
             ],
             [
              0.2222222222222222,
              "#7201a8"
             ],
             [
              0.3333333333333333,
              "#9c179e"
             ],
             [
              0.4444444444444444,
              "#bd3786"
             ],
             [
              0.5555555555555556,
              "#d8576b"
             ],
             [
              0.6666666666666666,
              "#ed7953"
             ],
             [
              0.7777777777777778,
              "#fb9f3a"
             ],
             [
              0.8888888888888888,
              "#fdca26"
             ],
             [
              1,
              "#f0f921"
             ]
            ],
            "type": "histogram2d"
           }
          ],
          "histogram2dcontour": [
           {
            "colorbar": {
             "outlinewidth": 0,
             "ticks": ""
            },
            "colorscale": [
             [
              0,
              "#0d0887"
             ],
             [
              0.1111111111111111,
              "#46039f"
             ],
             [
              0.2222222222222222,
              "#7201a8"
             ],
             [
              0.3333333333333333,
              "#9c179e"
             ],
             [
              0.4444444444444444,
              "#bd3786"
             ],
             [
              0.5555555555555556,
              "#d8576b"
             ],
             [
              0.6666666666666666,
              "#ed7953"
             ],
             [
              0.7777777777777778,
              "#fb9f3a"
             ],
             [
              0.8888888888888888,
              "#fdca26"
             ],
             [
              1,
              "#f0f921"
             ]
            ],
            "type": "histogram2dcontour"
           }
          ],
          "mesh3d": [
           {
            "colorbar": {
             "outlinewidth": 0,
             "ticks": ""
            },
            "type": "mesh3d"
           }
          ],
          "parcoords": [
           {
            "line": {
             "colorbar": {
              "outlinewidth": 0,
              "ticks": ""
             }
            },
            "type": "parcoords"
           }
          ],
          "pie": [
           {
            "automargin": true,
            "type": "pie"
           }
          ],
          "scatter": [
           {
            "marker": {
             "colorbar": {
              "outlinewidth": 0,
              "ticks": ""
             }
            },
            "type": "scatter"
           }
          ],
          "scatter3d": [
           {
            "line": {
             "colorbar": {
              "outlinewidth": 0,
              "ticks": ""
             }
            },
            "marker": {
             "colorbar": {
              "outlinewidth": 0,
              "ticks": ""
             }
            },
            "type": "scatter3d"
           }
          ],
          "scattercarpet": [
           {
            "marker": {
             "colorbar": {
              "outlinewidth": 0,
              "ticks": ""
             }
            },
            "type": "scattercarpet"
           }
          ],
          "scattergeo": [
           {
            "marker": {
             "colorbar": {
              "outlinewidth": 0,
              "ticks": ""
             }
            },
            "type": "scattergeo"
           }
          ],
          "scattergl": [
           {
            "marker": {
             "colorbar": {
              "outlinewidth": 0,
              "ticks": ""
             }
            },
            "type": "scattergl"
           }
          ],
          "scattermapbox": [
           {
            "marker": {
             "colorbar": {
              "outlinewidth": 0,
              "ticks": ""
             }
            },
            "type": "scattermapbox"
           }
          ],
          "scatterpolar": [
           {
            "marker": {
             "colorbar": {
              "outlinewidth": 0,
              "ticks": ""
             }
            },
            "type": "scatterpolar"
           }
          ],
          "scatterpolargl": [
           {
            "marker": {
             "colorbar": {
              "outlinewidth": 0,
              "ticks": ""
             }
            },
            "type": "scatterpolargl"
           }
          ],
          "scatterternary": [
           {
            "marker": {
             "colorbar": {
              "outlinewidth": 0,
              "ticks": ""
             }
            },
            "type": "scatterternary"
           }
          ],
          "surface": [
           {
            "colorbar": {
             "outlinewidth": 0,
             "ticks": ""
            },
            "colorscale": [
             [
              0,
              "#0d0887"
             ],
             [
              0.1111111111111111,
              "#46039f"
             ],
             [
              0.2222222222222222,
              "#7201a8"
             ],
             [
              0.3333333333333333,
              "#9c179e"
             ],
             [
              0.4444444444444444,
              "#bd3786"
             ],
             [
              0.5555555555555556,
              "#d8576b"
             ],
             [
              0.6666666666666666,
              "#ed7953"
             ],
             [
              0.7777777777777778,
              "#fb9f3a"
             ],
             [
              0.8888888888888888,
              "#fdca26"
             ],
             [
              1,
              "#f0f921"
             ]
            ],
            "type": "surface"
           }
          ],
          "table": [
           {
            "cells": {
             "fill": {
              "color": "#EBF0F8"
             },
             "line": {
              "color": "white"
             }
            },
            "header": {
             "fill": {
              "color": "#C8D4E3"
             },
             "line": {
              "color": "white"
             }
            },
            "type": "table"
           }
          ]
         },
         "layout": {
          "annotationdefaults": {
           "arrowcolor": "#2a3f5f",
           "arrowhead": 0,
           "arrowwidth": 1
          },
          "coloraxis": {
           "colorbar": {
            "outlinewidth": 0,
            "ticks": ""
           }
          },
          "colorscale": {
           "diverging": [
            [
             0,
             "#8e0152"
            ],
            [
             0.1,
             "#c51b7d"
            ],
            [
             0.2,
             "#de77ae"
            ],
            [
             0.3,
             "#f1b6da"
            ],
            [
             0.4,
             "#fde0ef"
            ],
            [
             0.5,
             "#f7f7f7"
            ],
            [
             0.6,
             "#e6f5d0"
            ],
            [
             0.7,
             "#b8e186"
            ],
            [
             0.8,
             "#7fbc41"
            ],
            [
             0.9,
             "#4d9221"
            ],
            [
             1,
             "#276419"
            ]
           ],
           "sequential": [
            [
             0,
             "#0d0887"
            ],
            [
             0.1111111111111111,
             "#46039f"
            ],
            [
             0.2222222222222222,
             "#7201a8"
            ],
            [
             0.3333333333333333,
             "#9c179e"
            ],
            [
             0.4444444444444444,
             "#bd3786"
            ],
            [
             0.5555555555555556,
             "#d8576b"
            ],
            [
             0.6666666666666666,
             "#ed7953"
            ],
            [
             0.7777777777777778,
             "#fb9f3a"
            ],
            [
             0.8888888888888888,
             "#fdca26"
            ],
            [
             1,
             "#f0f921"
            ]
           ],
           "sequentialminus": [
            [
             0,
             "#0d0887"
            ],
            [
             0.1111111111111111,
             "#46039f"
            ],
            [
             0.2222222222222222,
             "#7201a8"
            ],
            [
             0.3333333333333333,
             "#9c179e"
            ],
            [
             0.4444444444444444,
             "#bd3786"
            ],
            [
             0.5555555555555556,
             "#d8576b"
            ],
            [
             0.6666666666666666,
             "#ed7953"
            ],
            [
             0.7777777777777778,
             "#fb9f3a"
            ],
            [
             0.8888888888888888,
             "#fdca26"
            ],
            [
             1,
             "#f0f921"
            ]
           ]
          },
          "colorway": [
           "#636efa",
           "#EF553B",
           "#00cc96",
           "#ab63fa",
           "#FFA15A",
           "#19d3f3",
           "#FF6692",
           "#B6E880",
           "#FF97FF",
           "#FECB52"
          ],
          "font": {
           "color": "#2a3f5f"
          },
          "geo": {
           "bgcolor": "white",
           "lakecolor": "white",
           "landcolor": "#E5ECF6",
           "showlakes": true,
           "showland": true,
           "subunitcolor": "white"
          },
          "hoverlabel": {
           "align": "left"
          },
          "hovermode": "closest",
          "mapbox": {
           "style": "light"
          },
          "paper_bgcolor": "white",
          "plot_bgcolor": "#E5ECF6",
          "polar": {
           "angularaxis": {
            "gridcolor": "white",
            "linecolor": "white",
            "ticks": ""
           },
           "bgcolor": "#E5ECF6",
           "radialaxis": {
            "gridcolor": "white",
            "linecolor": "white",
            "ticks": ""
           }
          },
          "scene": {
           "xaxis": {
            "backgroundcolor": "#E5ECF6",
            "gridcolor": "white",
            "gridwidth": 2,
            "linecolor": "white",
            "showbackground": true,
            "ticks": "",
            "zerolinecolor": "white"
           },
           "yaxis": {
            "backgroundcolor": "#E5ECF6",
            "gridcolor": "white",
            "gridwidth": 2,
            "linecolor": "white",
            "showbackground": true,
            "ticks": "",
            "zerolinecolor": "white"
           },
           "zaxis": {
            "backgroundcolor": "#E5ECF6",
            "gridcolor": "white",
            "gridwidth": 2,
            "linecolor": "white",
            "showbackground": true,
            "ticks": "",
            "zerolinecolor": "white"
           }
          },
          "shapedefaults": {
           "line": {
            "color": "#2a3f5f"
           }
          },
          "ternary": {
           "aaxis": {
            "gridcolor": "white",
            "linecolor": "white",
            "ticks": ""
           },
           "baxis": {
            "gridcolor": "white",
            "linecolor": "white",
            "ticks": ""
           },
           "bgcolor": "#E5ECF6",
           "caxis": {
            "gridcolor": "white",
            "linecolor": "white",
            "ticks": ""
           }
          },
          "title": {
           "x": 0.05
          },
          "xaxis": {
           "automargin": true,
           "gridcolor": "white",
           "linecolor": "white",
           "ticks": "",
           "title": {
            "standoff": 15
           },
           "zerolinecolor": "white",
           "zerolinewidth": 2
          },
          "yaxis": {
           "automargin": true,
           "gridcolor": "white",
           "linecolor": "white",
           "ticks": "",
           "title": {
            "standoff": 15
           },
           "zerolinecolor": "white",
           "zerolinewidth": 2
          }
         }
        },
        "title": {
         "text": "Top Words Across All Stories",
         "x": 0.5,
         "xanchor": "center",
         "y": 0.95,
         "yanchor": "top"
        },
        "xaxis": {
         "anchor": "y",
         "domain": [
          0,
          1
         ],
         "tickangle": 45,
         "tickfont": {
          "family": "Rockwell",
          "size": 10
         },
         "title": {
          "text": "Word"
         }
        },
        "yaxis": {
         "anchor": "x",
         "domain": [
          0,
          1
         ],
         "title": {
          "text": "# Occurences Across Stories"
         }
        }
       }
      },
      "text/html": [
       "<div>\n",
       "        \n",
       "        \n",
       "            <div id=\"a66172d0-d888-4dca-ac8e-3de3fe7cb5ac\" class=\"plotly-graph-div\" style=\"height:525px; width:100%;\"></div>\n",
       "            <script type=\"text/javascript\">\n",
       "                require([\"plotly\"], function(Plotly) {\n",
       "                    window.PLOTLYENV=window.PLOTLYENV || {};\n",
       "                    \n",
       "                if (document.getElementById(\"a66172d0-d888-4dca-ac8e-3de3fe7cb5ac\")) {\n",
       "                    Plotly.newPlot(\n",
       "                        'a66172d0-d888-4dca-ac8e-3de3fe7cb5ac',\n",
       "                        [{\"alignmentgroup\": \"True\", \"hoverlabel\": {\"namelength\": 0}, \"hovertemplate\": \"word=%{x}<br>occurrence=%{y}\", \"legendgroup\": \"\", \"marker\": {\"color\": \"#636efa\"}, \"name\": \"\", \"offsetgroup\": \"\", \"orientation\": \"v\", \"showlegend\": false, \"textposition\": \"auto\", \"type\": \"bar\", \"x\": [\"\\u0441\\u043b\\u043e\\u0432\\u043d\\u043e\", \"\\u043e\\u0433\\u0440\\u043e\\u043c\\u043d\\u044b\\u0439\", \"\\u0442\\u0435\\u043c\\u043d\\u044b\\u0439\", \"\\u043d\\u0435\\u0431\\u043e\", \"\\u0447\\u0435\\u0440\\u043d\\u044b\\u0439\", \"\\u0432\\u043e\\u0437\\u0434\\u0443\\u0445\", \"\\u043f\\u0443\\u0441\\u0442\\u043e\\u0439\", \"\\u0441\\u0442\\u0430\\u043d\\u043e\\u0432\\u0438\\u0442\\u044c\\u0441\\u044f\", \"\\u043d\\u0435\\u043a\\u0438\\u0439\", \"\\u0430\\u0434\\u0435\\u043b\\u044f\"], \"xaxis\": \"x\", \"y\": [80, 59, 58, 55, 54, 48, 47, 43, 41, 40], \"yaxis\": \"y\"}],\n",
       "                        {\"barmode\": \"relative\", \"legend\": {\"tracegroupgap\": 0}, \"margin\": {\"t\": 60}, \"template\": {\"data\": {\"bar\": [{\"error_x\": {\"color\": \"#2a3f5f\"}, \"error_y\": {\"color\": \"#2a3f5f\"}, \"marker\": {\"line\": {\"color\": \"#E5ECF6\", \"width\": 0.5}}, \"type\": \"bar\"}], \"barpolar\": [{\"marker\": {\"line\": {\"color\": \"#E5ECF6\", \"width\": 0.5}}, \"type\": \"barpolar\"}], \"carpet\": [{\"aaxis\": {\"endlinecolor\": \"#2a3f5f\", \"gridcolor\": \"white\", \"linecolor\": \"white\", \"minorgridcolor\": \"white\", \"startlinecolor\": \"#2a3f5f\"}, \"baxis\": {\"endlinecolor\": \"#2a3f5f\", \"gridcolor\": \"white\", \"linecolor\": \"white\", \"minorgridcolor\": \"white\", \"startlinecolor\": \"#2a3f5f\"}, \"type\": \"carpet\"}], \"choropleth\": [{\"colorbar\": {\"outlinewidth\": 0, \"ticks\": \"\"}, \"type\": \"choropleth\"}], \"contour\": [{\"colorbar\": {\"outlinewidth\": 0, \"ticks\": \"\"}, \"colorscale\": [[0.0, \"#0d0887\"], [0.1111111111111111, \"#46039f\"], [0.2222222222222222, \"#7201a8\"], [0.3333333333333333, \"#9c179e\"], [0.4444444444444444, \"#bd3786\"], [0.5555555555555556, \"#d8576b\"], [0.6666666666666666, \"#ed7953\"], [0.7777777777777778, \"#fb9f3a\"], [0.8888888888888888, \"#fdca26\"], [1.0, \"#f0f921\"]], \"type\": \"contour\"}], \"contourcarpet\": [{\"colorbar\": {\"outlinewidth\": 0, \"ticks\": \"\"}, \"type\": \"contourcarpet\"}], \"heatmap\": [{\"colorbar\": {\"outlinewidth\": 0, \"ticks\": \"\"}, \"colorscale\": [[0.0, \"#0d0887\"], [0.1111111111111111, \"#46039f\"], [0.2222222222222222, \"#7201a8\"], [0.3333333333333333, \"#9c179e\"], [0.4444444444444444, \"#bd3786\"], [0.5555555555555556, \"#d8576b\"], [0.6666666666666666, \"#ed7953\"], [0.7777777777777778, \"#fb9f3a\"], [0.8888888888888888, \"#fdca26\"], [1.0, \"#f0f921\"]], \"type\": \"heatmap\"}], \"heatmapgl\": [{\"colorbar\": {\"outlinewidth\": 0, \"ticks\": \"\"}, \"colorscale\": [[0.0, \"#0d0887\"], [0.1111111111111111, \"#46039f\"], [0.2222222222222222, \"#7201a8\"], [0.3333333333333333, \"#9c179e\"], [0.4444444444444444, \"#bd3786\"], [0.5555555555555556, \"#d8576b\"], [0.6666666666666666, \"#ed7953\"], [0.7777777777777778, \"#fb9f3a\"], [0.8888888888888888, \"#fdca26\"], [1.0, \"#f0f921\"]], \"type\": \"heatmapgl\"}], \"histogram\": [{\"marker\": {\"colorbar\": {\"outlinewidth\": 0, \"ticks\": \"\"}}, \"type\": \"histogram\"}], \"histogram2d\": [{\"colorbar\": {\"outlinewidth\": 0, \"ticks\": \"\"}, \"colorscale\": [[0.0, \"#0d0887\"], [0.1111111111111111, \"#46039f\"], [0.2222222222222222, \"#7201a8\"], [0.3333333333333333, \"#9c179e\"], [0.4444444444444444, \"#bd3786\"], [0.5555555555555556, \"#d8576b\"], [0.6666666666666666, \"#ed7953\"], [0.7777777777777778, \"#fb9f3a\"], [0.8888888888888888, \"#fdca26\"], [1.0, \"#f0f921\"]], \"type\": \"histogram2d\"}], \"histogram2dcontour\": [{\"colorbar\": {\"outlinewidth\": 0, \"ticks\": \"\"}, \"colorscale\": [[0.0, \"#0d0887\"], [0.1111111111111111, \"#46039f\"], [0.2222222222222222, \"#7201a8\"], [0.3333333333333333, \"#9c179e\"], [0.4444444444444444, \"#bd3786\"], [0.5555555555555556, \"#d8576b\"], [0.6666666666666666, \"#ed7953\"], [0.7777777777777778, \"#fb9f3a\"], [0.8888888888888888, \"#fdca26\"], [1.0, \"#f0f921\"]], \"type\": \"histogram2dcontour\"}], \"mesh3d\": [{\"colorbar\": {\"outlinewidth\": 0, \"ticks\": \"\"}, \"type\": \"mesh3d\"}], \"parcoords\": [{\"line\": {\"colorbar\": {\"outlinewidth\": 0, \"ticks\": \"\"}}, \"type\": \"parcoords\"}], \"pie\": [{\"automargin\": true, \"type\": \"pie\"}], \"scatter\": [{\"marker\": {\"colorbar\": {\"outlinewidth\": 0, \"ticks\": \"\"}}, \"type\": \"scatter\"}], \"scatter3d\": [{\"line\": {\"colorbar\": {\"outlinewidth\": 0, \"ticks\": \"\"}}, \"marker\": {\"colorbar\": {\"outlinewidth\": 0, \"ticks\": \"\"}}, \"type\": \"scatter3d\"}], \"scattercarpet\": [{\"marker\": {\"colorbar\": {\"outlinewidth\": 0, \"ticks\": \"\"}}, \"type\": \"scattercarpet\"}], \"scattergeo\": [{\"marker\": {\"colorbar\": {\"outlinewidth\": 0, \"ticks\": \"\"}}, \"type\": \"scattergeo\"}], \"scattergl\": [{\"marker\": {\"colorbar\": {\"outlinewidth\": 0, \"ticks\": \"\"}}, \"type\": \"scattergl\"}], \"scattermapbox\": [{\"marker\": {\"colorbar\": {\"outlinewidth\": 0, \"ticks\": \"\"}}, \"type\": \"scattermapbox\"}], \"scatterpolar\": [{\"marker\": {\"colorbar\": {\"outlinewidth\": 0, \"ticks\": \"\"}}, \"type\": \"scatterpolar\"}], \"scatterpolargl\": [{\"marker\": {\"colorbar\": {\"outlinewidth\": 0, \"ticks\": \"\"}}, \"type\": \"scatterpolargl\"}], \"scatterternary\": [{\"marker\": {\"colorbar\": {\"outlinewidth\": 0, \"ticks\": \"\"}}, \"type\": \"scatterternary\"}], \"surface\": [{\"colorbar\": {\"outlinewidth\": 0, \"ticks\": \"\"}, \"colorscale\": [[0.0, \"#0d0887\"], [0.1111111111111111, \"#46039f\"], [0.2222222222222222, \"#7201a8\"], [0.3333333333333333, \"#9c179e\"], [0.4444444444444444, \"#bd3786\"], [0.5555555555555556, \"#d8576b\"], [0.6666666666666666, \"#ed7953\"], [0.7777777777777778, \"#fb9f3a\"], [0.8888888888888888, \"#fdca26\"], [1.0, \"#f0f921\"]], \"type\": \"surface\"}], \"table\": [{\"cells\": {\"fill\": {\"color\": \"#EBF0F8\"}, \"line\": {\"color\": \"white\"}}, \"header\": {\"fill\": {\"color\": \"#C8D4E3\"}, \"line\": {\"color\": \"white\"}}, \"type\": \"table\"}]}, \"layout\": {\"annotationdefaults\": {\"arrowcolor\": \"#2a3f5f\", \"arrowhead\": 0, \"arrowwidth\": 1}, \"coloraxis\": {\"colorbar\": {\"outlinewidth\": 0, \"ticks\": \"\"}}, \"colorscale\": {\"diverging\": [[0, \"#8e0152\"], [0.1, \"#c51b7d\"], [0.2, \"#de77ae\"], [0.3, \"#f1b6da\"], [0.4, \"#fde0ef\"], [0.5, \"#f7f7f7\"], [0.6, \"#e6f5d0\"], [0.7, \"#b8e186\"], [0.8, \"#7fbc41\"], [0.9, \"#4d9221\"], [1, \"#276419\"]], \"sequential\": [[0.0, \"#0d0887\"], [0.1111111111111111, \"#46039f\"], [0.2222222222222222, \"#7201a8\"], [0.3333333333333333, \"#9c179e\"], [0.4444444444444444, \"#bd3786\"], [0.5555555555555556, \"#d8576b\"], [0.6666666666666666, \"#ed7953\"], [0.7777777777777778, \"#fb9f3a\"], [0.8888888888888888, \"#fdca26\"], [1.0, \"#f0f921\"]], \"sequentialminus\": [[0.0, \"#0d0887\"], [0.1111111111111111, \"#46039f\"], [0.2222222222222222, \"#7201a8\"], [0.3333333333333333, \"#9c179e\"], [0.4444444444444444, \"#bd3786\"], [0.5555555555555556, \"#d8576b\"], [0.6666666666666666, \"#ed7953\"], [0.7777777777777778, \"#fb9f3a\"], [0.8888888888888888, \"#fdca26\"], [1.0, \"#f0f921\"]]}, \"colorway\": [\"#636efa\", \"#EF553B\", \"#00cc96\", \"#ab63fa\", \"#FFA15A\", \"#19d3f3\", \"#FF6692\", \"#B6E880\", \"#FF97FF\", \"#FECB52\"], \"font\": {\"color\": \"#2a3f5f\"}, \"geo\": {\"bgcolor\": \"white\", \"lakecolor\": \"white\", \"landcolor\": \"#E5ECF6\", \"showlakes\": true, \"showland\": true, \"subunitcolor\": \"white\"}, \"hoverlabel\": {\"align\": \"left\"}, \"hovermode\": \"closest\", \"mapbox\": {\"style\": \"light\"}, \"paper_bgcolor\": \"white\", \"plot_bgcolor\": \"#E5ECF6\", \"polar\": {\"angularaxis\": {\"gridcolor\": \"white\", \"linecolor\": \"white\", \"ticks\": \"\"}, \"bgcolor\": \"#E5ECF6\", \"radialaxis\": {\"gridcolor\": \"white\", \"linecolor\": \"white\", \"ticks\": \"\"}}, \"scene\": {\"xaxis\": {\"backgroundcolor\": \"#E5ECF6\", \"gridcolor\": \"white\", \"gridwidth\": 2, \"linecolor\": \"white\", \"showbackground\": true, \"ticks\": \"\", \"zerolinecolor\": \"white\"}, \"yaxis\": {\"backgroundcolor\": \"#E5ECF6\", \"gridcolor\": \"white\", \"gridwidth\": 2, \"linecolor\": \"white\", \"showbackground\": true, \"ticks\": \"\", \"zerolinecolor\": \"white\"}, \"zaxis\": {\"backgroundcolor\": \"#E5ECF6\", \"gridcolor\": \"white\", \"gridwidth\": 2, \"linecolor\": \"white\", \"showbackground\": true, \"ticks\": \"\", \"zerolinecolor\": \"white\"}}, \"shapedefaults\": {\"line\": {\"color\": \"#2a3f5f\"}}, \"ternary\": {\"aaxis\": {\"gridcolor\": \"white\", \"linecolor\": \"white\", \"ticks\": \"\"}, \"baxis\": {\"gridcolor\": \"white\", \"linecolor\": \"white\", \"ticks\": \"\"}, \"bgcolor\": \"#E5ECF6\", \"caxis\": {\"gridcolor\": \"white\", \"linecolor\": \"white\", \"ticks\": \"\"}}, \"title\": {\"x\": 0.05}, \"xaxis\": {\"automargin\": true, \"gridcolor\": \"white\", \"linecolor\": \"white\", \"ticks\": \"\", \"title\": {\"standoff\": 15}, \"zerolinecolor\": \"white\", \"zerolinewidth\": 2}, \"yaxis\": {\"automargin\": true, \"gridcolor\": \"white\", \"linecolor\": \"white\", \"ticks\": \"\", \"title\": {\"standoff\": 15}, \"zerolinecolor\": \"white\", \"zerolinewidth\": 2}}}, \"title\": {\"text\": \"Top Words Across All Stories\", \"x\": 0.5, \"xanchor\": \"center\", \"y\": 0.95, \"yanchor\": \"top\"}, \"xaxis\": {\"anchor\": \"y\", \"domain\": [0.0, 1.0], \"tickangle\": 45, \"tickfont\": {\"family\": \"Rockwell\", \"size\": 10}, \"title\": {\"text\": \"Word\"}}, \"yaxis\": {\"anchor\": \"x\", \"domain\": [0.0, 1.0], \"title\": {\"text\": \"# Occurences Across Stories\"}}},\n",
       "                        {\"responsive\": true}\n",
       "                    ).then(function(){\n",
       "                            \n",
       "var gd = document.getElementById('a66172d0-d888-4dca-ac8e-3de3fe7cb5ac');\n",
       "var x = new MutationObserver(function (mutations, observer) {{\n",
       "        var display = window.getComputedStyle(gd).display;\n",
       "        if (!display || display === 'none') {{\n",
       "            console.log([gd, 'removed!']);\n",
       "            Plotly.purge(gd);\n",
       "            observer.disconnect();\n",
       "        }}\n",
       "}});\n",
       "\n",
       "// Listen for the removal of the full notebook cells\n",
       "var notebookContainer = gd.closest('#notebook-container');\n",
       "if (notebookContainer) {{\n",
       "    x.observe(notebookContainer, {childList: true});\n",
       "}}\n",
       "\n",
       "// Listen for the clearing of the current output cell\n",
       "var outputEl = gd.closest('.output');\n",
       "if (outputEl) {{\n",
       "    x.observe(outputEl, {childList: true});\n",
       "}}\n",
       "\n",
       "                        })\n",
       "                };\n",
       "                });\n",
       "            </script>\n",
       "        </div>"
      ]
     },
     "metadata": {},
     "output_type": "display_data"
    }
   ],
   "source": [
    "fig = px.bar(tw_df.sort_values(by='occurrence', ascending=False), x='word', y='occurrence')\n",
    "fig.update_layout(\n",
    "    title={\n",
    "        'text': \"Top Words Across All Stories\",\n",
    "        'y':0.95,\n",
    "        'x':0.50,\n",
    "        'xanchor': 'center',\n",
    "        'yanchor': 'top'\n",
    "    })\n",
    "fig.update_xaxes(title_text='Word', tickangle=45, tickfont=dict(family='Rockwell', size=10))\n",
    "fig.update_yaxes(title_text='# Occurences Across Stories')\n",
    "fig.show()"
   ]
  },
  {
   "cell_type": "code",
   "execution_count": 313,
   "metadata": {},
   "outputs": [
    {
     "data": {
      "text/plain": [
       "'дядя иероним, тетка ретиция, анна чиллаг, гениальный эпоха, обращать внимание, подзорный труба, мыльный пузырь, переводной картинка, коричный лавка, старший брат, городской площадь, сбивать толк, трактат манекен, пан кароль, дикий сирень, хлопание крыло, дейзи дейзи, польд паулина, тетка перазие, боско милан'"
      ]
     },
     "execution_count": 313,
     "metadata": {},
     "output_type": "execute_result"
    }
   ],
   "source": [
    "colloc_words"
   ]
  },
  {
   "cell_type": "markdown",
   "metadata": {},
   "source": [
    "#### Dispersion Plots"
   ]
  },
  {
   "cell_type": "code",
   "execution_count": 314,
   "metadata": {},
   "outputs": [],
   "source": [
    "tokens = tokenize_text(full_ru_text)\n",
    "ntext = Text(tokens)"
   ]
  },
  {
   "cell_type": "code",
   "execution_count": 315,
   "metadata": {},
   "outputs": [
    {
     "data": {
      "application/vnd.plotly.v1+json": {
       "config": {
        "plotlyServerURL": "https://plot.ly"
       },
       "data": [
        {
         "hoverlabel": {
          "namelength": 0
         },
         "hovertemplate": "x=%{x}<br>y=%{y}<br>color=%{marker.color}",
         "legendgroup": "",
         "marker": {
          "color": [
           8,
           9,
           0,
           5,
           8,
           4,
           0,
           9,
           9,
           3,
           8,
           9,
           3,
           6,
           3,
           9,
           9,
           1,
           9,
           8,
           9,
           4,
           5,
           9,
           9,
           7,
           9,
           0,
           9,
           7,
           9,
           9,
           7,
           9,
           2,
           3,
           9,
           3,
           9,
           9,
           2,
           3,
           9,
           4,
           4,
           7,
           7,
           3,
           8,
           2,
           3,
           7,
           6,
           7,
           8,
           4,
           9,
           7,
           9,
           1,
           7,
           5,
           9,
           1,
           9,
           8,
           6,
           8,
           7,
           2,
           8,
           7,
           9,
           1,
           0,
           5,
           5,
           7,
           5,
           5,
           8,
           6,
           8,
           0,
           0,
           9,
           0,
           8,
           8,
           8,
           9,
           0,
           4,
           0,
           4,
           0,
           3,
           3,
           3,
           0,
           1,
           1,
           7,
           2,
           0,
           4,
           4,
           4,
           4,
           1,
           5,
           0,
           0,
           7,
           9,
           0,
           5,
           9,
           9,
           1,
           9,
           2,
           7,
           7,
           9,
           9,
           2,
           7,
           2,
           0,
           7,
           0,
           9,
           5,
           2,
           2,
           1,
           0,
           5,
           9,
           2,
           9,
           7,
           8,
           1,
           0,
           1,
           1,
           1,
           1,
           9,
           5,
           4,
           1,
           6,
           4,
           9,
           4,
           8,
           8,
           8,
           0,
           0,
           6,
           7,
           9,
           1,
           1,
           9,
           1,
           8,
           1,
           5,
           9,
           1,
           5,
           4,
           6,
           6,
           4,
           4,
           4,
           6,
           4,
           6,
           9,
           4,
           9,
           1,
           9,
           5,
           1,
           3,
           9,
           8,
           4,
           9,
           9,
           3,
           1,
           9,
           8,
           9,
           3,
           3,
           7,
           3,
           9,
           8,
           6,
           6,
           8,
           6,
           8,
           6,
           9,
           6,
           2,
           1,
           6,
           6,
           9,
           7,
           7,
           7,
           9,
           7,
           3,
           9,
           3,
           5,
           4,
           5,
           5,
           7,
           5,
           5,
           6,
           4,
           9,
           4,
           1,
           6,
           2,
           4,
           5,
           5,
           6,
           6,
           6,
           9,
           8,
           7,
           7,
           5,
           3,
           9,
           1,
           3,
           8,
           3,
           6,
           8,
           6,
           1,
           8,
           7,
           7,
           5,
           4,
           7,
           1,
           8,
           3,
           9,
           7,
           5,
           1,
           3,
           5,
           5,
           7,
           7,
           5,
           4,
           1,
           3,
           3,
           1,
           2,
           2,
           2,
           7,
           6,
           0,
           0,
           9,
           2,
           3,
           7,
           5,
           5,
           5,
           8,
           0,
           2,
           5,
           5,
           5,
           5,
           0,
           3,
           8,
           3,
           2,
           5,
           3,
           1,
           5,
           5,
           5,
           7,
           9,
           6,
           8,
           5,
           9,
           6,
           9,
           3,
           6,
           6,
           5,
           6,
           8,
           9,
           2,
           5,
           0,
           0,
           4,
           9,
           7,
           7,
           5,
           5,
           8,
           4,
           8,
           0,
           5,
           0,
           0,
           5,
           0,
           0,
           2,
           0,
           9,
           3,
           3,
           3,
           4,
           6,
           3,
           3,
           4,
           9,
           7,
           7,
           9,
           1,
           9,
           7,
           1,
           3,
           4,
           9,
           2,
           7,
           5,
           7,
           8,
           7,
           7,
           3,
           3,
           7,
           7,
           9,
           0,
           3,
           8,
           5,
           5,
           0,
           7,
           7,
           7,
           6,
           6,
           6,
           1,
           6,
           8,
           4,
           4,
           6,
           0,
           6,
           2,
           9,
           4,
           2,
           6,
           4,
           2,
           8,
           1,
           6,
           0,
           8,
           4,
           4,
           6,
           8,
           8,
           8,
           8,
           2,
           5,
           2,
           2,
           6,
           5,
           2,
           6,
           8,
           6,
           9,
           2,
           5,
           5,
           2,
           4,
           7,
           1,
           1,
           1,
           2,
           2,
           8,
           5,
           8,
           8,
           2,
           6,
           4,
           4,
           6,
           6,
           4,
           3,
           0,
           2,
           9,
           1,
           2,
           2,
           0,
           4,
           4,
           4,
           3,
           3,
           3,
           6,
           8,
           3,
           6,
           9,
           6,
           8,
           8,
           4,
           6,
           3,
           0,
           9,
           4,
           7,
           9,
           2,
           9,
           2,
           4,
           9,
           3,
           7,
           7,
           6,
           8,
           8,
           6,
           8,
           6,
           8,
           6,
           6,
           2,
           7,
           1,
           2,
           2,
           3,
           8,
           7,
           8,
           8,
           2,
           7,
           9,
           8,
           9,
           9
          ],
          "coloraxis": "coloraxis",
          "symbol": "circle"
         },
         "mode": "markers",
         "name": "",
         "showlegend": false,
         "type": "scatter",
         "x": [
          16,
          28,
          34,
          47,
          100,
          105,
          130,
          140,
          168,
          216,
          264,
          275,
          298,
          303,
          338,
          382,
          390,
          391,
          419,
          441,
          525,
          632,
          656,
          704,
          724,
          735,
          753,
          822,
          887,
          960,
          972,
          977,
          988,
          1021,
          1029,
          1128,
          1185,
          1207,
          1218,
          1241,
          1243,
          1244,
          1311,
          1315,
          1364,
          1421,
          1435,
          1436,
          1476,
          1486,
          1523,
          1546,
          1581,
          1627,
          1676,
          1682,
          1692,
          1712,
          1716,
          1734,
          1783,
          1839,
          1888,
          1896,
          1918,
          1941,
          1966,
          1988,
          2033,
          2088,
          2118,
          2215,
          2297,
          2391,
          2398,
          2418,
          2427,
          2435,
          2449,
          2458,
          2546,
          2553,
          2602,
          2606,
          2646,
          2650,
          2668,
          2720,
          2732,
          2964,
          3040,
          3068,
          3073,
          3093,
          3107,
          3118,
          3152,
          3178,
          3196,
          3197,
          3204,
          3227,
          3256,
          3278,
          3302,
          3331,
          3348,
          3362,
          3377,
          3399,
          3400,
          3405,
          3444,
          3454,
          3541,
          3591,
          3623,
          3671,
          3717,
          3729,
          3753,
          3760,
          3778,
          3832,
          3847,
          3886,
          3888,
          3891,
          3999,
          4013,
          4038,
          4042,
          4091,
          4390,
          4459,
          4482,
          4607,
          4647,
          4662,
          4665,
          4725,
          4735,
          4769,
          4787,
          4860,
          5037,
          5084,
          5089,
          5154,
          5188,
          5261,
          5295,
          5329,
          5336,
          5365,
          5394,
          5400,
          5409,
          5425,
          5586,
          5609,
          5682,
          5685,
          5743,
          5771,
          5851,
          5861,
          5864,
          5939,
          5951,
          5996,
          6110,
          6196,
          6227,
          6228,
          6345,
          6450,
          6455,
          6467,
          6469,
          6511,
          6515,
          6537,
          6538,
          6539,
          6652,
          6689,
          6728,
          6746,
          6759,
          6783,
          6805,
          6882,
          6894,
          6937,
          6964,
          6988,
          7063,
          7067,
          7125,
          7129,
          7141,
          7161,
          7196,
          7215,
          7289,
          7352,
          7361,
          7404,
          7408,
          7422,
          7442,
          7444,
          7446,
          7453,
          7525,
          7531,
          7532,
          7620,
          7633,
          7643,
          7644,
          7664,
          7683,
          7699,
          7900,
          7962,
          8070,
          8124,
          8131,
          8143,
          8167,
          8192,
          8268,
          8282,
          8311,
          8440,
          8653,
          8671,
          8683,
          8703,
          8705,
          8724,
          8737,
          8751,
          8777,
          8783,
          8846,
          8853,
          8877,
          8893,
          8942,
          9030,
          9045,
          9085,
          9165,
          9329,
          9353,
          9393,
          9397,
          9405,
          9415,
          9424,
          9429,
          9468,
          9477,
          9623,
          9645,
          9650,
          9667,
          9668,
          9836,
          9837,
          9838,
          9889,
          9956,
          9960,
          9962,
          9991,
          10072,
          10102,
          10106,
          10112,
          10210,
          10319,
          10323,
          10339,
          10351,
          10397,
          10423,
          10435,
          10451,
          10497,
          10531,
          10596,
          10673,
          10757,
          10790,
          10797,
          10799,
          10826,
          10846,
          10857,
          10914,
          10924,
          10988,
          10990,
          10993,
          11011,
          11062,
          11076,
          11106,
          11110,
          11124,
          11132,
          11139,
          11144,
          11150,
          11167,
          11193,
          11200,
          11206,
          11210,
          11237,
          11269,
          11271,
          11298,
          11317,
          11329,
          11383,
          11387,
          11401,
          11402,
          11414,
          11431,
          11435,
          11476,
          11496,
          11604,
          11634,
          11668,
          11683,
          11696,
          11702,
          11716,
          11762,
          11791,
          11796,
          11811,
          11816,
          11830,
          11835,
          11836,
          11850,
          11852,
          11878,
          11902,
          11991,
          12023,
          12074,
          12115,
          12180,
          12193,
          12205,
          12208,
          12250,
          12258,
          12277,
          12302,
          12311,
          12326,
          12328,
          12375,
          12400,
          12478,
          12496,
          12528,
          12532,
          12569,
          12610,
          12632,
          12707,
          12749,
          12753,
          12772,
          12828,
          12883,
          12887,
          12917,
          12944,
          12950,
          12951,
          12976,
          12977,
          12981,
          12995,
          13003,
          13084,
          13091,
          13092,
          13148,
          13154,
          13155,
          13172,
          13183,
          13202,
          13224,
          13228,
          13257,
          13260,
          13271,
          13286,
          13336,
          13342,
          13347,
          13364,
          13367,
          13394,
          13443,
          13459,
          13480,
          13671,
          13715,
          13722,
          13836,
          13840,
          13868,
          13876,
          13962,
          14047,
          14055,
          14096,
          14200,
          14214,
          14266,
          14307,
          14370,
          14378,
          14403,
          14519,
          14550,
          14562,
          14572,
          14579,
          14593,
          14607,
          14620,
          14646,
          14698,
          14762,
          14804,
          14851,
          14933,
          14983,
          15168,
          15213,
          15250,
          15304,
          15391,
          15493,
          15512,
          15606,
          15657,
          15705,
          15708,
          15795,
          15886,
          15896,
          16042,
          16061,
          16077,
          16085,
          16149,
          16174,
          16243,
          16261,
          16272,
          16284,
          16285,
          16291,
          16343,
          16358,
          16359,
          16372,
          16379,
          16434,
          16441,
          16479,
          16516,
          16552,
          16560,
          16569,
          16587,
          16605,
          16625,
          16639,
          16700,
          16705,
          16852,
          17005,
          17007,
          17102,
          17160,
          17172,
          17178,
          17232,
          17233,
          17234,
          17301,
          17346,
          17397,
          17552,
          17667,
          17683,
          17691,
          17723,
          17940,
          17976,
          17986,
          17997,
          18053,
          18224,
          18307,
          18311,
          18384
         ],
         "xaxis": "x",
         "y": [
          8,
          9,
          0,
          5,
          8,
          4,
          0,
          9,
          9,
          3,
          8,
          9,
          3,
          6,
          3,
          9,
          9,
          1,
          9,
          8,
          9,
          4,
          5,
          9,
          9,
          7,
          9,
          0,
          9,
          7,
          9,
          9,
          7,
          9,
          2,
          3,
          9,
          3,
          9,
          9,
          2,
          3,
          9,
          4,
          4,
          7,
          7,
          3,
          8,
          2,
          3,
          7,
          6,
          7,
          8,
          4,
          9,
          7,
          9,
          1,
          7,
          5,
          9,
          1,
          9,
          8,
          6,
          8,
          7,
          2,
          8,
          7,
          9,
          1,
          0,
          5,
          5,
          7,
          5,
          5,
          8,
          6,
          8,
          0,
          0,
          9,
          0,
          8,
          8,
          8,
          9,
          0,
          4,
          0,
          4,
          0,
          3,
          3,
          3,
          0,
          1,
          1,
          7,
          2,
          0,
          4,
          4,
          4,
          4,
          1,
          5,
          0,
          0,
          7,
          9,
          0,
          5,
          9,
          9,
          1,
          9,
          2,
          7,
          7,
          9,
          9,
          2,
          7,
          2,
          0,
          7,
          0,
          9,
          5,
          2,
          2,
          1,
          0,
          5,
          9,
          2,
          9,
          7,
          8,
          1,
          0,
          1,
          1,
          1,
          1,
          9,
          5,
          4,
          1,
          6,
          4,
          9,
          4,
          8,
          8,
          8,
          0,
          0,
          6,
          7,
          9,
          1,
          1,
          9,
          1,
          8,
          1,
          5,
          9,
          1,
          5,
          4,
          6,
          6,
          4,
          4,
          4,
          6,
          4,
          6,
          9,
          4,
          9,
          1,
          9,
          5,
          1,
          3,
          9,
          8,
          4,
          9,
          9,
          3,
          1,
          9,
          8,
          9,
          3,
          3,
          7,
          3,
          9,
          8,
          6,
          6,
          8,
          6,
          8,
          6,
          9,
          6,
          2,
          1,
          6,
          6,
          9,
          7,
          7,
          7,
          9,
          7,
          3,
          9,
          3,
          5,
          4,
          5,
          5,
          7,
          5,
          5,
          6,
          4,
          9,
          4,
          1,
          6,
          2,
          4,
          5,
          5,
          6,
          6,
          6,
          9,
          8,
          7,
          7,
          5,
          3,
          9,
          1,
          3,
          8,
          3,
          6,
          8,
          6,
          1,
          8,
          7,
          7,
          5,
          4,
          7,
          1,
          8,
          3,
          9,
          7,
          5,
          1,
          3,
          5,
          5,
          7,
          7,
          5,
          4,
          1,
          3,
          3,
          1,
          2,
          2,
          2,
          7,
          6,
          0,
          0,
          9,
          2,
          3,
          7,
          5,
          5,
          5,
          8,
          0,
          2,
          5,
          5,
          5,
          5,
          0,
          3,
          8,
          3,
          2,
          5,
          3,
          1,
          5,
          5,
          5,
          7,
          9,
          6,
          8,
          5,
          9,
          6,
          9,
          3,
          6,
          6,
          5,
          6,
          8,
          9,
          2,
          5,
          0,
          0,
          4,
          9,
          7,
          7,
          5,
          5,
          8,
          4,
          8,
          0,
          5,
          0,
          0,
          5,
          0,
          0,
          2,
          0,
          9,
          3,
          3,
          3,
          4,
          6,
          3,
          3,
          4,
          9,
          7,
          7,
          9,
          1,
          9,
          7,
          1,
          3,
          4,
          9,
          2,
          7,
          5,
          7,
          8,
          7,
          7,
          3,
          3,
          7,
          7,
          9,
          0,
          3,
          8,
          5,
          5,
          0,
          7,
          7,
          7,
          6,
          6,
          6,
          1,
          6,
          8,
          4,
          4,
          6,
          0,
          6,
          2,
          9,
          4,
          2,
          6,
          4,
          2,
          8,
          1,
          6,
          0,
          8,
          4,
          4,
          6,
          8,
          8,
          8,
          8,
          2,
          5,
          2,
          2,
          6,
          5,
          2,
          6,
          8,
          6,
          9,
          2,
          5,
          5,
          2,
          4,
          7,
          1,
          1,
          1,
          2,
          2,
          8,
          5,
          8,
          8,
          2,
          6,
          4,
          4,
          6,
          6,
          4,
          3,
          0,
          2,
          9,
          1,
          2,
          2,
          0,
          4,
          4,
          4,
          3,
          3,
          3,
          6,
          8,
          3,
          6,
          9,
          6,
          8,
          8,
          4,
          6,
          3,
          0,
          9,
          4,
          7,
          9,
          2,
          9,
          2,
          4,
          9,
          3,
          7,
          7,
          6,
          8,
          8,
          6,
          8,
          6,
          8,
          6,
          6,
          2,
          7,
          1,
          2,
          2,
          3,
          8,
          7,
          8,
          8,
          2,
          7,
          9,
          8,
          9,
          9
         ],
         "yaxis": "y"
        }
       ],
       "layout": {
        "coloraxis": {
         "colorbar": {
          "title": {
           "text": "color"
          }
         },
         "colorscale": [
          [
           0,
           "#440154"
          ],
          [
           0.1111111111111111,
           "#482878"
          ],
          [
           0.2222222222222222,
           "#3e4989"
          ],
          [
           0.3333333333333333,
           "#31688e"
          ],
          [
           0.4444444444444444,
           "#26828e"
          ],
          [
           0.5555555555555556,
           "#1f9e89"
          ],
          [
           0.6666666666666666,
           "#35b779"
          ],
          [
           0.7777777777777778,
           "#6ece58"
          ],
          [
           0.8888888888888888,
           "#b5de2b"
          ],
          [
           1,
           "#fde725"
          ]
         ],
         "showscale": false
        },
        "legend": {
         "tracegroupgap": 0
        },
        "margin": {
         "t": 60
        },
        "template": {
         "data": {
          "bar": [
           {
            "error_x": {
             "color": "#2a3f5f"
            },
            "error_y": {
             "color": "#2a3f5f"
            },
            "marker": {
             "line": {
              "color": "#E5ECF6",
              "width": 0.5
             }
            },
            "type": "bar"
           }
          ],
          "barpolar": [
           {
            "marker": {
             "line": {
              "color": "#E5ECF6",
              "width": 0.5
             }
            },
            "type": "barpolar"
           }
          ],
          "carpet": [
           {
            "aaxis": {
             "endlinecolor": "#2a3f5f",
             "gridcolor": "white",
             "linecolor": "white",
             "minorgridcolor": "white",
             "startlinecolor": "#2a3f5f"
            },
            "baxis": {
             "endlinecolor": "#2a3f5f",
             "gridcolor": "white",
             "linecolor": "white",
             "minorgridcolor": "white",
             "startlinecolor": "#2a3f5f"
            },
            "type": "carpet"
           }
          ],
          "choropleth": [
           {
            "colorbar": {
             "outlinewidth": 0,
             "ticks": ""
            },
            "type": "choropleth"
           }
          ],
          "contour": [
           {
            "colorbar": {
             "outlinewidth": 0,
             "ticks": ""
            },
            "colorscale": [
             [
              0,
              "#0d0887"
             ],
             [
              0.1111111111111111,
              "#46039f"
             ],
             [
              0.2222222222222222,
              "#7201a8"
             ],
             [
              0.3333333333333333,
              "#9c179e"
             ],
             [
              0.4444444444444444,
              "#bd3786"
             ],
             [
              0.5555555555555556,
              "#d8576b"
             ],
             [
              0.6666666666666666,
              "#ed7953"
             ],
             [
              0.7777777777777778,
              "#fb9f3a"
             ],
             [
              0.8888888888888888,
              "#fdca26"
             ],
             [
              1,
              "#f0f921"
             ]
            ],
            "type": "contour"
           }
          ],
          "contourcarpet": [
           {
            "colorbar": {
             "outlinewidth": 0,
             "ticks": ""
            },
            "type": "contourcarpet"
           }
          ],
          "heatmap": [
           {
            "colorbar": {
             "outlinewidth": 0,
             "ticks": ""
            },
            "colorscale": [
             [
              0,
              "#0d0887"
             ],
             [
              0.1111111111111111,
              "#46039f"
             ],
             [
              0.2222222222222222,
              "#7201a8"
             ],
             [
              0.3333333333333333,
              "#9c179e"
             ],
             [
              0.4444444444444444,
              "#bd3786"
             ],
             [
              0.5555555555555556,
              "#d8576b"
             ],
             [
              0.6666666666666666,
              "#ed7953"
             ],
             [
              0.7777777777777778,
              "#fb9f3a"
             ],
             [
              0.8888888888888888,
              "#fdca26"
             ],
             [
              1,
              "#f0f921"
             ]
            ],
            "type": "heatmap"
           }
          ],
          "heatmapgl": [
           {
            "colorbar": {
             "outlinewidth": 0,
             "ticks": ""
            },
            "colorscale": [
             [
              0,
              "#0d0887"
             ],
             [
              0.1111111111111111,
              "#46039f"
             ],
             [
              0.2222222222222222,
              "#7201a8"
             ],
             [
              0.3333333333333333,
              "#9c179e"
             ],
             [
              0.4444444444444444,
              "#bd3786"
             ],
             [
              0.5555555555555556,
              "#d8576b"
             ],
             [
              0.6666666666666666,
              "#ed7953"
             ],
             [
              0.7777777777777778,
              "#fb9f3a"
             ],
             [
              0.8888888888888888,
              "#fdca26"
             ],
             [
              1,
              "#f0f921"
             ]
            ],
            "type": "heatmapgl"
           }
          ],
          "histogram": [
           {
            "marker": {
             "colorbar": {
              "outlinewidth": 0,
              "ticks": ""
             }
            },
            "type": "histogram"
           }
          ],
          "histogram2d": [
           {
            "colorbar": {
             "outlinewidth": 0,
             "ticks": ""
            },
            "colorscale": [
             [
              0,
              "#0d0887"
             ],
             [
              0.1111111111111111,
              "#46039f"
             ],
             [
              0.2222222222222222,
              "#7201a8"
             ],
             [
              0.3333333333333333,
              "#9c179e"
             ],
             [
              0.4444444444444444,
              "#bd3786"
             ],
             [
              0.5555555555555556,
              "#d8576b"
             ],
             [
              0.6666666666666666,
              "#ed7953"
             ],
             [
              0.7777777777777778,
              "#fb9f3a"
             ],
             [
              0.8888888888888888,
              "#fdca26"
             ],
             [
              1,
              "#f0f921"
             ]
            ],
            "type": "histogram2d"
           }
          ],
          "histogram2dcontour": [
           {
            "colorbar": {
             "outlinewidth": 0,
             "ticks": ""
            },
            "colorscale": [
             [
              0,
              "#0d0887"
             ],
             [
              0.1111111111111111,
              "#46039f"
             ],
             [
              0.2222222222222222,
              "#7201a8"
             ],
             [
              0.3333333333333333,
              "#9c179e"
             ],
             [
              0.4444444444444444,
              "#bd3786"
             ],
             [
              0.5555555555555556,
              "#d8576b"
             ],
             [
              0.6666666666666666,
              "#ed7953"
             ],
             [
              0.7777777777777778,
              "#fb9f3a"
             ],
             [
              0.8888888888888888,
              "#fdca26"
             ],
             [
              1,
              "#f0f921"
             ]
            ],
            "type": "histogram2dcontour"
           }
          ],
          "mesh3d": [
           {
            "colorbar": {
             "outlinewidth": 0,
             "ticks": ""
            },
            "type": "mesh3d"
           }
          ],
          "parcoords": [
           {
            "line": {
             "colorbar": {
              "outlinewidth": 0,
              "ticks": ""
             }
            },
            "type": "parcoords"
           }
          ],
          "pie": [
           {
            "automargin": true,
            "type": "pie"
           }
          ],
          "scatter": [
           {
            "marker": {
             "colorbar": {
              "outlinewidth": 0,
              "ticks": ""
             }
            },
            "type": "scatter"
           }
          ],
          "scatter3d": [
           {
            "line": {
             "colorbar": {
              "outlinewidth": 0,
              "ticks": ""
             }
            },
            "marker": {
             "colorbar": {
              "outlinewidth": 0,
              "ticks": ""
             }
            },
            "type": "scatter3d"
           }
          ],
          "scattercarpet": [
           {
            "marker": {
             "colorbar": {
              "outlinewidth": 0,
              "ticks": ""
             }
            },
            "type": "scattercarpet"
           }
          ],
          "scattergeo": [
           {
            "marker": {
             "colorbar": {
              "outlinewidth": 0,
              "ticks": ""
             }
            },
            "type": "scattergeo"
           }
          ],
          "scattergl": [
           {
            "marker": {
             "colorbar": {
              "outlinewidth": 0,
              "ticks": ""
             }
            },
            "type": "scattergl"
           }
          ],
          "scattermapbox": [
           {
            "marker": {
             "colorbar": {
              "outlinewidth": 0,
              "ticks": ""
             }
            },
            "type": "scattermapbox"
           }
          ],
          "scatterpolar": [
           {
            "marker": {
             "colorbar": {
              "outlinewidth": 0,
              "ticks": ""
             }
            },
            "type": "scatterpolar"
           }
          ],
          "scatterpolargl": [
           {
            "marker": {
             "colorbar": {
              "outlinewidth": 0,
              "ticks": ""
             }
            },
            "type": "scatterpolargl"
           }
          ],
          "scatterternary": [
           {
            "marker": {
             "colorbar": {
              "outlinewidth": 0,
              "ticks": ""
             }
            },
            "type": "scatterternary"
           }
          ],
          "surface": [
           {
            "colorbar": {
             "outlinewidth": 0,
             "ticks": ""
            },
            "colorscale": [
             [
              0,
              "#0d0887"
             ],
             [
              0.1111111111111111,
              "#46039f"
             ],
             [
              0.2222222222222222,
              "#7201a8"
             ],
             [
              0.3333333333333333,
              "#9c179e"
             ],
             [
              0.4444444444444444,
              "#bd3786"
             ],
             [
              0.5555555555555556,
              "#d8576b"
             ],
             [
              0.6666666666666666,
              "#ed7953"
             ],
             [
              0.7777777777777778,
              "#fb9f3a"
             ],
             [
              0.8888888888888888,
              "#fdca26"
             ],
             [
              1,
              "#f0f921"
             ]
            ],
            "type": "surface"
           }
          ],
          "table": [
           {
            "cells": {
             "fill": {
              "color": "#EBF0F8"
             },
             "line": {
              "color": "white"
             }
            },
            "header": {
             "fill": {
              "color": "#C8D4E3"
             },
             "line": {
              "color": "white"
             }
            },
            "type": "table"
           }
          ]
         },
         "layout": {
          "annotationdefaults": {
           "arrowcolor": "#2a3f5f",
           "arrowhead": 0,
           "arrowwidth": 1
          },
          "coloraxis": {
           "colorbar": {
            "outlinewidth": 0,
            "ticks": ""
           }
          },
          "colorscale": {
           "diverging": [
            [
             0,
             "#8e0152"
            ],
            [
             0.1,
             "#c51b7d"
            ],
            [
             0.2,
             "#de77ae"
            ],
            [
             0.3,
             "#f1b6da"
            ],
            [
             0.4,
             "#fde0ef"
            ],
            [
             0.5,
             "#f7f7f7"
            ],
            [
             0.6,
             "#e6f5d0"
            ],
            [
             0.7,
             "#b8e186"
            ],
            [
             0.8,
             "#7fbc41"
            ],
            [
             0.9,
             "#4d9221"
            ],
            [
             1,
             "#276419"
            ]
           ],
           "sequential": [
            [
             0,
             "#0d0887"
            ],
            [
             0.1111111111111111,
             "#46039f"
            ],
            [
             0.2222222222222222,
             "#7201a8"
            ],
            [
             0.3333333333333333,
             "#9c179e"
            ],
            [
             0.4444444444444444,
             "#bd3786"
            ],
            [
             0.5555555555555556,
             "#d8576b"
            ],
            [
             0.6666666666666666,
             "#ed7953"
            ],
            [
             0.7777777777777778,
             "#fb9f3a"
            ],
            [
             0.8888888888888888,
             "#fdca26"
            ],
            [
             1,
             "#f0f921"
            ]
           ],
           "sequentialminus": [
            [
             0,
             "#0d0887"
            ],
            [
             0.1111111111111111,
             "#46039f"
            ],
            [
             0.2222222222222222,
             "#7201a8"
            ],
            [
             0.3333333333333333,
             "#9c179e"
            ],
            [
             0.4444444444444444,
             "#bd3786"
            ],
            [
             0.5555555555555556,
             "#d8576b"
            ],
            [
             0.6666666666666666,
             "#ed7953"
            ],
            [
             0.7777777777777778,
             "#fb9f3a"
            ],
            [
             0.8888888888888888,
             "#fdca26"
            ],
            [
             1,
             "#f0f921"
            ]
           ]
          },
          "colorway": [
           "#636efa",
           "#EF553B",
           "#00cc96",
           "#ab63fa",
           "#FFA15A",
           "#19d3f3",
           "#FF6692",
           "#B6E880",
           "#FF97FF",
           "#FECB52"
          ],
          "font": {
           "color": "#2a3f5f"
          },
          "geo": {
           "bgcolor": "white",
           "lakecolor": "white",
           "landcolor": "#E5ECF6",
           "showlakes": true,
           "showland": true,
           "subunitcolor": "white"
          },
          "hoverlabel": {
           "align": "left"
          },
          "hovermode": "closest",
          "mapbox": {
           "style": "light"
          },
          "paper_bgcolor": "white",
          "plot_bgcolor": "#E5ECF6",
          "polar": {
           "angularaxis": {
            "gridcolor": "white",
            "linecolor": "white",
            "ticks": ""
           },
           "bgcolor": "#E5ECF6",
           "radialaxis": {
            "gridcolor": "white",
            "linecolor": "white",
            "ticks": ""
           }
          },
          "scene": {
           "xaxis": {
            "backgroundcolor": "#E5ECF6",
            "gridcolor": "white",
            "gridwidth": 2,
            "linecolor": "white",
            "showbackground": true,
            "ticks": "",
            "zerolinecolor": "white"
           },
           "yaxis": {
            "backgroundcolor": "#E5ECF6",
            "gridcolor": "white",
            "gridwidth": 2,
            "linecolor": "white",
            "showbackground": true,
            "ticks": "",
            "zerolinecolor": "white"
           },
           "zaxis": {
            "backgroundcolor": "#E5ECF6",
            "gridcolor": "white",
            "gridwidth": 2,
            "linecolor": "white",
            "showbackground": true,
            "ticks": "",
            "zerolinecolor": "white"
           }
          },
          "shapedefaults": {
           "line": {
            "color": "#2a3f5f"
           }
          },
          "ternary": {
           "aaxis": {
            "gridcolor": "white",
            "linecolor": "white",
            "ticks": ""
           },
           "baxis": {
            "gridcolor": "white",
            "linecolor": "white",
            "ticks": ""
           },
           "bgcolor": "#E5ECF6",
           "caxis": {
            "gridcolor": "white",
            "linecolor": "white",
            "ticks": ""
           }
          },
          "title": {
           "x": 0.05
          },
          "xaxis": {
           "automargin": true,
           "gridcolor": "white",
           "linecolor": "white",
           "ticks": "",
           "title": {
            "standoff": 15
           },
           "zerolinecolor": "white",
           "zerolinewidth": 2
          },
          "yaxis": {
           "automargin": true,
           "gridcolor": "white",
           "linecolor": "white",
           "ticks": "",
           "title": {
            "standoff": 15
           },
           "zerolinecolor": "white",
           "zerolinewidth": 2
          }
         }
        },
        "title": {
         "text": "Lexical Dispersion",
         "x": 0.5,
         "xanchor": "center",
         "y": 0.95,
         "yanchor": "top"
        },
        "xaxis": {
         "anchor": "y",
         "domain": [
          0,
          1
         ],
         "title": {
          "text": "Word Offset (All Stories)"
         }
        },
        "yaxis": {
         "anchor": "x",
         "domain": [
          0,
          1
         ],
         "tickmode": "array",
         "ticktext": [
          "аделя",
          "некий",
          "становиться",
          "пустой",
          "воздух",
          "черный",
          "небо",
          "темный",
          "огромный",
          "словно"
         ],
         "tickvals": [
          0,
          1,
          2,
          3,
          4,
          5,
          6,
          7,
          8,
          9
         ],
         "title": {
          "text": "Word"
         }
        }
       }
      },
      "text/html": [
       "<div>\n",
       "        \n",
       "        \n",
       "            <div id=\"4c24d327-d518-4289-9409-b8087578e31e\" class=\"plotly-graph-div\" style=\"height:525px; width:100%;\"></div>\n",
       "            <script type=\"text/javascript\">\n",
       "                require([\"plotly\"], function(Plotly) {\n",
       "                    window.PLOTLYENV=window.PLOTLYENV || {};\n",
       "                    \n",
       "                if (document.getElementById(\"4c24d327-d518-4289-9409-b8087578e31e\")) {\n",
       "                    Plotly.newPlot(\n",
       "                        '4c24d327-d518-4289-9409-b8087578e31e',\n",
       "                        [{\"hoverlabel\": {\"namelength\": 0}, \"hovertemplate\": \"x=%{x}<br>y=%{y}<br>color=%{marker.color}\", \"legendgroup\": \"\", \"marker\": {\"color\": [8, 9, 0, 5, 8, 4, 0, 9, 9, 3, 8, 9, 3, 6, 3, 9, 9, 1, 9, 8, 9, 4, 5, 9, 9, 7, 9, 0, 9, 7, 9, 9, 7, 9, 2, 3, 9, 3, 9, 9, 2, 3, 9, 4, 4, 7, 7, 3, 8, 2, 3, 7, 6, 7, 8, 4, 9, 7, 9, 1, 7, 5, 9, 1, 9, 8, 6, 8, 7, 2, 8, 7, 9, 1, 0, 5, 5, 7, 5, 5, 8, 6, 8, 0, 0, 9, 0, 8, 8, 8, 9, 0, 4, 0, 4, 0, 3, 3, 3, 0, 1, 1, 7, 2, 0, 4, 4, 4, 4, 1, 5, 0, 0, 7, 9, 0, 5, 9, 9, 1, 9, 2, 7, 7, 9, 9, 2, 7, 2, 0, 7, 0, 9, 5, 2, 2, 1, 0, 5, 9, 2, 9, 7, 8, 1, 0, 1, 1, 1, 1, 9, 5, 4, 1, 6, 4, 9, 4, 8, 8, 8, 0, 0, 6, 7, 9, 1, 1, 9, 1, 8, 1, 5, 9, 1, 5, 4, 6, 6, 4, 4, 4, 6, 4, 6, 9, 4, 9, 1, 9, 5, 1, 3, 9, 8, 4, 9, 9, 3, 1, 9, 8, 9, 3, 3, 7, 3, 9, 8, 6, 6, 8, 6, 8, 6, 9, 6, 2, 1, 6, 6, 9, 7, 7, 7, 9, 7, 3, 9, 3, 5, 4, 5, 5, 7, 5, 5, 6, 4, 9, 4, 1, 6, 2, 4, 5, 5, 6, 6, 6, 9, 8, 7, 7, 5, 3, 9, 1, 3, 8, 3, 6, 8, 6, 1, 8, 7, 7, 5, 4, 7, 1, 8, 3, 9, 7, 5, 1, 3, 5, 5, 7, 7, 5, 4, 1, 3, 3, 1, 2, 2, 2, 7, 6, 0, 0, 9, 2, 3, 7, 5, 5, 5, 8, 0, 2, 5, 5, 5, 5, 0, 3, 8, 3, 2, 5, 3, 1, 5, 5, 5, 7, 9, 6, 8, 5, 9, 6, 9, 3, 6, 6, 5, 6, 8, 9, 2, 5, 0, 0, 4, 9, 7, 7, 5, 5, 8, 4, 8, 0, 5, 0, 0, 5, 0, 0, 2, 0, 9, 3, 3, 3, 4, 6, 3, 3, 4, 9, 7, 7, 9, 1, 9, 7, 1, 3, 4, 9, 2, 7, 5, 7, 8, 7, 7, 3, 3, 7, 7, 9, 0, 3, 8, 5, 5, 0, 7, 7, 7, 6, 6, 6, 1, 6, 8, 4, 4, 6, 0, 6, 2, 9, 4, 2, 6, 4, 2, 8, 1, 6, 0, 8, 4, 4, 6, 8, 8, 8, 8, 2, 5, 2, 2, 6, 5, 2, 6, 8, 6, 9, 2, 5, 5, 2, 4, 7, 1, 1, 1, 2, 2, 8, 5, 8, 8, 2, 6, 4, 4, 6, 6, 4, 3, 0, 2, 9, 1, 2, 2, 0, 4, 4, 4, 3, 3, 3, 6, 8, 3, 6, 9, 6, 8, 8, 4, 6, 3, 0, 9, 4, 7, 9, 2, 9, 2, 4, 9, 3, 7, 7, 6, 8, 8, 6, 8, 6, 8, 6, 6, 2, 7, 1, 2, 2, 3, 8, 7, 8, 8, 2, 7, 9, 8, 9, 9], \"coloraxis\": \"coloraxis\", \"symbol\": \"circle\"}, \"mode\": \"markers\", \"name\": \"\", \"showlegend\": false, \"type\": \"scatter\", \"x\": [16, 28, 34, 47, 100, 105, 130, 140, 168, 216, 264, 275, 298, 303, 338, 382, 390, 391, 419, 441, 525, 632, 656, 704, 724, 735, 753, 822, 887, 960, 972, 977, 988, 1021, 1029, 1128, 1185, 1207, 1218, 1241, 1243, 1244, 1311, 1315, 1364, 1421, 1435, 1436, 1476, 1486, 1523, 1546, 1581, 1627, 1676, 1682, 1692, 1712, 1716, 1734, 1783, 1839, 1888, 1896, 1918, 1941, 1966, 1988, 2033, 2088, 2118, 2215, 2297, 2391, 2398, 2418, 2427, 2435, 2449, 2458, 2546, 2553, 2602, 2606, 2646, 2650, 2668, 2720, 2732, 2964, 3040, 3068, 3073, 3093, 3107, 3118, 3152, 3178, 3196, 3197, 3204, 3227, 3256, 3278, 3302, 3331, 3348, 3362, 3377, 3399, 3400, 3405, 3444, 3454, 3541, 3591, 3623, 3671, 3717, 3729, 3753, 3760, 3778, 3832, 3847, 3886, 3888, 3891, 3999, 4013, 4038, 4042, 4091, 4390, 4459, 4482, 4607, 4647, 4662, 4665, 4725, 4735, 4769, 4787, 4860, 5037, 5084, 5089, 5154, 5188, 5261, 5295, 5329, 5336, 5365, 5394, 5400, 5409, 5425, 5586, 5609, 5682, 5685, 5743, 5771, 5851, 5861, 5864, 5939, 5951, 5996, 6110, 6196, 6227, 6228, 6345, 6450, 6455, 6467, 6469, 6511, 6515, 6537, 6538, 6539, 6652, 6689, 6728, 6746, 6759, 6783, 6805, 6882, 6894, 6937, 6964, 6988, 7063, 7067, 7125, 7129, 7141, 7161, 7196, 7215, 7289, 7352, 7361, 7404, 7408, 7422, 7442, 7444, 7446, 7453, 7525, 7531, 7532, 7620, 7633, 7643, 7644, 7664, 7683, 7699, 7900, 7962, 8070, 8124, 8131, 8143, 8167, 8192, 8268, 8282, 8311, 8440, 8653, 8671, 8683, 8703, 8705, 8724, 8737, 8751, 8777, 8783, 8846, 8853, 8877, 8893, 8942, 9030, 9045, 9085, 9165, 9329, 9353, 9393, 9397, 9405, 9415, 9424, 9429, 9468, 9477, 9623, 9645, 9650, 9667, 9668, 9836, 9837, 9838, 9889, 9956, 9960, 9962, 9991, 10072, 10102, 10106, 10112, 10210, 10319, 10323, 10339, 10351, 10397, 10423, 10435, 10451, 10497, 10531, 10596, 10673, 10757, 10790, 10797, 10799, 10826, 10846, 10857, 10914, 10924, 10988, 10990, 10993, 11011, 11062, 11076, 11106, 11110, 11124, 11132, 11139, 11144, 11150, 11167, 11193, 11200, 11206, 11210, 11237, 11269, 11271, 11298, 11317, 11329, 11383, 11387, 11401, 11402, 11414, 11431, 11435, 11476, 11496, 11604, 11634, 11668, 11683, 11696, 11702, 11716, 11762, 11791, 11796, 11811, 11816, 11830, 11835, 11836, 11850, 11852, 11878, 11902, 11991, 12023, 12074, 12115, 12180, 12193, 12205, 12208, 12250, 12258, 12277, 12302, 12311, 12326, 12328, 12375, 12400, 12478, 12496, 12528, 12532, 12569, 12610, 12632, 12707, 12749, 12753, 12772, 12828, 12883, 12887, 12917, 12944, 12950, 12951, 12976, 12977, 12981, 12995, 13003, 13084, 13091, 13092, 13148, 13154, 13155, 13172, 13183, 13202, 13224, 13228, 13257, 13260, 13271, 13286, 13336, 13342, 13347, 13364, 13367, 13394, 13443, 13459, 13480, 13671, 13715, 13722, 13836, 13840, 13868, 13876, 13962, 14047, 14055, 14096, 14200, 14214, 14266, 14307, 14370, 14378, 14403, 14519, 14550, 14562, 14572, 14579, 14593, 14607, 14620, 14646, 14698, 14762, 14804, 14851, 14933, 14983, 15168, 15213, 15250, 15304, 15391, 15493, 15512, 15606, 15657, 15705, 15708, 15795, 15886, 15896, 16042, 16061, 16077, 16085, 16149, 16174, 16243, 16261, 16272, 16284, 16285, 16291, 16343, 16358, 16359, 16372, 16379, 16434, 16441, 16479, 16516, 16552, 16560, 16569, 16587, 16605, 16625, 16639, 16700, 16705, 16852, 17005, 17007, 17102, 17160, 17172, 17178, 17232, 17233, 17234, 17301, 17346, 17397, 17552, 17667, 17683, 17691, 17723, 17940, 17976, 17986, 17997, 18053, 18224, 18307, 18311, 18384], \"xaxis\": \"x\", \"y\": [8, 9, 0, 5, 8, 4, 0, 9, 9, 3, 8, 9, 3, 6, 3, 9, 9, 1, 9, 8, 9, 4, 5, 9, 9, 7, 9, 0, 9, 7, 9, 9, 7, 9, 2, 3, 9, 3, 9, 9, 2, 3, 9, 4, 4, 7, 7, 3, 8, 2, 3, 7, 6, 7, 8, 4, 9, 7, 9, 1, 7, 5, 9, 1, 9, 8, 6, 8, 7, 2, 8, 7, 9, 1, 0, 5, 5, 7, 5, 5, 8, 6, 8, 0, 0, 9, 0, 8, 8, 8, 9, 0, 4, 0, 4, 0, 3, 3, 3, 0, 1, 1, 7, 2, 0, 4, 4, 4, 4, 1, 5, 0, 0, 7, 9, 0, 5, 9, 9, 1, 9, 2, 7, 7, 9, 9, 2, 7, 2, 0, 7, 0, 9, 5, 2, 2, 1, 0, 5, 9, 2, 9, 7, 8, 1, 0, 1, 1, 1, 1, 9, 5, 4, 1, 6, 4, 9, 4, 8, 8, 8, 0, 0, 6, 7, 9, 1, 1, 9, 1, 8, 1, 5, 9, 1, 5, 4, 6, 6, 4, 4, 4, 6, 4, 6, 9, 4, 9, 1, 9, 5, 1, 3, 9, 8, 4, 9, 9, 3, 1, 9, 8, 9, 3, 3, 7, 3, 9, 8, 6, 6, 8, 6, 8, 6, 9, 6, 2, 1, 6, 6, 9, 7, 7, 7, 9, 7, 3, 9, 3, 5, 4, 5, 5, 7, 5, 5, 6, 4, 9, 4, 1, 6, 2, 4, 5, 5, 6, 6, 6, 9, 8, 7, 7, 5, 3, 9, 1, 3, 8, 3, 6, 8, 6, 1, 8, 7, 7, 5, 4, 7, 1, 8, 3, 9, 7, 5, 1, 3, 5, 5, 7, 7, 5, 4, 1, 3, 3, 1, 2, 2, 2, 7, 6, 0, 0, 9, 2, 3, 7, 5, 5, 5, 8, 0, 2, 5, 5, 5, 5, 0, 3, 8, 3, 2, 5, 3, 1, 5, 5, 5, 7, 9, 6, 8, 5, 9, 6, 9, 3, 6, 6, 5, 6, 8, 9, 2, 5, 0, 0, 4, 9, 7, 7, 5, 5, 8, 4, 8, 0, 5, 0, 0, 5, 0, 0, 2, 0, 9, 3, 3, 3, 4, 6, 3, 3, 4, 9, 7, 7, 9, 1, 9, 7, 1, 3, 4, 9, 2, 7, 5, 7, 8, 7, 7, 3, 3, 7, 7, 9, 0, 3, 8, 5, 5, 0, 7, 7, 7, 6, 6, 6, 1, 6, 8, 4, 4, 6, 0, 6, 2, 9, 4, 2, 6, 4, 2, 8, 1, 6, 0, 8, 4, 4, 6, 8, 8, 8, 8, 2, 5, 2, 2, 6, 5, 2, 6, 8, 6, 9, 2, 5, 5, 2, 4, 7, 1, 1, 1, 2, 2, 8, 5, 8, 8, 2, 6, 4, 4, 6, 6, 4, 3, 0, 2, 9, 1, 2, 2, 0, 4, 4, 4, 3, 3, 3, 6, 8, 3, 6, 9, 6, 8, 8, 4, 6, 3, 0, 9, 4, 7, 9, 2, 9, 2, 4, 9, 3, 7, 7, 6, 8, 8, 6, 8, 6, 8, 6, 6, 2, 7, 1, 2, 2, 3, 8, 7, 8, 8, 2, 7, 9, 8, 9, 9], \"yaxis\": \"y\"}],\n",
       "                        {\"coloraxis\": {\"colorbar\": {\"title\": {\"text\": \"color\"}}, \"colorscale\": [[0.0, \"#440154\"], [0.1111111111111111, \"#482878\"], [0.2222222222222222, \"#3e4989\"], [0.3333333333333333, \"#31688e\"], [0.4444444444444444, \"#26828e\"], [0.5555555555555556, \"#1f9e89\"], [0.6666666666666666, \"#35b779\"], [0.7777777777777778, \"#6ece58\"], [0.8888888888888888, \"#b5de2b\"], [1.0, \"#fde725\"]], \"showscale\": false}, \"legend\": {\"tracegroupgap\": 0}, \"margin\": {\"t\": 60}, \"template\": {\"data\": {\"bar\": [{\"error_x\": {\"color\": \"#2a3f5f\"}, \"error_y\": {\"color\": \"#2a3f5f\"}, \"marker\": {\"line\": {\"color\": \"#E5ECF6\", \"width\": 0.5}}, \"type\": \"bar\"}], \"barpolar\": [{\"marker\": {\"line\": {\"color\": \"#E5ECF6\", \"width\": 0.5}}, \"type\": \"barpolar\"}], \"carpet\": [{\"aaxis\": {\"endlinecolor\": \"#2a3f5f\", \"gridcolor\": \"white\", \"linecolor\": \"white\", \"minorgridcolor\": \"white\", \"startlinecolor\": \"#2a3f5f\"}, \"baxis\": {\"endlinecolor\": \"#2a3f5f\", \"gridcolor\": \"white\", \"linecolor\": \"white\", \"minorgridcolor\": \"white\", \"startlinecolor\": \"#2a3f5f\"}, \"type\": \"carpet\"}], \"choropleth\": [{\"colorbar\": {\"outlinewidth\": 0, \"ticks\": \"\"}, \"type\": \"choropleth\"}], \"contour\": [{\"colorbar\": {\"outlinewidth\": 0, \"ticks\": \"\"}, \"colorscale\": [[0.0, \"#0d0887\"], [0.1111111111111111, \"#46039f\"], [0.2222222222222222, \"#7201a8\"], [0.3333333333333333, \"#9c179e\"], [0.4444444444444444, \"#bd3786\"], [0.5555555555555556, \"#d8576b\"], [0.6666666666666666, \"#ed7953\"], [0.7777777777777778, \"#fb9f3a\"], [0.8888888888888888, \"#fdca26\"], [1.0, \"#f0f921\"]], \"type\": \"contour\"}], \"contourcarpet\": [{\"colorbar\": {\"outlinewidth\": 0, \"ticks\": \"\"}, \"type\": \"contourcarpet\"}], \"heatmap\": [{\"colorbar\": {\"outlinewidth\": 0, \"ticks\": \"\"}, \"colorscale\": [[0.0, \"#0d0887\"], [0.1111111111111111, \"#46039f\"], [0.2222222222222222, \"#7201a8\"], [0.3333333333333333, \"#9c179e\"], [0.4444444444444444, \"#bd3786\"], [0.5555555555555556, \"#d8576b\"], [0.6666666666666666, \"#ed7953\"], [0.7777777777777778, \"#fb9f3a\"], [0.8888888888888888, \"#fdca26\"], [1.0, \"#f0f921\"]], \"type\": \"heatmap\"}], \"heatmapgl\": [{\"colorbar\": {\"outlinewidth\": 0, \"ticks\": \"\"}, \"colorscale\": [[0.0, \"#0d0887\"], [0.1111111111111111, \"#46039f\"], [0.2222222222222222, \"#7201a8\"], [0.3333333333333333, \"#9c179e\"], [0.4444444444444444, \"#bd3786\"], [0.5555555555555556, \"#d8576b\"], [0.6666666666666666, \"#ed7953\"], [0.7777777777777778, \"#fb9f3a\"], [0.8888888888888888, \"#fdca26\"], [1.0, \"#f0f921\"]], \"type\": \"heatmapgl\"}], \"histogram\": [{\"marker\": {\"colorbar\": {\"outlinewidth\": 0, \"ticks\": \"\"}}, \"type\": \"histogram\"}], \"histogram2d\": [{\"colorbar\": {\"outlinewidth\": 0, \"ticks\": \"\"}, \"colorscale\": [[0.0, \"#0d0887\"], [0.1111111111111111, \"#46039f\"], [0.2222222222222222, \"#7201a8\"], [0.3333333333333333, \"#9c179e\"], [0.4444444444444444, \"#bd3786\"], [0.5555555555555556, \"#d8576b\"], [0.6666666666666666, \"#ed7953\"], [0.7777777777777778, \"#fb9f3a\"], [0.8888888888888888, \"#fdca26\"], [1.0, \"#f0f921\"]], \"type\": \"histogram2d\"}], \"histogram2dcontour\": [{\"colorbar\": {\"outlinewidth\": 0, \"ticks\": \"\"}, \"colorscale\": [[0.0, \"#0d0887\"], [0.1111111111111111, \"#46039f\"], [0.2222222222222222, \"#7201a8\"], [0.3333333333333333, \"#9c179e\"], [0.4444444444444444, \"#bd3786\"], [0.5555555555555556, \"#d8576b\"], [0.6666666666666666, \"#ed7953\"], [0.7777777777777778, \"#fb9f3a\"], [0.8888888888888888, \"#fdca26\"], [1.0, \"#f0f921\"]], \"type\": \"histogram2dcontour\"}], \"mesh3d\": [{\"colorbar\": {\"outlinewidth\": 0, \"ticks\": \"\"}, \"type\": \"mesh3d\"}], \"parcoords\": [{\"line\": {\"colorbar\": {\"outlinewidth\": 0, \"ticks\": \"\"}}, \"type\": \"parcoords\"}], \"pie\": [{\"automargin\": true, \"type\": \"pie\"}], \"scatter\": [{\"marker\": {\"colorbar\": {\"outlinewidth\": 0, \"ticks\": \"\"}}, \"type\": \"scatter\"}], \"scatter3d\": [{\"line\": {\"colorbar\": {\"outlinewidth\": 0, \"ticks\": \"\"}}, \"marker\": {\"colorbar\": {\"outlinewidth\": 0, \"ticks\": \"\"}}, \"type\": \"scatter3d\"}], \"scattercarpet\": [{\"marker\": {\"colorbar\": {\"outlinewidth\": 0, \"ticks\": \"\"}}, \"type\": \"scattercarpet\"}], \"scattergeo\": [{\"marker\": {\"colorbar\": {\"outlinewidth\": 0, \"ticks\": \"\"}}, \"type\": \"scattergeo\"}], \"scattergl\": [{\"marker\": {\"colorbar\": {\"outlinewidth\": 0, \"ticks\": \"\"}}, \"type\": \"scattergl\"}], \"scattermapbox\": [{\"marker\": {\"colorbar\": {\"outlinewidth\": 0, \"ticks\": \"\"}}, \"type\": \"scattermapbox\"}], \"scatterpolar\": [{\"marker\": {\"colorbar\": {\"outlinewidth\": 0, \"ticks\": \"\"}}, \"type\": \"scatterpolar\"}], \"scatterpolargl\": [{\"marker\": {\"colorbar\": {\"outlinewidth\": 0, \"ticks\": \"\"}}, \"type\": \"scatterpolargl\"}], \"scatterternary\": [{\"marker\": {\"colorbar\": {\"outlinewidth\": 0, \"ticks\": \"\"}}, \"type\": \"scatterternary\"}], \"surface\": [{\"colorbar\": {\"outlinewidth\": 0, \"ticks\": \"\"}, \"colorscale\": [[0.0, \"#0d0887\"], [0.1111111111111111, \"#46039f\"], [0.2222222222222222, \"#7201a8\"], [0.3333333333333333, \"#9c179e\"], [0.4444444444444444, \"#bd3786\"], [0.5555555555555556, \"#d8576b\"], [0.6666666666666666, \"#ed7953\"], [0.7777777777777778, \"#fb9f3a\"], [0.8888888888888888, \"#fdca26\"], [1.0, \"#f0f921\"]], \"type\": \"surface\"}], \"table\": [{\"cells\": {\"fill\": {\"color\": \"#EBF0F8\"}, \"line\": {\"color\": \"white\"}}, \"header\": {\"fill\": {\"color\": \"#C8D4E3\"}, \"line\": {\"color\": \"white\"}}, \"type\": \"table\"}]}, \"layout\": {\"annotationdefaults\": {\"arrowcolor\": \"#2a3f5f\", \"arrowhead\": 0, \"arrowwidth\": 1}, \"coloraxis\": {\"colorbar\": {\"outlinewidth\": 0, \"ticks\": \"\"}}, \"colorscale\": {\"diverging\": [[0, \"#8e0152\"], [0.1, \"#c51b7d\"], [0.2, \"#de77ae\"], [0.3, \"#f1b6da\"], [0.4, \"#fde0ef\"], [0.5, \"#f7f7f7\"], [0.6, \"#e6f5d0\"], [0.7, \"#b8e186\"], [0.8, \"#7fbc41\"], [0.9, \"#4d9221\"], [1, \"#276419\"]], \"sequential\": [[0.0, \"#0d0887\"], [0.1111111111111111, \"#46039f\"], [0.2222222222222222, \"#7201a8\"], [0.3333333333333333, \"#9c179e\"], [0.4444444444444444, \"#bd3786\"], [0.5555555555555556, \"#d8576b\"], [0.6666666666666666, \"#ed7953\"], [0.7777777777777778, \"#fb9f3a\"], [0.8888888888888888, \"#fdca26\"], [1.0, \"#f0f921\"]], \"sequentialminus\": [[0.0, \"#0d0887\"], [0.1111111111111111, \"#46039f\"], [0.2222222222222222, \"#7201a8\"], [0.3333333333333333, \"#9c179e\"], [0.4444444444444444, \"#bd3786\"], [0.5555555555555556, \"#d8576b\"], [0.6666666666666666, \"#ed7953\"], [0.7777777777777778, \"#fb9f3a\"], [0.8888888888888888, \"#fdca26\"], [1.0, \"#f0f921\"]]}, \"colorway\": [\"#636efa\", \"#EF553B\", \"#00cc96\", \"#ab63fa\", \"#FFA15A\", \"#19d3f3\", \"#FF6692\", \"#B6E880\", \"#FF97FF\", \"#FECB52\"], \"font\": {\"color\": \"#2a3f5f\"}, \"geo\": {\"bgcolor\": \"white\", \"lakecolor\": \"white\", \"landcolor\": \"#E5ECF6\", \"showlakes\": true, \"showland\": true, \"subunitcolor\": \"white\"}, \"hoverlabel\": {\"align\": \"left\"}, \"hovermode\": \"closest\", \"mapbox\": {\"style\": \"light\"}, \"paper_bgcolor\": \"white\", \"plot_bgcolor\": \"#E5ECF6\", \"polar\": {\"angularaxis\": {\"gridcolor\": \"white\", \"linecolor\": \"white\", \"ticks\": \"\"}, \"bgcolor\": \"#E5ECF6\", \"radialaxis\": {\"gridcolor\": \"white\", \"linecolor\": \"white\", \"ticks\": \"\"}}, \"scene\": {\"xaxis\": {\"backgroundcolor\": \"#E5ECF6\", \"gridcolor\": \"white\", \"gridwidth\": 2, \"linecolor\": \"white\", \"showbackground\": true, \"ticks\": \"\", \"zerolinecolor\": \"white\"}, \"yaxis\": {\"backgroundcolor\": \"#E5ECF6\", \"gridcolor\": \"white\", \"gridwidth\": 2, \"linecolor\": \"white\", \"showbackground\": true, \"ticks\": \"\", \"zerolinecolor\": \"white\"}, \"zaxis\": {\"backgroundcolor\": \"#E5ECF6\", \"gridcolor\": \"white\", \"gridwidth\": 2, \"linecolor\": \"white\", \"showbackground\": true, \"ticks\": \"\", \"zerolinecolor\": \"white\"}}, \"shapedefaults\": {\"line\": {\"color\": \"#2a3f5f\"}}, \"ternary\": {\"aaxis\": {\"gridcolor\": \"white\", \"linecolor\": \"white\", \"ticks\": \"\"}, \"baxis\": {\"gridcolor\": \"white\", \"linecolor\": \"white\", \"ticks\": \"\"}, \"bgcolor\": \"#E5ECF6\", \"caxis\": {\"gridcolor\": \"white\", \"linecolor\": \"white\", \"ticks\": \"\"}}, \"title\": {\"x\": 0.05}, \"xaxis\": {\"automargin\": true, \"gridcolor\": \"white\", \"linecolor\": \"white\", \"ticks\": \"\", \"title\": {\"standoff\": 15}, \"zerolinecolor\": \"white\", \"zerolinewidth\": 2}, \"yaxis\": {\"automargin\": true, \"gridcolor\": \"white\", \"linecolor\": \"white\", \"ticks\": \"\", \"title\": {\"standoff\": 15}, \"zerolinecolor\": \"white\", \"zerolinewidth\": 2}}}, \"title\": {\"text\": \"Lexical Dispersion\", \"x\": 0.5, \"xanchor\": \"center\", \"y\": 0.95, \"yanchor\": \"top\"}, \"xaxis\": {\"anchor\": \"y\", \"domain\": [0.0, 1.0], \"title\": {\"text\": \"Word Offset (All Stories)\"}}, \"yaxis\": {\"anchor\": \"x\", \"domain\": [0.0, 1.0], \"tickmode\": \"array\", \"ticktext\": [\"\\u0430\\u0434\\u0435\\u043b\\u044f\", \"\\u043d\\u0435\\u043a\\u0438\\u0439\", \"\\u0441\\u0442\\u0430\\u043d\\u043e\\u0432\\u0438\\u0442\\u044c\\u0441\\u044f\", \"\\u043f\\u0443\\u0441\\u0442\\u043e\\u0439\", \"\\u0432\\u043e\\u0437\\u0434\\u0443\\u0445\", \"\\u0447\\u0435\\u0440\\u043d\\u044b\\u0439\", \"\\u043d\\u0435\\u0431\\u043e\", \"\\u0442\\u0435\\u043c\\u043d\\u044b\\u0439\", \"\\u043e\\u0433\\u0440\\u043e\\u043c\\u043d\\u044b\\u0439\", \"\\u0441\\u043b\\u043e\\u0432\\u043d\\u043e\"], \"tickvals\": [0, 1, 2, 3, 4, 5, 6, 7, 8, 9], \"title\": {\"text\": \"Word\"}}},\n",
       "                        {\"responsive\": true}\n",
       "                    ).then(function(){\n",
       "                            \n",
       "var gd = document.getElementById('4c24d327-d518-4289-9409-b8087578e31e');\n",
       "var x = new MutationObserver(function (mutations, observer) {{\n",
       "        var display = window.getComputedStyle(gd).display;\n",
       "        if (!display || display === 'none') {{\n",
       "            console.log([gd, 'removed!']);\n",
       "            Plotly.purge(gd);\n",
       "            observer.disconnect();\n",
       "        }}\n",
       "}});\n",
       "\n",
       "// Listen for the removal of the full notebook cells\n",
       "var notebookContainer = gd.closest('#notebook-container');\n",
       "if (notebookContainer) {{\n",
       "    x.observe(notebookContainer, {childList: true});\n",
       "}}\n",
       "\n",
       "// Listen for the clearing of the current output cell\n",
       "var outputEl = gd.closest('.output');\n",
       "if (outputEl) {{\n",
       "    x.observe(outputEl, {childList: true});\n",
       "}}\n",
       "\n",
       "                        })\n",
       "                };\n",
       "                });\n",
       "            </script>\n",
       "        </div>"
      ]
     },
     "metadata": {},
     "output_type": "display_data"
    }
   ],
   "source": [
    "dispersion_plotly(ntext, list(top_words.keys()))"
   ]
  },
  {
   "cell_type": "code",
   "execution_count": 316,
   "metadata": {},
   "outputs": [],
   "source": [
    "characters = ['дядя', 'тетка', 'отец', 'мать', 'пан', 'аделя', 'агата']"
   ]
  },
  {
   "cell_type": "code",
   "execution_count": 317,
   "metadata": {},
   "outputs": [
    {
     "data": {
      "application/vnd.plotly.v1+json": {
       "config": {
        "plotlyServerURL": "https://plot.ly"
       },
       "data": [
        {
         "hoverlabel": {
          "namelength": 0
         },
         "hovertemplate": "x=%{x}<br>y=%{y}<br>color=%{marker.color}",
         "legendgroup": "",
         "marker": {
          "color": [
           1,
           1,
           1,
           5,
           0,
           5,
           0,
           5,
           6,
           1,
           1,
           1,
           1,
           1,
           1,
           1,
           1,
           1,
           1,
           1,
           1,
           1,
           1,
           1,
           1,
           1,
           1,
           2,
           2,
           2,
           6,
           2,
           2,
           1,
           1,
           1,
           1,
           1,
           1,
           1,
           5,
           1,
           1,
           5,
           1,
           5,
           1,
           5,
           1,
           1,
           1,
           1,
           1,
           5,
           1,
           1,
           1,
           5,
           5,
           6,
           5,
           6,
           6,
           6,
           6,
           6,
           5,
           6,
           5,
           6,
           6,
           5,
           6,
           5,
           5,
           5,
           6,
           5,
           5,
           5,
           5,
           5,
           6
          ],
          "coloraxis": "coloraxis",
          "symbol": "circle"
         },
         "mode": "markers",
         "name": "",
         "showlegend": false,
         "type": "scatter",
         "x": [
          34,
          130,
          822,
          905,
          906,
          1010,
          1011,
          1041,
          1098,
          2398,
          2606,
          2646,
          2668,
          3068,
          3093,
          3118,
          3197,
          3302,
          3405,
          3444,
          3591,
          4013,
          4042,
          4647,
          5037,
          5682,
          5685,
          6305,
          6844,
          6851,
          6855,
          6870,
          7008,
          10596,
          10673,
          10924,
          11076,
          11604,
          11634,
          11816,
          11821,
          11835,
          11836,
          11839,
          11852,
          11868,
          11878,
          11901,
          11991,
          12950,
          12995,
          13257,
          13480,
          15550,
          15705,
          16061,
          16479,
          17831,
          17853,
          17912,
          17914,
          17922,
          17981,
          18008,
          18032,
          18057,
          18083,
          18091,
          18111,
          18129,
          18183,
          18201,
          18206,
          18243,
          18283,
          18303,
          18313,
          18327,
          18341,
          18402,
          18415,
          18423,
          18427
         ],
         "xaxis": "x",
         "y": [
          1,
          1,
          1,
          5,
          0,
          5,
          0,
          5,
          6,
          1,
          1,
          1,
          1,
          1,
          1,
          1,
          1,
          1,
          1,
          1,
          1,
          1,
          1,
          1,
          1,
          1,
          1,
          2,
          2,
          2,
          6,
          2,
          2,
          1,
          1,
          1,
          1,
          1,
          1,
          1,
          5,
          1,
          1,
          5,
          1,
          5,
          1,
          5,
          1,
          1,
          1,
          1,
          1,
          5,
          1,
          1,
          1,
          5,
          5,
          6,
          5,
          6,
          6,
          6,
          6,
          6,
          5,
          6,
          5,
          6,
          6,
          5,
          6,
          5,
          5,
          5,
          6,
          5,
          5,
          5,
          5,
          5,
          6
         ],
         "yaxis": "y"
        }
       ],
       "layout": {
        "coloraxis": {
         "colorbar": {
          "title": {
           "text": "color"
          }
         },
         "colorscale": [
          [
           0,
           "#440154"
          ],
          [
           0.1111111111111111,
           "#482878"
          ],
          [
           0.2222222222222222,
           "#3e4989"
          ],
          [
           0.3333333333333333,
           "#31688e"
          ],
          [
           0.4444444444444444,
           "#26828e"
          ],
          [
           0.5555555555555556,
           "#1f9e89"
          ],
          [
           0.6666666666666666,
           "#35b779"
          ],
          [
           0.7777777777777778,
           "#6ece58"
          ],
          [
           0.8888888888888888,
           "#b5de2b"
          ],
          [
           1,
           "#fde725"
          ]
         ],
         "showscale": false
        },
        "legend": {
         "tracegroupgap": 0
        },
        "margin": {
         "t": 60
        },
        "template": {
         "data": {
          "bar": [
           {
            "error_x": {
             "color": "#2a3f5f"
            },
            "error_y": {
             "color": "#2a3f5f"
            },
            "marker": {
             "line": {
              "color": "#E5ECF6",
              "width": 0.5
             }
            },
            "type": "bar"
           }
          ],
          "barpolar": [
           {
            "marker": {
             "line": {
              "color": "#E5ECF6",
              "width": 0.5
             }
            },
            "type": "barpolar"
           }
          ],
          "carpet": [
           {
            "aaxis": {
             "endlinecolor": "#2a3f5f",
             "gridcolor": "white",
             "linecolor": "white",
             "minorgridcolor": "white",
             "startlinecolor": "#2a3f5f"
            },
            "baxis": {
             "endlinecolor": "#2a3f5f",
             "gridcolor": "white",
             "linecolor": "white",
             "minorgridcolor": "white",
             "startlinecolor": "#2a3f5f"
            },
            "type": "carpet"
           }
          ],
          "choropleth": [
           {
            "colorbar": {
             "outlinewidth": 0,
             "ticks": ""
            },
            "type": "choropleth"
           }
          ],
          "contour": [
           {
            "colorbar": {
             "outlinewidth": 0,
             "ticks": ""
            },
            "colorscale": [
             [
              0,
              "#0d0887"
             ],
             [
              0.1111111111111111,
              "#46039f"
             ],
             [
              0.2222222222222222,
              "#7201a8"
             ],
             [
              0.3333333333333333,
              "#9c179e"
             ],
             [
              0.4444444444444444,
              "#bd3786"
             ],
             [
              0.5555555555555556,
              "#d8576b"
             ],
             [
              0.6666666666666666,
              "#ed7953"
             ],
             [
              0.7777777777777778,
              "#fb9f3a"
             ],
             [
              0.8888888888888888,
              "#fdca26"
             ],
             [
              1,
              "#f0f921"
             ]
            ],
            "type": "contour"
           }
          ],
          "contourcarpet": [
           {
            "colorbar": {
             "outlinewidth": 0,
             "ticks": ""
            },
            "type": "contourcarpet"
           }
          ],
          "heatmap": [
           {
            "colorbar": {
             "outlinewidth": 0,
             "ticks": ""
            },
            "colorscale": [
             [
              0,
              "#0d0887"
             ],
             [
              0.1111111111111111,
              "#46039f"
             ],
             [
              0.2222222222222222,
              "#7201a8"
             ],
             [
              0.3333333333333333,
              "#9c179e"
             ],
             [
              0.4444444444444444,
              "#bd3786"
             ],
             [
              0.5555555555555556,
              "#d8576b"
             ],
             [
              0.6666666666666666,
              "#ed7953"
             ],
             [
              0.7777777777777778,
              "#fb9f3a"
             ],
             [
              0.8888888888888888,
              "#fdca26"
             ],
             [
              1,
              "#f0f921"
             ]
            ],
            "type": "heatmap"
           }
          ],
          "heatmapgl": [
           {
            "colorbar": {
             "outlinewidth": 0,
             "ticks": ""
            },
            "colorscale": [
             [
              0,
              "#0d0887"
             ],
             [
              0.1111111111111111,
              "#46039f"
             ],
             [
              0.2222222222222222,
              "#7201a8"
             ],
             [
              0.3333333333333333,
              "#9c179e"
             ],
             [
              0.4444444444444444,
              "#bd3786"
             ],
             [
              0.5555555555555556,
              "#d8576b"
             ],
             [
              0.6666666666666666,
              "#ed7953"
             ],
             [
              0.7777777777777778,
              "#fb9f3a"
             ],
             [
              0.8888888888888888,
              "#fdca26"
             ],
             [
              1,
              "#f0f921"
             ]
            ],
            "type": "heatmapgl"
           }
          ],
          "histogram": [
           {
            "marker": {
             "colorbar": {
              "outlinewidth": 0,
              "ticks": ""
             }
            },
            "type": "histogram"
           }
          ],
          "histogram2d": [
           {
            "colorbar": {
             "outlinewidth": 0,
             "ticks": ""
            },
            "colorscale": [
             [
              0,
              "#0d0887"
             ],
             [
              0.1111111111111111,
              "#46039f"
             ],
             [
              0.2222222222222222,
              "#7201a8"
             ],
             [
              0.3333333333333333,
              "#9c179e"
             ],
             [
              0.4444444444444444,
              "#bd3786"
             ],
             [
              0.5555555555555556,
              "#d8576b"
             ],
             [
              0.6666666666666666,
              "#ed7953"
             ],
             [
              0.7777777777777778,
              "#fb9f3a"
             ],
             [
              0.8888888888888888,
              "#fdca26"
             ],
             [
              1,
              "#f0f921"
             ]
            ],
            "type": "histogram2d"
           }
          ],
          "histogram2dcontour": [
           {
            "colorbar": {
             "outlinewidth": 0,
             "ticks": ""
            },
            "colorscale": [
             [
              0,
              "#0d0887"
             ],
             [
              0.1111111111111111,
              "#46039f"
             ],
             [
              0.2222222222222222,
              "#7201a8"
             ],
             [
              0.3333333333333333,
              "#9c179e"
             ],
             [
              0.4444444444444444,
              "#bd3786"
             ],
             [
              0.5555555555555556,
              "#d8576b"
             ],
             [
              0.6666666666666666,
              "#ed7953"
             ],
             [
              0.7777777777777778,
              "#fb9f3a"
             ],
             [
              0.8888888888888888,
              "#fdca26"
             ],
             [
              1,
              "#f0f921"
             ]
            ],
            "type": "histogram2dcontour"
           }
          ],
          "mesh3d": [
           {
            "colorbar": {
             "outlinewidth": 0,
             "ticks": ""
            },
            "type": "mesh3d"
           }
          ],
          "parcoords": [
           {
            "line": {
             "colorbar": {
              "outlinewidth": 0,
              "ticks": ""
             }
            },
            "type": "parcoords"
           }
          ],
          "pie": [
           {
            "automargin": true,
            "type": "pie"
           }
          ],
          "scatter": [
           {
            "marker": {
             "colorbar": {
              "outlinewidth": 0,
              "ticks": ""
             }
            },
            "type": "scatter"
           }
          ],
          "scatter3d": [
           {
            "line": {
             "colorbar": {
              "outlinewidth": 0,
              "ticks": ""
             }
            },
            "marker": {
             "colorbar": {
              "outlinewidth": 0,
              "ticks": ""
             }
            },
            "type": "scatter3d"
           }
          ],
          "scattercarpet": [
           {
            "marker": {
             "colorbar": {
              "outlinewidth": 0,
              "ticks": ""
             }
            },
            "type": "scattercarpet"
           }
          ],
          "scattergeo": [
           {
            "marker": {
             "colorbar": {
              "outlinewidth": 0,
              "ticks": ""
             }
            },
            "type": "scattergeo"
           }
          ],
          "scattergl": [
           {
            "marker": {
             "colorbar": {
              "outlinewidth": 0,
              "ticks": ""
             }
            },
            "type": "scattergl"
           }
          ],
          "scattermapbox": [
           {
            "marker": {
             "colorbar": {
              "outlinewidth": 0,
              "ticks": ""
             }
            },
            "type": "scattermapbox"
           }
          ],
          "scatterpolar": [
           {
            "marker": {
             "colorbar": {
              "outlinewidth": 0,
              "ticks": ""
             }
            },
            "type": "scatterpolar"
           }
          ],
          "scatterpolargl": [
           {
            "marker": {
             "colorbar": {
              "outlinewidth": 0,
              "ticks": ""
             }
            },
            "type": "scatterpolargl"
           }
          ],
          "scatterternary": [
           {
            "marker": {
             "colorbar": {
              "outlinewidth": 0,
              "ticks": ""
             }
            },
            "type": "scatterternary"
           }
          ],
          "surface": [
           {
            "colorbar": {
             "outlinewidth": 0,
             "ticks": ""
            },
            "colorscale": [
             [
              0,
              "#0d0887"
             ],
             [
              0.1111111111111111,
              "#46039f"
             ],
             [
              0.2222222222222222,
              "#7201a8"
             ],
             [
              0.3333333333333333,
              "#9c179e"
             ],
             [
              0.4444444444444444,
              "#bd3786"
             ],
             [
              0.5555555555555556,
              "#d8576b"
             ],
             [
              0.6666666666666666,
              "#ed7953"
             ],
             [
              0.7777777777777778,
              "#fb9f3a"
             ],
             [
              0.8888888888888888,
              "#fdca26"
             ],
             [
              1,
              "#f0f921"
             ]
            ],
            "type": "surface"
           }
          ],
          "table": [
           {
            "cells": {
             "fill": {
              "color": "#EBF0F8"
             },
             "line": {
              "color": "white"
             }
            },
            "header": {
             "fill": {
              "color": "#C8D4E3"
             },
             "line": {
              "color": "white"
             }
            },
            "type": "table"
           }
          ]
         },
         "layout": {
          "annotationdefaults": {
           "arrowcolor": "#2a3f5f",
           "arrowhead": 0,
           "arrowwidth": 1
          },
          "coloraxis": {
           "colorbar": {
            "outlinewidth": 0,
            "ticks": ""
           }
          },
          "colorscale": {
           "diverging": [
            [
             0,
             "#8e0152"
            ],
            [
             0.1,
             "#c51b7d"
            ],
            [
             0.2,
             "#de77ae"
            ],
            [
             0.3,
             "#f1b6da"
            ],
            [
             0.4,
             "#fde0ef"
            ],
            [
             0.5,
             "#f7f7f7"
            ],
            [
             0.6,
             "#e6f5d0"
            ],
            [
             0.7,
             "#b8e186"
            ],
            [
             0.8,
             "#7fbc41"
            ],
            [
             0.9,
             "#4d9221"
            ],
            [
             1,
             "#276419"
            ]
           ],
           "sequential": [
            [
             0,
             "#0d0887"
            ],
            [
             0.1111111111111111,
             "#46039f"
            ],
            [
             0.2222222222222222,
             "#7201a8"
            ],
            [
             0.3333333333333333,
             "#9c179e"
            ],
            [
             0.4444444444444444,
             "#bd3786"
            ],
            [
             0.5555555555555556,
             "#d8576b"
            ],
            [
             0.6666666666666666,
             "#ed7953"
            ],
            [
             0.7777777777777778,
             "#fb9f3a"
            ],
            [
             0.8888888888888888,
             "#fdca26"
            ],
            [
             1,
             "#f0f921"
            ]
           ],
           "sequentialminus": [
            [
             0,
             "#0d0887"
            ],
            [
             0.1111111111111111,
             "#46039f"
            ],
            [
             0.2222222222222222,
             "#7201a8"
            ],
            [
             0.3333333333333333,
             "#9c179e"
            ],
            [
             0.4444444444444444,
             "#bd3786"
            ],
            [
             0.5555555555555556,
             "#d8576b"
            ],
            [
             0.6666666666666666,
             "#ed7953"
            ],
            [
             0.7777777777777778,
             "#fb9f3a"
            ],
            [
             0.8888888888888888,
             "#fdca26"
            ],
            [
             1,
             "#f0f921"
            ]
           ]
          },
          "colorway": [
           "#636efa",
           "#EF553B",
           "#00cc96",
           "#ab63fa",
           "#FFA15A",
           "#19d3f3",
           "#FF6692",
           "#B6E880",
           "#FF97FF",
           "#FECB52"
          ],
          "font": {
           "color": "#2a3f5f"
          },
          "geo": {
           "bgcolor": "white",
           "lakecolor": "white",
           "landcolor": "#E5ECF6",
           "showlakes": true,
           "showland": true,
           "subunitcolor": "white"
          },
          "hoverlabel": {
           "align": "left"
          },
          "hovermode": "closest",
          "mapbox": {
           "style": "light"
          },
          "paper_bgcolor": "white",
          "plot_bgcolor": "#E5ECF6",
          "polar": {
           "angularaxis": {
            "gridcolor": "white",
            "linecolor": "white",
            "ticks": ""
           },
           "bgcolor": "#E5ECF6",
           "radialaxis": {
            "gridcolor": "white",
            "linecolor": "white",
            "ticks": ""
           }
          },
          "scene": {
           "xaxis": {
            "backgroundcolor": "#E5ECF6",
            "gridcolor": "white",
            "gridwidth": 2,
            "linecolor": "white",
            "showbackground": true,
            "ticks": "",
            "zerolinecolor": "white"
           },
           "yaxis": {
            "backgroundcolor": "#E5ECF6",
            "gridcolor": "white",
            "gridwidth": 2,
            "linecolor": "white",
            "showbackground": true,
            "ticks": "",
            "zerolinecolor": "white"
           },
           "zaxis": {
            "backgroundcolor": "#E5ECF6",
            "gridcolor": "white",
            "gridwidth": 2,
            "linecolor": "white",
            "showbackground": true,
            "ticks": "",
            "zerolinecolor": "white"
           }
          },
          "shapedefaults": {
           "line": {
            "color": "#2a3f5f"
           }
          },
          "ternary": {
           "aaxis": {
            "gridcolor": "white",
            "linecolor": "white",
            "ticks": ""
           },
           "baxis": {
            "gridcolor": "white",
            "linecolor": "white",
            "ticks": ""
           },
           "bgcolor": "#E5ECF6",
           "caxis": {
            "gridcolor": "white",
            "linecolor": "white",
            "ticks": ""
           }
          },
          "title": {
           "x": 0.05
          },
          "xaxis": {
           "automargin": true,
           "gridcolor": "white",
           "linecolor": "white",
           "ticks": "",
           "title": {
            "standoff": 15
           },
           "zerolinecolor": "white",
           "zerolinewidth": 2
          },
          "yaxis": {
           "automargin": true,
           "gridcolor": "white",
           "linecolor": "white",
           "ticks": "",
           "title": {
            "standoff": 15
           },
           "zerolinecolor": "white",
           "zerolinewidth": 2
          }
         }
        },
        "title": {
         "text": "Lexical Dispersion",
         "x": 0.5,
         "xanchor": "center",
         "y": 0.95,
         "yanchor": "top"
        },
        "xaxis": {
         "anchor": "y",
         "domain": [
          0,
          1
         ],
         "title": {
          "text": "Word Offset (All Stories)"
         }
        },
        "yaxis": {
         "anchor": "x",
         "domain": [
          0,
          1
         ],
         "tickmode": "array",
         "ticktext": [
          "агата",
          "аделя",
          "пан",
          "мать",
          "отец",
          "тетка",
          "дядя"
         ],
         "tickvals": [
          0,
          1,
          2,
          3,
          4,
          5,
          6
         ],
         "title": {
          "text": "Word"
         }
        }
       }
      },
      "text/html": [
       "<div>\n",
       "        \n",
       "        \n",
       "            <div id=\"33e66fcf-3ee0-4df7-afb0-370a4fa4358e\" class=\"plotly-graph-div\" style=\"height:525px; width:100%;\"></div>\n",
       "            <script type=\"text/javascript\">\n",
       "                require([\"plotly\"], function(Plotly) {\n",
       "                    window.PLOTLYENV=window.PLOTLYENV || {};\n",
       "                    \n",
       "                if (document.getElementById(\"33e66fcf-3ee0-4df7-afb0-370a4fa4358e\")) {\n",
       "                    Plotly.newPlot(\n",
       "                        '33e66fcf-3ee0-4df7-afb0-370a4fa4358e',\n",
       "                        [{\"hoverlabel\": {\"namelength\": 0}, \"hovertemplate\": \"x=%{x}<br>y=%{y}<br>color=%{marker.color}\", \"legendgroup\": \"\", \"marker\": {\"color\": [1, 1, 1, 5, 0, 5, 0, 5, 6, 1, 1, 1, 1, 1, 1, 1, 1, 1, 1, 1, 1, 1, 1, 1, 1, 1, 1, 2, 2, 2, 6, 2, 2, 1, 1, 1, 1, 1, 1, 1, 5, 1, 1, 5, 1, 5, 1, 5, 1, 1, 1, 1, 1, 5, 1, 1, 1, 5, 5, 6, 5, 6, 6, 6, 6, 6, 5, 6, 5, 6, 6, 5, 6, 5, 5, 5, 6, 5, 5, 5, 5, 5, 6], \"coloraxis\": \"coloraxis\", \"symbol\": \"circle\"}, \"mode\": \"markers\", \"name\": \"\", \"showlegend\": false, \"type\": \"scatter\", \"x\": [34, 130, 822, 905, 906, 1010, 1011, 1041, 1098, 2398, 2606, 2646, 2668, 3068, 3093, 3118, 3197, 3302, 3405, 3444, 3591, 4013, 4042, 4647, 5037, 5682, 5685, 6305, 6844, 6851, 6855, 6870, 7008, 10596, 10673, 10924, 11076, 11604, 11634, 11816, 11821, 11835, 11836, 11839, 11852, 11868, 11878, 11901, 11991, 12950, 12995, 13257, 13480, 15550, 15705, 16061, 16479, 17831, 17853, 17912, 17914, 17922, 17981, 18008, 18032, 18057, 18083, 18091, 18111, 18129, 18183, 18201, 18206, 18243, 18283, 18303, 18313, 18327, 18341, 18402, 18415, 18423, 18427], \"xaxis\": \"x\", \"y\": [1, 1, 1, 5, 0, 5, 0, 5, 6, 1, 1, 1, 1, 1, 1, 1, 1, 1, 1, 1, 1, 1, 1, 1, 1, 1, 1, 2, 2, 2, 6, 2, 2, 1, 1, 1, 1, 1, 1, 1, 5, 1, 1, 5, 1, 5, 1, 5, 1, 1, 1, 1, 1, 5, 1, 1, 1, 5, 5, 6, 5, 6, 6, 6, 6, 6, 5, 6, 5, 6, 6, 5, 6, 5, 5, 5, 6, 5, 5, 5, 5, 5, 6], \"yaxis\": \"y\"}],\n",
       "                        {\"coloraxis\": {\"colorbar\": {\"title\": {\"text\": \"color\"}}, \"colorscale\": [[0.0, \"#440154\"], [0.1111111111111111, \"#482878\"], [0.2222222222222222, \"#3e4989\"], [0.3333333333333333, \"#31688e\"], [0.4444444444444444, \"#26828e\"], [0.5555555555555556, \"#1f9e89\"], [0.6666666666666666, \"#35b779\"], [0.7777777777777778, \"#6ece58\"], [0.8888888888888888, \"#b5de2b\"], [1.0, \"#fde725\"]], \"showscale\": false}, \"legend\": {\"tracegroupgap\": 0}, \"margin\": {\"t\": 60}, \"template\": {\"data\": {\"bar\": [{\"error_x\": {\"color\": \"#2a3f5f\"}, \"error_y\": {\"color\": \"#2a3f5f\"}, \"marker\": {\"line\": {\"color\": \"#E5ECF6\", \"width\": 0.5}}, \"type\": \"bar\"}], \"barpolar\": [{\"marker\": {\"line\": {\"color\": \"#E5ECF6\", \"width\": 0.5}}, \"type\": \"barpolar\"}], \"carpet\": [{\"aaxis\": {\"endlinecolor\": \"#2a3f5f\", \"gridcolor\": \"white\", \"linecolor\": \"white\", \"minorgridcolor\": \"white\", \"startlinecolor\": \"#2a3f5f\"}, \"baxis\": {\"endlinecolor\": \"#2a3f5f\", \"gridcolor\": \"white\", \"linecolor\": \"white\", \"minorgridcolor\": \"white\", \"startlinecolor\": \"#2a3f5f\"}, \"type\": \"carpet\"}], \"choropleth\": [{\"colorbar\": {\"outlinewidth\": 0, \"ticks\": \"\"}, \"type\": \"choropleth\"}], \"contour\": [{\"colorbar\": {\"outlinewidth\": 0, \"ticks\": \"\"}, \"colorscale\": [[0.0, \"#0d0887\"], [0.1111111111111111, \"#46039f\"], [0.2222222222222222, \"#7201a8\"], [0.3333333333333333, \"#9c179e\"], [0.4444444444444444, \"#bd3786\"], [0.5555555555555556, \"#d8576b\"], [0.6666666666666666, \"#ed7953\"], [0.7777777777777778, \"#fb9f3a\"], [0.8888888888888888, \"#fdca26\"], [1.0, \"#f0f921\"]], \"type\": \"contour\"}], \"contourcarpet\": [{\"colorbar\": {\"outlinewidth\": 0, \"ticks\": \"\"}, \"type\": \"contourcarpet\"}], \"heatmap\": [{\"colorbar\": {\"outlinewidth\": 0, \"ticks\": \"\"}, \"colorscale\": [[0.0, \"#0d0887\"], [0.1111111111111111, \"#46039f\"], [0.2222222222222222, \"#7201a8\"], [0.3333333333333333, \"#9c179e\"], [0.4444444444444444, \"#bd3786\"], [0.5555555555555556, \"#d8576b\"], [0.6666666666666666, \"#ed7953\"], [0.7777777777777778, \"#fb9f3a\"], [0.8888888888888888, \"#fdca26\"], [1.0, \"#f0f921\"]], \"type\": \"heatmap\"}], \"heatmapgl\": [{\"colorbar\": {\"outlinewidth\": 0, \"ticks\": \"\"}, \"colorscale\": [[0.0, \"#0d0887\"], [0.1111111111111111, \"#46039f\"], [0.2222222222222222, \"#7201a8\"], [0.3333333333333333, \"#9c179e\"], [0.4444444444444444, \"#bd3786\"], [0.5555555555555556, \"#d8576b\"], [0.6666666666666666, \"#ed7953\"], [0.7777777777777778, \"#fb9f3a\"], [0.8888888888888888, \"#fdca26\"], [1.0, \"#f0f921\"]], \"type\": \"heatmapgl\"}], \"histogram\": [{\"marker\": {\"colorbar\": {\"outlinewidth\": 0, \"ticks\": \"\"}}, \"type\": \"histogram\"}], \"histogram2d\": [{\"colorbar\": {\"outlinewidth\": 0, \"ticks\": \"\"}, \"colorscale\": [[0.0, \"#0d0887\"], [0.1111111111111111, \"#46039f\"], [0.2222222222222222, \"#7201a8\"], [0.3333333333333333, \"#9c179e\"], [0.4444444444444444, \"#bd3786\"], [0.5555555555555556, \"#d8576b\"], [0.6666666666666666, \"#ed7953\"], [0.7777777777777778, \"#fb9f3a\"], [0.8888888888888888, \"#fdca26\"], [1.0, \"#f0f921\"]], \"type\": \"histogram2d\"}], \"histogram2dcontour\": [{\"colorbar\": {\"outlinewidth\": 0, \"ticks\": \"\"}, \"colorscale\": [[0.0, \"#0d0887\"], [0.1111111111111111, \"#46039f\"], [0.2222222222222222, \"#7201a8\"], [0.3333333333333333, \"#9c179e\"], [0.4444444444444444, \"#bd3786\"], [0.5555555555555556, \"#d8576b\"], [0.6666666666666666, \"#ed7953\"], [0.7777777777777778, \"#fb9f3a\"], [0.8888888888888888, \"#fdca26\"], [1.0, \"#f0f921\"]], \"type\": \"histogram2dcontour\"}], \"mesh3d\": [{\"colorbar\": {\"outlinewidth\": 0, \"ticks\": \"\"}, \"type\": \"mesh3d\"}], \"parcoords\": [{\"line\": {\"colorbar\": {\"outlinewidth\": 0, \"ticks\": \"\"}}, \"type\": \"parcoords\"}], \"pie\": [{\"automargin\": true, \"type\": \"pie\"}], \"scatter\": [{\"marker\": {\"colorbar\": {\"outlinewidth\": 0, \"ticks\": \"\"}}, \"type\": \"scatter\"}], \"scatter3d\": [{\"line\": {\"colorbar\": {\"outlinewidth\": 0, \"ticks\": \"\"}}, \"marker\": {\"colorbar\": {\"outlinewidth\": 0, \"ticks\": \"\"}}, \"type\": \"scatter3d\"}], \"scattercarpet\": [{\"marker\": {\"colorbar\": {\"outlinewidth\": 0, \"ticks\": \"\"}}, \"type\": \"scattercarpet\"}], \"scattergeo\": [{\"marker\": {\"colorbar\": {\"outlinewidth\": 0, \"ticks\": \"\"}}, \"type\": \"scattergeo\"}], \"scattergl\": [{\"marker\": {\"colorbar\": {\"outlinewidth\": 0, \"ticks\": \"\"}}, \"type\": \"scattergl\"}], \"scattermapbox\": [{\"marker\": {\"colorbar\": {\"outlinewidth\": 0, \"ticks\": \"\"}}, \"type\": \"scattermapbox\"}], \"scatterpolar\": [{\"marker\": {\"colorbar\": {\"outlinewidth\": 0, \"ticks\": \"\"}}, \"type\": \"scatterpolar\"}], \"scatterpolargl\": [{\"marker\": {\"colorbar\": {\"outlinewidth\": 0, \"ticks\": \"\"}}, \"type\": \"scatterpolargl\"}], \"scatterternary\": [{\"marker\": {\"colorbar\": {\"outlinewidth\": 0, \"ticks\": \"\"}}, \"type\": \"scatterternary\"}], \"surface\": [{\"colorbar\": {\"outlinewidth\": 0, \"ticks\": \"\"}, \"colorscale\": [[0.0, \"#0d0887\"], [0.1111111111111111, \"#46039f\"], [0.2222222222222222, \"#7201a8\"], [0.3333333333333333, \"#9c179e\"], [0.4444444444444444, \"#bd3786\"], [0.5555555555555556, \"#d8576b\"], [0.6666666666666666, \"#ed7953\"], [0.7777777777777778, \"#fb9f3a\"], [0.8888888888888888, \"#fdca26\"], [1.0, \"#f0f921\"]], \"type\": \"surface\"}], \"table\": [{\"cells\": {\"fill\": {\"color\": \"#EBF0F8\"}, \"line\": {\"color\": \"white\"}}, \"header\": {\"fill\": {\"color\": \"#C8D4E3\"}, \"line\": {\"color\": \"white\"}}, \"type\": \"table\"}]}, \"layout\": {\"annotationdefaults\": {\"arrowcolor\": \"#2a3f5f\", \"arrowhead\": 0, \"arrowwidth\": 1}, \"coloraxis\": {\"colorbar\": {\"outlinewidth\": 0, \"ticks\": \"\"}}, \"colorscale\": {\"diverging\": [[0, \"#8e0152\"], [0.1, \"#c51b7d\"], [0.2, \"#de77ae\"], [0.3, \"#f1b6da\"], [0.4, \"#fde0ef\"], [0.5, \"#f7f7f7\"], [0.6, \"#e6f5d0\"], [0.7, \"#b8e186\"], [0.8, \"#7fbc41\"], [0.9, \"#4d9221\"], [1, \"#276419\"]], \"sequential\": [[0.0, \"#0d0887\"], [0.1111111111111111, \"#46039f\"], [0.2222222222222222, \"#7201a8\"], [0.3333333333333333, \"#9c179e\"], [0.4444444444444444, \"#bd3786\"], [0.5555555555555556, \"#d8576b\"], [0.6666666666666666, \"#ed7953\"], [0.7777777777777778, \"#fb9f3a\"], [0.8888888888888888, \"#fdca26\"], [1.0, \"#f0f921\"]], \"sequentialminus\": [[0.0, \"#0d0887\"], [0.1111111111111111, \"#46039f\"], [0.2222222222222222, \"#7201a8\"], [0.3333333333333333, \"#9c179e\"], [0.4444444444444444, \"#bd3786\"], [0.5555555555555556, \"#d8576b\"], [0.6666666666666666, \"#ed7953\"], [0.7777777777777778, \"#fb9f3a\"], [0.8888888888888888, \"#fdca26\"], [1.0, \"#f0f921\"]]}, \"colorway\": [\"#636efa\", \"#EF553B\", \"#00cc96\", \"#ab63fa\", \"#FFA15A\", \"#19d3f3\", \"#FF6692\", \"#B6E880\", \"#FF97FF\", \"#FECB52\"], \"font\": {\"color\": \"#2a3f5f\"}, \"geo\": {\"bgcolor\": \"white\", \"lakecolor\": \"white\", \"landcolor\": \"#E5ECF6\", \"showlakes\": true, \"showland\": true, \"subunitcolor\": \"white\"}, \"hoverlabel\": {\"align\": \"left\"}, \"hovermode\": \"closest\", \"mapbox\": {\"style\": \"light\"}, \"paper_bgcolor\": \"white\", \"plot_bgcolor\": \"#E5ECF6\", \"polar\": {\"angularaxis\": {\"gridcolor\": \"white\", \"linecolor\": \"white\", \"ticks\": \"\"}, \"bgcolor\": \"#E5ECF6\", \"radialaxis\": {\"gridcolor\": \"white\", \"linecolor\": \"white\", \"ticks\": \"\"}}, \"scene\": {\"xaxis\": {\"backgroundcolor\": \"#E5ECF6\", \"gridcolor\": \"white\", \"gridwidth\": 2, \"linecolor\": \"white\", \"showbackground\": true, \"ticks\": \"\", \"zerolinecolor\": \"white\"}, \"yaxis\": {\"backgroundcolor\": \"#E5ECF6\", \"gridcolor\": \"white\", \"gridwidth\": 2, \"linecolor\": \"white\", \"showbackground\": true, \"ticks\": \"\", \"zerolinecolor\": \"white\"}, \"zaxis\": {\"backgroundcolor\": \"#E5ECF6\", \"gridcolor\": \"white\", \"gridwidth\": 2, \"linecolor\": \"white\", \"showbackground\": true, \"ticks\": \"\", \"zerolinecolor\": \"white\"}}, \"shapedefaults\": {\"line\": {\"color\": \"#2a3f5f\"}}, \"ternary\": {\"aaxis\": {\"gridcolor\": \"white\", \"linecolor\": \"white\", \"ticks\": \"\"}, \"baxis\": {\"gridcolor\": \"white\", \"linecolor\": \"white\", \"ticks\": \"\"}, \"bgcolor\": \"#E5ECF6\", \"caxis\": {\"gridcolor\": \"white\", \"linecolor\": \"white\", \"ticks\": \"\"}}, \"title\": {\"x\": 0.05}, \"xaxis\": {\"automargin\": true, \"gridcolor\": \"white\", \"linecolor\": \"white\", \"ticks\": \"\", \"title\": {\"standoff\": 15}, \"zerolinecolor\": \"white\", \"zerolinewidth\": 2}, \"yaxis\": {\"automargin\": true, \"gridcolor\": \"white\", \"linecolor\": \"white\", \"ticks\": \"\", \"title\": {\"standoff\": 15}, \"zerolinecolor\": \"white\", \"zerolinewidth\": 2}}}, \"title\": {\"text\": \"Lexical Dispersion\", \"x\": 0.5, \"xanchor\": \"center\", \"y\": 0.95, \"yanchor\": \"top\"}, \"xaxis\": {\"anchor\": \"y\", \"domain\": [0.0, 1.0], \"title\": {\"text\": \"Word Offset (All Stories)\"}}, \"yaxis\": {\"anchor\": \"x\", \"domain\": [0.0, 1.0], \"tickmode\": \"array\", \"ticktext\": [\"\\u0430\\u0433\\u0430\\u0442\\u0430\", \"\\u0430\\u0434\\u0435\\u043b\\u044f\", \"\\u043f\\u0430\\u043d\", \"\\u043c\\u0430\\u0442\\u044c\", \"\\u043e\\u0442\\u0435\\u0446\", \"\\u0442\\u0435\\u0442\\u043a\\u0430\", \"\\u0434\\u044f\\u0434\\u044f\"], \"tickvals\": [0, 1, 2, 3, 4, 5, 6], \"title\": {\"text\": \"Word\"}}},\n",
       "                        {\"responsive\": true}\n",
       "                    ).then(function(){\n",
       "                            \n",
       "var gd = document.getElementById('33e66fcf-3ee0-4df7-afb0-370a4fa4358e');\n",
       "var x = new MutationObserver(function (mutations, observer) {{\n",
       "        var display = window.getComputedStyle(gd).display;\n",
       "        if (!display || display === 'none') {{\n",
       "            console.log([gd, 'removed!']);\n",
       "            Plotly.purge(gd);\n",
       "            observer.disconnect();\n",
       "        }}\n",
       "}});\n",
       "\n",
       "// Listen for the removal of the full notebook cells\n",
       "var notebookContainer = gd.closest('#notebook-container');\n",
       "if (notebookContainer) {{\n",
       "    x.observe(notebookContainer, {childList: true});\n",
       "}}\n",
       "\n",
       "// Listen for the clearing of the current output cell\n",
       "var outputEl = gd.closest('.output');\n",
       "if (outputEl) {{\n",
       "    x.observe(outputEl, {childList: true});\n",
       "}}\n",
       "\n",
       "                        })\n",
       "                };\n",
       "                });\n",
       "            </script>\n",
       "        </div>"
      ]
     },
     "metadata": {},
     "output_type": "display_data"
    }
   ],
   "source": [
    "dispersion_plotly(ntext, characters)"
   ]
  },
  {
   "cell_type": "code",
   "execution_count": null,
   "metadata": {},
   "outputs": [],
   "source": []
  }
 ],
 "metadata": {
  "kernelspec": {
   "display_name": "Python 3",
   "language": "python",
   "name": "python3"
  },
  "language_info": {
   "codemirror_mode": {
    "name": "ipython",
    "version": 3
   },
   "file_extension": ".py",
   "mimetype": "text/x-python",
   "name": "python",
   "nbconvert_exporter": "python",
   "pygments_lexer": "ipython3",
   "version": "3.7.2"
  }
 },
 "nbformat": 4,
 "nbformat_minor": 2
}
